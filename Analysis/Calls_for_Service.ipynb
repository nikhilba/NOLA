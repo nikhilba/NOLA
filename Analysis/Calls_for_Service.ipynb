{
 "cells": [
  {
   "cell_type": "code",
   "execution_count": 1,
   "metadata": {
    "collapsed": false
   },
   "outputs": [],
   "source": [
    "import os\n",
    "import csv\n",
    "import zipfile\n",
    "import string\n",
    "import pandas as pd"
   ]
  },
  {
   "cell_type": "code",
   "execution_count": 2,
   "metadata": {
    "collapsed": false
   },
   "outputs": [],
   "source": [
    "path = os.path.join('..\\Datasets\\Raw_Data\\Calls_for_Service')"
   ]
  },
  {
   "cell_type": "code",
   "execution_count": 3,
   "metadata": {
    "collapsed": false
   },
   "outputs": [],
   "source": [
    "filenames = os.listdir(path)"
   ]
  },
  {
   "cell_type": "code",
   "execution_count": 4,
   "metadata": {
    "collapsed": false
   },
   "outputs": [],
   "source": [
    "dfs = []\n",
    "for f in filenames:\n",
    "    zf = zipfile.ZipFile(os.path.join(path,f)) \n",
    "    dfs.append(pd.read_csv(zf.open(string.replace(f, 'zip', 'csv')), ))"
   ]
  },
  {
   "cell_type": "code",
   "execution_count": 5,
   "metadata": {
    "collapsed": false
   },
   "outputs": [],
   "source": [
    "dataframe = pd.concat(dfs, ignore_index=True)"
   ]
  },
  {
   "cell_type": "code",
   "execution_count": 6,
   "metadata": {
    "collapsed": false
   },
   "outputs": [
    {
     "data": {
      "text/html": [
       "<div>\n",
       "<table border=\"1\" class=\"dataframe\">\n",
       "  <thead>\n",
       "    <tr style=\"text-align: right;\">\n",
       "      <th></th>\n",
       "      <th>BLOCK_ADDRESS</th>\n",
       "      <th>Beat</th>\n",
       "      <th>Disposition</th>\n",
       "      <th>DispositionText</th>\n",
       "      <th>InitialPriority</th>\n",
       "      <th>InitialType</th>\n",
       "      <th>InitialTypeText</th>\n",
       "      <th>Location</th>\n",
       "      <th>MapX</th>\n",
       "      <th>MapY</th>\n",
       "      <th>...</th>\n",
       "      <th>PoliceDistrict</th>\n",
       "      <th>Priority</th>\n",
       "      <th>SelfInitiated</th>\n",
       "      <th>TimeArrive</th>\n",
       "      <th>TimeClosed</th>\n",
       "      <th>TimeCreate</th>\n",
       "      <th>TimeDispatch</th>\n",
       "      <th>TypeText</th>\n",
       "      <th>Type_</th>\n",
       "      <th>Zip</th>\n",
       "    </tr>\n",
       "  </thead>\n",
       "  <tbody>\n",
       "    <tr>\n",
       "      <th>0</th>\n",
       "      <td>007XX S Dupre St</td>\n",
       "      <td>NaN</td>\n",
       "      <td>NAT</td>\n",
       "      <td>NECESSARY ACTION TAKEN</td>\n",
       "      <td>NaN</td>\n",
       "      <td>NaN</td>\n",
       "      <td>NaN</td>\n",
       "      <td>(29.961547427694992, -90.09455728362126)</td>\n",
       "      <td>3673089.0</td>\n",
       "      <td>533629.0</td>\n",
       "      <td>...</td>\n",
       "      <td>1</td>\n",
       "      <td>1F</td>\n",
       "      <td>NaN</td>\n",
       "      <td>NaN</td>\n",
       "      <td>01/01/2011 12:00:03 AM</td>\n",
       "      <td>01/01/2011 12:00:02 AM</td>\n",
       "      <td>NaN</td>\n",
       "      <td>MUNICIPAL  ATTTACHME</td>\n",
       "      <td>17M</td>\n",
       "      <td>70119.0</td>\n",
       "    </tr>\n",
       "    <tr>\n",
       "      <th>1</th>\n",
       "      <td>007XX S Dupre St</td>\n",
       "      <td>NaN</td>\n",
       "      <td>NAT</td>\n",
       "      <td>NECESSARY ACTION TAKEN</td>\n",
       "      <td>NaN</td>\n",
       "      <td>NaN</td>\n",
       "      <td>NaN</td>\n",
       "      <td>(29.961547427694992, -90.09455728362126)</td>\n",
       "      <td>3673089.0</td>\n",
       "      <td>533629.0</td>\n",
       "      <td>...</td>\n",
       "      <td>1</td>\n",
       "      <td>1F</td>\n",
       "      <td>NaN</td>\n",
       "      <td>NaN</td>\n",
       "      <td>01/01/2011 12:00:04 AM</td>\n",
       "      <td>01/01/2011 12:00:02 AM</td>\n",
       "      <td>NaN</td>\n",
       "      <td>MUNICIPAL  ATTTACHME</td>\n",
       "      <td>17M</td>\n",
       "      <td>70119.0</td>\n",
       "    </tr>\n",
       "    <tr>\n",
       "      <th>2</th>\n",
       "      <td>007XX S Dupre St</td>\n",
       "      <td>NaN</td>\n",
       "      <td>NAT</td>\n",
       "      <td>NECESSARY ACTION TAKEN</td>\n",
       "      <td>NaN</td>\n",
       "      <td>NaN</td>\n",
       "      <td>NaN</td>\n",
       "      <td>(29.961547427694992, -90.09455728362126)</td>\n",
       "      <td>3673089.0</td>\n",
       "      <td>533629.0</td>\n",
       "      <td>...</td>\n",
       "      <td>1</td>\n",
       "      <td>1F</td>\n",
       "      <td>NaN</td>\n",
       "      <td>NaN</td>\n",
       "      <td>01/01/2011 12:00:04 AM</td>\n",
       "      <td>01/01/2011 12:00:02 AM</td>\n",
       "      <td>NaN</td>\n",
       "      <td>MUNICIPAL  ATTTACHME</td>\n",
       "      <td>17M</td>\n",
       "      <td>70119.0</td>\n",
       "    </tr>\n",
       "    <tr>\n",
       "      <th>3</th>\n",
       "      <td>007XX S Dupre St</td>\n",
       "      <td>NaN</td>\n",
       "      <td>NAT</td>\n",
       "      <td>NECESSARY ACTION TAKEN</td>\n",
       "      <td>NaN</td>\n",
       "      <td>NaN</td>\n",
       "      <td>NaN</td>\n",
       "      <td>(29.961547427694992, -90.09455728362126)</td>\n",
       "      <td>3673089.0</td>\n",
       "      <td>533629.0</td>\n",
       "      <td>...</td>\n",
       "      <td>1</td>\n",
       "      <td>1F</td>\n",
       "      <td>NaN</td>\n",
       "      <td>NaN</td>\n",
       "      <td>01/01/2011 12:00:04 AM</td>\n",
       "      <td>01/01/2011 12:00:02 AM</td>\n",
       "      <td>NaN</td>\n",
       "      <td>MUNICIPAL  ATTTACHME</td>\n",
       "      <td>17M</td>\n",
       "      <td>70119.0</td>\n",
       "    </tr>\n",
       "    <tr>\n",
       "      <th>4</th>\n",
       "      <td>007XX S Dupre St</td>\n",
       "      <td>NaN</td>\n",
       "      <td>NAT</td>\n",
       "      <td>NECESSARY ACTION TAKEN</td>\n",
       "      <td>NaN</td>\n",
       "      <td>NaN</td>\n",
       "      <td>NaN</td>\n",
       "      <td>(29.961547427694992, -90.09455728362126)</td>\n",
       "      <td>3673089.0</td>\n",
       "      <td>533629.0</td>\n",
       "      <td>...</td>\n",
       "      <td>1</td>\n",
       "      <td>1F</td>\n",
       "      <td>NaN</td>\n",
       "      <td>NaN</td>\n",
       "      <td>01/01/2011 12:00:05 AM</td>\n",
       "      <td>01/01/2011 12:00:02 AM</td>\n",
       "      <td>NaN</td>\n",
       "      <td>MUNICIPAL  ATTTACHME</td>\n",
       "      <td>17M</td>\n",
       "      <td>70119.0</td>\n",
       "    </tr>\n",
       "  </tbody>\n",
       "</table>\n",
       "<p>5 rows × 21 columns</p>\n",
       "</div>"
      ],
      "text/plain": [
       "      BLOCK_ADDRESS Beat Disposition         DispositionText InitialPriority  \\\n",
       "0  007XX S Dupre St  NaN         NAT  NECESSARY ACTION TAKEN             NaN   \n",
       "1  007XX S Dupre St  NaN         NAT  NECESSARY ACTION TAKEN             NaN   \n",
       "2  007XX S Dupre St  NaN         NAT  NECESSARY ACTION TAKEN             NaN   \n",
       "3  007XX S Dupre St  NaN         NAT  NECESSARY ACTION TAKEN             NaN   \n",
       "4  007XX S Dupre St  NaN         NAT  NECESSARY ACTION TAKEN             NaN   \n",
       "\n",
       "  InitialType InitialTypeText                                  Location  \\\n",
       "0         NaN             NaN  (29.961547427694992, -90.09455728362126)   \n",
       "1         NaN             NaN  (29.961547427694992, -90.09455728362126)   \n",
       "2         NaN             NaN  (29.961547427694992, -90.09455728362126)   \n",
       "3         NaN             NaN  (29.961547427694992, -90.09455728362126)   \n",
       "4         NaN             NaN  (29.961547427694992, -90.09455728362126)   \n",
       "\n",
       "        MapX      MapY   ...    PoliceDistrict  Priority SelfInitiated  \\\n",
       "0  3673089.0  533629.0   ...                 1        1F           NaN   \n",
       "1  3673089.0  533629.0   ...                 1        1F           NaN   \n",
       "2  3673089.0  533629.0   ...                 1        1F           NaN   \n",
       "3  3673089.0  533629.0   ...                 1        1F           NaN   \n",
       "4  3673089.0  533629.0   ...                 1        1F           NaN   \n",
       "\n",
       "  TimeArrive              TimeClosed              TimeCreate TimeDispatch  \\\n",
       "0        NaN  01/01/2011 12:00:03 AM  01/01/2011 12:00:02 AM          NaN   \n",
       "1        NaN  01/01/2011 12:00:04 AM  01/01/2011 12:00:02 AM          NaN   \n",
       "2        NaN  01/01/2011 12:00:04 AM  01/01/2011 12:00:02 AM          NaN   \n",
       "3        NaN  01/01/2011 12:00:04 AM  01/01/2011 12:00:02 AM          NaN   \n",
       "4        NaN  01/01/2011 12:00:05 AM  01/01/2011 12:00:02 AM          NaN   \n",
       "\n",
       "               TypeText Type_      Zip  \n",
       "0  MUNICIPAL  ATTTACHME   17M  70119.0  \n",
       "1  MUNICIPAL  ATTTACHME   17M  70119.0  \n",
       "2  MUNICIPAL  ATTTACHME   17M  70119.0  \n",
       "3  MUNICIPAL  ATTTACHME   17M  70119.0  \n",
       "4  MUNICIPAL  ATTTACHME   17M  70119.0  \n",
       "\n",
       "[5 rows x 21 columns]"
      ]
     },
     "execution_count": 6,
     "metadata": {},
     "output_type": "execute_result"
    }
   ],
   "source": [
    "dataframe.head()"
   ]
  },
  {
   "cell_type": "code",
   "execution_count": null,
   "metadata": {
    "collapsed": true
   },
   "outputs": [],
   "source": []
  }
 ],
 "metadata": {
  "anaconda-cloud": {},
  "kernelspec": {
   "display_name": "Python [default]",
   "language": "python",
   "name": "python2"
  },
  "language_info": {
   "codemirror_mode": {
    "name": "ipython",
    "version": 2
   },
   "file_extension": ".py",
   "mimetype": "text/x-python",
   "name": "python",
   "nbconvert_exporter": "python",
   "pygments_lexer": "ipython2",
   "version": "2.7.12"
  }
 },
 "nbformat": 4,
 "nbformat_minor": 1
}
