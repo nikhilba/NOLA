{
 "cells": [
  {
   "cell_type": "markdown",
   "metadata": {},
   "source": [
    "## The below script loads data from Calls_for_service file and merges with data from max_cfs_ucr_categories file.\n",
    "Following constraints are applied:\n",
    "- Records year range = 2012 - 2016\n",
    "- Records Disposition = RTF \n",
    "- Records CrimeType = Violent Crime"
   ]
  },
  {
   "cell_type": "code",
   "execution_count": 1,
   "metadata": {
    "collapsed": false
   },
   "outputs": [],
   "source": [
    "import os\n",
    "import csv\n",
    "import zipfile\n",
    "import string\n",
    "import pandas as pd\n",
    "import datetime as dt\n",
    "import numpy as np"
   ]
  },
  {
   "cell_type": "markdown",
   "metadata": {},
   "source": [
    "## Data Loading"
   ]
  },
  {
   "cell_type": "markdown",
   "metadata": {},
   "source": [
    "### Load Calls-for-Service Data"
   ]
  },
  {
   "cell_type": "code",
   "execution_count": 2,
   "metadata": {
    "collapsed": false
   },
   "outputs": [
    {
     "data": {
      "text/plain": [
       "'../Datasets/Raw_Data/Calls_for_Service/'"
      ]
     },
     "execution_count": 2,
     "metadata": {},
     "output_type": "execute_result"
    }
   ],
   "source": [
    "# Set location of file\n",
    "path = os.path.join(\"../Datasets/Raw_Data/Calls_for_Service/\")\n",
    "path"
   ]
  },
  {
   "cell_type": "code",
   "execution_count": 3,
   "metadata": {
    "collapsed": false
   },
   "outputs": [
    {
     "data": {
      "text/plain": [
       "['Calls_for_Service_2013.zip',\n",
       " 'Calls_for_Service_2012.zip',\n",
       " 'Calls_for_Service_2016.zip',\n",
       " 'Calls_for_Service_2015.zip',\n",
       " 'Calls_for_Service_2014.zip']"
      ]
     },
     "execution_count": 3,
     "metadata": {},
     "output_type": "execute_result"
    }
   ],
   "source": [
    "# Get filenames\n",
    "filenames = os.listdir(path)\n",
    "filenames"
   ]
  },
  {
   "cell_type": "code",
   "execution_count": 4,
   "metadata": {
    "collapsed": false
   },
   "outputs": [],
   "source": [
    "# Load data from files in list\n",
    "dfs = []\n",
    "for f in filenames:\n",
    "    zf = zipfile.ZipFile(os.path.join(path,f)) \n",
    "    dfs.append(pd.read_csv(zf.open(str.replace(f, 'zip', 'csv')),))\n",
    "\n",
    "# Merge all df in list\n",
    "cfs_df = pd.concat(dfs, ignore_index=True)\n",
    "\n",
    "# Change datatype of column Type_ to String\n",
    "cfs_df.Type_ = cfs_df.Type_.apply(str)"
   ]
  },
  {
   "cell_type": "code",
   "execution_count": 5,
   "metadata": {
    "collapsed": false
   },
   "outputs": [
    {
     "data": {
      "text/html": [
       "<div>\n",
       "<table border=\"1\" class=\"dataframe\">\n",
       "  <thead>\n",
       "    <tr style=\"text-align: right;\">\n",
       "      <th></th>\n",
       "      <th>NOPD_Item</th>\n",
       "      <th>Type_</th>\n",
       "      <th>TypeText</th>\n",
       "      <th>Priority</th>\n",
       "      <th>InitialType</th>\n",
       "      <th>InitialTypeText</th>\n",
       "      <th>InitialPriority</th>\n",
       "      <th>MapX</th>\n",
       "      <th>MapY</th>\n",
       "      <th>TimeCreate</th>\n",
       "      <th>...</th>\n",
       "      <th>TimeArrive</th>\n",
       "      <th>TimeClosed</th>\n",
       "      <th>Disposition</th>\n",
       "      <th>DispositionText</th>\n",
       "      <th>SelfInitiated</th>\n",
       "      <th>Beat</th>\n",
       "      <th>BLOCK_ADDRESS</th>\n",
       "      <th>Zip</th>\n",
       "      <th>PoliceDistrict</th>\n",
       "      <th>Location</th>\n",
       "    </tr>\n",
       "  </thead>\n",
       "  <tbody>\n",
       "    <tr>\n",
       "      <th>0</th>\n",
       "      <td>A0000113</td>\n",
       "      <td>94</td>\n",
       "      <td>DISCHARGING FIREARM</td>\n",
       "      <td>2B</td>\n",
       "      <td>NaN</td>\n",
       "      <td>NaN</td>\n",
       "      <td>NaN</td>\n",
       "      <td>3696313</td>\n",
       "      <td>533332</td>\n",
       "      <td>12/31/2012 23:59</td>\n",
       "      <td>...</td>\n",
       "      <td>1/1/2013 0:23</td>\n",
       "      <td>1/1/2013 0:24</td>\n",
       "      <td>UNF</td>\n",
       "      <td>UNFOUNDED</td>\n",
       "      <td>NaN</td>\n",
       "      <td>NaN</td>\n",
       "      <td>052XX Burgundy St</td>\n",
       "      <td>70117.0</td>\n",
       "      <td>5</td>\n",
       "      <td>(29.960019973022543, -90.02123092953371)</td>\n",
       "    </tr>\n",
       "    <tr>\n",
       "      <th>1</th>\n",
       "      <td>A0000213</td>\n",
       "      <td>94</td>\n",
       "      <td>DISCHARGING FIREARM</td>\n",
       "      <td>2B</td>\n",
       "      <td>NaN</td>\n",
       "      <td>NaN</td>\n",
       "      <td>NaN</td>\n",
       "      <td>3710263</td>\n",
       "      <td>518976</td>\n",
       "      <td>12/31/2012 23:59</td>\n",
       "      <td>...</td>\n",
       "      <td>1/1/2013 0:14</td>\n",
       "      <td>1/1/2013 0:21</td>\n",
       "      <td>UNF</td>\n",
       "      <td>UNFOUNDED</td>\n",
       "      <td>NaN</td>\n",
       "      <td>NaN</td>\n",
       "      <td>029XX Bacchus Dr</td>\n",
       "      <td>70131.0</td>\n",
       "      <td>4</td>\n",
       "      <td>(29.92009950776069, -89.97771660629039)</td>\n",
       "    </tr>\n",
       "    <tr>\n",
       "      <th>2</th>\n",
       "      <td>A0000313</td>\n",
       "      <td>67S</td>\n",
       "      <td>SHOPLIFTING</td>\n",
       "      <td>1C</td>\n",
       "      <td>NaN</td>\n",
       "      <td>NaN</td>\n",
       "      <td>NaN</td>\n",
       "      <td>3683068</td>\n",
       "      <td>531830</td>\n",
       "      <td>1/1/2013 0:00</td>\n",
       "      <td>...</td>\n",
       "      <td>NaN</td>\n",
       "      <td>1/1/2013 0:33</td>\n",
       "      <td>DUP</td>\n",
       "      <td>DUPLICATE</td>\n",
       "      <td>NaN</td>\n",
       "      <td>NaN</td>\n",
       "      <td>006XX Decatur St</td>\n",
       "      <td>70130.0</td>\n",
       "      <td>8</td>\n",
       "      <td>(29.956300375853115, -90.06310829672566)</td>\n",
       "    </tr>\n",
       "    <tr>\n",
       "      <th>3</th>\n",
       "      <td>A0000413</td>\n",
       "      <td>21</td>\n",
       "      <td>COMPLAINT OTHER</td>\n",
       "      <td>1H</td>\n",
       "      <td>NaN</td>\n",
       "      <td>NaN</td>\n",
       "      <td>NaN</td>\n",
       "      <td>3673396</td>\n",
       "      <td>533473</td>\n",
       "      <td>1/1/2013 0:00</td>\n",
       "      <td>...</td>\n",
       "      <td>1/1/2013 0:00</td>\n",
       "      <td>1/1/2013 0:13</td>\n",
       "      <td>NAT</td>\n",
       "      <td>NECESSARY ACTION TAKEN</td>\n",
       "      <td>NaN</td>\n",
       "      <td>NaN</td>\n",
       "      <td>007XX S White St</td>\n",
       "      <td>70119.0</td>\n",
       "      <td>1</td>\n",
       "      <td>(29.961109350200267, -90.09359315760538)</td>\n",
       "    </tr>\n",
       "    <tr>\n",
       "      <th>4</th>\n",
       "      <td>A0000513</td>\n",
       "      <td>62A</td>\n",
       "      <td>BURGLAR ALARM, SILEN</td>\n",
       "      <td>2C</td>\n",
       "      <td>NaN</td>\n",
       "      <td>NaN</td>\n",
       "      <td>NaN</td>\n",
       "      <td>3665197</td>\n",
       "      <td>544507</td>\n",
       "      <td>1/1/2013 0:00</td>\n",
       "      <td>...</td>\n",
       "      <td>NaN</td>\n",
       "      <td>1/1/2013 0:36</td>\n",
       "      <td>VOI</td>\n",
       "      <td>VOID</td>\n",
       "      <td>NaN</td>\n",
       "      <td>NaN</td>\n",
       "      <td>055XX Cherlyn Dr</td>\n",
       "      <td>70124.0</td>\n",
       "      <td>3</td>\n",
       "      <td>(29.991690537674508, -90.11911498388514)</td>\n",
       "    </tr>\n",
       "  </tbody>\n",
       "</table>\n",
       "<p>5 rows × 21 columns</p>\n",
       "</div>"
      ],
      "text/plain": [
       "  NOPD_Item Type_              TypeText Priority InitialType InitialTypeText  \\\n",
       "0  A0000113    94   DISCHARGING FIREARM       2B         NaN             NaN   \n",
       "1  A0000213    94   DISCHARGING FIREARM       2B         NaN             NaN   \n",
       "2  A0000313   67S           SHOPLIFTING       1C         NaN             NaN   \n",
       "3  A0000413    21       COMPLAINT OTHER       1H         NaN             NaN   \n",
       "4  A0000513   62A  BURGLAR ALARM, SILEN       2C         NaN             NaN   \n",
       "\n",
       "  InitialPriority     MapX    MapY        TimeCreate  \\\n",
       "0             NaN  3696313  533332  12/31/2012 23:59   \n",
       "1             NaN  3710263  518976  12/31/2012 23:59   \n",
       "2             NaN  3683068  531830     1/1/2013 0:00   \n",
       "3             NaN  3673396  533473     1/1/2013 0:00   \n",
       "4             NaN  3665197  544507     1/1/2013 0:00   \n",
       "\n",
       "                     ...                        TimeArrive     TimeClosed  \\\n",
       "0                    ...                     1/1/2013 0:23  1/1/2013 0:24   \n",
       "1                    ...                     1/1/2013 0:14  1/1/2013 0:21   \n",
       "2                    ...                               NaN  1/1/2013 0:33   \n",
       "3                    ...                     1/1/2013 0:00  1/1/2013 0:13   \n",
       "4                    ...                               NaN  1/1/2013 0:36   \n",
       "\n",
       "  Disposition         DispositionText SelfInitiated Beat      BLOCK_ADDRESS  \\\n",
       "0         UNF               UNFOUNDED           NaN  NaN  052XX Burgundy St   \n",
       "1         UNF               UNFOUNDED           NaN  NaN   029XX Bacchus Dr   \n",
       "2         DUP               DUPLICATE           NaN  NaN   006XX Decatur St   \n",
       "3         NAT  NECESSARY ACTION TAKEN           NaN  NaN   007XX S White St   \n",
       "4         VOI                    VOID           NaN  NaN   055XX Cherlyn Dr   \n",
       "\n",
       "       Zip  PoliceDistrict                                  Location  \n",
       "0  70117.0               5  (29.960019973022543, -90.02123092953371)  \n",
       "1  70131.0               4   (29.92009950776069, -89.97771660629039)  \n",
       "2  70130.0               8  (29.956300375853115, -90.06310829672566)  \n",
       "3  70119.0               1  (29.961109350200267, -90.09359315760538)  \n",
       "4  70124.0               3  (29.991690537674508, -90.11911498388514)  \n",
       "\n",
       "[5 rows x 21 columns]"
      ]
     },
     "execution_count": 5,
     "metadata": {},
     "output_type": "execute_result"
    }
   ],
   "source": [
    "# Display top 5 rows\n",
    "cfs_df.head()"
   ]
  },
  {
   "cell_type": "code",
   "execution_count": 6,
   "metadata": {
    "collapsed": false
   },
   "outputs": [
    {
     "data": {
      "text/plain": [
       "2252907"
      ]
     },
     "execution_count": 6,
     "metadata": {},
     "output_type": "execute_result"
    }
   ],
   "source": [
    "# Number of records\n",
    "len(cfs_df)"
   ]
  },
  {
   "cell_type": "code",
   "execution_count": 7,
   "metadata": {
    "collapsed": false,
    "scrolled": true
   },
   "outputs": [
    {
     "data": {
      "text/plain": [
       "Index([u'NOPD_Item', u'Type_', u'TypeText', u'Priority', u'InitialType',\n",
       "       u'InitialTypeText', u'InitialPriority', u'MapX', u'MapY', u'TimeCreate',\n",
       "       u'TimeDispatch', u'TimeArrive', u'TimeClosed', u'Disposition',\n",
       "       u'DispositionText', u'SelfInitiated', u'Beat', u'BLOCK_ADDRESS', u'Zip',\n",
       "       u'PoliceDistrict', u'Location'],\n",
       "      dtype='object')"
      ]
     },
     "execution_count": 7,
     "metadata": {},
     "output_type": "execute_result"
    }
   ],
   "source": [
    "# Column Names\n",
    "cfs_df.columns"
   ]
  },
  {
   "cell_type": "markdown",
   "metadata": {},
   "source": [
    "### Filter Records with Disposition == 'RTF' "
   ]
  },
  {
   "cell_type": "code",
   "execution_count": 8,
   "metadata": {
    "collapsed": true
   },
   "outputs": [],
   "source": [
    "cfs_df = cfs_df[cfs_df.Disposition.str.strip() == 'RTF']"
   ]
  },
  {
   "cell_type": "code",
   "execution_count": 9,
   "metadata": {
    "collapsed": false
   },
   "outputs": [
    {
     "data": {
      "text/plain": [
       "428570"
      ]
     },
     "execution_count": 9,
     "metadata": {},
     "output_type": "execute_result"
    }
   ],
   "source": [
    "# Number of records\n",
    "len(cfs_df)"
   ]
  },
  {
   "cell_type": "code",
   "execution_count": 10,
   "metadata": {
    "collapsed": false
   },
   "outputs": [
    {
     "data": {
      "text/html": [
       "<div>\n",
       "<table border=\"1\" class=\"dataframe\">\n",
       "  <thead>\n",
       "    <tr style=\"text-align: right;\">\n",
       "      <th></th>\n",
       "      <th>NOPD_Item</th>\n",
       "      <th>Type_</th>\n",
       "      <th>TypeText</th>\n",
       "      <th>Priority</th>\n",
       "      <th>InitialType</th>\n",
       "      <th>InitialTypeText</th>\n",
       "      <th>InitialPriority</th>\n",
       "      <th>MapX</th>\n",
       "      <th>MapY</th>\n",
       "      <th>TimeCreate</th>\n",
       "      <th>...</th>\n",
       "      <th>TimeArrive</th>\n",
       "      <th>TimeClosed</th>\n",
       "      <th>Disposition</th>\n",
       "      <th>DispositionText</th>\n",
       "      <th>SelfInitiated</th>\n",
       "      <th>Beat</th>\n",
       "      <th>BLOCK_ADDRESS</th>\n",
       "      <th>Zip</th>\n",
       "      <th>PoliceDistrict</th>\n",
       "      <th>Location</th>\n",
       "    </tr>\n",
       "  </thead>\n",
       "  <tbody>\n",
       "    <tr>\n",
       "      <th>23</th>\n",
       "      <td>A0002413</td>\n",
       "      <td>21</td>\n",
       "      <td>COMPLAINT OTHER</td>\n",
       "      <td>1H</td>\n",
       "      <td>NaN</td>\n",
       "      <td>NaN</td>\n",
       "      <td>NaN</td>\n",
       "      <td>3686582</td>\n",
       "      <td>535344</td>\n",
       "      <td>1/1/2013 0:05</td>\n",
       "      <td>...</td>\n",
       "      <td>1/1/2013 0:30</td>\n",
       "      <td>1/1/2013 2:14</td>\n",
       "      <td>RTF</td>\n",
       "      <td>REPORT TO FOLLOW</td>\n",
       "      <td>NaN</td>\n",
       "      <td>NaN</td>\n",
       "      <td>Dauphine St &amp; Saint Roch Ave</td>\n",
       "      <td>70117.0</td>\n",
       "      <td>8</td>\n",
       "      <td>(29.96585508211896, -90.05188819386355)</td>\n",
       "    </tr>\n",
       "    <tr>\n",
       "      <th>34</th>\n",
       "      <td>A0003513</td>\n",
       "      <td>966</td>\n",
       "      <td>DRUG VIOLATIONS</td>\n",
       "      <td>1G</td>\n",
       "      <td>NaN</td>\n",
       "      <td>NaN</td>\n",
       "      <td>NaN</td>\n",
       "      <td>3681184</td>\n",
       "      <td>531226</td>\n",
       "      <td>1/1/2013 0:07</td>\n",
       "      <td>...</td>\n",
       "      <td>NaN</td>\n",
       "      <td>1/1/2013 0:08</td>\n",
       "      <td>RTF</td>\n",
       "      <td>REPORT TO FOLLOW</td>\n",
       "      <td>NaN</td>\n",
       "      <td>NaN</td>\n",
       "      <td>002XX Bourbon St</td>\n",
       "      <td>70112.0</td>\n",
       "      <td>8</td>\n",
       "      <td>(29.954696873099614, -90.06907837799429)</td>\n",
       "    </tr>\n",
       "    <tr>\n",
       "      <th>39</th>\n",
       "      <td>A0004013</td>\n",
       "      <td>21</td>\n",
       "      <td>COMPLAINT OTHER</td>\n",
       "      <td>1H</td>\n",
       "      <td>NaN</td>\n",
       "      <td>NaN</td>\n",
       "      <td>NaN</td>\n",
       "      <td>3682054</td>\n",
       "      <td>532371</td>\n",
       "      <td>1/1/2013 0:08</td>\n",
       "      <td>...</td>\n",
       "      <td>NaN</td>\n",
       "      <td>1/1/2013 0:11</td>\n",
       "      <td>RTF</td>\n",
       "      <td>REPORT TO FOLLOW</td>\n",
       "      <td>NaN</td>\n",
       "      <td>NaN</td>\n",
       "      <td>006XX Bourbon St</td>\n",
       "      <td>70112.0</td>\n",
       "      <td>8</td>\n",
       "      <td>(29.95781881107571, -90.06629127670833)</td>\n",
       "    </tr>\n",
       "    <tr>\n",
       "      <th>45</th>\n",
       "      <td>A0004713</td>\n",
       "      <td>966</td>\n",
       "      <td>DRUG VIOLATIONS</td>\n",
       "      <td>1G</td>\n",
       "      <td>NaN</td>\n",
       "      <td>NaN</td>\n",
       "      <td>NaN</td>\n",
       "      <td>3681184</td>\n",
       "      <td>531226</td>\n",
       "      <td>1/1/2013 0:09</td>\n",
       "      <td>...</td>\n",
       "      <td>1/1/2013 0:29</td>\n",
       "      <td>1/1/2013 0:55</td>\n",
       "      <td>RTF</td>\n",
       "      <td>REPORT TO FOLLOW</td>\n",
       "      <td>NaN</td>\n",
       "      <td>NaN</td>\n",
       "      <td>002XX Bourbon St</td>\n",
       "      <td>70112.0</td>\n",
       "      <td>8</td>\n",
       "      <td>(29.954696873099614, -90.06907837799429)</td>\n",
       "    </tr>\n",
       "    <tr>\n",
       "      <th>57</th>\n",
       "      <td>A0006013</td>\n",
       "      <td>21</td>\n",
       "      <td>COMPLAINT OTHER</td>\n",
       "      <td>1H</td>\n",
       "      <td>NaN</td>\n",
       "      <td>NaN</td>\n",
       "      <td>NaN</td>\n",
       "      <td>3681624</td>\n",
       "      <td>531805</td>\n",
       "      <td>1/1/2013 0:12</td>\n",
       "      <td>...</td>\n",
       "      <td>NaN</td>\n",
       "      <td>1/1/2013 0:13</td>\n",
       "      <td>RTF</td>\n",
       "      <td>REPORT TO FOLLOW</td>\n",
       "      <td>NaN</td>\n",
       "      <td>NaN</td>\n",
       "      <td>004XX Bourbon St</td>\n",
       "      <td>70112.0</td>\n",
       "      <td>8</td>\n",
       "      <td>(29.95627557056932, -90.06766883413155)</td>\n",
       "    </tr>\n",
       "  </tbody>\n",
       "</table>\n",
       "<p>5 rows × 21 columns</p>\n",
       "</div>"
      ],
      "text/plain": [
       "   NOPD_Item Type_         TypeText Priority InitialType InitialTypeText  \\\n",
       "23  A0002413    21  COMPLAINT OTHER       1H         NaN             NaN   \n",
       "34  A0003513   966  DRUG VIOLATIONS       1G         NaN             NaN   \n",
       "39  A0004013    21  COMPLAINT OTHER       1H         NaN             NaN   \n",
       "45  A0004713   966  DRUG VIOLATIONS       1G         NaN             NaN   \n",
       "57  A0006013    21  COMPLAINT OTHER       1H         NaN             NaN   \n",
       "\n",
       "   InitialPriority     MapX    MapY     TimeCreate  \\\n",
       "23             NaN  3686582  535344  1/1/2013 0:05   \n",
       "34             NaN  3681184  531226  1/1/2013 0:07   \n",
       "39             NaN  3682054  532371  1/1/2013 0:08   \n",
       "45             NaN  3681184  531226  1/1/2013 0:09   \n",
       "57             NaN  3681624  531805  1/1/2013 0:12   \n",
       "\n",
       "                      ...                        TimeArrive     TimeClosed  \\\n",
       "23                    ...                     1/1/2013 0:30  1/1/2013 2:14   \n",
       "34                    ...                               NaN  1/1/2013 0:08   \n",
       "39                    ...                               NaN  1/1/2013 0:11   \n",
       "45                    ...                     1/1/2013 0:29  1/1/2013 0:55   \n",
       "57                    ...                               NaN  1/1/2013 0:13   \n",
       "\n",
       "   Disposition   DispositionText SelfInitiated Beat  \\\n",
       "23         RTF  REPORT TO FOLLOW           NaN  NaN   \n",
       "34         RTF  REPORT TO FOLLOW           NaN  NaN   \n",
       "39         RTF  REPORT TO FOLLOW           NaN  NaN   \n",
       "45         RTF  REPORT TO FOLLOW           NaN  NaN   \n",
       "57         RTF  REPORT TO FOLLOW           NaN  NaN   \n",
       "\n",
       "                   BLOCK_ADDRESS      Zip  PoliceDistrict  \\\n",
       "23  Dauphine St & Saint Roch Ave  70117.0               8   \n",
       "34              002XX Bourbon St  70112.0               8   \n",
       "39              006XX Bourbon St  70112.0               8   \n",
       "45              002XX Bourbon St  70112.0               8   \n",
       "57              004XX Bourbon St  70112.0               8   \n",
       "\n",
       "                                    Location  \n",
       "23   (29.96585508211896, -90.05188819386355)  \n",
       "34  (29.954696873099614, -90.06907837799429)  \n",
       "39   (29.95781881107571, -90.06629127670833)  \n",
       "45  (29.954696873099614, -90.06907837799429)  \n",
       "57   (29.95627557056932, -90.06766883413155)  \n",
       "\n",
       "[5 rows x 21 columns]"
      ]
     },
     "execution_count": 10,
     "metadata": {},
     "output_type": "execute_result"
    }
   ],
   "source": [
    "# Display top 5 rows\n",
    "cfs_df.head()"
   ]
  },
  {
   "cell_type": "markdown",
   "metadata": {},
   "source": [
    "### Load Categories Data"
   ]
  },
  {
   "cell_type": "code",
   "execution_count": 11,
   "metadata": {
    "collapsed": false
   },
   "outputs": [],
   "source": [
    "# Set location of file\n",
    "fname = \"../Datasets/Raw_Data/MAX_CFS_UCR_Categories.xlsx\"\n",
    "\n",
    "# Load file\n",
    "crime_types = pd.read_excel(fname,sheetname='Sheet1')\n",
    "\n",
    "# Select required columns\n",
    "crime_types = crime_types.ix[:,['Code','UCR MAIN','Description']]\n",
    "\n",
    "# Rename columns\n",
    "crime_types.rename(columns={'Code':'Type_','UCR MAIN':'CrimeType','Description':'Description'},inplace=True)\n",
    "\n",
    "# Change datatype of column Type_ to String\n",
    "crime_types.Type_ = crime_types.Type_.apply(str)\n",
    "crime_types.Type_ = crime_types.Type_.str.strip()"
   ]
  },
  {
   "cell_type": "markdown",
   "metadata": {},
   "source": [
    "### Filter Records with CrimeType == 'VIOLENT CRIME'"
   ]
  },
  {
   "cell_type": "code",
   "execution_count": 12,
   "metadata": {
    "collapsed": false
   },
   "outputs": [],
   "source": [
    "crime_types = crime_types[crime_types.CrimeType.str.strip() == 'VIOLENT CRIME']"
   ]
  },
  {
   "cell_type": "code",
   "execution_count": 13,
   "metadata": {
    "collapsed": false,
    "scrolled": false
   },
   "outputs": [
    {
     "data": {
      "text/html": [
       "<div>\n",
       "<table border=\"1\" class=\"dataframe\">\n",
       "  <thead>\n",
       "    <tr style=\"text-align: right;\">\n",
       "      <th></th>\n",
       "      <th>Type_</th>\n",
       "      <th>CrimeType</th>\n",
       "      <th>Description</th>\n",
       "    </tr>\n",
       "  </thead>\n",
       "  <tbody>\n",
       "    <tr>\n",
       "      <th>71</th>\n",
       "      <td>30</td>\n",
       "      <td>VIOLENT CRIME</td>\n",
       "      <td>HOMICIDE</td>\n",
       "    </tr>\n",
       "    <tr>\n",
       "      <th>72</th>\n",
       "      <td>30C</td>\n",
       "      <td>VIOLENT CRIME</td>\n",
       "      <td>HOMICIDE BY CUTTING</td>\n",
       "    </tr>\n",
       "    <tr>\n",
       "      <th>73</th>\n",
       "      <td>30D</td>\n",
       "      <td>VIOLENT CRIME</td>\n",
       "      <td>HOMICIDE DOMESTIC</td>\n",
       "    </tr>\n",
       "    <tr>\n",
       "      <th>74</th>\n",
       "      <td>30S</td>\n",
       "      <td>VIOLENT CRIME</td>\n",
       "      <td>HOMICIDE BY SHOOTING</td>\n",
       "    </tr>\n",
       "    <tr>\n",
       "      <th>75</th>\n",
       "      <td>34</td>\n",
       "      <td>VIOLENT CRIME</td>\n",
       "      <td>AGGRAVATED BATTERY</td>\n",
       "    </tr>\n",
       "  </tbody>\n",
       "</table>\n",
       "</div>"
      ],
      "text/plain": [
       "   Type_      CrimeType           Description\n",
       "71    30  VIOLENT CRIME              HOMICIDE\n",
       "72   30C  VIOLENT CRIME   HOMICIDE BY CUTTING\n",
       "73   30D  VIOLENT CRIME     HOMICIDE DOMESTIC\n",
       "74   30S  VIOLENT CRIME  HOMICIDE BY SHOOTING\n",
       "75    34  VIOLENT CRIME    AGGRAVATED BATTERY"
      ]
     },
     "execution_count": 13,
     "metadata": {},
     "output_type": "execute_result"
    }
   ],
   "source": [
    "crime_types.head()"
   ]
  },
  {
   "cell_type": "markdown",
   "metadata": {},
   "source": [
    "### Merge Calls-for-Service with Categories data"
   ]
  },
  {
   "cell_type": "code",
   "execution_count": 14,
   "metadata": {
    "collapsed": true
   },
   "outputs": [],
   "source": [
    "merged_df = pd.merge(cfs_df,crime_types,on='Type_',how='inner')"
   ]
  },
  {
   "cell_type": "code",
   "execution_count": 15,
   "metadata": {
    "collapsed": false
   },
   "outputs": [
    {
     "data": {
      "text/html": [
       "<div>\n",
       "<table border=\"1\" class=\"dataframe\">\n",
       "  <thead>\n",
       "    <tr style=\"text-align: right;\">\n",
       "      <th></th>\n",
       "      <th>NOPD_Item</th>\n",
       "      <th>Type_</th>\n",
       "      <th>TypeText</th>\n",
       "      <th>Priority</th>\n",
       "      <th>InitialType</th>\n",
       "      <th>InitialTypeText</th>\n",
       "      <th>InitialPriority</th>\n",
       "      <th>MapX</th>\n",
       "      <th>MapY</th>\n",
       "      <th>TimeCreate</th>\n",
       "      <th>...</th>\n",
       "      <th>Disposition</th>\n",
       "      <th>DispositionText</th>\n",
       "      <th>SelfInitiated</th>\n",
       "      <th>Beat</th>\n",
       "      <th>BLOCK_ADDRESS</th>\n",
       "      <th>Zip</th>\n",
       "      <th>PoliceDistrict</th>\n",
       "      <th>Location</th>\n",
       "      <th>CrimeType</th>\n",
       "      <th>Description</th>\n",
       "    </tr>\n",
       "  </thead>\n",
       "  <tbody>\n",
       "    <tr>\n",
       "      <th>0</th>\n",
       "      <td>A0015113</td>\n",
       "      <td>34</td>\n",
       "      <td>AGGRAVATED BATTERY</td>\n",
       "      <td>2B</td>\n",
       "      <td>NaN</td>\n",
       "      <td>NaN</td>\n",
       "      <td>NaN</td>\n",
       "      <td>3683068</td>\n",
       "      <td>531830</td>\n",
       "      <td>1/1/2013 0:56</td>\n",
       "      <td>...</td>\n",
       "      <td>RTF</td>\n",
       "      <td>REPORT TO FOLLOW</td>\n",
       "      <td>NaN</td>\n",
       "      <td>NaN</td>\n",
       "      <td>006XX Decatur St</td>\n",
       "      <td>70130.0</td>\n",
       "      <td>8</td>\n",
       "      <td>(29.956300375853115, -90.06310829672566)</td>\n",
       "      <td>VIOLENT CRIME</td>\n",
       "      <td>AGGRAVATED BATTERY</td>\n",
       "    </tr>\n",
       "    <tr>\n",
       "      <th>1</th>\n",
       "      <td>A0247713</td>\n",
       "      <td>34</td>\n",
       "      <td>AGGRAVATED BATTERY</td>\n",
       "      <td>2B</td>\n",
       "      <td>NaN</td>\n",
       "      <td>NaN</td>\n",
       "      <td>NaN</td>\n",
       "      <td>3683521</td>\n",
       "      <td>540346</td>\n",
       "      <td>1/2/2013 17:21</td>\n",
       "      <td>...</td>\n",
       "      <td>RTF</td>\n",
       "      <td>REPORT TO FOLLOW</td>\n",
       "      <td>NaN</td>\n",
       "      <td>NaN</td>\n",
       "      <td>029XX Pauger St</td>\n",
       "      <td>70119.0</td>\n",
       "      <td>5</td>\n",
       "      <td>(29.979702616404193, -90.06137937316943)</td>\n",
       "      <td>VIOLENT CRIME</td>\n",
       "      <td>AGGRAVATED BATTERY</td>\n",
       "    </tr>\n",
       "    <tr>\n",
       "      <th>2</th>\n",
       "      <td>A3100313</td>\n",
       "      <td>34</td>\n",
       "      <td>AGGRAVATED BATTERY</td>\n",
       "      <td>2B</td>\n",
       "      <td>NaN</td>\n",
       "      <td>NaN</td>\n",
       "      <td>NaN</td>\n",
       "      <td>3682102</td>\n",
       "      <td>529887</td>\n",
       "      <td>1/24/2013 1:25</td>\n",
       "      <td>...</td>\n",
       "      <td>RTF</td>\n",
       "      <td>REPORT TO FOLLOW</td>\n",
       "      <td>NaN</td>\n",
       "      <td>NaN</td>\n",
       "      <td>001XX Tchoupitoulas St</td>\n",
       "      <td>70130.0</td>\n",
       "      <td>8</td>\n",
       "      <td>(29.950987194039513, -90.06622644536927)</td>\n",
       "      <td>VIOLENT CRIME</td>\n",
       "      <td>AGGRAVATED BATTERY</td>\n",
       "    </tr>\n",
       "    <tr>\n",
       "      <th>3</th>\n",
       "      <td>A3302913</td>\n",
       "      <td>34</td>\n",
       "      <td>AGGRAVATED BATTERY</td>\n",
       "      <td>2B</td>\n",
       "      <td>NaN</td>\n",
       "      <td>NaN</td>\n",
       "      <td>NaN</td>\n",
       "      <td>3694972</td>\n",
       "      <td>559141</td>\n",
       "      <td>1/25/2013 16:17</td>\n",
       "      <td>...</td>\n",
       "      <td>RTF</td>\n",
       "      <td>REPORT TO FOLLOW</td>\n",
       "      <td>NaN</td>\n",
       "      <td>NaN</td>\n",
       "      <td>078XX W Laverne St</td>\n",
       "      <td>70126.0</td>\n",
       "      <td>7</td>\n",
       "      <td>(30.031027412521865, -90.02453459898635)</td>\n",
       "      <td>VIOLENT CRIME</td>\n",
       "      <td>AGGRAVATED BATTERY</td>\n",
       "    </tr>\n",
       "    <tr>\n",
       "      <th>4</th>\n",
       "      <td>A3475413</td>\n",
       "      <td>34</td>\n",
       "      <td>AGGRAVATED BATTERY</td>\n",
       "      <td>2B</td>\n",
       "      <td>NaN</td>\n",
       "      <td>NaN</td>\n",
       "      <td>NaN</td>\n",
       "      <td>3681217</td>\n",
       "      <td>530712</td>\n",
       "      <td>1/26/2013 17:32</td>\n",
       "      <td>...</td>\n",
       "      <td>RTF</td>\n",
       "      <td>REPORT TO FOLLOW</td>\n",
       "      <td>NaN</td>\n",
       "      <td>NaN</td>\n",
       "      <td>Canal St &amp; Royal St</td>\n",
       "      <td>70130.0</td>\n",
       "      <td>8</td>\n",
       "      <td>(29.953282545767404, -90.0689920854026)</td>\n",
       "      <td>VIOLENT CRIME</td>\n",
       "      <td>AGGRAVATED BATTERY</td>\n",
       "    </tr>\n",
       "  </tbody>\n",
       "</table>\n",
       "<p>5 rows × 23 columns</p>\n",
       "</div>"
      ],
      "text/plain": [
       "  NOPD_Item Type_            TypeText Priority InitialType InitialTypeText  \\\n",
       "0  A0015113    34  AGGRAVATED BATTERY       2B         NaN             NaN   \n",
       "1  A0247713    34  AGGRAVATED BATTERY       2B         NaN             NaN   \n",
       "2  A3100313    34  AGGRAVATED BATTERY       2B         NaN             NaN   \n",
       "3  A3302913    34  AGGRAVATED BATTERY       2B         NaN             NaN   \n",
       "4  A3475413    34  AGGRAVATED BATTERY       2B         NaN             NaN   \n",
       "\n",
       "  InitialPriority     MapX    MapY       TimeCreate         ...          \\\n",
       "0             NaN  3683068  531830    1/1/2013 0:56         ...           \n",
       "1             NaN  3683521  540346   1/2/2013 17:21         ...           \n",
       "2             NaN  3682102  529887   1/24/2013 1:25         ...           \n",
       "3             NaN  3694972  559141  1/25/2013 16:17         ...           \n",
       "4             NaN  3681217  530712  1/26/2013 17:32         ...           \n",
       "\n",
       "  Disposition   DispositionText SelfInitiated Beat           BLOCK_ADDRESS  \\\n",
       "0         RTF  REPORT TO FOLLOW           NaN  NaN        006XX Decatur St   \n",
       "1         RTF  REPORT TO FOLLOW           NaN  NaN         029XX Pauger St   \n",
       "2         RTF  REPORT TO FOLLOW           NaN  NaN  001XX Tchoupitoulas St   \n",
       "3         RTF  REPORT TO FOLLOW           NaN  NaN      078XX W Laverne St   \n",
       "4         RTF  REPORT TO FOLLOW           NaN  NaN     Canal St & Royal St   \n",
       "\n",
       "       Zip PoliceDistrict                                  Location  \\\n",
       "0  70130.0              8  (29.956300375853115, -90.06310829672566)   \n",
       "1  70119.0              5  (29.979702616404193, -90.06137937316943)   \n",
       "2  70130.0              8  (29.950987194039513, -90.06622644536927)   \n",
       "3  70126.0              7  (30.031027412521865, -90.02453459898635)   \n",
       "4  70130.0              8   (29.953282545767404, -90.0689920854026)   \n",
       "\n",
       "       CrimeType         Description  \n",
       "0  VIOLENT CRIME  AGGRAVATED BATTERY  \n",
       "1  VIOLENT CRIME  AGGRAVATED BATTERY  \n",
       "2  VIOLENT CRIME  AGGRAVATED BATTERY  \n",
       "3  VIOLENT CRIME  AGGRAVATED BATTERY  \n",
       "4  VIOLENT CRIME  AGGRAVATED BATTERY  \n",
       "\n",
       "[5 rows x 23 columns]"
      ]
     },
     "execution_count": 15,
     "metadata": {},
     "output_type": "execute_result"
    }
   ],
   "source": [
    "merged_df.head()"
   ]
  },
  {
   "cell_type": "code",
   "execution_count": 16,
   "metadata": {
    "collapsed": false
   },
   "outputs": [
    {
     "data": {
      "text/plain": [
       "13954"
      ]
     },
     "execution_count": 16,
     "metadata": {},
     "output_type": "execute_result"
    }
   ],
   "source": [
    "len(merged_df)"
   ]
  },
  {
   "cell_type": "markdown",
   "metadata": {},
   "source": [
    "### Filter Records with CrimeType = NaN or Null"
   ]
  },
  {
   "cell_type": "code",
   "execution_count": 17,
   "metadata": {
    "collapsed": false
   },
   "outputs": [
    {
     "data": {
      "text/plain": [
       "0"
      ]
     },
     "execution_count": 17,
     "metadata": {},
     "output_type": "execute_result"
    }
   ],
   "source": [
    "# Check length of records with CrimeType Null\n",
    "len(merged_df[merged_df.CrimeType.isnull()])"
   ]
  },
  {
   "cell_type": "code",
   "execution_count": 18,
   "metadata": {
    "collapsed": false
   },
   "outputs": [
    {
     "data": {
      "text/plain": [
       "13954"
      ]
     },
     "execution_count": 18,
     "metadata": {},
     "output_type": "execute_result"
    }
   ],
   "source": [
    "# Check length of records with CrimeType Not Null\n",
    "len(merged_df[merged_df.CrimeType.notnull()])"
   ]
  },
  {
   "cell_type": "code",
   "execution_count": 19,
   "metadata": {
    "collapsed": true
   },
   "outputs": [],
   "source": [
    "# Remove records with CrimeType Null\n",
    "cfs_final = merged_df[merged_df.CrimeType.notnull()]"
   ]
  },
  {
   "cell_type": "code",
   "execution_count": 20,
   "metadata": {
    "collapsed": false
   },
   "outputs": [
    {
     "data": {
      "text/html": [
       "<div>\n",
       "<table border=\"1\" class=\"dataframe\">\n",
       "  <thead>\n",
       "    <tr style=\"text-align: right;\">\n",
       "      <th></th>\n",
       "      <th>NOPD_Item</th>\n",
       "      <th>Type_</th>\n",
       "      <th>TypeText</th>\n",
       "      <th>Priority</th>\n",
       "      <th>InitialType</th>\n",
       "      <th>InitialTypeText</th>\n",
       "      <th>InitialPriority</th>\n",
       "      <th>MapX</th>\n",
       "      <th>MapY</th>\n",
       "      <th>TimeCreate</th>\n",
       "      <th>...</th>\n",
       "      <th>Disposition</th>\n",
       "      <th>DispositionText</th>\n",
       "      <th>SelfInitiated</th>\n",
       "      <th>Beat</th>\n",
       "      <th>BLOCK_ADDRESS</th>\n",
       "      <th>Zip</th>\n",
       "      <th>PoliceDistrict</th>\n",
       "      <th>Location</th>\n",
       "      <th>CrimeType</th>\n",
       "      <th>Description</th>\n",
       "    </tr>\n",
       "  </thead>\n",
       "  <tbody>\n",
       "    <tr>\n",
       "      <th>0</th>\n",
       "      <td>A0015113</td>\n",
       "      <td>34</td>\n",
       "      <td>AGGRAVATED BATTERY</td>\n",
       "      <td>2B</td>\n",
       "      <td>NaN</td>\n",
       "      <td>NaN</td>\n",
       "      <td>NaN</td>\n",
       "      <td>3683068</td>\n",
       "      <td>531830</td>\n",
       "      <td>1/1/2013 0:56</td>\n",
       "      <td>...</td>\n",
       "      <td>RTF</td>\n",
       "      <td>REPORT TO FOLLOW</td>\n",
       "      <td>NaN</td>\n",
       "      <td>NaN</td>\n",
       "      <td>006XX Decatur St</td>\n",
       "      <td>70130.0</td>\n",
       "      <td>8</td>\n",
       "      <td>(29.956300375853115, -90.06310829672566)</td>\n",
       "      <td>VIOLENT CRIME</td>\n",
       "      <td>AGGRAVATED BATTERY</td>\n",
       "    </tr>\n",
       "    <tr>\n",
       "      <th>1</th>\n",
       "      <td>A0247713</td>\n",
       "      <td>34</td>\n",
       "      <td>AGGRAVATED BATTERY</td>\n",
       "      <td>2B</td>\n",
       "      <td>NaN</td>\n",
       "      <td>NaN</td>\n",
       "      <td>NaN</td>\n",
       "      <td>3683521</td>\n",
       "      <td>540346</td>\n",
       "      <td>1/2/2013 17:21</td>\n",
       "      <td>...</td>\n",
       "      <td>RTF</td>\n",
       "      <td>REPORT TO FOLLOW</td>\n",
       "      <td>NaN</td>\n",
       "      <td>NaN</td>\n",
       "      <td>029XX Pauger St</td>\n",
       "      <td>70119.0</td>\n",
       "      <td>5</td>\n",
       "      <td>(29.979702616404193, -90.06137937316943)</td>\n",
       "      <td>VIOLENT CRIME</td>\n",
       "      <td>AGGRAVATED BATTERY</td>\n",
       "    </tr>\n",
       "    <tr>\n",
       "      <th>2</th>\n",
       "      <td>A3100313</td>\n",
       "      <td>34</td>\n",
       "      <td>AGGRAVATED BATTERY</td>\n",
       "      <td>2B</td>\n",
       "      <td>NaN</td>\n",
       "      <td>NaN</td>\n",
       "      <td>NaN</td>\n",
       "      <td>3682102</td>\n",
       "      <td>529887</td>\n",
       "      <td>1/24/2013 1:25</td>\n",
       "      <td>...</td>\n",
       "      <td>RTF</td>\n",
       "      <td>REPORT TO FOLLOW</td>\n",
       "      <td>NaN</td>\n",
       "      <td>NaN</td>\n",
       "      <td>001XX Tchoupitoulas St</td>\n",
       "      <td>70130.0</td>\n",
       "      <td>8</td>\n",
       "      <td>(29.950987194039513, -90.06622644536927)</td>\n",
       "      <td>VIOLENT CRIME</td>\n",
       "      <td>AGGRAVATED BATTERY</td>\n",
       "    </tr>\n",
       "    <tr>\n",
       "      <th>3</th>\n",
       "      <td>A3302913</td>\n",
       "      <td>34</td>\n",
       "      <td>AGGRAVATED BATTERY</td>\n",
       "      <td>2B</td>\n",
       "      <td>NaN</td>\n",
       "      <td>NaN</td>\n",
       "      <td>NaN</td>\n",
       "      <td>3694972</td>\n",
       "      <td>559141</td>\n",
       "      <td>1/25/2013 16:17</td>\n",
       "      <td>...</td>\n",
       "      <td>RTF</td>\n",
       "      <td>REPORT TO FOLLOW</td>\n",
       "      <td>NaN</td>\n",
       "      <td>NaN</td>\n",
       "      <td>078XX W Laverne St</td>\n",
       "      <td>70126.0</td>\n",
       "      <td>7</td>\n",
       "      <td>(30.031027412521865, -90.02453459898635)</td>\n",
       "      <td>VIOLENT CRIME</td>\n",
       "      <td>AGGRAVATED BATTERY</td>\n",
       "    </tr>\n",
       "    <tr>\n",
       "      <th>4</th>\n",
       "      <td>A3475413</td>\n",
       "      <td>34</td>\n",
       "      <td>AGGRAVATED BATTERY</td>\n",
       "      <td>2B</td>\n",
       "      <td>NaN</td>\n",
       "      <td>NaN</td>\n",
       "      <td>NaN</td>\n",
       "      <td>3681217</td>\n",
       "      <td>530712</td>\n",
       "      <td>1/26/2013 17:32</td>\n",
       "      <td>...</td>\n",
       "      <td>RTF</td>\n",
       "      <td>REPORT TO FOLLOW</td>\n",
       "      <td>NaN</td>\n",
       "      <td>NaN</td>\n",
       "      <td>Canal St &amp; Royal St</td>\n",
       "      <td>70130.0</td>\n",
       "      <td>8</td>\n",
       "      <td>(29.953282545767404, -90.0689920854026)</td>\n",
       "      <td>VIOLENT CRIME</td>\n",
       "      <td>AGGRAVATED BATTERY</td>\n",
       "    </tr>\n",
       "  </tbody>\n",
       "</table>\n",
       "<p>5 rows × 23 columns</p>\n",
       "</div>"
      ],
      "text/plain": [
       "  NOPD_Item Type_            TypeText Priority InitialType InitialTypeText  \\\n",
       "0  A0015113    34  AGGRAVATED BATTERY       2B         NaN             NaN   \n",
       "1  A0247713    34  AGGRAVATED BATTERY       2B         NaN             NaN   \n",
       "2  A3100313    34  AGGRAVATED BATTERY       2B         NaN             NaN   \n",
       "3  A3302913    34  AGGRAVATED BATTERY       2B         NaN             NaN   \n",
       "4  A3475413    34  AGGRAVATED BATTERY       2B         NaN             NaN   \n",
       "\n",
       "  InitialPriority     MapX    MapY       TimeCreate         ...          \\\n",
       "0             NaN  3683068  531830    1/1/2013 0:56         ...           \n",
       "1             NaN  3683521  540346   1/2/2013 17:21         ...           \n",
       "2             NaN  3682102  529887   1/24/2013 1:25         ...           \n",
       "3             NaN  3694972  559141  1/25/2013 16:17         ...           \n",
       "4             NaN  3681217  530712  1/26/2013 17:32         ...           \n",
       "\n",
       "  Disposition   DispositionText SelfInitiated Beat           BLOCK_ADDRESS  \\\n",
       "0         RTF  REPORT TO FOLLOW           NaN  NaN        006XX Decatur St   \n",
       "1         RTF  REPORT TO FOLLOW           NaN  NaN         029XX Pauger St   \n",
       "2         RTF  REPORT TO FOLLOW           NaN  NaN  001XX Tchoupitoulas St   \n",
       "3         RTF  REPORT TO FOLLOW           NaN  NaN      078XX W Laverne St   \n",
       "4         RTF  REPORT TO FOLLOW           NaN  NaN     Canal St & Royal St   \n",
       "\n",
       "       Zip PoliceDistrict                                  Location  \\\n",
       "0  70130.0              8  (29.956300375853115, -90.06310829672566)   \n",
       "1  70119.0              5  (29.979702616404193, -90.06137937316943)   \n",
       "2  70130.0              8  (29.950987194039513, -90.06622644536927)   \n",
       "3  70126.0              7  (30.031027412521865, -90.02453459898635)   \n",
       "4  70130.0              8   (29.953282545767404, -90.0689920854026)   \n",
       "\n",
       "       CrimeType         Description  \n",
       "0  VIOLENT CRIME  AGGRAVATED BATTERY  \n",
       "1  VIOLENT CRIME  AGGRAVATED BATTERY  \n",
       "2  VIOLENT CRIME  AGGRAVATED BATTERY  \n",
       "3  VIOLENT CRIME  AGGRAVATED BATTERY  \n",
       "4  VIOLENT CRIME  AGGRAVATED BATTERY  \n",
       "\n",
       "[5 rows x 23 columns]"
      ]
     },
     "execution_count": 20,
     "metadata": {},
     "output_type": "execute_result"
    }
   ],
   "source": [
    "cfs_final.head()"
   ]
  },
  {
   "cell_type": "code",
   "execution_count": 21,
   "metadata": {
    "collapsed": false
   },
   "outputs": [
    {
     "data": {
      "text/plain": [
       "array(['34', '34S', '65', '34C', '42', '30S', '55', '30C', '64G', '64J',\n",
       "       '37', '30', '37D', '64', '43', '64K', '42M', '65J', '34D', '30D',\n",
       "       '42B', '43M'], dtype=object)"
      ]
     },
     "execution_count": 21,
     "metadata": {},
     "output_type": "execute_result"
    }
   ],
   "source": [
    "cfs_final.Type_.unique()"
   ]
  },
  {
   "cell_type": "code",
   "execution_count": 22,
   "metadata": {
    "collapsed": false
   },
   "outputs": [
    {
     "data": {
      "text/plain": [
       "13954"
      ]
     },
     "execution_count": 22,
     "metadata": {},
     "output_type": "execute_result"
    }
   ],
   "source": [
    "len(cfs_final)"
   ]
  },
  {
   "cell_type": "code",
   "execution_count": 23,
   "metadata": {
    "collapsed": false
   },
   "outputs": [],
   "source": [
    "cfs_final.TimeArrive = pd.to_datetime(cfs_final.TimeArrive)"
   ]
  },
  {
   "cell_type": "code",
   "execution_count": 24,
   "metadata": {
    "collapsed": false
   },
   "outputs": [],
   "source": [
    "cfs_final.TimeClosed = pd.to_datetime(cfs_final.TimeClosed)\n",
    "cfs_final.TimeCreate = pd.to_datetime(cfs_final.TimeCreate)\n",
    "cfs_final.TimeDispatch = pd.to_datetime(cfs_final.TimeDispatch)"
   ]
  },
  {
   "cell_type": "code",
   "execution_count": 25,
   "metadata": {
    "collapsed": true
   },
   "outputs": [],
   "source": [
    "# Save the data\n",
    "fullpath = \"../Datasets/Final_Data/Calls_for_Service.csv\"\n",
    "cfs_final.to_csv(fullpath, sep=',',  index = False)"
   ]
  },
  {
   "cell_type": "code",
   "execution_count": 26,
   "metadata": {
    "collapsed": false
   },
   "outputs": [
    {
     "data": {
      "text/plain": [
       "Index([u'NOPD_Item', u'Type_', u'TypeText', u'Priority', u'InitialType',\n",
       "       u'InitialTypeText', u'InitialPriority', u'MapX', u'MapY', u'TimeCreate',\n",
       "       u'TimeDispatch', u'TimeArrive', u'TimeClosed', u'Disposition',\n",
       "       u'DispositionText', u'SelfInitiated', u'Beat', u'BLOCK_ADDRESS', u'Zip',\n",
       "       u'PoliceDistrict', u'Location', u'CrimeType', u'Description'],\n",
       "      dtype='object')"
      ]
     },
     "execution_count": 26,
     "metadata": {},
     "output_type": "execute_result"
    }
   ],
   "source": [
    "cfs_final.columns"
   ]
  },
  {
   "cell_type": "code",
   "execution_count": 27,
   "metadata": {
    "collapsed": false
   },
   "outputs": [],
   "source": [
    "# count the number of crimes within each day\n",
    "crime_date = pd.to_datetime(cfs_final.TimeCreate)\n",
    "year = crime_date.dt.year\n",
    "month = crime_date.dt.month\n",
    "day = crime_date.dt.day\n",
    "crime_date = pd.to_datetime(year*10000 + month*100 + day, format='%Y%m%d')\n",
    "\n",
    "crime_count = pd.DataFrame({'Zip': cfs_final.Zip,\n",
    "                            'Date': crime_date,\n",
    "                           }, index = None)\n",
    "\n",
    "\n",
    "# # crime_sum = pd.DataFrame(crime_sum)"
   ]
  },
  {
   "cell_type": "code",
   "execution_count": 28,
   "metadata": {
    "collapsed": false
   },
   "outputs": [],
   "source": [
    "crime_sum = pd.DataFrame({'count' : crime_count.groupby(['Zip','Date']).size()}).reset_index()\n"
   ]
  },
  {
   "cell_type": "code",
   "execution_count": 29,
   "metadata": {
    "collapsed": false
   },
   "outputs": [
    {
     "data": {
      "text/html": [
       "<div>\n",
       "<table border=\"1\" class=\"dataframe\">\n",
       "  <thead>\n",
       "    <tr style=\"text-align: right;\">\n",
       "      <th></th>\n",
       "      <th>Zip</th>\n",
       "      <th>Date</th>\n",
       "      <th>count</th>\n",
       "    </tr>\n",
       "  </thead>\n",
       "  <tbody>\n",
       "    <tr>\n",
       "      <th>0</th>\n",
       "      <td>70112</td>\n",
       "      <td>2012-01-01</td>\n",
       "      <td>2</td>\n",
       "    </tr>\n",
       "    <tr>\n",
       "      <th>1</th>\n",
       "      <td>70112</td>\n",
       "      <td>2012-01-02</td>\n",
       "      <td>2</td>\n",
       "    </tr>\n",
       "    <tr>\n",
       "      <th>2</th>\n",
       "      <td>70112</td>\n",
       "      <td>2012-01-05</td>\n",
       "      <td>1</td>\n",
       "    </tr>\n",
       "    <tr>\n",
       "      <th>3</th>\n",
       "      <td>70112</td>\n",
       "      <td>2012-01-06</td>\n",
       "      <td>1</td>\n",
       "    </tr>\n",
       "    <tr>\n",
       "      <th>4</th>\n",
       "      <td>70112</td>\n",
       "      <td>2012-01-08</td>\n",
       "      <td>1</td>\n",
       "    </tr>\n",
       "  </tbody>\n",
       "</table>\n",
       "</div>"
      ],
      "text/plain": [
       "     Zip       Date  count\n",
       "0  70112 2012-01-01      2\n",
       "1  70112 2012-01-02      2\n",
       "2  70112 2012-01-05      1\n",
       "3  70112 2012-01-06      1\n",
       "4  70112 2012-01-08      1"
      ]
     },
     "execution_count": 29,
     "metadata": {},
     "output_type": "execute_result"
    }
   ],
   "source": [
    "crime_sum.Zip = crime_sum.Zip.astype(int)\n",
    "crime_sum.head()"
   ]
  },
  {
   "cell_type": "markdown",
   "metadata": {
    "collapsed": true
   },
   "source": [
    "# Merging with Stop and Search"
   ]
  },
  {
   "cell_type": "code",
   "execution_count": 30,
   "metadata": {
    "collapsed": true
   },
   "outputs": [],
   "source": [
    "s_n_s_file_path = \"../Datasets/Raw_Data/Stop_and_Search/Stop_and_Search__Field_Interviews_.csv\""
   ]
  },
  {
   "cell_type": "code",
   "execution_count": 31,
   "metadata": {
    "collapsed": false
   },
   "outputs": [
    {
     "name": "stderr",
     "output_type": "stream",
     "text": [
      "/home/bks4line/anaconda2/lib/python2.7/site-packages/IPython/core/interactiveshell.py:2717: DtypeWarning: Columns (1,7,28) have mixed types. Specify dtype option on import or set low_memory=False.\n",
      "  interactivity=interactivity, compiler=compiler, result=result)\n"
     ]
    }
   ],
   "source": [
    "sns_df = pd.read_csv(s_n_s_file_path) "
   ]
  },
  {
   "cell_type": "code",
   "execution_count": 32,
   "metadata": {
    "collapsed": false
   },
   "outputs": [
    {
     "data": {
      "text/html": [
       "<div>\n",
       "<table border=\"1\" class=\"dataframe\">\n",
       "  <thead>\n",
       "    <tr style=\"text-align: right;\">\n",
       "      <th></th>\n",
       "      <th>FieldInterviewID</th>\n",
       "      <th>NOPD_Item</th>\n",
       "      <th>EventDate</th>\n",
       "      <th>District</th>\n",
       "      <th>Zone</th>\n",
       "      <th>OfficerAssignment</th>\n",
       "      <th>StopDescription</th>\n",
       "      <th>ActionsTaken</th>\n",
       "      <th>VehicleYear</th>\n",
       "      <th>VehicleMake</th>\n",
       "      <th>...</th>\n",
       "      <th>SubjectWeight</th>\n",
       "      <th>SubjectEyeColor</th>\n",
       "      <th>SubjectHairColor</th>\n",
       "      <th>SubjectDriverLicState</th>\n",
       "      <th>CreatedDateTime</th>\n",
       "      <th>LastModifiedDateTime</th>\n",
       "      <th>Longitude</th>\n",
       "      <th>Latitude</th>\n",
       "      <th>Zip</th>\n",
       "      <th>BlockAddress</th>\n",
       "    </tr>\n",
       "  </thead>\n",
       "  <tbody>\n",
       "    <tr>\n",
       "      <th>0</th>\n",
       "      <td>17415</td>\n",
       "      <td>NaN</td>\n",
       "      <td>01/01/2010 01:11:00 AM</td>\n",
       "      <td>6</td>\n",
       "      <td>E</td>\n",
       "      <td>6th  District</td>\n",
       "      <td>TRAFFIC VIOLATION</td>\n",
       "      <td>NaN</td>\n",
       "      <td>2005.0</td>\n",
       "      <td>DODGE</td>\n",
       "      <td>...</td>\n",
       "      <td>160.0</td>\n",
       "      <td>Brown</td>\n",
       "      <td>Black</td>\n",
       "      <td>LA</td>\n",
       "      <td>01/01/2010 01:26:26 AM</td>\n",
       "      <td>NaN</td>\n",
       "      <td>0.0</td>\n",
       "      <td>0.0</td>\n",
       "      <td>NaN</td>\n",
       "      <td>NaN</td>\n",
       "    </tr>\n",
       "    <tr>\n",
       "      <th>1</th>\n",
       "      <td>17416</td>\n",
       "      <td>NaN</td>\n",
       "      <td>01/01/2010 02:06:00 AM</td>\n",
       "      <td>5</td>\n",
       "      <td>D</td>\n",
       "      <td>5th  District</td>\n",
       "      <td>CALL FOR SERVICE</td>\n",
       "      <td>NaN</td>\n",
       "      <td>NaN</td>\n",
       "      <td>NaN</td>\n",
       "      <td>...</td>\n",
       "      <td>140.0</td>\n",
       "      <td>Brown</td>\n",
       "      <td>Black</td>\n",
       "      <td>NaN</td>\n",
       "      <td>01/01/2010 02:27:38 AM</td>\n",
       "      <td>NaN</td>\n",
       "      <td>0.0</td>\n",
       "      <td>0.0</td>\n",
       "      <td>NaN</td>\n",
       "      <td>NaN</td>\n",
       "    </tr>\n",
       "    <tr>\n",
       "      <th>2</th>\n",
       "      <td>17416</td>\n",
       "      <td>NaN</td>\n",
       "      <td>01/01/2010 02:06:00 AM</td>\n",
       "      <td>5</td>\n",
       "      <td>D</td>\n",
       "      <td>5th  District</td>\n",
       "      <td>CALL FOR SERVICE</td>\n",
       "      <td>NaN</td>\n",
       "      <td>NaN</td>\n",
       "      <td>NaN</td>\n",
       "      <td>...</td>\n",
       "      <td>145.0</td>\n",
       "      <td>Brown</td>\n",
       "      <td>Black</td>\n",
       "      <td>NaN</td>\n",
       "      <td>01/01/2010 02:27:38 AM</td>\n",
       "      <td>NaN</td>\n",
       "      <td>0.0</td>\n",
       "      <td>0.0</td>\n",
       "      <td>NaN</td>\n",
       "      <td>NaN</td>\n",
       "    </tr>\n",
       "    <tr>\n",
       "      <th>3</th>\n",
       "      <td>17416</td>\n",
       "      <td>NaN</td>\n",
       "      <td>01/01/2010 02:06:00 AM</td>\n",
       "      <td>5</td>\n",
       "      <td>D</td>\n",
       "      <td>5th  District</td>\n",
       "      <td>CALL FOR SERVICE</td>\n",
       "      <td>NaN</td>\n",
       "      <td>NaN</td>\n",
       "      <td>NaN</td>\n",
       "      <td>...</td>\n",
       "      <td>140.0</td>\n",
       "      <td>Brown</td>\n",
       "      <td>Black</td>\n",
       "      <td>NaN</td>\n",
       "      <td>01/01/2010 02:27:38 AM</td>\n",
       "      <td>NaN</td>\n",
       "      <td>0.0</td>\n",
       "      <td>0.0</td>\n",
       "      <td>NaN</td>\n",
       "      <td>NaN</td>\n",
       "    </tr>\n",
       "    <tr>\n",
       "      <th>4</th>\n",
       "      <td>17416</td>\n",
       "      <td>NaN</td>\n",
       "      <td>01/01/2010 02:06:00 AM</td>\n",
       "      <td>5</td>\n",
       "      <td>D</td>\n",
       "      <td>5th  District</td>\n",
       "      <td>CALL FOR SERVICE</td>\n",
       "      <td>NaN</td>\n",
       "      <td>NaN</td>\n",
       "      <td>NaN</td>\n",
       "      <td>...</td>\n",
       "      <td>140.0</td>\n",
       "      <td>Brown</td>\n",
       "      <td>Black</td>\n",
       "      <td>NaN</td>\n",
       "      <td>01/01/2010 02:27:38 AM</td>\n",
       "      <td>NaN</td>\n",
       "      <td>0.0</td>\n",
       "      <td>0.0</td>\n",
       "      <td>NaN</td>\n",
       "      <td>NaN</td>\n",
       "    </tr>\n",
       "  </tbody>\n",
       "</table>\n",
       "<p>5 rows × 29 columns</p>\n",
       "</div>"
      ],
      "text/plain": [
       "   FieldInterviewID NOPD_Item               EventDate  District Zone  \\\n",
       "0             17415       NaN  01/01/2010 01:11:00 AM         6    E   \n",
       "1             17416       NaN  01/01/2010 02:06:00 AM         5    D   \n",
       "2             17416       NaN  01/01/2010 02:06:00 AM         5    D   \n",
       "3             17416       NaN  01/01/2010 02:06:00 AM         5    D   \n",
       "4             17416       NaN  01/01/2010 02:06:00 AM         5    D   \n",
       "\n",
       "  OfficerAssignment    StopDescription ActionsTaken  VehicleYear VehicleMake  \\\n",
       "0     6th  District  TRAFFIC VIOLATION          NaN       2005.0       DODGE   \n",
       "1     5th  District   CALL FOR SERVICE          NaN          NaN         NaN   \n",
       "2     5th  District   CALL FOR SERVICE          NaN          NaN         NaN   \n",
       "3     5th  District   CALL FOR SERVICE          NaN          NaN         NaN   \n",
       "4     5th  District   CALL FOR SERVICE          NaN          NaN         NaN   \n",
       "\n",
       "       ...      SubjectWeight SubjectEyeColor SubjectHairColor  \\\n",
       "0      ...              160.0           Brown            Black   \n",
       "1      ...              140.0           Brown            Black   \n",
       "2      ...              145.0           Brown            Black   \n",
       "3      ...              140.0           Brown            Black   \n",
       "4      ...              140.0           Brown            Black   \n",
       "\n",
       "   SubjectDriverLicState         CreatedDateTime LastModifiedDateTime  \\\n",
       "0                     LA  01/01/2010 01:26:26 AM                  NaN   \n",
       "1                    NaN  01/01/2010 02:27:38 AM                  NaN   \n",
       "2                    NaN  01/01/2010 02:27:38 AM                  NaN   \n",
       "3                    NaN  01/01/2010 02:27:38 AM                  NaN   \n",
       "4                    NaN  01/01/2010 02:27:38 AM                  NaN   \n",
       "\n",
       "   Longitude Latitude  Zip  BlockAddress  \n",
       "0        0.0      0.0  NaN           NaN  \n",
       "1        0.0      0.0  NaN           NaN  \n",
       "2        0.0      0.0  NaN           NaN  \n",
       "3        0.0      0.0  NaN           NaN  \n",
       "4        0.0      0.0  NaN           NaN  \n",
       "\n",
       "[5 rows x 29 columns]"
      ]
     },
     "execution_count": 32,
     "metadata": {},
     "output_type": "execute_result"
    }
   ],
   "source": [
    "sns_df.head()"
   ]
  },
  {
   "cell_type": "code",
   "execution_count": 33,
   "metadata": {
    "collapsed": false
   },
   "outputs": [],
   "source": [
    "# number of stops and searches made\n",
    "new_sns_df =  sns_df[~pd.isnull(sns_df.Zip)]\n",
    "new_sns_df= new_sns_df.reset_index(drop=True)\n",
    "\n"
   ]
  },
  {
   "cell_type": "code",
   "execution_count": 34,
   "metadata": {
    "collapsed": true
   },
   "outputs": [],
   "source": [
    "sns_date = pd.to_datetime(new_sns_df.EventDate)\n"
   ]
  },
  {
   "cell_type": "code",
   "execution_count": 35,
   "metadata": {
    "collapsed": true
   },
   "outputs": [],
   "source": [
    "year = sns_date.dt.year\n",
    "month = sns_date.dt.month\n",
    "day = sns_date.dt.day\n",
    "sns_date = pd.to_datetime(year*10000 + month*100 + day, format='%Y%m%d')\n"
   ]
  },
  {
   "cell_type": "code",
   "execution_count": 36,
   "metadata": {
    "collapsed": false
   },
   "outputs": [],
   "source": [
    "sns_count = pd.DataFrame({'Zip': new_sns_df.Zip,\n",
    "                            'Date': sns_date,\n",
    "                           }, index = None)"
   ]
  },
  {
   "cell_type": "code",
   "execution_count": 37,
   "metadata": {
    "collapsed": false
   },
   "outputs": [
    {
     "data": {
      "text/html": [
       "<div>\n",
       "<table border=\"1\" class=\"dataframe\">\n",
       "  <thead>\n",
       "    <tr style=\"text-align: right;\">\n",
       "      <th></th>\n",
       "      <th>Date</th>\n",
       "      <th>Zip</th>\n",
       "    </tr>\n",
       "  </thead>\n",
       "  <tbody>\n",
       "    <tr>\n",
       "      <th>0</th>\n",
       "      <td>2010-10-31</td>\n",
       "      <td>70115.0</td>\n",
       "    </tr>\n",
       "    <tr>\n",
       "      <th>1</th>\n",
       "      <td>2011-02-09</td>\n",
       "      <td>70122.0</td>\n",
       "    </tr>\n",
       "    <tr>\n",
       "      <th>2</th>\n",
       "      <td>2011-03-29</td>\n",
       "      <td>70127.0</td>\n",
       "    </tr>\n",
       "    <tr>\n",
       "      <th>3</th>\n",
       "      <td>2011-03-29</td>\n",
       "      <td>70127.0</td>\n",
       "    </tr>\n",
       "    <tr>\n",
       "      <th>4</th>\n",
       "      <td>2011-03-29</td>\n",
       "      <td>70126.0</td>\n",
       "    </tr>\n",
       "  </tbody>\n",
       "</table>\n",
       "</div>"
      ],
      "text/plain": [
       "        Date      Zip\n",
       "0 2010-10-31  70115.0\n",
       "1 2011-02-09  70122.0\n",
       "2 2011-03-29  70127.0\n",
       "3 2011-03-29  70127.0\n",
       "4 2011-03-29  70126.0"
      ]
     },
     "execution_count": 37,
     "metadata": {},
     "output_type": "execute_result"
    }
   ],
   "source": [
    "sns_count.head()"
   ]
  },
  {
   "cell_type": "code",
   "execution_count": 38,
   "metadata": {
    "collapsed": false
   },
   "outputs": [],
   "source": [
    "sns_count.Zip = sns_count.Zip.astype(int)\n"
   ]
  },
  {
   "cell_type": "code",
   "execution_count": 39,
   "metadata": {
    "collapsed": true
   },
   "outputs": [],
   "source": [
    "stops_sum = pd.DataFrame({'count' : sns_count.groupby(['Zip','Date']).size()}).reset_index()"
   ]
  },
  {
   "cell_type": "code",
   "execution_count": 40,
   "metadata": {
    "collapsed": false
   },
   "outputs": [
    {
     "data": {
      "text/html": [
       "<div>\n",
       "<table border=\"1\" class=\"dataframe\">\n",
       "  <thead>\n",
       "    <tr style=\"text-align: right;\">\n",
       "      <th></th>\n",
       "      <th>Zip</th>\n",
       "      <th>Date</th>\n",
       "      <th>count</th>\n",
       "    </tr>\n",
       "  </thead>\n",
       "  <tbody>\n",
       "    <tr>\n",
       "      <th>0</th>\n",
       "      <td>70112</td>\n",
       "      <td>2001-03-03</td>\n",
       "      <td>1</td>\n",
       "    </tr>\n",
       "    <tr>\n",
       "      <th>1</th>\n",
       "      <td>70112</td>\n",
       "      <td>2010-01-03</td>\n",
       "      <td>1</td>\n",
       "    </tr>\n",
       "    <tr>\n",
       "      <th>2</th>\n",
       "      <td>70112</td>\n",
       "      <td>2010-07-31</td>\n",
       "      <td>1</td>\n",
       "    </tr>\n",
       "    <tr>\n",
       "      <th>3</th>\n",
       "      <td>70112</td>\n",
       "      <td>2011-05-05</td>\n",
       "      <td>2</td>\n",
       "    </tr>\n",
       "    <tr>\n",
       "      <th>4</th>\n",
       "      <td>70112</td>\n",
       "      <td>2011-05-06</td>\n",
       "      <td>15</td>\n",
       "    </tr>\n",
       "  </tbody>\n",
       "</table>\n",
       "</div>"
      ],
      "text/plain": [
       "     Zip       Date  count\n",
       "0  70112 2001-03-03      1\n",
       "1  70112 2010-01-03      1\n",
       "2  70112 2010-07-31      1\n",
       "3  70112 2011-05-05      2\n",
       "4  70112 2011-05-06     15"
      ]
     },
     "execution_count": 40,
     "metadata": {},
     "output_type": "execute_result"
    }
   ],
   "source": [
    "stops_sum.head()"
   ]
  },
  {
   "cell_type": "code",
   "execution_count": 41,
   "metadata": {
    "collapsed": true
   },
   "outputs": [],
   "source": [
    "def countCrimeStopInTimeWindow(crimeData, stopData, timeFrame, timeWindow):\n",
    "    # timeFrame - timeWindow\n",
    "    # month - month / 2 weeks / week\n",
    "    # 2 weeks - 2 weeks / week / day\n",
    "    # week - week / day\n",
    "    stopDate = []\n",
    "    crimeSum = []\n",
    "    stopSum = []\n",
    "    \n",
    "    if timeFrame == \"month\":\n",
    "        if timeWindow == \"month\":\n",
    "            window = 30\n",
    "        elif timeWindow == \"2 weeks\":\n",
    "            window = 15\n",
    "        elif timeWindow == \"week\":\n",
    "            window = 7\n",
    "        for year in range(2012, 2017):\n",
    "            for month in range(1, 13):\n",
    "                stopStart = stopData.index.searchsorted(dt.datetime(year, month, 1))\n",
    "                crimeStart = stopStart\n",
    "                if month in [1, 3, 5, 7, 8, 10, 12]:\n",
    "                    stopEnd = stopData.index.searchsorted(dt.datetime(year, month, 31))\n",
    "                elif month in [4, 6, 9, 11]:\n",
    "                    stopEnd = stopData.index.searchsorted(dt.datetime(year, month, 30))\n",
    "                else:\n",
    "                    stopEnd = stopData.index.searchsorted(dt.datetime(year, month, 28))\n",
    "                crimeEnd = stopEnd + window\n",
    "                stopDate.append(str(year) + \"-\" + str(month))\n",
    "                stopSum.append(int(sum(stopData.ix[stopStart:stopEnd].values)))\n",
    "                crimeSum.append(int(sum(crimeData.ix[crimeStart:crimeEnd].values)))\n",
    "                \n",
    "    \n",
    "    if timeFrame == \"2 weeks\":\n",
    "        if timeWindow == \"2 weeks\":\n",
    "            window = 15\n",
    "        elif timeWindow == \"week\":\n",
    "            window = 7\n",
    "        elif timeWindow == \"day\":\n",
    "            window = 1\n",
    "        for year in range(2012, 2017):\n",
    "            for month in range(1, 13):\n",
    "                for half in [1, 2]:\n",
    "                    stopStart = stopData.index.searchsorted(dt.datetime(year, month, 1 + 15 * (half - 1)))\n",
    "                    crimeStart = stopStart\n",
    "                    if half == 1:\n",
    "                        stopEnd = stopData.index.searchsorted(dt.datetime(year, month, 15))\n",
    "                    else:\n",
    "                        if month in [1, 3, 5, 7, 8, 10, 12]:\n",
    "                            stopEnd = stopData.index.searchsorted(dt.datetime(year, month, 31))\n",
    "                        elif month in [4, 6, 9, 11]:\n",
    "                            stopEnd = stopData.index.searchsorted(dt.datetime(year, month, 30))\n",
    "                        else:\n",
    "                            stopEnd = stopData.index.searchsorted(dt.datetime(year, month, 28))\n",
    "                    crimeEnd = stopEnd + window\n",
    "                    stopDate.append(str(year) + \"-\" + str(month) + \"-\" + str(half))\n",
    "                    stopSum.append(int(sum(stopData.ix[stopStart:stopEnd].values)))\n",
    "                    crimeSum.append(int(sum(crimeData.ix[crimeStart:crimeEnd].values)))\n",
    "                    \n",
    "                    \n",
    "    if timeFrame == \"week\":\n",
    "        numWeek = int(len(crimeData) / 7)\n",
    "        if timeWindow == \"week\":\n",
    "            window = 7\n",
    "        if timeWindow == \"day\":\n",
    "            window = 1\n",
    "        for year in range(2012, 2017):\n",
    "            for week in range(numWeek):\n",
    "                stopStart = stopData.index.searchsorted(dt.datetime(2012, 1, 2)) + 7 * (week - 1)\n",
    "                crimeStart = stopStart\n",
    "                stopEnd = stopStart + 7\n",
    "                crimeEnd = stopEnd + window\n",
    "                stopDate.append(str(year) + \"-\" + str(week))\n",
    "                stopSum.append(int(sum(stopData.ix[stopStart:stopEnd].values)))\n",
    "                crimeSum.append(int(sum(crimeData.ix[crimeStart:crimeEnd].values)))\n",
    "                               \n",
    "    return [stopDate, crimeSum, stopSum]"
   ]
  },
  {
   "cell_type": "code",
   "execution_count": 48,
   "metadata": {
    "collapsed": true
   },
   "outputs": [],
   "source": [
    "# fill seaborn scatter here"
   ]
  },
  {
   "cell_type": "code",
   "execution_count": 44,
   "metadata": {
    "collapsed": true
   },
   "outputs": [],
   "source": [
    "def get_all_correlations(crimes_count,stops_count,zip_code):\n",
    "    \n",
    "    month_month = countCrimeStopInTimeWindow(crimes_count, stops_count, \"month\", \"month\")\n",
    "    month_twoWeeks = countCrimeStopInTimeWindow(crimes_count, stops_count, \"month\", \"2 weeks\")\n",
    "    month_week = countCrimeStopInTimeWindow(crimes_count, stops_count, \"month\", \"week\")\n",
    "    twoWeeks_twoWeeks = countCrimeStopInTimeWindow(crimes_count, stops_count, \"2 weeks\", \"2 weeks\")\n",
    "    twoWeeks_week = countCrimeStopInTimeWindow(crimes_count, stops_count, \"2 weeks\", \"week\")\n",
    "    twoWeeks_day = countCrimeStopInTimeWindow(crimes_count, stops_count, \"2 weeks\", \"week\")\n",
    "    week_week = countCrimeStopInTimeWindow(crimes_count, stops_count, \"week\", \"week\")\n",
    "    week_day = countCrimeStopInTimeWindow(crimes_count, stops_count, \"week\", \"day\")\n",
    "    \n",
    "    \n",
    "    \n",
    "    \n",
    "    fig['layout'].update(height=600, width=600,\n",
    "                     title='Calls For Service')\n",
    "    \n",
    "    py.iplot(fig, filename='Calls For Service')\n",
    "#     data = [trace1,trace2, trace3,trace4,trace5,trace6,trace7,trace8]\n",
    "    \n",
    "    \n",
    "    \n",
    "    mm_cor = np.corrcoef(month_month[1], month_month[2])[0, 1]\n",
    "    mtw_cor = np.corrcoef(month_twoWeeks[1], month_twoWeeks[2])[0, 1]\n",
    "    mw_cor = np.corrcoef(month_week[1], month_week[2])[0, 1]\n",
    "    twtw_cor = np.corrcoef(twoWeeks_twoWeeks[1], twoWeeks_twoWeeks[2])[0, 1]\n",
    "    tww_cor = np.corrcoef(twoWeeks_week[1], twoWeeks_week[2])[0, 1]\n",
    "    twd_cor = np.corrcoef(twoWeeks_day[1], twoWeeks_day[2])[0, 1]\n",
    "    ww_cor = np.corrcoef(week_week[1], week_week[2])[0, 1]\n",
    "    wwd_cor = np.corrcoef(week_day[1], week_day[2])[0, 1]\n",
    "    \n",
    "    return [(zip_code,[mm_cor,mtw_cor,mw_cor,mw_cor,twtw_cor,tww_cor,twd_cor,ww_cor,wwd_cor])]"
   ]
  },
  {
   "cell_type": "code",
   "execution_count": null,
   "metadata": {
    "collapsed": false
   },
   "outputs": [],
   "source": [
    "# print(mm_cor, mtw_cor, mw_cor, twtw_cor, tww_cor, twd_cor, ww_cor, wwd_cor)"
   ]
  },
  {
   "cell_type": "code",
   "execution_count": 47,
   "metadata": {
    "collapsed": true
   },
   "outputs": [],
   "source": [
    "def correlation_for_each_zip(crime_count,stop_count):\n",
    "    unique_zips = crime_count['Zip'].unique()\n",
    "    for i in unique_zips:\n",
    "        zip_1_crimes = crime_sum[crime_sum.Zip==i]\n",
    "        zip_1_crimes = crime_sum[['Date','count']]\n",
    "        zip_1_crimes = zip_1_crimes.set_index(['Date'])\n",
    "        zip_1_stops = stops_sum[stops_sum.Zip==i]\n",
    "        zip_1_stops = zip_1_stops[['Date','count']]\n",
    "        zip_1_stops = zip_1_stops.set_index(['Date'])\n",
    "        print get_all_correlations(crimes_count=zip_1_crimes,stops_count=zip_1_stops,zip_code=i)\n",
    "        \n",
    "        \n",
    "        "
   ]
  },
  {
   "cell_type": "code",
   "execution_count": 46,
   "metadata": {
    "collapsed": false
   },
   "outputs": [
    {
     "name": "stdout",
     "output_type": "stream",
     "text": [
      "This is the format of your plot grid:\n",
      "[ (1,1) x1,y1 ]  [ (1,2) x2,y2 ]  [ (1,3) x3,y3 ]  [ (1,4) x4,y4 ]\n",
      "[ (2,1) x5,y5 ]  [ (2,2) x6,y6 ]  [ (2,3) x7,y7 ]  [ (2,4) x8,y8 ]\n",
      "\n",
      "[(70112, [0.2130708405143367, 0.18048123582078063, 0.17722943813208059, 0.17722943813208059, 0.14893049397787328, 0.14511053611707697, 0.14511053611707697, -0.10754265084858974, -0.098334949078266565])]\n",
      "This is the format of your plot grid:\n",
      "[ (1,1) x1,y1 ]  [ (1,2) x2,y2 ]  [ (1,3) x3,y3 ]  [ (1,4) x4,y4 ]\n",
      "[ (2,1) x5,y5 ]  [ (2,2) x6,y6 ]  [ (2,3) x7,y7 ]  [ (2,4) x8,y8 ]\n",
      "\n",
      "[(70113, [0.28710821020780602, 0.31867965658942227, 0.38301585974124303, 0.38301585974124303, 0.16319834158331248, 0.18338384680889483, 0.18338384680889483, -0.11131960414332438, -0.097504468375460521])]\n",
      "This is the format of your plot grid:\n",
      "[ (1,1) x1,y1 ]  [ (1,2) x2,y2 ]  [ (1,3) x3,y3 ]  [ (1,4) x4,y4 ]\n",
      "[ (2,1) x5,y5 ]  [ (2,2) x6,y6 ]  [ (2,3) x7,y7 ]  [ (2,4) x8,y8 ]\n",
      "\n",
      "[(70114, [0.3411499759094519, 0.28405987900667568, 0.27370961071920424, 0.27370961071920424, 0.17318095387110266, 0.20646561641666614, 0.20646561641666614, -0.1076723832133423, -0.10203061269897618])]\n",
      "This is the format of your plot grid:\n",
      "[ (1,1) x1,y1 ]  [ (1,2) x2,y2 ]  [ (1,3) x3,y3 ]  [ (1,4) x4,y4 ]\n",
      "[ (2,1) x5,y5 ]  [ (2,2) x6,y6 ]  [ (2,3) x7,y7 ]  [ (2,4) x8,y8 ]\n",
      "\n",
      "[(70115, [0.12216746966635787, 0.16736144980953732, 0.237857683678946, 0.237857683678946, 0.13000741658786527, 0.16064128467608613, 0.16064128467608613, -0.11110717131303859, -0.10974248030068172])]\n",
      "This is the format of your plot grid:\n",
      "[ (1,1) x1,y1 ]  [ (1,2) x2,y2 ]  [ (1,3) x3,y3 ]  [ (1,4) x4,y4 ]\n",
      "[ (2,1) x5,y5 ]  [ (2,2) x6,y6 ]  [ (2,3) x7,y7 ]  [ (2,4) x8,y8 ]\n",
      "\n",
      "[(70116, [0.29602660212791199, 0.25232693252623511, 0.25426511134853125, 0.25426511134853125, 0.1992371536336224, 0.12221382390352407, 0.12221382390352407, -0.10821749796538969, -0.10218300902122977])]\n",
      "This is the format of your plot grid:\n",
      "[ (1,1) x1,y1 ]  [ (1,2) x2,y2 ]  [ (1,3) x3,y3 ]  [ (1,4) x4,y4 ]\n",
      "[ (2,1) x5,y5 ]  [ (2,2) x6,y6 ]  [ (2,3) x7,y7 ]  [ (2,4) x8,y8 ]\n",
      "\n",
      "[(70117, [0.21318641102104285, 0.10870011686025091, 0.10584423004374617, 0.10584423004374617, 0.094400051483676278, 0.032669626495594142, 0.032669626495594142, -0.11124451400408016, -0.099900612937908639])]\n",
      "This is the format of your plot grid:\n",
      "[ (1,1) x1,y1 ]  [ (1,2) x2,y2 ]  [ (1,3) x3,y3 ]  [ (1,4) x4,y4 ]\n",
      "[ (2,1) x5,y5 ]  [ (2,2) x6,y6 ]  [ (2,3) x7,y7 ]  [ (2,4) x8,y8 ]\n",
      "\n",
      "[(70118, [0.30748487425200449, 0.3168627892409962, 0.35666760347157833, 0.35666760347157833, 0.19178103356455056, 0.24106474830613367, 0.24106474830613367, -0.10254562933473908, -0.08436561909563306])]\n",
      "This is the format of your plot grid:\n",
      "[ (1,1) x1,y1 ]  [ (1,2) x2,y2 ]  [ (1,3) x3,y3 ]  [ (1,4) x4,y4 ]\n",
      "[ (2,1) x5,y5 ]  [ (2,2) x6,y6 ]  [ (2,3) x7,y7 ]  [ (2,4) x8,y8 ]\n",
      "\n",
      "[(70119, [0.17692775938309321, 0.10852880866459223, 0.057867779634934516, 0.057867779634934516, 0.095365132966174646, 0.075413001852950995, 0.075413001852950995, -0.11545746474434508, -0.1063809081559256])]\n",
      "This is the format of your plot grid:\n",
      "[ (1,1) x1,y1 ]  [ (1,2) x2,y2 ]  [ (1,3) x3,y3 ]  [ (1,4) x4,y4 ]\n",
      "[ (2,1) x5,y5 ]  [ (2,2) x6,y6 ]  [ (2,3) x7,y7 ]  [ (2,4) x8,y8 ]\n",
      "\n",
      "[(70122, [0.17958058042028729, 0.20423907594573534, 0.27820780810026852, 0.27820780810026852, 0.080794631055418273, 0.12151741971073267, 0.12151741971073267, -0.1164225186815928, -0.11053361722210624])]\n",
      "This is the format of your plot grid:\n",
      "[ (1,1) x1,y1 ]  [ (1,2) x2,y2 ]  [ (1,3) x3,y3 ]  [ (1,4) x4,y4 ]\n",
      "[ (2,1) x5,y5 ]  [ (2,2) x6,y6 ]  [ (2,3) x7,y7 ]  [ (2,4) x8,y8 ]\n",
      "\n",
      "[(70124, [0.44831867304978157, 0.49312339720111825, 0.54621620778265356, 0.54621620778265356, 0.30513472288633731, 0.30837540196495516, 0.30837540196495516, -0.10949597762217023, -0.098656318474879212])]\n",
      "This is the format of your plot grid:\n",
      "[ (1,1) x1,y1 ]  [ (1,2) x2,y2 ]  [ (1,3) x3,y3 ]  [ (1,4) x4,y4 ]\n",
      "[ (2,1) x5,y5 ]  [ (2,2) x6,y6 ]  [ (2,3) x7,y7 ]  [ (2,4) x8,y8 ]\n",
      "\n",
      "[(70125, [0.17504788849652633, 0.093170861935656296, 0.1312114953953098, 0.1312114953953098, 0.11068439330640513, 0.076444731781287897, 0.076444731781287897, -0.10844593529927275, -0.10404822084511445])]\n",
      "This is the format of your plot grid:\n",
      "[ (1,1) x1,y1 ]  [ (1,2) x2,y2 ]  [ (1,3) x3,y3 ]  [ (1,4) x4,y4 ]\n",
      "[ (2,1) x5,y5 ]  [ (2,2) x6,y6 ]  [ (2,3) x7,y7 ]  [ (2,4) x8,y8 ]\n",
      "\n",
      "[(70126, [0.30859051680967248, 0.25197924810320688, 0.22228206255226912, 0.22228206255226912, 0.19475710134196231, 0.11388417403895763, 0.11388417403895763, -0.10871023215510131, -0.10972789342056834])]\n",
      "This is the format of your plot grid:\n",
      "[ (1,1) x1,y1 ]  [ (1,2) x2,y2 ]  [ (1,3) x3,y3 ]  [ (1,4) x4,y4 ]\n",
      "[ (2,1) x5,y5 ]  [ (2,2) x6,y6 ]  [ (2,3) x7,y7 ]  [ (2,4) x8,y8 ]\n",
      "\n",
      "[(70127, [0.39764355891036229, 0.40810521582611381, 0.43052856286343649, 0.43052856286343649, 0.21443966099470529, 0.27377526434113797, 0.27377526434113797, -0.09514501682392737, -0.082758394083850828])]\n",
      "This is the format of your plot grid:\n",
      "[ (1,1) x1,y1 ]  [ (1,2) x2,y2 ]  [ (1,3) x3,y3 ]  [ (1,4) x4,y4 ]\n",
      "[ (2,1) x5,y5 ]  [ (2,2) x6,y6 ]  [ (2,3) x7,y7 ]  [ (2,4) x8,y8 ]\n",
      "\n",
      "[(70128, [0.50890667610728524, 0.53187171980151526, 0.56518374263534377, 0.56518374263534377, 0.41146659679566699, 0.4887430824633619, 0.4887430824633619, -0.09614123865137561, -0.089530498821036877])]\n",
      "This is the format of your plot grid:\n",
      "[ (1,1) x1,y1 ]  [ (1,2) x2,y2 ]  [ (1,3) x3,y3 ]  [ (1,4) x4,y4 ]\n",
      "[ (2,1) x5,y5 ]  [ (2,2) x6,y6 ]  [ (2,3) x7,y7 ]  [ (2,4) x8,y8 ]\n",
      "\n",
      "[(70129, [0.7092755070313459, 0.73272648721299471, 0.73660200120135844, 0.73660200120135844, 0.57807388573716278, 0.60150783620492854, 0.60150783620492854, -0.083736519675434107, -0.073740316187278165])]\n",
      "This is the format of your plot grid:\n",
      "[ (1,1) x1,y1 ]  [ (1,2) x2,y2 ]  [ (1,3) x3,y3 ]  [ (1,4) x4,y4 ]\n",
      "[ (2,1) x5,y5 ]  [ (2,2) x6,y6 ]  [ (2,3) x7,y7 ]  [ (2,4) x8,y8 ]\n",
      "\n",
      "[(70130, [0.046797600213924297, 0.073148779084831209, 0.024280845651193796, 0.024280845651193796, 0.04452442345688775, 0.038208495455685408, 0.038208495455685408, -0.11705622934681778, -0.11036307625613276])]\n",
      "This is the format of your plot grid:\n",
      "[ (1,1) x1,y1 ]  [ (1,2) x2,y2 ]  [ (1,3) x3,y3 ]  [ (1,4) x4,y4 ]\n",
      "[ (2,1) x5,y5 ]  [ (2,2) x6,y6 ]  [ (2,3) x7,y7 ]  [ (2,4) x8,y8 ]\n",
      "\n",
      "[(70131, [0.41102316876677858, 0.40487423661172328, 0.48671015637834314, 0.48671015637834314, 0.31359458044707078, 0.41623670718727207, 0.41623670718727207, -0.096755990478485154, -0.085579244401378651])]\n",
      "This is the format of your plot grid:\n",
      "[ (1,1) x1,y1 ]  [ (1,2) x2,y2 ]  [ (1,3) x3,y3 ]  [ (1,4) x4,y4 ]\n",
      "[ (2,1) x5,y5 ]  [ (2,2) x6,y6 ]  [ (2,3) x7,y7 ]  [ (2,4) x8,y8 ]\n",
      "\n",
      "[(70148, [0.63510928271272371, 0.69862827335465139, 0.70958144117117583, 0.70958144117117583, 0.54157602514762559, 0.57597917242970986, 0.57597917242970986, -0.013540783336207828, -0.011569079656266324])]\n"
     ]
    }
   ],
   "source": [
    "correlation_for_each_zip(crime_count=crime_sum,stop_count=stops_sum)"
   ]
  },
  {
   "cell_type": "code",
   "execution_count": null,
   "metadata": {
    "collapsed": true
   },
   "outputs": [],
   "source": [
    "# stripping NOPD ITem to match exactly\n",
    "sns_df.NOPD_Item = sns_df.NOPD_Item.str.strip()"
   ]
  },
  {
   "cell_type": "code",
   "execution_count": null,
   "metadata": {
    "collapsed": false
   },
   "outputs": [],
   "source": [
    "cfs_df = pd.read_csv(fullpath) "
   ]
  },
  {
   "cell_type": "code",
   "execution_count": null,
   "metadata": {
    "collapsed": false
   },
   "outputs": [],
   "source": [
    "cfs_df.NOPD_Item = cfs_df.NOPD_Item.str.strip()"
   ]
  },
  {
   "cell_type": "code",
   "execution_count": null,
   "metadata": {
    "collapsed": true
   },
   "outputs": [],
   "source": [
    "cfs_sns_df = pd.merge(cfs_df, sns_df, how='inner', on='NOPD_Item')"
   ]
  },
  {
   "cell_type": "code",
   "execution_count": null,
   "metadata": {
    "collapsed": false
   },
   "outputs": [],
   "source": [
    "len(cfs_sns_df),len(cfs_sns_df.NOPD_Item.unique())"
   ]
  },
  {
   "cell_type": "markdown",
   "metadata": {},
   "source": [
    "So we have 2062 field interviews followed by CFS - RTF report for violent crimes. Out of which some of the field searches are done repeatedly for the same NOPD_ITEM"
   ]
  },
  {
   "cell_type": "code",
   "execution_count": null,
   "metadata": {
    "collapsed": false
   },
   "outputs": [],
   "source": [
    "cfs_sns_path = \"..\\\\Datasets\\\\Final_Data\\\\CFS_SNS.csv\"\n",
    "cfs_sns_df.to_csv(cfs_sns_path, sep=',',  index = False)"
   ]
  },
  {
   "cell_type": "code",
   "execution_count": null,
   "metadata": {
    "collapsed": false
   },
   "outputs": [],
   "source": [
    "# starting new again\n",
    "path = \"..\\\\Datasets\\\\Final_Data\\\\Calls_for_Service.csv\""
   ]
  },
  {
   "cell_type": "code",
   "execution_count": null,
   "metadata": {
    "collapsed": true
   },
   "outputs": [],
   "source": [
    "cfs_df = pd.read_csv(path)"
   ]
  },
  {
   "cell_type": "code",
   "execution_count": null,
   "metadata": {
    "collapsed": false
   },
   "outputs": [],
   "source": []
  }
 ],
 "metadata": {
  "anaconda-cloud": {},
  "kernelspec": {
   "display_name": "Python [default]",
   "language": "python",
   "name": "python2"
  },
  "language_info": {
   "codemirror_mode": {
    "name": "ipython",
    "version": 2
   },
   "file_extension": ".py",
   "mimetype": "text/x-python",
   "name": "python",
   "nbconvert_exporter": "python",
   "pygments_lexer": "ipython2",
   "version": "2.7.12"
  }
 },
 "nbformat": 4,
 "nbformat_minor": 1
}
