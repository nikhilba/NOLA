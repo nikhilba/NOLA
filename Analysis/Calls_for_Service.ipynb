{
 "cells": [
  {
   "cell_type": "markdown",
   "metadata": {},
   "source": [
    "## The below script loads data from Calls_for_service file and merges with data from max_cfs_ucr_categories file.\n",
    "Following constraints are applied:\n",
    "- Records year range = 2012 - 2016\n",
    "- Records Disposition = RTF \n",
    "- Records CrimeType = Violent Crime"
   ]
  },
  {
   "cell_type": "code",
   "execution_count": 1,
   "metadata": {
    "collapsed": false
   },
   "outputs": [],
   "source": [
    "import os\n",
    "import csv\n",
    "import zipfile\n",
    "import string\n",
    "import pandas as pd"
   ]
  },
  {
   "cell_type": "markdown",
   "metadata": {},
   "source": [
    "## Data Loading"
   ]
  },
  {
   "cell_type": "markdown",
   "metadata": {},
   "source": [
    "### Load Calls-for-Service Data"
   ]
  },
  {
   "cell_type": "code",
   "execution_count": 2,
   "metadata": {
    "collapsed": false
   },
   "outputs": [
    {
     "data": {
      "text/plain": [
       "'..\\\\Datasets\\\\Raw_Data\\\\Calls_for_Service\\\\'"
      ]
     },
     "execution_count": 2,
     "metadata": {},
     "output_type": "execute_result"
    }
   ],
   "source": [
    "# Set location of file\n",
    "path = os.path.join(\"..\\\\Datasets\\\\Raw_Data\\\\Calls_for_Service\\\\\")\n",
    "path"
   ]
  },
  {
   "cell_type": "code",
   "execution_count": 3,
   "metadata": {
    "collapsed": false
   },
   "outputs": [
    {
     "data": {
      "text/plain": [
       "['Calls_for_Service_2012.zip',\n",
       " 'Calls_for_Service_2013.zip',\n",
       " 'Calls_for_Service_2014.zip',\n",
       " 'Calls_for_Service_2015.zip',\n",
       " 'Calls_for_Service_2016.zip']"
      ]
     },
     "execution_count": 3,
     "metadata": {},
     "output_type": "execute_result"
    }
   ],
   "source": [
    "# Get filenames\n",
    "filenames = os.listdir(path)\n",
    "filenames"
   ]
  },
  {
   "cell_type": "code",
   "execution_count": 4,
   "metadata": {
    "collapsed": false
   },
   "outputs": [],
   "source": [
    "# Load data from files in list\n",
    "dfs = []\n",
    "for f in filenames:\n",
    "    zf = zipfile.ZipFile(os.path.join(path,f)) \n",
    "    dfs.append(pd.read_csv(zf.open(string.replace(f, 'zip', 'csv')),))\n",
    "\n",
    "# Merge all df in list\n",
    "cfs_df = pd.concat(dfs, ignore_index=True)\n",
    "\n",
    "# Change datatype of column Type_ to String\n",
    "cfs_df.Type_ = cfs_df.Type_.apply(str)"
   ]
  },
  {
   "cell_type": "code",
   "execution_count": 5,
   "metadata": {
    "collapsed": false
   },
   "outputs": [
    {
     "data": {
      "text/html": [
       "<div>\n",
       "<table border=\"1\" class=\"dataframe\">\n",
       "  <thead>\n",
       "    <tr style=\"text-align: right;\">\n",
       "      <th></th>\n",
       "      <th>NOPD_Item</th>\n",
       "      <th>Type_</th>\n",
       "      <th>TypeText</th>\n",
       "      <th>Priority</th>\n",
       "      <th>InitialType</th>\n",
       "      <th>InitialTypeText</th>\n",
       "      <th>InitialPriority</th>\n",
       "      <th>MapX</th>\n",
       "      <th>MapY</th>\n",
       "      <th>TimeCreate</th>\n",
       "      <th>...</th>\n",
       "      <th>TimeArrive</th>\n",
       "      <th>TimeClosed</th>\n",
       "      <th>Disposition</th>\n",
       "      <th>DispositionText</th>\n",
       "      <th>SelfInitiated</th>\n",
       "      <th>Beat</th>\n",
       "      <th>BLOCK_ADDRESS</th>\n",
       "      <th>Zip</th>\n",
       "      <th>PoliceDistrict</th>\n",
       "      <th>Location</th>\n",
       "    </tr>\n",
       "  </thead>\n",
       "  <tbody>\n",
       "    <tr>\n",
       "      <th>0</th>\n",
       "      <td>A0000112</td>\n",
       "      <td>62A</td>\n",
       "      <td>BURGLAR ALARM, SILEN</td>\n",
       "      <td>2C</td>\n",
       "      <td>NaN</td>\n",
       "      <td>NaN</td>\n",
       "      <td>NaN</td>\n",
       "      <td>3683627</td>\n",
       "      <td>532625</td>\n",
       "      <td>1/1/2012 0:00</td>\n",
       "      <td>...</td>\n",
       "      <td>NaN</td>\n",
       "      <td>1/1/2012 0:33</td>\n",
       "      <td>NAT</td>\n",
       "      <td>NECESSARY ACTION TAKEN</td>\n",
       "      <td>NaN</td>\n",
       "      <td>NaN</td>\n",
       "      <td>009XX Decatur St</td>\n",
       "      <td>70116.0</td>\n",
       "      <td>8</td>\n",
       "      <td>(29.958469303316875, -90.0613152964016)</td>\n",
       "    </tr>\n",
       "    <tr>\n",
       "      <th>1</th>\n",
       "      <td>A0000412</td>\n",
       "      <td>94</td>\n",
       "      <td>DISCHARGING FIREARMS</td>\n",
       "      <td>2B</td>\n",
       "      <td>NaN</td>\n",
       "      <td>NaN</td>\n",
       "      <td>NaN</td>\n",
       "      <td>3732996</td>\n",
       "      <td>562418</td>\n",
       "      <td>1/1/2012 0:00</td>\n",
       "      <td>...</td>\n",
       "      <td>1/1/2012 0:16</td>\n",
       "      <td>1/1/2012 0:30</td>\n",
       "      <td>UNF</td>\n",
       "      <td>UNFOUNDED</td>\n",
       "      <td>NaN</td>\n",
       "      <td>NaN</td>\n",
       "      <td>147XX Chef Menteur Hwy</td>\n",
       "      <td>70129.0</td>\n",
       "      <td>7</td>\n",
       "      <td>(30.038788769111676, -89.90425047516077)</td>\n",
       "    </tr>\n",
       "    <tr>\n",
       "      <th>2</th>\n",
       "      <td>A0000212</td>\n",
       "      <td>103</td>\n",
       "      <td>DISTURBANCE (OTHER)</td>\n",
       "      <td>1C</td>\n",
       "      <td>NaN</td>\n",
       "      <td>NaN</td>\n",
       "      <td>NaN</td>\n",
       "      <td>3687688</td>\n",
       "      <td>548824</td>\n",
       "      <td>1/1/2012 0:01</td>\n",
       "      <td>...</td>\n",
       "      <td>1/1/2012 0:01</td>\n",
       "      <td>1/1/2012 0:19</td>\n",
       "      <td>NAT</td>\n",
       "      <td>NECESSARY ACTION TAKEN</td>\n",
       "      <td>NaN</td>\n",
       "      <td>NaN</td>\n",
       "      <td>038XX Gentilly Blvd</td>\n",
       "      <td>70122.0</td>\n",
       "      <td>3</td>\n",
       "      <td>(30.002886229898206, -90.04791794333323)</td>\n",
       "    </tr>\n",
       "    <tr>\n",
       "      <th>3</th>\n",
       "      <td>A0000712</td>\n",
       "      <td>21</td>\n",
       "      <td>COMPLAINT OTHER</td>\n",
       "      <td>1H</td>\n",
       "      <td>NaN</td>\n",
       "      <td>NaN</td>\n",
       "      <td>NaN</td>\n",
       "      <td>3670776</td>\n",
       "      <td>521242</td>\n",
       "      <td>1/1/2012 0:01</td>\n",
       "      <td>...</td>\n",
       "      <td>NaN</td>\n",
       "      <td>1/1/2012 0:20</td>\n",
       "      <td>NAT</td>\n",
       "      <td>NECESSARY ACTION TAKEN</td>\n",
       "      <td>NaN</td>\n",
       "      <td>NaN</td>\n",
       "      <td>Carondelet St &amp; Napoleon Ave</td>\n",
       "      <td>70115.0</td>\n",
       "      <td>2</td>\n",
       "      <td>(29.927555772946167, -90.10228161624175)</td>\n",
       "    </tr>\n",
       "    <tr>\n",
       "      <th>4</th>\n",
       "      <td>A0000512</td>\n",
       "      <td>62A</td>\n",
       "      <td>BURGLAR ALARM, SILEN</td>\n",
       "      <td>2C</td>\n",
       "      <td>NaN</td>\n",
       "      <td>NaN</td>\n",
       "      <td>NaN</td>\n",
       "      <td>3665739</td>\n",
       "      <td>549621</td>\n",
       "      <td>1/1/2012 0:01</td>\n",
       "      <td>...</td>\n",
       "      <td>1/1/2012 0:09</td>\n",
       "      <td>1/1/2012 1:55</td>\n",
       "      <td>NAT</td>\n",
       "      <td>NECESSARY ACTION TAKEN</td>\n",
       "      <td>NaN</td>\n",
       "      <td>NaN</td>\n",
       "      <td>002XX W Harrison Ave</td>\n",
       "      <td>70124.0</td>\n",
       "      <td>3</td>\n",
       "      <td>(30.005736477457617, -90.11723146931276)</td>\n",
       "    </tr>\n",
       "  </tbody>\n",
       "</table>\n",
       "<p>5 rows × 21 columns</p>\n",
       "</div>"
      ],
      "text/plain": [
       "  NOPD_Item Type_              TypeText Priority InitialType InitialTypeText  \\\n",
       "0  A0000112   62A  BURGLAR ALARM, SILEN       2C         NaN             NaN   \n",
       "1  A0000412    94  DISCHARGING FIREARMS       2B         NaN             NaN   \n",
       "2  A0000212   103   DISTURBANCE (OTHER)       1C         NaN             NaN   \n",
       "3  A0000712    21       COMPLAINT OTHER       1H         NaN             NaN   \n",
       "4  A0000512   62A  BURGLAR ALARM, SILEN       2C         NaN             NaN   \n",
       "\n",
       "  InitialPriority     MapX    MapY     TimeCreate  \\\n",
       "0             NaN  3683627  532625  1/1/2012 0:00   \n",
       "1             NaN  3732996  562418  1/1/2012 0:00   \n",
       "2             NaN  3687688  548824  1/1/2012 0:01   \n",
       "3             NaN  3670776  521242  1/1/2012 0:01   \n",
       "4             NaN  3665739  549621  1/1/2012 0:01   \n",
       "\n",
       "                     ...                        TimeArrive     TimeClosed  \\\n",
       "0                    ...                               NaN  1/1/2012 0:33   \n",
       "1                    ...                     1/1/2012 0:16  1/1/2012 0:30   \n",
       "2                    ...                     1/1/2012 0:01  1/1/2012 0:19   \n",
       "3                    ...                               NaN  1/1/2012 0:20   \n",
       "4                    ...                     1/1/2012 0:09  1/1/2012 1:55   \n",
       "\n",
       "  Disposition         DispositionText SelfInitiated Beat  \\\n",
       "0         NAT  NECESSARY ACTION TAKEN           NaN  NaN   \n",
       "1         UNF               UNFOUNDED           NaN  NaN   \n",
       "2         NAT  NECESSARY ACTION TAKEN           NaN  NaN   \n",
       "3         NAT  NECESSARY ACTION TAKEN           NaN  NaN   \n",
       "4         NAT  NECESSARY ACTION TAKEN           NaN  NaN   \n",
       "\n",
       "                  BLOCK_ADDRESS      Zip  PoliceDistrict  \\\n",
       "0              009XX Decatur St  70116.0               8   \n",
       "1        147XX Chef Menteur Hwy  70129.0               7   \n",
       "2           038XX Gentilly Blvd  70122.0               3   \n",
       "3  Carondelet St & Napoleon Ave  70115.0               2   \n",
       "4          002XX W Harrison Ave  70124.0               3   \n",
       "\n",
       "                                   Location  \n",
       "0   (29.958469303316875, -90.0613152964016)  \n",
       "1  (30.038788769111676, -89.90425047516077)  \n",
       "2  (30.002886229898206, -90.04791794333323)  \n",
       "3  (29.927555772946167, -90.10228161624175)  \n",
       "4  (30.005736477457617, -90.11723146931276)  \n",
       "\n",
       "[5 rows x 21 columns]"
      ]
     },
     "execution_count": 5,
     "metadata": {},
     "output_type": "execute_result"
    }
   ],
   "source": [
    "# Display top 5 rows\n",
    "cfs_df.head()"
   ]
  },
  {
   "cell_type": "code",
   "execution_count": 6,
   "metadata": {
    "collapsed": false
   },
   "outputs": [
    {
     "data": {
      "text/plain": [
       "2252907"
      ]
     },
     "execution_count": 6,
     "metadata": {},
     "output_type": "execute_result"
    }
   ],
   "source": [
    "# Number of records\n",
    "len(cfs_df)"
   ]
  },
  {
   "cell_type": "code",
   "execution_count": 7,
   "metadata": {
    "collapsed": false,
    "scrolled": true
   },
   "outputs": [
    {
     "data": {
      "text/plain": [
       "Index([u'NOPD_Item', u'Type_', u'TypeText', u'Priority', u'InitialType',\n",
       "       u'InitialTypeText', u'InitialPriority', u'MapX', u'MapY', u'TimeCreate',\n",
       "       u'TimeDispatch', u'TimeArrive', u'TimeClosed', u'Disposition',\n",
       "       u'DispositionText', u'SelfInitiated', u'Beat', u'BLOCK_ADDRESS', u'Zip',\n",
       "       u'PoliceDistrict', u'Location'],\n",
       "      dtype='object')"
      ]
     },
     "execution_count": 7,
     "metadata": {},
     "output_type": "execute_result"
    }
   ],
   "source": [
    "# Column Names\n",
    "cfs_df.columns"
   ]
  },
  {
   "cell_type": "markdown",
   "metadata": {},
   "source": [
    "### Filter Records with Disposition == 'RTF' "
   ]
  },
  {
   "cell_type": "code",
   "execution_count": 8,
   "metadata": {
    "collapsed": true
   },
   "outputs": [],
   "source": [
    "cfs_df = cfs_df[cfs_df.Disposition == 'RTF']"
   ]
  },
  {
   "cell_type": "code",
   "execution_count": 9,
   "metadata": {
    "collapsed": false
   },
   "outputs": [
    {
     "data": {
      "text/plain": [
       "428570"
      ]
     },
     "execution_count": 9,
     "metadata": {},
     "output_type": "execute_result"
    }
   ],
   "source": [
    "# Number of records\n",
    "len(cfs_df)"
   ]
  },
  {
   "cell_type": "code",
   "execution_count": 10,
   "metadata": {
    "collapsed": false
   },
   "outputs": [
    {
     "data": {
      "text/html": [
       "<div>\n",
       "<table border=\"1\" class=\"dataframe\">\n",
       "  <thead>\n",
       "    <tr style=\"text-align: right;\">\n",
       "      <th></th>\n",
       "      <th>NOPD_Item</th>\n",
       "      <th>Type_</th>\n",
       "      <th>TypeText</th>\n",
       "      <th>Priority</th>\n",
       "      <th>InitialType</th>\n",
       "      <th>InitialTypeText</th>\n",
       "      <th>InitialPriority</th>\n",
       "      <th>MapX</th>\n",
       "      <th>MapY</th>\n",
       "      <th>TimeCreate</th>\n",
       "      <th>...</th>\n",
       "      <th>TimeArrive</th>\n",
       "      <th>TimeClosed</th>\n",
       "      <th>Disposition</th>\n",
       "      <th>DispositionText</th>\n",
       "      <th>SelfInitiated</th>\n",
       "      <th>Beat</th>\n",
       "      <th>BLOCK_ADDRESS</th>\n",
       "      <th>Zip</th>\n",
       "      <th>PoliceDistrict</th>\n",
       "      <th>Location</th>\n",
       "    </tr>\n",
       "  </thead>\n",
       "  <tbody>\n",
       "    <tr>\n",
       "      <th>64</th>\n",
       "      <td>A0006912</td>\n",
       "      <td>29S</td>\n",
       "      <td>SUICIDE</td>\n",
       "      <td>2B</td>\n",
       "      <td>NaN</td>\n",
       "      <td>NaN</td>\n",
       "      <td>NaN</td>\n",
       "      <td>37369000</td>\n",
       "      <td>3513814</td>\n",
       "      <td>1/1/2012 0:16</td>\n",
       "      <td>...</td>\n",
       "      <td>1/1/2012 0:32</td>\n",
       "      <td>1/1/2012 0:59</td>\n",
       "      <td>RTF</td>\n",
       "      <td>REPORT TO FOLLOW</td>\n",
       "      <td>NaN</td>\n",
       "      <td>NaN</td>\n",
       "      <td>049XX Major Dr</td>\n",
       "      <td>70128.0</td>\n",
       "      <td>0</td>\n",
       "      <td>(9.235500542976004E-7, -0.000002292984766499941)</td>\n",
       "    </tr>\n",
       "    <tr>\n",
       "      <th>79</th>\n",
       "      <td>A0008112</td>\n",
       "      <td>966</td>\n",
       "      <td>DRUG VIOLATIONS</td>\n",
       "      <td>1G</td>\n",
       "      <td>NaN</td>\n",
       "      <td>NaN</td>\n",
       "      <td>NaN</td>\n",
       "      <td>3680920</td>\n",
       "      <td>540222</td>\n",
       "      <td>1/1/2012 0:22</td>\n",
       "      <td>...</td>\n",
       "      <td>1/1/2012 0:23</td>\n",
       "      <td>1/1/2012 1:13</td>\n",
       "      <td>RTF</td>\n",
       "      <td>REPORT TO FOLLOW</td>\n",
       "      <td>NaN</td>\n",
       "      <td>NaN</td>\n",
       "      <td>St Bernard Ave &amp; N Tonti St</td>\n",
       "      <td>70119.0</td>\n",
       "      <td>1</td>\n",
       "      <td>(29.979440793120016, -90.06959870234981)</td>\n",
       "    </tr>\n",
       "    <tr>\n",
       "      <th>80</th>\n",
       "      <td>A0008212</td>\n",
       "      <td>21U</td>\n",
       "      <td>UNDER AGE DRINKING V</td>\n",
       "      <td>1F</td>\n",
       "      <td>NaN</td>\n",
       "      <td>NaN</td>\n",
       "      <td>NaN</td>\n",
       "      <td>3681403</td>\n",
       "      <td>531510</td>\n",
       "      <td>1/1/2012 0:22</td>\n",
       "      <td>...</td>\n",
       "      <td>1/1/2012 0:22</td>\n",
       "      <td>1/1/2012 1:33</td>\n",
       "      <td>RTF</td>\n",
       "      <td>REPORT TO FOLLOW</td>\n",
       "      <td>NaN</td>\n",
       "      <td>NaN</td>\n",
       "      <td>003XX Bourbon St</td>\n",
       "      <td>70112.0</td>\n",
       "      <td>8</td>\n",
       "      <td>(29.95547113098435, -90.06837696099961)</td>\n",
       "    </tr>\n",
       "    <tr>\n",
       "      <th>83</th>\n",
       "      <td>A0008312</td>\n",
       "      <td>66</td>\n",
       "      <td>EXTORTION (THREATS)</td>\n",
       "      <td>1F</td>\n",
       "      <td>NaN</td>\n",
       "      <td>NaN</td>\n",
       "      <td>NaN</td>\n",
       "      <td>3691753</td>\n",
       "      <td>536508</td>\n",
       "      <td>1/1/2012 0:23</td>\n",
       "      <td>...</td>\n",
       "      <td>1/1/2012 0:25</td>\n",
       "      <td>1/1/2012 1:19</td>\n",
       "      <td>RTF</td>\n",
       "      <td>REPORT TO FOLLOW</td>\n",
       "      <td>NaN</td>\n",
       "      <td>NaN</td>\n",
       "      <td>014XX Alvar St</td>\n",
       "      <td>70117.0</td>\n",
       "      <td>5</td>\n",
       "      <td>(29.96889564722802, -90.03551677167968)</td>\n",
       "    </tr>\n",
       "    <tr>\n",
       "      <th>92</th>\n",
       "      <td>A0009412</td>\n",
       "      <td>94</td>\n",
       "      <td>DISCHARGING FIREARMS</td>\n",
       "      <td>2B</td>\n",
       "      <td>NaN</td>\n",
       "      <td>NaN</td>\n",
       "      <td>NaN</td>\n",
       "      <td>3696950</td>\n",
       "      <td>533169</td>\n",
       "      <td>1/1/2012 0:28</td>\n",
       "      <td>...</td>\n",
       "      <td>1/1/2012 0:28</td>\n",
       "      <td>1/1/2012 1:36</td>\n",
       "      <td>RTF</td>\n",
       "      <td>REPORT TO FOLLOW</td>\n",
       "      <td>NaN</td>\n",
       "      <td>NaN</td>\n",
       "      <td>054XX Burgundy St</td>\n",
       "      <td>70117.0</td>\n",
       "      <td>5</td>\n",
       "      <td>(29.959551708547103, -90.01922533580768)</td>\n",
       "    </tr>\n",
       "  </tbody>\n",
       "</table>\n",
       "<p>5 rows × 21 columns</p>\n",
       "</div>"
      ],
      "text/plain": [
       "   NOPD_Item Type_              TypeText Priority InitialType InitialTypeText  \\\n",
       "64  A0006912   29S               SUICIDE       2B         NaN             NaN   \n",
       "79  A0008112   966       DRUG VIOLATIONS       1G         NaN             NaN   \n",
       "80  A0008212   21U  UNDER AGE DRINKING V       1F         NaN             NaN   \n",
       "83  A0008312    66   EXTORTION (THREATS)       1F         NaN             NaN   \n",
       "92  A0009412    94  DISCHARGING FIREARMS       2B         NaN             NaN   \n",
       "\n",
       "   InitialPriority      MapX     MapY     TimeCreate  \\\n",
       "64             NaN  37369000  3513814  1/1/2012 0:16   \n",
       "79             NaN   3680920   540222  1/1/2012 0:22   \n",
       "80             NaN   3681403   531510  1/1/2012 0:22   \n",
       "83             NaN   3691753   536508  1/1/2012 0:23   \n",
       "92             NaN   3696950   533169  1/1/2012 0:28   \n",
       "\n",
       "                          ...                            TimeArrive  \\\n",
       "64                        ...                         1/1/2012 0:32   \n",
       "79                        ...                         1/1/2012 0:23   \n",
       "80                        ...                         1/1/2012 0:22   \n",
       "83                        ...                         1/1/2012 0:25   \n",
       "92                        ...                         1/1/2012 0:28   \n",
       "\n",
       "       TimeClosed Disposition   DispositionText SelfInitiated Beat  \\\n",
       "64  1/1/2012 0:59         RTF  REPORT TO FOLLOW           NaN  NaN   \n",
       "79  1/1/2012 1:13         RTF  REPORT TO FOLLOW           NaN  NaN   \n",
       "80  1/1/2012 1:33         RTF  REPORT TO FOLLOW           NaN  NaN   \n",
       "83  1/1/2012 1:19         RTF  REPORT TO FOLLOW           NaN  NaN   \n",
       "92  1/1/2012 1:36         RTF  REPORT TO FOLLOW           NaN  NaN   \n",
       "\n",
       "                  BLOCK_ADDRESS      Zip  PoliceDistrict  \\\n",
       "64               049XX Major Dr  70128.0               0   \n",
       "79  St Bernard Ave & N Tonti St  70119.0               1   \n",
       "80             003XX Bourbon St  70112.0               8   \n",
       "83               014XX Alvar St  70117.0               5   \n",
       "92            054XX Burgundy St  70117.0               5   \n",
       "\n",
       "                                            Location  \n",
       "64  (9.235500542976004E-7, -0.000002292984766499941)  \n",
       "79          (29.979440793120016, -90.06959870234981)  \n",
       "80           (29.95547113098435, -90.06837696099961)  \n",
       "83           (29.96889564722802, -90.03551677167968)  \n",
       "92          (29.959551708547103, -90.01922533580768)  \n",
       "\n",
       "[5 rows x 21 columns]"
      ]
     },
     "execution_count": 10,
     "metadata": {},
     "output_type": "execute_result"
    }
   ],
   "source": [
    "# Display top 5 rows\n",
    "cfs_df.head()"
   ]
  },
  {
   "cell_type": "markdown",
   "metadata": {},
   "source": [
    "### Load Categories Data"
   ]
  },
  {
   "cell_type": "code",
   "execution_count": 11,
   "metadata": {
    "collapsed": false
   },
   "outputs": [],
   "source": [
    "# Set location of file\n",
    "fname = \"..\\\\Datasets\\\\Raw_Data\\\\MAX_CFS_UCR_Categories.xlsx\"\n",
    "\n",
    "# Load file\n",
    "crime_types = pd.read_excel(fname,sheetname='Sheet1')\n",
    "\n",
    "# Select required columns\n",
    "crime_types = crime_types.ix[:,['Code','UCR MAIN']]\n",
    "\n",
    "# Rename columns\n",
    "crime_types.rename(columns={'Code':'Type_','UCR MAIN':'CrimeType'},inplace=True)\n",
    "\n",
    "# Change datatype of column Type_ to String\n",
    "crime_types.Type_ = crime_types.Type_.apply(str)"
   ]
  },
  {
   "cell_type": "markdown",
   "metadata": {},
   "source": [
    "### Filter Records with CrimeType == 'VIOLENT CRIME'"
   ]
  },
  {
   "cell_type": "code",
   "execution_count": 12,
   "metadata": {
    "collapsed": true
   },
   "outputs": [],
   "source": [
    "crime_types = crime_types[crime_types.CrimeType == 'VIOLENT CRIME']"
   ]
  },
  {
   "cell_type": "code",
   "execution_count": 13,
   "metadata": {
    "collapsed": false,
    "scrolled": false
   },
   "outputs": [
    {
     "data": {
      "text/html": [
       "<div>\n",
       "<table border=\"1\" class=\"dataframe\">\n",
       "  <thead>\n",
       "    <tr style=\"text-align: right;\">\n",
       "      <th></th>\n",
       "      <th>Type_</th>\n",
       "      <th>CrimeType</th>\n",
       "    </tr>\n",
       "  </thead>\n",
       "  <tbody>\n",
       "    <tr>\n",
       "      <th>71</th>\n",
       "      <td>30</td>\n",
       "      <td>VIOLENT CRIME</td>\n",
       "    </tr>\n",
       "    <tr>\n",
       "      <th>72</th>\n",
       "      <td>30C</td>\n",
       "      <td>VIOLENT CRIME</td>\n",
       "    </tr>\n",
       "    <tr>\n",
       "      <th>73</th>\n",
       "      <td>30D</td>\n",
       "      <td>VIOLENT CRIME</td>\n",
       "    </tr>\n",
       "    <tr>\n",
       "      <th>74</th>\n",
       "      <td>30S</td>\n",
       "      <td>VIOLENT CRIME</td>\n",
       "    </tr>\n",
       "    <tr>\n",
       "      <th>75</th>\n",
       "      <td>34</td>\n",
       "      <td>VIOLENT CRIME</td>\n",
       "    </tr>\n",
       "  </tbody>\n",
       "</table>\n",
       "</div>"
      ],
      "text/plain": [
       "   Type_      CrimeType\n",
       "71    30  VIOLENT CRIME\n",
       "72   30C  VIOLENT CRIME\n",
       "73   30D  VIOLENT CRIME\n",
       "74   30S  VIOLENT CRIME\n",
       "75    34  VIOLENT CRIME"
      ]
     },
     "execution_count": 13,
     "metadata": {},
     "output_type": "execute_result"
    }
   ],
   "source": [
    "crime_types.head()"
   ]
  },
  {
   "cell_type": "markdown",
   "metadata": {},
   "source": [
    "### Merge Calls-for-Service with Categories data"
   ]
  },
  {
   "cell_type": "code",
   "execution_count": 14,
   "metadata": {
    "collapsed": true
   },
   "outputs": [],
   "source": [
    "merged_df = pd.merge(cfs_df,crime_types,on='Type_',how='left')"
   ]
  },
  {
   "cell_type": "code",
   "execution_count": 15,
   "metadata": {
    "collapsed": false
   },
   "outputs": [
    {
     "data": {
      "text/html": [
       "<div>\n",
       "<table border=\"1\" class=\"dataframe\">\n",
       "  <thead>\n",
       "    <tr style=\"text-align: right;\">\n",
       "      <th></th>\n",
       "      <th>NOPD_Item</th>\n",
       "      <th>Type_</th>\n",
       "      <th>TypeText</th>\n",
       "      <th>Priority</th>\n",
       "      <th>InitialType</th>\n",
       "      <th>InitialTypeText</th>\n",
       "      <th>InitialPriority</th>\n",
       "      <th>MapX</th>\n",
       "      <th>MapY</th>\n",
       "      <th>TimeCreate</th>\n",
       "      <th>...</th>\n",
       "      <th>TimeClosed</th>\n",
       "      <th>Disposition</th>\n",
       "      <th>DispositionText</th>\n",
       "      <th>SelfInitiated</th>\n",
       "      <th>Beat</th>\n",
       "      <th>BLOCK_ADDRESS</th>\n",
       "      <th>Zip</th>\n",
       "      <th>PoliceDistrict</th>\n",
       "      <th>Location</th>\n",
       "      <th>CrimeType</th>\n",
       "    </tr>\n",
       "  </thead>\n",
       "  <tbody>\n",
       "    <tr>\n",
       "      <th>0</th>\n",
       "      <td>A0006912</td>\n",
       "      <td>29S</td>\n",
       "      <td>SUICIDE</td>\n",
       "      <td>2B</td>\n",
       "      <td>NaN</td>\n",
       "      <td>NaN</td>\n",
       "      <td>NaN</td>\n",
       "      <td>37369000</td>\n",
       "      <td>3513814</td>\n",
       "      <td>1/1/2012 0:16</td>\n",
       "      <td>...</td>\n",
       "      <td>1/1/2012 0:59</td>\n",
       "      <td>RTF</td>\n",
       "      <td>REPORT TO FOLLOW</td>\n",
       "      <td>NaN</td>\n",
       "      <td>NaN</td>\n",
       "      <td>049XX Major Dr</td>\n",
       "      <td>70128.0</td>\n",
       "      <td>0</td>\n",
       "      <td>(9.235500542976004E-7, -0.000002292984766499941)</td>\n",
       "      <td>NaN</td>\n",
       "    </tr>\n",
       "    <tr>\n",
       "      <th>1</th>\n",
       "      <td>A0008112</td>\n",
       "      <td>966</td>\n",
       "      <td>DRUG VIOLATIONS</td>\n",
       "      <td>1G</td>\n",
       "      <td>NaN</td>\n",
       "      <td>NaN</td>\n",
       "      <td>NaN</td>\n",
       "      <td>3680920</td>\n",
       "      <td>540222</td>\n",
       "      <td>1/1/2012 0:22</td>\n",
       "      <td>...</td>\n",
       "      <td>1/1/2012 1:13</td>\n",
       "      <td>RTF</td>\n",
       "      <td>REPORT TO FOLLOW</td>\n",
       "      <td>NaN</td>\n",
       "      <td>NaN</td>\n",
       "      <td>St Bernard Ave &amp; N Tonti St</td>\n",
       "      <td>70119.0</td>\n",
       "      <td>1</td>\n",
       "      <td>(29.979440793120016, -90.06959870234981)</td>\n",
       "      <td>NaN</td>\n",
       "    </tr>\n",
       "    <tr>\n",
       "      <th>2</th>\n",
       "      <td>A0008212</td>\n",
       "      <td>21U</td>\n",
       "      <td>UNDER AGE DRINKING V</td>\n",
       "      <td>1F</td>\n",
       "      <td>NaN</td>\n",
       "      <td>NaN</td>\n",
       "      <td>NaN</td>\n",
       "      <td>3681403</td>\n",
       "      <td>531510</td>\n",
       "      <td>1/1/2012 0:22</td>\n",
       "      <td>...</td>\n",
       "      <td>1/1/2012 1:33</td>\n",
       "      <td>RTF</td>\n",
       "      <td>REPORT TO FOLLOW</td>\n",
       "      <td>NaN</td>\n",
       "      <td>NaN</td>\n",
       "      <td>003XX Bourbon St</td>\n",
       "      <td>70112.0</td>\n",
       "      <td>8</td>\n",
       "      <td>(29.95547113098435, -90.06837696099961)</td>\n",
       "      <td>NaN</td>\n",
       "    </tr>\n",
       "    <tr>\n",
       "      <th>3</th>\n",
       "      <td>A0008312</td>\n",
       "      <td>66</td>\n",
       "      <td>EXTORTION (THREATS)</td>\n",
       "      <td>1F</td>\n",
       "      <td>NaN</td>\n",
       "      <td>NaN</td>\n",
       "      <td>NaN</td>\n",
       "      <td>3691753</td>\n",
       "      <td>536508</td>\n",
       "      <td>1/1/2012 0:23</td>\n",
       "      <td>...</td>\n",
       "      <td>1/1/2012 1:19</td>\n",
       "      <td>RTF</td>\n",
       "      <td>REPORT TO FOLLOW</td>\n",
       "      <td>NaN</td>\n",
       "      <td>NaN</td>\n",
       "      <td>014XX Alvar St</td>\n",
       "      <td>70117.0</td>\n",
       "      <td>5</td>\n",
       "      <td>(29.96889564722802, -90.03551677167968)</td>\n",
       "      <td>NaN</td>\n",
       "    </tr>\n",
       "    <tr>\n",
       "      <th>4</th>\n",
       "      <td>A0009412</td>\n",
       "      <td>94</td>\n",
       "      <td>DISCHARGING FIREARMS</td>\n",
       "      <td>2B</td>\n",
       "      <td>NaN</td>\n",
       "      <td>NaN</td>\n",
       "      <td>NaN</td>\n",
       "      <td>3696950</td>\n",
       "      <td>533169</td>\n",
       "      <td>1/1/2012 0:28</td>\n",
       "      <td>...</td>\n",
       "      <td>1/1/2012 1:36</td>\n",
       "      <td>RTF</td>\n",
       "      <td>REPORT TO FOLLOW</td>\n",
       "      <td>NaN</td>\n",
       "      <td>NaN</td>\n",
       "      <td>054XX Burgundy St</td>\n",
       "      <td>70117.0</td>\n",
       "      <td>5</td>\n",
       "      <td>(29.959551708547103, -90.01922533580768)</td>\n",
       "      <td>NaN</td>\n",
       "    </tr>\n",
       "  </tbody>\n",
       "</table>\n",
       "<p>5 rows × 22 columns</p>\n",
       "</div>"
      ],
      "text/plain": [
       "  NOPD_Item Type_              TypeText Priority InitialType InitialTypeText  \\\n",
       "0  A0006912   29S               SUICIDE       2B         NaN             NaN   \n",
       "1  A0008112   966       DRUG VIOLATIONS       1G         NaN             NaN   \n",
       "2  A0008212   21U  UNDER AGE DRINKING V       1F         NaN             NaN   \n",
       "3  A0008312    66   EXTORTION (THREATS)       1F         NaN             NaN   \n",
       "4  A0009412    94  DISCHARGING FIREARMS       2B         NaN             NaN   \n",
       "\n",
       "  InitialPriority      MapX     MapY     TimeCreate    ...         TimeClosed  \\\n",
       "0             NaN  37369000  3513814  1/1/2012 0:16    ...      1/1/2012 0:59   \n",
       "1             NaN   3680920   540222  1/1/2012 0:22    ...      1/1/2012 1:13   \n",
       "2             NaN   3681403   531510  1/1/2012 0:22    ...      1/1/2012 1:33   \n",
       "3             NaN   3691753   536508  1/1/2012 0:23    ...      1/1/2012 1:19   \n",
       "4             NaN   3696950   533169  1/1/2012 0:28    ...      1/1/2012 1:36   \n",
       "\n",
       "  Disposition   DispositionText SelfInitiated Beat  \\\n",
       "0         RTF  REPORT TO FOLLOW           NaN  NaN   \n",
       "1         RTF  REPORT TO FOLLOW           NaN  NaN   \n",
       "2         RTF  REPORT TO FOLLOW           NaN  NaN   \n",
       "3         RTF  REPORT TO FOLLOW           NaN  NaN   \n",
       "4         RTF  REPORT TO FOLLOW           NaN  NaN   \n",
       "\n",
       "                 BLOCK_ADDRESS      Zip PoliceDistrict  \\\n",
       "0               049XX Major Dr  70128.0              0   \n",
       "1  St Bernard Ave & N Tonti St  70119.0              1   \n",
       "2             003XX Bourbon St  70112.0              8   \n",
       "3               014XX Alvar St  70117.0              5   \n",
       "4            054XX Burgundy St  70117.0              5   \n",
       "\n",
       "                                           Location  CrimeType  \n",
       "0  (9.235500542976004E-7, -0.000002292984766499941)        NaN  \n",
       "1          (29.979440793120016, -90.06959870234981)        NaN  \n",
       "2           (29.95547113098435, -90.06837696099961)        NaN  \n",
       "3           (29.96889564722802, -90.03551677167968)        NaN  \n",
       "4          (29.959551708547103, -90.01922533580768)        NaN  \n",
       "\n",
       "[5 rows x 22 columns]"
      ]
     },
     "execution_count": 15,
     "metadata": {},
     "output_type": "execute_result"
    }
   ],
   "source": [
    "merged_df.head()"
   ]
  },
  {
   "cell_type": "code",
   "execution_count": 16,
   "metadata": {
    "collapsed": false
   },
   "outputs": [
    {
     "data": {
      "text/plain": [
       "428570"
      ]
     },
     "execution_count": 16,
     "metadata": {},
     "output_type": "execute_result"
    }
   ],
   "source": [
    "len(merged_df)"
   ]
  },
  {
   "cell_type": "markdown",
   "metadata": {},
   "source": [
    "### Filter Records with CrimeType = NaN or Null"
   ]
  },
  {
   "cell_type": "code",
   "execution_count": 17,
   "metadata": {
    "collapsed": false
   },
   "outputs": [
    {
     "data": {
      "text/plain": [
       "414616"
      ]
     },
     "execution_count": 17,
     "metadata": {},
     "output_type": "execute_result"
    }
   ],
   "source": [
    "# Check length of records with CrimeType Null\n",
    "len(merged_df[merged_df.CrimeType.isnull()])"
   ]
  },
  {
   "cell_type": "code",
   "execution_count": 18,
   "metadata": {
    "collapsed": false
   },
   "outputs": [
    {
     "data": {
      "text/plain": [
       "13954"
      ]
     },
     "execution_count": 18,
     "metadata": {},
     "output_type": "execute_result"
    }
   ],
   "source": [
    "# Check length of records with CrimeType Not Null\n",
    "len(merged_df[merged_df.CrimeType.notnull()])"
   ]
  },
  {
   "cell_type": "code",
   "execution_count": 19,
   "metadata": {
    "collapsed": true
   },
   "outputs": [],
   "source": [
    "# Remove records with CrimeType Null\n",
    "cfs_final = merged_df[merged_df.CrimeType.notnull()]"
   ]
  },
  {
   "cell_type": "code",
   "execution_count": 20,
   "metadata": {
    "collapsed": false
   },
   "outputs": [
    {
     "data": {
      "text/html": [
       "<div>\n",
       "<table border=\"1\" class=\"dataframe\">\n",
       "  <thead>\n",
       "    <tr style=\"text-align: right;\">\n",
       "      <th></th>\n",
       "      <th>NOPD_Item</th>\n",
       "      <th>Type_</th>\n",
       "      <th>TypeText</th>\n",
       "      <th>Priority</th>\n",
       "      <th>InitialType</th>\n",
       "      <th>InitialTypeText</th>\n",
       "      <th>InitialPriority</th>\n",
       "      <th>MapX</th>\n",
       "      <th>MapY</th>\n",
       "      <th>TimeCreate</th>\n",
       "      <th>...</th>\n",
       "      <th>TimeClosed</th>\n",
       "      <th>Disposition</th>\n",
       "      <th>DispositionText</th>\n",
       "      <th>SelfInitiated</th>\n",
       "      <th>Beat</th>\n",
       "      <th>BLOCK_ADDRESS</th>\n",
       "      <th>Zip</th>\n",
       "      <th>PoliceDistrict</th>\n",
       "      <th>Location</th>\n",
       "      <th>CrimeType</th>\n",
       "    </tr>\n",
       "  </thead>\n",
       "  <tbody>\n",
       "    <tr>\n",
       "      <th>31</th>\n",
       "      <td>A0026112</td>\n",
       "      <td>65</td>\n",
       "      <td>SIMPLE ROBBERY</td>\n",
       "      <td>1B</td>\n",
       "      <td>NaN</td>\n",
       "      <td>NaN</td>\n",
       "      <td>NaN</td>\n",
       "      <td>3680346</td>\n",
       "      <td>531912</td>\n",
       "      <td>1/1/2012 1:44</td>\n",
       "      <td>...</td>\n",
       "      <td>1/1/2012 3:37</td>\n",
       "      <td>RTF</td>\n",
       "      <td>REPORT TO FOLLOW</td>\n",
       "      <td>NaN</td>\n",
       "      <td>NaN</td>\n",
       "      <td>002XX N Rampart St</td>\n",
       "      <td>70112.0</td>\n",
       "      <td>8</td>\n",
       "      <td>(29.956608537919635, -90.07170060793311)</td>\n",
       "      <td>VIOLENT CRIME</td>\n",
       "    </tr>\n",
       "    <tr>\n",
       "      <th>41</th>\n",
       "      <td>A0031612</td>\n",
       "      <td>64G</td>\n",
       "      <td>ARMED ROBBERY WITH G</td>\n",
       "      <td>2A</td>\n",
       "      <td>NaN</td>\n",
       "      <td>NaN</td>\n",
       "      <td>NaN</td>\n",
       "      <td>3702905</td>\n",
       "      <td>557853</td>\n",
       "      <td>1/1/2012 2:10</td>\n",
       "      <td>...</td>\n",
       "      <td>1/1/2012 3:06</td>\n",
       "      <td>RTF</td>\n",
       "      <td>REPORT TO FOLLOW</td>\n",
       "      <td>NaN</td>\n",
       "      <td>NaN</td>\n",
       "      <td>068XX Parc Brittany</td>\n",
       "      <td>70126.0</td>\n",
       "      <td>7</td>\n",
       "      <td>(30.027234376749696, -89.9995136313823)</td>\n",
       "      <td>VIOLENT CRIME</td>\n",
       "    </tr>\n",
       "    <tr>\n",
       "      <th>42</th>\n",
       "      <td>A0031412</td>\n",
       "      <td>64G</td>\n",
       "      <td>ARMED ROBBERY WITH G</td>\n",
       "      <td>2A</td>\n",
       "      <td>NaN</td>\n",
       "      <td>NaN</td>\n",
       "      <td>NaN</td>\n",
       "      <td>3709037</td>\n",
       "      <td>557274</td>\n",
       "      <td>1/1/2012 2:10</td>\n",
       "      <td>...</td>\n",
       "      <td>1/1/2012 3:10</td>\n",
       "      <td>RTF</td>\n",
       "      <td>REPORT TO FOLLOW</td>\n",
       "      <td>NaN</td>\n",
       "      <td>NaN</td>\n",
       "      <td>051XX Bundy Rd</td>\n",
       "      <td>70127.0</td>\n",
       "      <td>7</td>\n",
       "      <td>(30.025444660587013, -89.98015884238222)</td>\n",
       "      <td>VIOLENT CRIME</td>\n",
       "    </tr>\n",
       "    <tr>\n",
       "      <th>43</th>\n",
       "      <td>A0031912</td>\n",
       "      <td>64G</td>\n",
       "      <td>ARMED ROBBERY WITH G</td>\n",
       "      <td>2A</td>\n",
       "      <td>NaN</td>\n",
       "      <td>NaN</td>\n",
       "      <td>NaN</td>\n",
       "      <td>3704889</td>\n",
       "      <td>559236</td>\n",
       "      <td>1/1/2012 2:12</td>\n",
       "      <td>...</td>\n",
       "      <td>1/1/2012 3:40</td>\n",
       "      <td>RTF</td>\n",
       "      <td>REPORT TO FOLLOW</td>\n",
       "      <td>NaN</td>\n",
       "      <td>NaN</td>\n",
       "      <td>085XX N I-10 Service Rd</td>\n",
       "      <td>70127.0</td>\n",
       "      <td>7</td>\n",
       "      <td>(30.030973436384716, -89.99319330558717)</td>\n",
       "      <td>VIOLENT CRIME</td>\n",
       "    </tr>\n",
       "    <tr>\n",
       "      <th>93</th>\n",
       "      <td>A0060312</td>\n",
       "      <td>34C</td>\n",
       "      <td>AGGRAVATED BATTERY B</td>\n",
       "      <td>2B</td>\n",
       "      <td>NaN</td>\n",
       "      <td>NaN</td>\n",
       "      <td>NaN</td>\n",
       "      <td>3680929</td>\n",
       "      <td>530923</td>\n",
       "      <td>1/1/2012 6:14</td>\n",
       "      <td>...</td>\n",
       "      <td>1/1/2012 7:25</td>\n",
       "      <td>RTF</td>\n",
       "      <td>REPORT TO FOLLOW</td>\n",
       "      <td>NaN</td>\n",
       "      <td>NaN</td>\n",
       "      <td>Bourbon St &amp; Canal St</td>\n",
       "      <td>70112.0</td>\n",
       "      <td>8</td>\n",
       "      <td>(29.95387145933587, -90.06989411880384)</td>\n",
       "      <td>VIOLENT CRIME</td>\n",
       "    </tr>\n",
       "  </tbody>\n",
       "</table>\n",
       "<p>5 rows × 22 columns</p>\n",
       "</div>"
      ],
      "text/plain": [
       "   NOPD_Item Type_              TypeText Priority InitialType InitialTypeText  \\\n",
       "31  A0026112    65        SIMPLE ROBBERY       1B         NaN             NaN   \n",
       "41  A0031612   64G  ARMED ROBBERY WITH G       2A         NaN             NaN   \n",
       "42  A0031412   64G  ARMED ROBBERY WITH G       2A         NaN             NaN   \n",
       "43  A0031912   64G  ARMED ROBBERY WITH G       2A         NaN             NaN   \n",
       "93  A0060312   34C  AGGRAVATED BATTERY B       2B         NaN             NaN   \n",
       "\n",
       "   InitialPriority     MapX    MapY     TimeCreate      ...        \\\n",
       "31             NaN  3680346  531912  1/1/2012 1:44      ...         \n",
       "41             NaN  3702905  557853  1/1/2012 2:10      ...         \n",
       "42             NaN  3709037  557274  1/1/2012 2:10      ...         \n",
       "43             NaN  3704889  559236  1/1/2012 2:12      ...         \n",
       "93             NaN  3680929  530923  1/1/2012 6:14      ...         \n",
       "\n",
       "       TimeClosed Disposition   DispositionText SelfInitiated Beat  \\\n",
       "31  1/1/2012 3:37         RTF  REPORT TO FOLLOW           NaN  NaN   \n",
       "41  1/1/2012 3:06         RTF  REPORT TO FOLLOW           NaN  NaN   \n",
       "42  1/1/2012 3:10         RTF  REPORT TO FOLLOW           NaN  NaN   \n",
       "43  1/1/2012 3:40         RTF  REPORT TO FOLLOW           NaN  NaN   \n",
       "93  1/1/2012 7:25         RTF  REPORT TO FOLLOW           NaN  NaN   \n",
       "\n",
       "              BLOCK_ADDRESS      Zip PoliceDistrict  \\\n",
       "31       002XX N Rampart St  70112.0              8   \n",
       "41      068XX Parc Brittany  70126.0              7   \n",
       "42           051XX Bundy Rd  70127.0              7   \n",
       "43  085XX N I-10 Service Rd  70127.0              7   \n",
       "93    Bourbon St & Canal St  70112.0              8   \n",
       "\n",
       "                                    Location      CrimeType  \n",
       "31  (29.956608537919635, -90.07170060793311)  VIOLENT CRIME  \n",
       "41   (30.027234376749696, -89.9995136313823)  VIOLENT CRIME  \n",
       "42  (30.025444660587013, -89.98015884238222)  VIOLENT CRIME  \n",
       "43  (30.030973436384716, -89.99319330558717)  VIOLENT CRIME  \n",
       "93   (29.95387145933587, -90.06989411880384)  VIOLENT CRIME  \n",
       "\n",
       "[5 rows x 22 columns]"
      ]
     },
     "execution_count": 20,
     "metadata": {},
     "output_type": "execute_result"
    }
   ],
   "source": [
    "cfs_final.head()"
   ]
  },
  {
   "cell_type": "code",
   "execution_count": 21,
   "metadata": {
    "collapsed": false
   },
   "outputs": [
    {
     "data": {
      "text/plain": [
       "array(['65', '64G', '34C', '64', '55', '30S', '37', '42', '34S', '43',\n",
       "       '65J', '30', '37D', '34', '64J', '64K', '34D', '43M', '30C', '42M',\n",
       "       '30D', '42B'], dtype=object)"
      ]
     },
     "execution_count": 21,
     "metadata": {},
     "output_type": "execute_result"
    }
   ],
   "source": [
    "cfs_final.Type_.unique()"
   ]
  },
  {
   "cell_type": "code",
   "execution_count": 22,
   "metadata": {
    "collapsed": false
   },
   "outputs": [
    {
     "data": {
      "text/plain": [
       "13954"
      ]
     },
     "execution_count": 22,
     "metadata": {},
     "output_type": "execute_result"
    }
   ],
   "source": [
    "len(cfs_final)"
   ]
  },
  {
   "cell_type": "code",
   "execution_count": null,
   "metadata": {
    "collapsed": true
   },
   "outputs": [],
   "source": [
    "# Save the \n",
    "fullpath = \"..\\\\Datasets\\\\Final_Data\\\\Calls_for_Service.csv\"\n",
    "cfs_final.to_csv(fullpath, sep=',',  index = False)"
   ]
  }
 ],
 "metadata": {
  "anaconda-cloud": {},
  "kernelspec": {
   "display_name": "Python 2",
   "language": "python",
   "name": "python2"
  },
  "language_info": {
   "codemirror_mode": {
    "name": "ipython",
    "version": 2
   },
   "file_extension": ".py",
   "mimetype": "text/x-python",
   "name": "python",
   "nbconvert_exporter": "python",
   "pygments_lexer": "ipython2",
   "version": "2.7.13"
  }
 },
 "nbformat": 4,
 "nbformat_minor": 1
}
