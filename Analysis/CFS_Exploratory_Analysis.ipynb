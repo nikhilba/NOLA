{
 "cells": [
  {
   "cell_type": "code",
   "execution_count": 1,
   "metadata": {
    "collapsed": true
   },
   "outputs": [],
   "source": [
    "# Load required libraries \n",
    "import os\n",
    "import csv\n",
    "import zipfile\n",
    "import string\n",
    "import pandas as pd\n",
    "import datetime as dt\n",
    "from collections import Counter\n",
    "import matplotlib.pyplot as plt\n",
    "import seaborn\n",
    "seaborn.set_style(\"white\")\n",
    "%matplotlib inline"
   ]
  },
  {
   "cell_type": "code",
   "execution_count": 2,
   "metadata": {
    "collapsed": false
   },
   "outputs": [],
   "source": [
    "# Load the data\n",
    "fullpath = \"..\\\\Datasets\\\\Final_Data\\\\Calls_for_Service_Cleaned.csv\"\n",
    "df_cfs = pd.read_csv(fullpath, sep=',')"
   ]
  },
  {
   "cell_type": "code",
   "execution_count": 3,
   "metadata": {
    "collapsed": false
   },
   "outputs": [
    {
     "data": {
      "text/html": [
       "<div>\n",
       "<table border=\"1\" class=\"dataframe\">\n",
       "  <thead>\n",
       "    <tr style=\"text-align: right;\">\n",
       "      <th></th>\n",
       "      <th>NOPD_Item</th>\n",
       "      <th>Type_</th>\n",
       "      <th>TypeText</th>\n",
       "      <th>Priority</th>\n",
       "      <th>InitialType</th>\n",
       "      <th>InitialTypeText</th>\n",
       "      <th>InitialPriority</th>\n",
       "      <th>MapX</th>\n",
       "      <th>MapY</th>\n",
       "      <th>TimeCreate</th>\n",
       "      <th>...</th>\n",
       "      <th>SelfInitiated</th>\n",
       "      <th>Beat</th>\n",
       "      <th>BLOCK_ADDRESS</th>\n",
       "      <th>Zip</th>\n",
       "      <th>PoliceDistrict</th>\n",
       "      <th>Location</th>\n",
       "      <th>CrimeType</th>\n",
       "      <th>Description</th>\n",
       "      <th>Latitude</th>\n",
       "      <th>Longitude</th>\n",
       "    </tr>\n",
       "  </thead>\n",
       "  <tbody>\n",
       "    <tr>\n",
       "      <th>0</th>\n",
       "      <td>A0026112</td>\n",
       "      <td>65</td>\n",
       "      <td>SIMPLE ROBBERY</td>\n",
       "      <td>1B</td>\n",
       "      <td>NaN</td>\n",
       "      <td>NaN</td>\n",
       "      <td>NaN</td>\n",
       "      <td>3680346</td>\n",
       "      <td>531912</td>\n",
       "      <td>2012-01-01 01:44:00</td>\n",
       "      <td>...</td>\n",
       "      <td>NaN</td>\n",
       "      <td>8D02</td>\n",
       "      <td>002XX N Rampart St</td>\n",
       "      <td>70112.0</td>\n",
       "      <td>8</td>\n",
       "      <td>(29.956608537919635, -90.07170060793311)</td>\n",
       "      <td>VIOLENT CRIME</td>\n",
       "      <td>SIMPLE ROBBERY</td>\n",
       "      <td>29.956609</td>\n",
       "      <td>-90.071701</td>\n",
       "    </tr>\n",
       "    <tr>\n",
       "      <th>1</th>\n",
       "      <td>A0139412</td>\n",
       "      <td>65</td>\n",
       "      <td>SIMPLE ROBBERY</td>\n",
       "      <td>1B</td>\n",
       "      <td>NaN</td>\n",
       "      <td>NaN</td>\n",
       "      <td>NaN</td>\n",
       "      <td>3682307</td>\n",
       "      <td>529905</td>\n",
       "      <td>2012-01-01 20:04:00</td>\n",
       "      <td>...</td>\n",
       "      <td>NaN</td>\n",
       "      <td>8B01</td>\n",
       "      <td>003XX Canal St</td>\n",
       "      <td>70130.0</td>\n",
       "      <td>8</td>\n",
       "      <td>(29.951030452997887, -90.06557853022184)</td>\n",
       "      <td>VIOLENT CRIME</td>\n",
       "      <td>SIMPLE ROBBERY</td>\n",
       "      <td>29.951030</td>\n",
       "      <td>-90.065579</td>\n",
       "    </tr>\n",
       "    <tr>\n",
       "      <th>2</th>\n",
       "      <td>A0163512</td>\n",
       "      <td>65</td>\n",
       "      <td>SIMPLE ROBBERY</td>\n",
       "      <td>2B</td>\n",
       "      <td>NaN</td>\n",
       "      <td>NaN</td>\n",
       "      <td>NaN</td>\n",
       "      <td>3682519</td>\n",
       "      <td>532977</td>\n",
       "      <td>2012-01-02 00:13:00</td>\n",
       "      <td>...</td>\n",
       "      <td>NaN</td>\n",
       "      <td>8E01</td>\n",
       "      <td>008XX Bourbon St</td>\n",
       "      <td>70116.0</td>\n",
       "      <td>8</td>\n",
       "      <td>(29.9594709577918, -90.06480175675452)</td>\n",
       "      <td>VIOLENT CRIME</td>\n",
       "      <td>SIMPLE ROBBERY</td>\n",
       "      <td>29.959471</td>\n",
       "      <td>-90.064802</td>\n",
       "    </tr>\n",
       "    <tr>\n",
       "      <th>3</th>\n",
       "      <td>A0195712</td>\n",
       "      <td>65</td>\n",
       "      <td>SIMPLE ROBBERY</td>\n",
       "      <td>1B</td>\n",
       "      <td>NaN</td>\n",
       "      <td>NaN</td>\n",
       "      <td>NaN</td>\n",
       "      <td>3669570</td>\n",
       "      <td>518651</td>\n",
       "      <td>2012-01-02 09:12:00</td>\n",
       "      <td>...</td>\n",
       "      <td>NaN</td>\n",
       "      <td>2F04</td>\n",
       "      <td>009XX Bordeaux St</td>\n",
       "      <td>70115.0</td>\n",
       "      <td>2</td>\n",
       "      <td>(29.92046691792707, -90.1061762712039)</td>\n",
       "      <td>VIOLENT CRIME</td>\n",
       "      <td>SIMPLE ROBBERY</td>\n",
       "      <td>29.920467</td>\n",
       "      <td>-90.106176</td>\n",
       "    </tr>\n",
       "    <tr>\n",
       "      <th>4</th>\n",
       "      <td>A0248912</td>\n",
       "      <td>65</td>\n",
       "      <td>SIMPLE ROBBERY</td>\n",
       "      <td>1B</td>\n",
       "      <td>NaN</td>\n",
       "      <td>NaN</td>\n",
       "      <td>NaN</td>\n",
       "      <td>3692359</td>\n",
       "      <td>543219</td>\n",
       "      <td>2012-01-02 17:25:00</td>\n",
       "      <td>...</td>\n",
       "      <td>NaN</td>\n",
       "      <td>5Q02</td>\n",
       "      <td>030XX Morrice Duncan Dr</td>\n",
       "      <td>70126.0</td>\n",
       "      <td>5</td>\n",
       "      <td>(29.987329613283705, -90.03336254702)</td>\n",
       "      <td>VIOLENT CRIME</td>\n",
       "      <td>SIMPLE ROBBERY</td>\n",
       "      <td>29.987330</td>\n",
       "      <td>-90.033363</td>\n",
       "    </tr>\n",
       "  </tbody>\n",
       "</table>\n",
       "<p>5 rows × 25 columns</p>\n",
       "</div>"
      ],
      "text/plain": [
       "  NOPD_Item Type_        TypeText Priority InitialType InitialTypeText  \\\n",
       "0  A0026112    65  SIMPLE ROBBERY       1B         NaN             NaN   \n",
       "1  A0139412    65  SIMPLE ROBBERY       1B         NaN             NaN   \n",
       "2  A0163512    65  SIMPLE ROBBERY       2B         NaN             NaN   \n",
       "3  A0195712    65  SIMPLE ROBBERY       1B         NaN             NaN   \n",
       "4  A0248912    65  SIMPLE ROBBERY       1B         NaN             NaN   \n",
       "\n",
       "  InitialPriority     MapX    MapY           TimeCreate    ...      \\\n",
       "0             NaN  3680346  531912  2012-01-01 01:44:00    ...       \n",
       "1             NaN  3682307  529905  2012-01-01 20:04:00    ...       \n",
       "2             NaN  3682519  532977  2012-01-02 00:13:00    ...       \n",
       "3             NaN  3669570  518651  2012-01-02 09:12:00    ...       \n",
       "4             NaN  3692359  543219  2012-01-02 17:25:00    ...       \n",
       "\n",
       "  SelfInitiated  Beat            BLOCK_ADDRESS      Zip PoliceDistrict  \\\n",
       "0           NaN  8D02       002XX N Rampart St  70112.0              8   \n",
       "1           NaN  8B01           003XX Canal St  70130.0              8   \n",
       "2           NaN  8E01         008XX Bourbon St  70116.0              8   \n",
       "3           NaN  2F04        009XX Bordeaux St  70115.0              2   \n",
       "4           NaN  5Q02  030XX Morrice Duncan Dr  70126.0              5   \n",
       "\n",
       "                                   Location      CrimeType     Description  \\\n",
       "0  (29.956608537919635, -90.07170060793311)  VIOLENT CRIME  SIMPLE ROBBERY   \n",
       "1  (29.951030452997887, -90.06557853022184)  VIOLENT CRIME  SIMPLE ROBBERY   \n",
       "2    (29.9594709577918, -90.06480175675452)  VIOLENT CRIME  SIMPLE ROBBERY   \n",
       "3    (29.92046691792707, -90.1061762712039)  VIOLENT CRIME  SIMPLE ROBBERY   \n",
       "4     (29.987329613283705, -90.03336254702)  VIOLENT CRIME  SIMPLE ROBBERY   \n",
       "\n",
       "    Latitude  Longitude  \n",
       "0  29.956609 -90.071701  \n",
       "1  29.951030 -90.065579  \n",
       "2  29.959471 -90.064802  \n",
       "3  29.920467 -90.106176  \n",
       "4  29.987330 -90.033363  \n",
       "\n",
       "[5 rows x 25 columns]"
      ]
     },
     "execution_count": 3,
     "metadata": {},
     "output_type": "execute_result"
    }
   ],
   "source": [
    "df_cfs.head()"
   ]
  },
  {
   "cell_type": "code",
   "execution_count": 4,
   "metadata": {
    "collapsed": false
   },
   "outputs": [
    {
     "data": {
      "text/plain": [
       "Index([u'NOPD_Item', u'Type_', u'TypeText', u'Priority', u'InitialType',\n",
       "       u'InitialTypeText', u'InitialPriority', u'MapX', u'MapY', u'TimeCreate',\n",
       "       u'TimeDispatch', u'TimeArrive', u'TimeClosed', u'Disposition',\n",
       "       u'DispositionText', u'SelfInitiated', u'Beat', u'BLOCK_ADDRESS', u'Zip',\n",
       "       u'PoliceDistrict', u'Location', u'CrimeType', u'Description',\n",
       "       u'Latitude', u'Longitude'],\n",
       "      dtype='object')"
      ]
     },
     "execution_count": 4,
     "metadata": {},
     "output_type": "execute_result"
    }
   ],
   "source": [
    "df_cfs.columns"
   ]
  },
  {
   "cell_type": "code",
   "execution_count": 5,
   "metadata": {
    "collapsed": false,
    "scrolled": false
   },
   "outputs": [],
   "source": [
    "# Drop unnecesary columns\n",
    "colnames = ['Priority','Type_','TypeText','Location','BLOCK_ADDRESS','InitialType','PoliceDistrict','InitialTypeText','InitialPriority','MapX','MapY','Disposition','DispositionText','SelfInitiated', 'CrimeType']\n",
    "df_cfs = df_cfs.drop(colnames, axis = 1)"
   ]
  },
  {
   "cell_type": "code",
   "execution_count": 6,
   "metadata": {
    "collapsed": false
   },
   "outputs": [
    {
     "data": {
      "text/html": [
       "<div>\n",
       "<table border=\"1\" class=\"dataframe\">\n",
       "  <thead>\n",
       "    <tr style=\"text-align: right;\">\n",
       "      <th></th>\n",
       "      <th>NOPD_Item</th>\n",
       "      <th>TimeCreate</th>\n",
       "      <th>TimeDispatch</th>\n",
       "      <th>TimeArrive</th>\n",
       "      <th>TimeClosed</th>\n",
       "      <th>Beat</th>\n",
       "      <th>Zip</th>\n",
       "      <th>Description</th>\n",
       "      <th>Latitude</th>\n",
       "      <th>Longitude</th>\n",
       "    </tr>\n",
       "  </thead>\n",
       "  <tbody>\n",
       "    <tr>\n",
       "      <th>0</th>\n",
       "      <td>A0026112</td>\n",
       "      <td>2012-01-01 01:44:00</td>\n",
       "      <td>1/1/2012 1:45</td>\n",
       "      <td>1/1/2012 1:47</td>\n",
       "      <td>1/1/2012 3:37</td>\n",
       "      <td>8D02</td>\n",
       "      <td>70112.0</td>\n",
       "      <td>SIMPLE ROBBERY</td>\n",
       "      <td>29.956609</td>\n",
       "      <td>-90.071701</td>\n",
       "    </tr>\n",
       "    <tr>\n",
       "      <th>1</th>\n",
       "      <td>A0139412</td>\n",
       "      <td>2012-01-01 20:04:00</td>\n",
       "      <td>1/1/2012 20:08</td>\n",
       "      <td>1/1/2012 20:10</td>\n",
       "      <td>1/1/2012 22:35</td>\n",
       "      <td>8B01</td>\n",
       "      <td>70130.0</td>\n",
       "      <td>SIMPLE ROBBERY</td>\n",
       "      <td>29.951030</td>\n",
       "      <td>-90.065579</td>\n",
       "    </tr>\n",
       "    <tr>\n",
       "      <th>2</th>\n",
       "      <td>A0163512</td>\n",
       "      <td>2012-01-02 00:13:00</td>\n",
       "      <td>1/2/2012 0:16</td>\n",
       "      <td>1/2/2012 0:23</td>\n",
       "      <td>1/2/2012 1:30</td>\n",
       "      <td>8E01</td>\n",
       "      <td>70116.0</td>\n",
       "      <td>SIMPLE ROBBERY</td>\n",
       "      <td>29.959471</td>\n",
       "      <td>-90.064802</td>\n",
       "    </tr>\n",
       "    <tr>\n",
       "      <th>3</th>\n",
       "      <td>A0195712</td>\n",
       "      <td>2012-01-02 09:12:00</td>\n",
       "      <td>1/2/2012 9:14</td>\n",
       "      <td>1/2/2012 9:24</td>\n",
       "      <td>1/2/2012 10:32</td>\n",
       "      <td>2F04</td>\n",
       "      <td>70115.0</td>\n",
       "      <td>SIMPLE ROBBERY</td>\n",
       "      <td>29.920467</td>\n",
       "      <td>-90.106176</td>\n",
       "    </tr>\n",
       "    <tr>\n",
       "      <th>4</th>\n",
       "      <td>A0248912</td>\n",
       "      <td>2012-01-02 17:25:00</td>\n",
       "      <td>1/2/2012 17:44</td>\n",
       "      <td>1/2/2012 17:52</td>\n",
       "      <td>1/2/2012 20:16</td>\n",
       "      <td>5Q02</td>\n",
       "      <td>70126.0</td>\n",
       "      <td>SIMPLE ROBBERY</td>\n",
       "      <td>29.987330</td>\n",
       "      <td>-90.033363</td>\n",
       "    </tr>\n",
       "  </tbody>\n",
       "</table>\n",
       "</div>"
      ],
      "text/plain": [
       "  NOPD_Item           TimeCreate    TimeDispatch      TimeArrive  \\\n",
       "0  A0026112  2012-01-01 01:44:00   1/1/2012 1:45   1/1/2012 1:47   \n",
       "1  A0139412  2012-01-01 20:04:00  1/1/2012 20:08  1/1/2012 20:10   \n",
       "2  A0163512  2012-01-02 00:13:00   1/2/2012 0:16   1/2/2012 0:23   \n",
       "3  A0195712  2012-01-02 09:12:00   1/2/2012 9:14   1/2/2012 9:24   \n",
       "4  A0248912  2012-01-02 17:25:00  1/2/2012 17:44  1/2/2012 17:52   \n",
       "\n",
       "       TimeClosed  Beat      Zip     Description   Latitude  Longitude  \n",
       "0   1/1/2012 3:37  8D02  70112.0  SIMPLE ROBBERY  29.956609 -90.071701  \n",
       "1  1/1/2012 22:35  8B01  70130.0  SIMPLE ROBBERY  29.951030 -90.065579  \n",
       "2   1/2/2012 1:30  8E01  70116.0  SIMPLE ROBBERY  29.959471 -90.064802  \n",
       "3  1/2/2012 10:32  2F04  70115.0  SIMPLE ROBBERY  29.920467 -90.106176  \n",
       "4  1/2/2012 20:16  5Q02  70126.0  SIMPLE ROBBERY  29.987330 -90.033363  "
      ]
     },
     "execution_count": 6,
     "metadata": {},
     "output_type": "execute_result"
    }
   ],
   "source": [
    "df_cfs.head()"
   ]
  },
  {
   "cell_type": "code",
   "execution_count": 7,
   "metadata": {
    "collapsed": false
   },
   "outputs": [
    {
     "data": {
      "text/plain": [
       "{'AGGRAVATED ASSAULT',\n",
       " 'AGGRAVATED ASSAULT DOMESTIC',\n",
       " 'AGGRAVATED BATTERY',\n",
       " 'AGGRAVATED BATTERY BY KNIFE',\n",
       " 'AGGRAVATED BATTERY BY SHOOTING',\n",
       " 'AGGRAVATED BATTERY DOMESTIC',\n",
       " 'AGGRAVATED CRIMINAL DAMAGE',\n",
       " 'AGGRAVATED RAPE',\n",
       " 'AGGRAVATED RAPE MALE VICTIM',\n",
       " 'ARMED ROBBERY',\n",
       " 'ARMED ROBBERY WITH GUN',\n",
       " 'ARMED ROBBERY WITH KNIFE',\n",
       " 'CARJACKING',\n",
       " 'CARJACKING- NO WEAPON',\n",
       " 'HOMICIDE',\n",
       " 'HOMICIDE BY CUTTING',\n",
       " 'HOMICIDE BY SHOOTING',\n",
       " 'HOMICIDE DOMESTIC',\n",
       " 'ORAL SEXUAL BATTERY',\n",
       " 'SIMPLE RAPE',\n",
       " 'SIMPLE RAPE MALE VICTIM',\n",
       " 'SIMPLE ROBBERY'}"
      ]
     },
     "execution_count": 7,
     "metadata": {},
     "output_type": "execute_result"
    }
   ],
   "source": [
    "set(df_cfs.Description)"
   ]
  },
  {
   "cell_type": "code",
   "execution_count": 8,
   "metadata": {
    "collapsed": true
   },
   "outputs": [],
   "source": [
    "# Convert column type to datetime\n",
    "df_cfs.TimeCreate = pd.to_datetime(df_cfs.TimeCreate)"
   ]
  },
  {
   "cell_type": "code",
   "execution_count": 9,
   "metadata": {
    "collapsed": false
   },
   "outputs": [
    {
     "data": {
      "text/plain": [
       "13927"
      ]
     },
     "execution_count": 9,
     "metadata": {},
     "output_type": "execute_result"
    }
   ],
   "source": [
    "len(df_cfs)"
   ]
  },
  {
   "cell_type": "code",
   "execution_count": 10,
   "metadata": {
    "collapsed": true
   },
   "outputs": [],
   "source": [
    "df_cfs['DOW'] = df_cfs.TimeCreate.dt.dayofweek\n",
    "df_cfs['Month'] = df_cfs.TimeCreate.map(lambda x: x.month)\n",
    "df_cfs['DOM'] = df_cfs.TimeCreate.map(lambda x: x.day)\n",
    "df_cfs['Year'] = df_cfs.TimeCreate.map(lambda x: x.year)\n",
    "df_cfs['Hour'] = df_cfs.TimeCreate.map(lambda x: x.hour)"
   ]
  },
  {
   "cell_type": "code",
   "execution_count": 11,
   "metadata": {
    "collapsed": false
   },
   "outputs": [
    {
     "data": {
      "text/html": [
       "<div>\n",
       "<table border=\"1\" class=\"dataframe\">\n",
       "  <thead>\n",
       "    <tr style=\"text-align: right;\">\n",
       "      <th></th>\n",
       "      <th>NOPD_Item</th>\n",
       "      <th>TimeCreate</th>\n",
       "      <th>TimeDispatch</th>\n",
       "      <th>TimeArrive</th>\n",
       "      <th>TimeClosed</th>\n",
       "      <th>Beat</th>\n",
       "      <th>Zip</th>\n",
       "      <th>Description</th>\n",
       "      <th>Latitude</th>\n",
       "      <th>Longitude</th>\n",
       "      <th>DOW</th>\n",
       "      <th>Month</th>\n",
       "      <th>DOM</th>\n",
       "      <th>Year</th>\n",
       "      <th>Hour</th>\n",
       "    </tr>\n",
       "  </thead>\n",
       "  <tbody>\n",
       "    <tr>\n",
       "      <th>0</th>\n",
       "      <td>A0026112</td>\n",
       "      <td>2012-01-01 01:44:00</td>\n",
       "      <td>1/1/2012 1:45</td>\n",
       "      <td>1/1/2012 1:47</td>\n",
       "      <td>1/1/2012 3:37</td>\n",
       "      <td>8D02</td>\n",
       "      <td>70112.0</td>\n",
       "      <td>SIMPLE ROBBERY</td>\n",
       "      <td>29.956609</td>\n",
       "      <td>-90.071701</td>\n",
       "      <td>6</td>\n",
       "      <td>1</td>\n",
       "      <td>1</td>\n",
       "      <td>2012</td>\n",
       "      <td>1</td>\n",
       "    </tr>\n",
       "    <tr>\n",
       "      <th>1</th>\n",
       "      <td>A0139412</td>\n",
       "      <td>2012-01-01 20:04:00</td>\n",
       "      <td>1/1/2012 20:08</td>\n",
       "      <td>1/1/2012 20:10</td>\n",
       "      <td>1/1/2012 22:35</td>\n",
       "      <td>8B01</td>\n",
       "      <td>70130.0</td>\n",
       "      <td>SIMPLE ROBBERY</td>\n",
       "      <td>29.951030</td>\n",
       "      <td>-90.065579</td>\n",
       "      <td>6</td>\n",
       "      <td>1</td>\n",
       "      <td>1</td>\n",
       "      <td>2012</td>\n",
       "      <td>20</td>\n",
       "    </tr>\n",
       "    <tr>\n",
       "      <th>2</th>\n",
       "      <td>A0163512</td>\n",
       "      <td>2012-01-02 00:13:00</td>\n",
       "      <td>1/2/2012 0:16</td>\n",
       "      <td>1/2/2012 0:23</td>\n",
       "      <td>1/2/2012 1:30</td>\n",
       "      <td>8E01</td>\n",
       "      <td>70116.0</td>\n",
       "      <td>SIMPLE ROBBERY</td>\n",
       "      <td>29.959471</td>\n",
       "      <td>-90.064802</td>\n",
       "      <td>0</td>\n",
       "      <td>1</td>\n",
       "      <td>2</td>\n",
       "      <td>2012</td>\n",
       "      <td>0</td>\n",
       "    </tr>\n",
       "    <tr>\n",
       "      <th>3</th>\n",
       "      <td>A0195712</td>\n",
       "      <td>2012-01-02 09:12:00</td>\n",
       "      <td>1/2/2012 9:14</td>\n",
       "      <td>1/2/2012 9:24</td>\n",
       "      <td>1/2/2012 10:32</td>\n",
       "      <td>2F04</td>\n",
       "      <td>70115.0</td>\n",
       "      <td>SIMPLE ROBBERY</td>\n",
       "      <td>29.920467</td>\n",
       "      <td>-90.106176</td>\n",
       "      <td>0</td>\n",
       "      <td>1</td>\n",
       "      <td>2</td>\n",
       "      <td>2012</td>\n",
       "      <td>9</td>\n",
       "    </tr>\n",
       "    <tr>\n",
       "      <th>4</th>\n",
       "      <td>A0248912</td>\n",
       "      <td>2012-01-02 17:25:00</td>\n",
       "      <td>1/2/2012 17:44</td>\n",
       "      <td>1/2/2012 17:52</td>\n",
       "      <td>1/2/2012 20:16</td>\n",
       "      <td>5Q02</td>\n",
       "      <td>70126.0</td>\n",
       "      <td>SIMPLE ROBBERY</td>\n",
       "      <td>29.987330</td>\n",
       "      <td>-90.033363</td>\n",
       "      <td>0</td>\n",
       "      <td>1</td>\n",
       "      <td>2</td>\n",
       "      <td>2012</td>\n",
       "      <td>17</td>\n",
       "    </tr>\n",
       "  </tbody>\n",
       "</table>\n",
       "</div>"
      ],
      "text/plain": [
       "  NOPD_Item          TimeCreate    TimeDispatch      TimeArrive  \\\n",
       "0  A0026112 2012-01-01 01:44:00   1/1/2012 1:45   1/1/2012 1:47   \n",
       "1  A0139412 2012-01-01 20:04:00  1/1/2012 20:08  1/1/2012 20:10   \n",
       "2  A0163512 2012-01-02 00:13:00   1/2/2012 0:16   1/2/2012 0:23   \n",
       "3  A0195712 2012-01-02 09:12:00   1/2/2012 9:14   1/2/2012 9:24   \n",
       "4  A0248912 2012-01-02 17:25:00  1/2/2012 17:44  1/2/2012 17:52   \n",
       "\n",
       "       TimeClosed  Beat      Zip     Description   Latitude  Longitude  DOW  \\\n",
       "0   1/1/2012 3:37  8D02  70112.0  SIMPLE ROBBERY  29.956609 -90.071701    6   \n",
       "1  1/1/2012 22:35  8B01  70130.0  SIMPLE ROBBERY  29.951030 -90.065579    6   \n",
       "2   1/2/2012 1:30  8E01  70116.0  SIMPLE ROBBERY  29.959471 -90.064802    0   \n",
       "3  1/2/2012 10:32  2F04  70115.0  SIMPLE ROBBERY  29.920467 -90.106176    0   \n",
       "4  1/2/2012 20:16  5Q02  70126.0  SIMPLE ROBBERY  29.987330 -90.033363    0   \n",
       "\n",
       "   Month  DOM  Year  Hour  \n",
       "0      1    1  2012     1  \n",
       "1      1    1  2012    20  \n",
       "2      1    2  2012     0  \n",
       "3      1    2  2012     9  \n",
       "4      1    2  2012    17  "
      ]
     },
     "execution_count": 11,
     "metadata": {},
     "output_type": "execute_result"
    }
   ],
   "source": [
    "df_cfs.head()"
   ]
  },
  {
   "cell_type": "code",
   "execution_count": 12,
   "metadata": {
    "collapsed": false
   },
   "outputs": [
    {
     "data": {
      "text/plain": [
       "<matplotlib.axes._subplots.AxesSubplot at 0xaa34438>"
      ]
     },
     "execution_count": 12,
     "metadata": {},
     "output_type": "execute_result"
    },
    {
     "data": {
      "image/png": "[encoded data removed]",
      "text/plain": [
       "<matplotlib.figure.Figure at 0xa900c50>"
      ]
     },
     "metadata": {},
     "output_type": "display_data"
    }
   ],
   "source": [
    "df_cfs.Year.hist(bins=5)"
   ]
  },
  {
   "cell_type": "code",
   "execution_count": 13,
   "metadata": {
    "collapsed": false,
    "scrolled": true
   },
   "outputs": [
    {
     "data": {
      "text/plain": [
       "<matplotlib.axes._subplots.AxesSubplot at 0xe059908>"
      ]
     },
     "execution_count": 13,
     "metadata": {},
     "output_type": "execute_result"
    },
    {
     "data": {
      "image/png": "[encoded data removed]",
      "text/plain": [
       "<matplotlib.figure.Figure at 0xe0da1d0>"
      ]
     },
     "metadata": {},
     "output_type": "display_data"
    }
   ],
   "source": [
    "df_cfs.Month.hist(bins=12)"
   ]
  },
  {
   "cell_type": "code",
   "execution_count": 14,
   "metadata": {
    "collapsed": false,
    "scrolled": true
   },
   "outputs": [
    {
     "data": {
      "text/plain": [
       "<matplotlib.axes._subplots.AxesSubplot at 0xe21c048>"
      ]
     },
     "execution_count": 14,
     "metadata": {},
     "output_type": "execute_result"
    },
    {
     "data": {
      "image/png": "[encoded data removed]",
      "text/plain": [
       "<matplotlib.figure.Figure at 0xe2a06a0>"
      ]
     },
     "metadata": {},
     "output_type": "display_data"
    }
   ],
   "source": [
    "df_cfs.DOM.hist(bins=31)"
   ]
  },
  {
   "cell_type": "code",
   "execution_count": 15,
   "metadata": {
    "collapsed": false,
    "scrolled": true
   },
   "outputs": [
    {
     "data": {
      "text/plain": [
       "<matplotlib.axes._subplots.AxesSubplot at 0xe380438>"
      ]
     },
     "execution_count": 15,
     "metadata": {},
     "output_type": "execute_result"
    },
    {
     "data": {
      "image/png": "[encoded data removed]",
      "text/plain": [
       "<matplotlib.figure.Figure at 0xe248128>"
      ]
     },
     "metadata": {},
     "output_type": "display_data"
    }
   ],
   "source": [
    "df_cfs.DOW.hist(bins=7)"
   ]
  },
  {
   "cell_type": "code",
   "execution_count": 16,
   "metadata": {
    "collapsed": false,
    "scrolled": true
   },
   "outputs": [
    {
     "data": {
      "text/plain": [
       "<matplotlib.axes._subplots.AxesSubplot at 0xe77f400>"
      ]
     },
     "execution_count": 16,
     "metadata": {},
     "output_type": "execute_result"
    },
    {
     "data": {
      "image/png": "[encoded data removed]",
      "text/plain": [
       "<matplotlib.figure.Figure at 0xe7d0be0>"
      ]
     },
     "metadata": {},
     "output_type": "display_data"
    }
   ],
   "source": [
    "df_cfs.Hour.hist(bins=24)"
   ]
  },
  {
   "cell_type": "code",
   "execution_count": null,
   "metadata": {
    "collapsed": true
   },
   "outputs": [],
   "source": []
  },
  {
   "cell_type": "code",
   "execution_count": null,
   "metadata": {
    "collapsed": true
   },
   "outputs": [],
   "source": []
  }
 ],
 "metadata": {
  "anaconda-cloud": {},
  "kernelspec": {
   "display_name": "Python [Root]",
   "language": "python",
   "name": "Python [Root]"
  },
  "language_info": {
   "codemirror_mode": {
    "name": "ipython",
    "version": 2
   },
   "file_extension": ".py",
   "mimetype": "text/x-python",
   "name": "python",
   "nbconvert_exporter": "python",
   "pygments_lexer": "ipython2",
   "version": "2.7.11"
  }
 },
 "nbformat": 4,
 "nbformat_minor": 0
}
