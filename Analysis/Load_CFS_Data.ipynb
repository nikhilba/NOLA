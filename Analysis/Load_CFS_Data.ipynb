{
 "cells": [
  {
   "cell_type": "markdown",
   "metadata": {},
   "source": [
    "# Introduction \n",
    "\n",
    "The below script loads data from Calls_for_service file and merges with data from max_cfs_ucr_categories file.\n",
    "Following constraints are applied:\n",
    "- Records year range = 2012 - 2016\n",
    "- Records Disposition = RTF \n",
    "- Records CrimeType = Violent Crime"
   ]
  },
  {
   "cell_type": "markdown",
   "metadata": {},
   "source": [
    "# Index\n",
    "\n",
    "- [1. Libraries](#1.-Libraries)\n",
    "- [2. Data Loading](#2.-Data-Loading)\n",
    "    - [A. Load Calls-for-Service (CFS) Data](#A.-Load-Calls-for-Service-Data)\n",
    "        - [i. Filter Records with Disposition 'RTF'](#i.-Filter-Records-with-Disposition-'RTF')\n",
    "        - [ii. Filter Records for Year 2012 to 2016](#ii.-Filter-Records-for-Year-2012-to-2016)    \n",
    "    - [B. Load Categories Data](#B.-Load-Categories-Data)\n",
    "        - [i. Filter Records for CrimeType 'Violent Crime'](#i.-Filter-Records-for-CrimeType-'Violent-Crime')\n",
    "- [3. Merge CFS with Categories data](#3.-Merge-CFS-with-Categories-data)\n",
    "- [4. Verify Records](#4.-Verify-Records)\n",
    "- [5. Generate Lat/Long from Location](#5.-Generate-Lat/Long-from-Location)\n",
    "- [6. Check Beat Values](#6.-Check-Beat-Values)\n",
    "    - [A. Load missing Beat Values](#A.-Load-missing-Beat-Values)\n",
    "- [7. Save CFS Data to csv](#7.-Save-CFS-Data-to-csv)\n",
    "- [8. Zip with most Violent Crimes](#8.-Zip-with-most-Violent-Crimes)\n"
   ]
  },
  {
   "cell_type": "markdown",
   "metadata": {},
   "source": [
    "# 1. Libraries\n",
    "\n",
    "Following libraries are required for this code to run successfully."
   ]
  },
  {
   "cell_type": "code",
   "execution_count": 1,
   "metadata": {
    "collapsed": false
   },
   "outputs": [],
   "source": [
    "# Load required libraries \n",
    "import os\n",
    "import csv\n",
    "import zipfile\n",
    "import string\n",
    "import pandas as pd\n",
    "import datetime as dt\n",
    "from collections import Counter"
   ]
  },
  {
   "cell_type": "markdown",
   "metadata": {},
   "source": [
    "# 2. Data Loading\n",
    "\n",
    "In this section we load following files:\n",
    "- Calls_for_Service Data\n",
    "- MAX_CFS_UCR_Categories Data\n",
    "\n",
    "And perform required data manipulation steps."
   ]
  },
  {
   "cell_type": "markdown",
   "metadata": {},
   "source": [
    "## A. Load Calls-for-Service Data"
   ]
  },
  {
   "cell_type": "code",
   "execution_count": 2,
   "metadata": {
    "collapsed": false
   },
   "outputs": [
    {
     "data": {
      "text/plain": [
       "'../Datasets/Raw_Data/Calls_for_Service/'"
      ]
     },
     "execution_count": 2,
     "metadata": {},
     "output_type": "execute_result"
    }
   ],
   "source": [
    "# Set location of file\n",
    "path = os.path.join(\"../Datasets/Raw_Data/Calls_for_Service/\")\n",
    "path"
   ]
  },
  {
   "cell_type": "code",
   "execution_count": 3,
   "metadata": {
    "collapsed": false
   },
   "outputs": [
    {
     "data": {
      "text/plain": [
       "['Calls_for_Service_2012.zip',\n",
       " 'Calls_for_Service_2013.zip',\n",
       " 'Calls_for_Service_2014.zip',\n",
       " 'Calls_for_Service_2015.zip',\n",
       " 'Calls_for_Service_2016.zip']"
      ]
     },
     "execution_count": 3,
     "metadata": {},
     "output_type": "execute_result"
    }
   ],
   "source": [
    "# Get filenames\n",
    "filenames = os.listdir(path)\n",
    "filenames"
   ]
  },
  {
   "cell_type": "code",
   "execution_count": 4,
   "metadata": {
    "collapsed": false
   },
   "outputs": [],
   "source": [
    "# Load data from files in list\n",
    "dfs = []\n",
    "for f in filenames:\n",
    "    zf = zipfile.ZipFile(os.path.join(path,f)) \n",
    "    dfs.append(pd.read_csv(zf.open(str.replace(f, 'zip', 'csv')),))\n",
    "\n",
    "# Merge all df in list\n",
    "cfs_df = pd.concat(dfs, ignore_index=True)\n",
    "\n",
    "# Change datatype of column Type_ to String\n",
    "cfs_df.Type_ = cfs_df.Type_.apply(str)"
   ]
  },
  {
   "cell_type": "code",
   "execution_count": 5,
   "metadata": {
    "collapsed": false
   },
   "outputs": [
    {
     "data": {
      "text/html": [
       "<div>\n",
       "<table border=\"1\" class=\"dataframe\">\n",
       "  <thead>\n",
       "    <tr style=\"text-align: right;\">\n",
       "      <th></th>\n",
       "      <th>NOPD_Item</th>\n",
       "      <th>Type_</th>\n",
       "      <th>TypeText</th>\n",
       "      <th>Priority</th>\n",
       "      <th>InitialType</th>\n",
       "      <th>InitialTypeText</th>\n",
       "      <th>InitialPriority</th>\n",
       "      <th>MapX</th>\n",
       "      <th>MapY</th>\n",
       "      <th>TimeCreate</th>\n",
       "      <th>...</th>\n",
       "      <th>TimeArrive</th>\n",
       "      <th>TimeClosed</th>\n",
       "      <th>Disposition</th>\n",
       "      <th>DispositionText</th>\n",
       "      <th>SelfInitiated</th>\n",
       "      <th>Beat</th>\n",
       "      <th>BLOCK_ADDRESS</th>\n",
       "      <th>Zip</th>\n",
       "      <th>PoliceDistrict</th>\n",
       "      <th>Location</th>\n",
       "    </tr>\n",
       "  </thead>\n",
       "  <tbody>\n",
       "    <tr>\n",
       "      <th>0</th>\n",
       "      <td>A0000112</td>\n",
       "      <td>62A</td>\n",
       "      <td>BURGLAR ALARM, SILEN</td>\n",
       "      <td>2C</td>\n",
       "      <td>NaN</td>\n",
       "      <td>NaN</td>\n",
       "      <td>NaN</td>\n",
       "      <td>3683627</td>\n",
       "      <td>532625</td>\n",
       "      <td>1/1/2012 0:00</td>\n",
       "      <td>...</td>\n",
       "      <td>NaN</td>\n",
       "      <td>1/1/2012 0:33</td>\n",
       "      <td>NAT</td>\n",
       "      <td>NECESSARY ACTION TAKEN</td>\n",
       "      <td>NaN</td>\n",
       "      <td>NaN</td>\n",
       "      <td>009XX Decatur St</td>\n",
       "      <td>70116.0</td>\n",
       "      <td>8</td>\n",
       "      <td>(29.958469303316875, -90.0613152964016)</td>\n",
       "    </tr>\n",
       "    <tr>\n",
       "      <th>1</th>\n",
       "      <td>A0000412</td>\n",
       "      <td>94</td>\n",
       "      <td>DISCHARGING FIREARMS</td>\n",
       "      <td>2B</td>\n",
       "      <td>NaN</td>\n",
       "      <td>NaN</td>\n",
       "      <td>NaN</td>\n",
       "      <td>3732996</td>\n",
       "      <td>562418</td>\n",
       "      <td>1/1/2012 0:00</td>\n",
       "      <td>...</td>\n",
       "      <td>1/1/2012 0:16</td>\n",
       "      <td>1/1/2012 0:30</td>\n",
       "      <td>UNF</td>\n",
       "      <td>UNFOUNDED</td>\n",
       "      <td>NaN</td>\n",
       "      <td>NaN</td>\n",
       "      <td>147XX Chef Menteur Hwy</td>\n",
       "      <td>70129.0</td>\n",
       "      <td>7</td>\n",
       "      <td>(30.038788769111676, -89.90425047516077)</td>\n",
       "    </tr>\n",
       "    <tr>\n",
       "      <th>2</th>\n",
       "      <td>A0000212</td>\n",
       "      <td>103</td>\n",
       "      <td>DISTURBANCE (OTHER)</td>\n",
       "      <td>1C</td>\n",
       "      <td>NaN</td>\n",
       "      <td>NaN</td>\n",
       "      <td>NaN</td>\n",
       "      <td>3687688</td>\n",
       "      <td>548824</td>\n",
       "      <td>1/1/2012 0:01</td>\n",
       "      <td>...</td>\n",
       "      <td>1/1/2012 0:01</td>\n",
       "      <td>1/1/2012 0:19</td>\n",
       "      <td>NAT</td>\n",
       "      <td>NECESSARY ACTION TAKEN</td>\n",
       "      <td>NaN</td>\n",
       "      <td>NaN</td>\n",
       "      <td>038XX Gentilly Blvd</td>\n",
       "      <td>70122.0</td>\n",
       "      <td>3</td>\n",
       "      <td>(30.002886229898206, -90.04791794333323)</td>\n",
       "    </tr>\n",
       "    <tr>\n",
       "      <th>3</th>\n",
       "      <td>A0000712</td>\n",
       "      <td>21</td>\n",
       "      <td>COMPLAINT OTHER</td>\n",
       "      <td>1H</td>\n",
       "      <td>NaN</td>\n",
       "      <td>NaN</td>\n",
       "      <td>NaN</td>\n",
       "      <td>3670776</td>\n",
       "      <td>521242</td>\n",
       "      <td>1/1/2012 0:01</td>\n",
       "      <td>...</td>\n",
       "      <td>NaN</td>\n",
       "      <td>1/1/2012 0:20</td>\n",
       "      <td>NAT</td>\n",
       "      <td>NECESSARY ACTION TAKEN</td>\n",
       "      <td>NaN</td>\n",
       "      <td>NaN</td>\n",
       "      <td>Carondelet St &amp; Napoleon Ave</td>\n",
       "      <td>70115.0</td>\n",
       "      <td>2</td>\n",
       "      <td>(29.927555772946167, -90.10228161624175)</td>\n",
       "    </tr>\n",
       "    <tr>\n",
       "      <th>4</th>\n",
       "      <td>A0000512</td>\n",
       "      <td>62A</td>\n",
       "      <td>BURGLAR ALARM, SILEN</td>\n",
       "      <td>2C</td>\n",
       "      <td>NaN</td>\n",
       "      <td>NaN</td>\n",
       "      <td>NaN</td>\n",
       "      <td>3665739</td>\n",
       "      <td>549621</td>\n",
       "      <td>1/1/2012 0:01</td>\n",
       "      <td>...</td>\n",
       "      <td>1/1/2012 0:09</td>\n",
       "      <td>1/1/2012 1:55</td>\n",
       "      <td>NAT</td>\n",
       "      <td>NECESSARY ACTION TAKEN</td>\n",
       "      <td>NaN</td>\n",
       "      <td>NaN</td>\n",
       "      <td>002XX W Harrison Ave</td>\n",
       "      <td>70124.0</td>\n",
       "      <td>3</td>\n",
       "      <td>(30.005736477457617, -90.11723146931276)</td>\n",
       "    </tr>\n",
       "  </tbody>\n",
       "</table>\n",
       "<p>5 rows × 21 columns</p>\n",
       "</div>"
      ],
      "text/plain": [
       "  NOPD_Item Type_              TypeText Priority InitialType InitialTypeText  \\\n",
       "0  A0000112   62A  BURGLAR ALARM, SILEN       2C         NaN             NaN   \n",
       "1  A0000412    94  DISCHARGING FIREARMS       2B         NaN             NaN   \n",
       "2  A0000212   103   DISTURBANCE (OTHER)       1C         NaN             NaN   \n",
       "3  A0000712    21       COMPLAINT OTHER       1H         NaN             NaN   \n",
       "4  A0000512   62A  BURGLAR ALARM, SILEN       2C         NaN             NaN   \n",
       "\n",
       "  InitialPriority     MapX    MapY     TimeCreate  \\\n",
       "0             NaN  3683627  532625  1/1/2012 0:00   \n",
       "1             NaN  3732996  562418  1/1/2012 0:00   \n",
       "2             NaN  3687688  548824  1/1/2012 0:01   \n",
       "3             NaN  3670776  521242  1/1/2012 0:01   \n",
       "4             NaN  3665739  549621  1/1/2012 0:01   \n",
       "\n",
       "                     ...                        TimeArrive     TimeClosed  \\\n",
       "0                    ...                               NaN  1/1/2012 0:33   \n",
       "1                    ...                     1/1/2012 0:16  1/1/2012 0:30   \n",
       "2                    ...                     1/1/2012 0:01  1/1/2012 0:19   \n",
       "3                    ...                               NaN  1/1/2012 0:20   \n",
       "4                    ...                     1/1/2012 0:09  1/1/2012 1:55   \n",
       "\n",
       "  Disposition         DispositionText SelfInitiated Beat  \\\n",
       "0         NAT  NECESSARY ACTION TAKEN           NaN  NaN   \n",
       "1         UNF               UNFOUNDED           NaN  NaN   \n",
       "2         NAT  NECESSARY ACTION TAKEN           NaN  NaN   \n",
       "3         NAT  NECESSARY ACTION TAKEN           NaN  NaN   \n",
       "4         NAT  NECESSARY ACTION TAKEN           NaN  NaN   \n",
       "\n",
       "                  BLOCK_ADDRESS      Zip  PoliceDistrict  \\\n",
       "0              009XX Decatur St  70116.0               8   \n",
       "1        147XX Chef Menteur Hwy  70129.0               7   \n",
       "2           038XX Gentilly Blvd  70122.0               3   \n",
       "3  Carondelet St & Napoleon Ave  70115.0               2   \n",
       "4          002XX W Harrison Ave  70124.0               3   \n",
       "\n",
       "                                   Location  \n",
       "0   (29.958469303316875, -90.0613152964016)  \n",
       "1  (30.038788769111676, -89.90425047516077)  \n",
       "2  (30.002886229898206, -90.04791794333323)  \n",
       "3  (29.927555772946167, -90.10228161624175)  \n",
       "4  (30.005736477457617, -90.11723146931276)  \n",
       "\n",
       "[5 rows x 21 columns]"
      ]
     },
     "execution_count": 5,
     "metadata": {},
     "output_type": "execute_result"
    }
   ],
   "source": [
    "# Display top 5 rows\n",
    "cfs_df.head()"
   ]
  },
  {
   "cell_type": "code",
   "execution_count": 6,
   "metadata": {
    "collapsed": false
   },
   "outputs": [
    {
     "data": {
      "text/plain": [
       "2252907"
      ]
     },
     "execution_count": 6,
     "metadata": {},
     "output_type": "execute_result"
    }
   ],
   "source": [
    "# Number of records\n",
    "len(cfs_df)"
   ]
  },
  {
   "cell_type": "code",
   "execution_count": 7,
   "metadata": {
    "collapsed": false,
    "scrolled": true
   },
   "outputs": [
    {
     "data": {
      "text/plain": [
       "Index([u'NOPD_Item', u'Type_', u'TypeText', u'Priority', u'InitialType',\n",
       "       u'InitialTypeText', u'InitialPriority', u'MapX', u'MapY', u'TimeCreate',\n",
       "       u'TimeDispatch', u'TimeArrive', u'TimeClosed', u'Disposition',\n",
       "       u'DispositionText', u'SelfInitiated', u'Beat', u'BLOCK_ADDRESS', u'Zip',\n",
       "       u'PoliceDistrict', u'Location'],\n",
       "      dtype='object')"
      ]
     },
     "execution_count": 7,
     "metadata": {},
     "output_type": "execute_result"
    }
   ],
   "source": [
    "# Column Names\n",
    "cfs_df.columns"
   ]
  },
  {
   "cell_type": "markdown",
   "metadata": {},
   "source": [
    "### i. Filter Records with Disposition 'RTF' "
   ]
  },
  {
   "cell_type": "code",
   "execution_count": 8,
   "metadata": {
    "collapsed": true
   },
   "outputs": [],
   "source": [
    "cfs_df = cfs_df[cfs_df.Disposition.str.strip() == 'RTF']"
   ]
  },
  {
   "cell_type": "code",
   "execution_count": 9,
   "metadata": {
    "collapsed": false
   },
   "outputs": [
    {
     "data": {
      "text/plain": [
       "428570"
      ]
     },
     "execution_count": 9,
     "metadata": {},
     "output_type": "execute_result"
    }
   ],
   "source": [
    "# Number of records\n",
    "len(cfs_df)"
   ]
  },
  {
   "cell_type": "code",
   "execution_count": 10,
   "metadata": {
    "collapsed": false,
    "scrolled": true
   },
   "outputs": [
    {
     "data": {
      "text/html": [
       "<div>\n",
       "<table border=\"1\" class=\"dataframe\">\n",
       "  <thead>\n",
       "    <tr style=\"text-align: right;\">\n",
       "      <th></th>\n",
       "      <th>NOPD_Item</th>\n",
       "      <th>Type_</th>\n",
       "      <th>TypeText</th>\n",
       "      <th>Priority</th>\n",
       "      <th>InitialType</th>\n",
       "      <th>InitialTypeText</th>\n",
       "      <th>InitialPriority</th>\n",
       "      <th>MapX</th>\n",
       "      <th>MapY</th>\n",
       "      <th>TimeCreate</th>\n",
       "      <th>...</th>\n",
       "      <th>TimeArrive</th>\n",
       "      <th>TimeClosed</th>\n",
       "      <th>Disposition</th>\n",
       "      <th>DispositionText</th>\n",
       "      <th>SelfInitiated</th>\n",
       "      <th>Beat</th>\n",
       "      <th>BLOCK_ADDRESS</th>\n",
       "      <th>Zip</th>\n",
       "      <th>PoliceDistrict</th>\n",
       "      <th>Location</th>\n",
       "    </tr>\n",
       "  </thead>\n",
       "  <tbody>\n",
       "    <tr>\n",
       "      <th>64</th>\n",
       "      <td>A0006912</td>\n",
       "      <td>29S</td>\n",
       "      <td>SUICIDE</td>\n",
       "      <td>2B</td>\n",
       "      <td>NaN</td>\n",
       "      <td>NaN</td>\n",
       "      <td>NaN</td>\n",
       "      <td>37369000</td>\n",
       "      <td>3513814</td>\n",
       "      <td>1/1/2012 0:16</td>\n",
       "      <td>...</td>\n",
       "      <td>1/1/2012 0:32</td>\n",
       "      <td>1/1/2012 0:59</td>\n",
       "      <td>RTF</td>\n",
       "      <td>REPORT TO FOLLOW</td>\n",
       "      <td>NaN</td>\n",
       "      <td>NaN</td>\n",
       "      <td>049XX Major Dr</td>\n",
       "      <td>70128.0</td>\n",
       "      <td>0</td>\n",
       "      <td>(9.235500542976004E-7, -0.000002292984766499941)</td>\n",
       "    </tr>\n",
       "    <tr>\n",
       "      <th>79</th>\n",
       "      <td>A0008112</td>\n",
       "      <td>966</td>\n",
       "      <td>DRUG VIOLATIONS</td>\n",
       "      <td>1G</td>\n",
       "      <td>NaN</td>\n",
       "      <td>NaN</td>\n",
       "      <td>NaN</td>\n",
       "      <td>3680920</td>\n",
       "      <td>540222</td>\n",
       "      <td>1/1/2012 0:22</td>\n",
       "      <td>...</td>\n",
       "      <td>1/1/2012 0:23</td>\n",
       "      <td>1/1/2012 1:13</td>\n",
       "      <td>RTF</td>\n",
       "      <td>REPORT TO FOLLOW</td>\n",
       "      <td>NaN</td>\n",
       "      <td>NaN</td>\n",
       "      <td>St Bernard Ave &amp; N Tonti St</td>\n",
       "      <td>70119.0</td>\n",
       "      <td>1</td>\n",
       "      <td>(29.979440793120016, -90.06959870234981)</td>\n",
       "    </tr>\n",
       "    <tr>\n",
       "      <th>80</th>\n",
       "      <td>A0008212</td>\n",
       "      <td>21U</td>\n",
       "      <td>UNDER AGE DRINKING V</td>\n",
       "      <td>1F</td>\n",
       "      <td>NaN</td>\n",
       "      <td>NaN</td>\n",
       "      <td>NaN</td>\n",
       "      <td>3681403</td>\n",
       "      <td>531510</td>\n",
       "      <td>1/1/2012 0:22</td>\n",
       "      <td>...</td>\n",
       "      <td>1/1/2012 0:22</td>\n",
       "      <td>1/1/2012 1:33</td>\n",
       "      <td>RTF</td>\n",
       "      <td>REPORT TO FOLLOW</td>\n",
       "      <td>NaN</td>\n",
       "      <td>NaN</td>\n",
       "      <td>003XX Bourbon St</td>\n",
       "      <td>70112.0</td>\n",
       "      <td>8</td>\n",
       "      <td>(29.95547113098435, -90.06837696099961)</td>\n",
       "    </tr>\n",
       "    <tr>\n",
       "      <th>83</th>\n",
       "      <td>A0008312</td>\n",
       "      <td>66</td>\n",
       "      <td>EXTORTION (THREATS)</td>\n",
       "      <td>1F</td>\n",
       "      <td>NaN</td>\n",
       "      <td>NaN</td>\n",
       "      <td>NaN</td>\n",
       "      <td>3691753</td>\n",
       "      <td>536508</td>\n",
       "      <td>1/1/2012 0:23</td>\n",
       "      <td>...</td>\n",
       "      <td>1/1/2012 0:25</td>\n",
       "      <td>1/1/2012 1:19</td>\n",
       "      <td>RTF</td>\n",
       "      <td>REPORT TO FOLLOW</td>\n",
       "      <td>NaN</td>\n",
       "      <td>NaN</td>\n",
       "      <td>014XX Alvar St</td>\n",
       "      <td>70117.0</td>\n",
       "      <td>5</td>\n",
       "      <td>(29.96889564722802, -90.03551677167968)</td>\n",
       "    </tr>\n",
       "    <tr>\n",
       "      <th>92</th>\n",
       "      <td>A0009412</td>\n",
       "      <td>94</td>\n",
       "      <td>DISCHARGING FIREARMS</td>\n",
       "      <td>2B</td>\n",
       "      <td>NaN</td>\n",
       "      <td>NaN</td>\n",
       "      <td>NaN</td>\n",
       "      <td>3696950</td>\n",
       "      <td>533169</td>\n",
       "      <td>1/1/2012 0:28</td>\n",
       "      <td>...</td>\n",
       "      <td>1/1/2012 0:28</td>\n",
       "      <td>1/1/2012 1:36</td>\n",
       "      <td>RTF</td>\n",
       "      <td>REPORT TO FOLLOW</td>\n",
       "      <td>NaN</td>\n",
       "      <td>NaN</td>\n",
       "      <td>054XX Burgundy St</td>\n",
       "      <td>70117.0</td>\n",
       "      <td>5</td>\n",
       "      <td>(29.959551708547103, -90.01922533580768)</td>\n",
       "    </tr>\n",
       "  </tbody>\n",
       "</table>\n",
       "<p>5 rows × 21 columns</p>\n",
       "</div>"
      ],
      "text/plain": [
       "   NOPD_Item Type_              TypeText Priority InitialType InitialTypeText  \\\n",
       "64  A0006912   29S               SUICIDE       2B         NaN             NaN   \n",
       "79  A0008112   966       DRUG VIOLATIONS       1G         NaN             NaN   \n",
       "80  A0008212   21U  UNDER AGE DRINKING V       1F         NaN             NaN   \n",
       "83  A0008312    66   EXTORTION (THREATS)       1F         NaN             NaN   \n",
       "92  A0009412    94  DISCHARGING FIREARMS       2B         NaN             NaN   \n",
       "\n",
       "   InitialPriority      MapX     MapY     TimeCreate  \\\n",
       "64             NaN  37369000  3513814  1/1/2012 0:16   \n",
       "79             NaN   3680920   540222  1/1/2012 0:22   \n",
       "80             NaN   3681403   531510  1/1/2012 0:22   \n",
       "83             NaN   3691753   536508  1/1/2012 0:23   \n",
       "92             NaN   3696950   533169  1/1/2012 0:28   \n",
       "\n",
       "                          ...                            TimeArrive  \\\n",
       "64                        ...                         1/1/2012 0:32   \n",
       "79                        ...                         1/1/2012 0:23   \n",
       "80                        ...                         1/1/2012 0:22   \n",
       "83                        ...                         1/1/2012 0:25   \n",
       "92                        ...                         1/1/2012 0:28   \n",
       "\n",
       "       TimeClosed Disposition   DispositionText SelfInitiated Beat  \\\n",
       "64  1/1/2012 0:59         RTF  REPORT TO FOLLOW           NaN  NaN   \n",
       "79  1/1/2012 1:13         RTF  REPORT TO FOLLOW           NaN  NaN   \n",
       "80  1/1/2012 1:33         RTF  REPORT TO FOLLOW           NaN  NaN   \n",
       "83  1/1/2012 1:19         RTF  REPORT TO FOLLOW           NaN  NaN   \n",
       "92  1/1/2012 1:36         RTF  REPORT TO FOLLOW           NaN  NaN   \n",
       "\n",
       "                  BLOCK_ADDRESS      Zip  PoliceDistrict  \\\n",
       "64               049XX Major Dr  70128.0               0   \n",
       "79  St Bernard Ave & N Tonti St  70119.0               1   \n",
       "80             003XX Bourbon St  70112.0               8   \n",
       "83               014XX Alvar St  70117.0               5   \n",
       "92            054XX Burgundy St  70117.0               5   \n",
       "\n",
       "                                            Location  \n",
       "64  (9.235500542976004E-7, -0.000002292984766499941)  \n",
       "79          (29.979440793120016, -90.06959870234981)  \n",
       "80           (29.95547113098435, -90.06837696099961)  \n",
       "83           (29.96889564722802, -90.03551677167968)  \n",
       "92          (29.959551708547103, -90.01922533580768)  \n",
       "\n",
       "[5 rows x 21 columns]"
      ]
     },
     "execution_count": 10,
     "metadata": {},
     "output_type": "execute_result"
    }
   ],
   "source": [
    "# Display top 5 rows\n",
    "cfs_df.head()"
   ]
  },
  {
   "cell_type": "markdown",
   "metadata": {},
   "source": [
    "### ii. Filter Records for Year 2012 to 2016"
   ]
  },
  {
   "cell_type": "code",
   "execution_count": 11,
   "metadata": {
    "collapsed": false
   },
   "outputs": [],
   "source": [
    "# Convert column type to datetime\n",
    "cfs_df.TimeCreate = pd.to_datetime(cfs_df.TimeCreate)"
   ]
  },
  {
   "cell_type": "code",
   "execution_count": 12,
   "metadata": {
    "collapsed": false
   },
   "outputs": [],
   "source": [
    "# Apply filter for year range 2014-2016\n",
    "cfs_df = cfs_df[(cfs_df.TimeCreate >= dt.date(2012,1,1)) \\\n",
    "                & (cfs_df.TimeCreate < dt.date(2017,1,1))]"
   ]
  },
  {
   "cell_type": "code",
   "execution_count": 13,
   "metadata": {
    "collapsed": false
   },
   "outputs": [
    {
     "data": {
      "text/plain": [
       "428570"
      ]
     },
     "execution_count": 13,
     "metadata": {},
     "output_type": "execute_result"
    }
   ],
   "source": [
    "len(cfs_df)"
   ]
  },
  {
   "cell_type": "code",
   "execution_count": 14,
   "metadata": {
    "collapsed": false,
    "scrolled": false
   },
   "outputs": [
    {
     "data": {
      "text/html": [
       "<div>\n",
       "<table border=\"1\" class=\"dataframe\">\n",
       "  <thead>\n",
       "    <tr style=\"text-align: right;\">\n",
       "      <th></th>\n",
       "      <th>NOPD_Item</th>\n",
       "      <th>Type_</th>\n",
       "      <th>TypeText</th>\n",
       "      <th>Priority</th>\n",
       "      <th>InitialType</th>\n",
       "      <th>InitialTypeText</th>\n",
       "      <th>InitialPriority</th>\n",
       "      <th>MapX</th>\n",
       "      <th>MapY</th>\n",
       "      <th>TimeCreate</th>\n",
       "      <th>...</th>\n",
       "      <th>TimeArrive</th>\n",
       "      <th>TimeClosed</th>\n",
       "      <th>Disposition</th>\n",
       "      <th>DispositionText</th>\n",
       "      <th>SelfInitiated</th>\n",
       "      <th>Beat</th>\n",
       "      <th>BLOCK_ADDRESS</th>\n",
       "      <th>Zip</th>\n",
       "      <th>PoliceDistrict</th>\n",
       "      <th>Location</th>\n",
       "    </tr>\n",
       "  </thead>\n",
       "  <tbody>\n",
       "    <tr>\n",
       "      <th>64</th>\n",
       "      <td>A0006912</td>\n",
       "      <td>29S</td>\n",
       "      <td>SUICIDE</td>\n",
       "      <td>2B</td>\n",
       "      <td>NaN</td>\n",
       "      <td>NaN</td>\n",
       "      <td>NaN</td>\n",
       "      <td>37369000</td>\n",
       "      <td>3513814</td>\n",
       "      <td>2012-01-01 00:16:00</td>\n",
       "      <td>...</td>\n",
       "      <td>1/1/2012 0:32</td>\n",
       "      <td>1/1/2012 0:59</td>\n",
       "      <td>RTF</td>\n",
       "      <td>REPORT TO FOLLOW</td>\n",
       "      <td>NaN</td>\n",
       "      <td>NaN</td>\n",
       "      <td>049XX Major Dr</td>\n",
       "      <td>70128.0</td>\n",
       "      <td>0</td>\n",
       "      <td>(9.235500542976004E-7, -0.000002292984766499941)</td>\n",
       "    </tr>\n",
       "    <tr>\n",
       "      <th>79</th>\n",
       "      <td>A0008112</td>\n",
       "      <td>966</td>\n",
       "      <td>DRUG VIOLATIONS</td>\n",
       "      <td>1G</td>\n",
       "      <td>NaN</td>\n",
       "      <td>NaN</td>\n",
       "      <td>NaN</td>\n",
       "      <td>3680920</td>\n",
       "      <td>540222</td>\n",
       "      <td>2012-01-01 00:22:00</td>\n",
       "      <td>...</td>\n",
       "      <td>1/1/2012 0:23</td>\n",
       "      <td>1/1/2012 1:13</td>\n",
       "      <td>RTF</td>\n",
       "      <td>REPORT TO FOLLOW</td>\n",
       "      <td>NaN</td>\n",
       "      <td>NaN</td>\n",
       "      <td>St Bernard Ave &amp; N Tonti St</td>\n",
       "      <td>70119.0</td>\n",
       "      <td>1</td>\n",
       "      <td>(29.979440793120016, -90.06959870234981)</td>\n",
       "    </tr>\n",
       "    <tr>\n",
       "      <th>80</th>\n",
       "      <td>A0008212</td>\n",
       "      <td>21U</td>\n",
       "      <td>UNDER AGE DRINKING V</td>\n",
       "      <td>1F</td>\n",
       "      <td>NaN</td>\n",
       "      <td>NaN</td>\n",
       "      <td>NaN</td>\n",
       "      <td>3681403</td>\n",
       "      <td>531510</td>\n",
       "      <td>2012-01-01 00:22:00</td>\n",
       "      <td>...</td>\n",
       "      <td>1/1/2012 0:22</td>\n",
       "      <td>1/1/2012 1:33</td>\n",
       "      <td>RTF</td>\n",
       "      <td>REPORT TO FOLLOW</td>\n",
       "      <td>NaN</td>\n",
       "      <td>NaN</td>\n",
       "      <td>003XX Bourbon St</td>\n",
       "      <td>70112.0</td>\n",
       "      <td>8</td>\n",
       "      <td>(29.95547113098435, -90.06837696099961)</td>\n",
       "    </tr>\n",
       "    <tr>\n",
       "      <th>83</th>\n",
       "      <td>A0008312</td>\n",
       "      <td>66</td>\n",
       "      <td>EXTORTION (THREATS)</td>\n",
       "      <td>1F</td>\n",
       "      <td>NaN</td>\n",
       "      <td>NaN</td>\n",
       "      <td>NaN</td>\n",
       "      <td>3691753</td>\n",
       "      <td>536508</td>\n",
       "      <td>2012-01-01 00:23:00</td>\n",
       "      <td>...</td>\n",
       "      <td>1/1/2012 0:25</td>\n",
       "      <td>1/1/2012 1:19</td>\n",
       "      <td>RTF</td>\n",
       "      <td>REPORT TO FOLLOW</td>\n",
       "      <td>NaN</td>\n",
       "      <td>NaN</td>\n",
       "      <td>014XX Alvar St</td>\n",
       "      <td>70117.0</td>\n",
       "      <td>5</td>\n",
       "      <td>(29.96889564722802, -90.03551677167968)</td>\n",
       "    </tr>\n",
       "    <tr>\n",
       "      <th>92</th>\n",
       "      <td>A0009412</td>\n",
       "      <td>94</td>\n",
       "      <td>DISCHARGING FIREARMS</td>\n",
       "      <td>2B</td>\n",
       "      <td>NaN</td>\n",
       "      <td>NaN</td>\n",
       "      <td>NaN</td>\n",
       "      <td>3696950</td>\n",
       "      <td>533169</td>\n",
       "      <td>2012-01-01 00:28:00</td>\n",
       "      <td>...</td>\n",
       "      <td>1/1/2012 0:28</td>\n",
       "      <td>1/1/2012 1:36</td>\n",
       "      <td>RTF</td>\n",
       "      <td>REPORT TO FOLLOW</td>\n",
       "      <td>NaN</td>\n",
       "      <td>NaN</td>\n",
       "      <td>054XX Burgundy St</td>\n",
       "      <td>70117.0</td>\n",
       "      <td>5</td>\n",
       "      <td>(29.959551708547103, -90.01922533580768)</td>\n",
       "    </tr>\n",
       "  </tbody>\n",
       "</table>\n",
       "<p>5 rows × 21 columns</p>\n",
       "</div>"
      ],
      "text/plain": [
       "   NOPD_Item Type_              TypeText Priority InitialType InitialTypeText  \\\n",
       "64  A0006912   29S               SUICIDE       2B         NaN             NaN   \n",
       "79  A0008112   966       DRUG VIOLATIONS       1G         NaN             NaN   \n",
       "80  A0008212   21U  UNDER AGE DRINKING V       1F         NaN             NaN   \n",
       "83  A0008312    66   EXTORTION (THREATS)       1F         NaN             NaN   \n",
       "92  A0009412    94  DISCHARGING FIREARMS       2B         NaN             NaN   \n",
       "\n",
       "   InitialPriority      MapX     MapY          TimeCreate  \\\n",
       "64             NaN  37369000  3513814 2012-01-01 00:16:00   \n",
       "79             NaN   3680920   540222 2012-01-01 00:22:00   \n",
       "80             NaN   3681403   531510 2012-01-01 00:22:00   \n",
       "83             NaN   3691753   536508 2012-01-01 00:23:00   \n",
       "92             NaN   3696950   533169 2012-01-01 00:28:00   \n",
       "\n",
       "                          ...                            TimeArrive  \\\n",
       "64                        ...                         1/1/2012 0:32   \n",
       "79                        ...                         1/1/2012 0:23   \n",
       "80                        ...                         1/1/2012 0:22   \n",
       "83                        ...                         1/1/2012 0:25   \n",
       "92                        ...                         1/1/2012 0:28   \n",
       "\n",
       "       TimeClosed Disposition   DispositionText SelfInitiated Beat  \\\n",
       "64  1/1/2012 0:59         RTF  REPORT TO FOLLOW           NaN  NaN   \n",
       "79  1/1/2012 1:13         RTF  REPORT TO FOLLOW           NaN  NaN   \n",
       "80  1/1/2012 1:33         RTF  REPORT TO FOLLOW           NaN  NaN   \n",
       "83  1/1/2012 1:19         RTF  REPORT TO FOLLOW           NaN  NaN   \n",
       "92  1/1/2012 1:36         RTF  REPORT TO FOLLOW           NaN  NaN   \n",
       "\n",
       "                  BLOCK_ADDRESS      Zip  PoliceDistrict  \\\n",
       "64               049XX Major Dr  70128.0               0   \n",
       "79  St Bernard Ave & N Tonti St  70119.0               1   \n",
       "80             003XX Bourbon St  70112.0               8   \n",
       "83               014XX Alvar St  70117.0               5   \n",
       "92            054XX Burgundy St  70117.0               5   \n",
       "\n",
       "                                            Location  \n",
       "64  (9.235500542976004E-7, -0.000002292984766499941)  \n",
       "79          (29.979440793120016, -90.06959870234981)  \n",
       "80           (29.95547113098435, -90.06837696099961)  \n",
       "83           (29.96889564722802, -90.03551677167968)  \n",
       "92          (29.959551708547103, -90.01922533580768)  \n",
       "\n",
       "[5 rows x 21 columns]"
      ]
     },
     "execution_count": 14,
     "metadata": {},
     "output_type": "execute_result"
    }
   ],
   "source": [
    "# Display top 5 rows\n",
    "cfs_df.head()"
   ]
  },
  {
   "cell_type": "markdown",
   "metadata": {},
   "source": [
    "## B. Load Categories Data"
   ]
  },
  {
   "cell_type": "code",
   "execution_count": 15,
   "metadata": {
    "collapsed": false
   },
   "outputs": [],
   "source": [
    "# Set location of file\n",
    "fname = \"../Datasets/Raw_Data/Shared_by_NOPD/MAX_CFS_UCR_Categories.xlsx\"\n",
    "\n",
    "# Load file\n",
    "crime_types = pd.read_excel(fname,sheetname='Sheet1')\n",
    "\n",
    "# Select required columns\n",
    "crime_types = crime_types.ix[:,['Code','UCR MAIN','Description']]\n",
    "\n",
    "# Rename columns\n",
    "crime_types.rename(columns={'Code':'Type_','UCR MAIN':'CrimeType','Description':'Description'},inplace=True)\n",
    "\n",
    "# Change datatype of column Type_ to String\n",
    "crime_types.Type_ = crime_types.Type_.apply(str)\n",
    "crime_types.Type_ = crime_types.Type_.str.strip()"
   ]
  },
  {
   "cell_type": "markdown",
   "metadata": {},
   "source": [
    "### i. Filter Records for CrimeType 'Violent Crime'"
   ]
  },
  {
   "cell_type": "code",
   "execution_count": 16,
   "metadata": {
    "collapsed": false
   },
   "outputs": [],
   "source": [
    "crime_types = crime_types[crime_types.CrimeType.str.strip() == 'VIOLENT CRIME']"
   ]
  },
  {
   "cell_type": "code",
   "execution_count": 17,
   "metadata": {
    "collapsed": false,
    "scrolled": false
   },
   "outputs": [
    {
     "data": {
      "text/html": [
       "<div>\n",
       "<table border=\"1\" class=\"dataframe\">\n",
       "  <thead>\n",
       "    <tr style=\"text-align: right;\">\n",
       "      <th></th>\n",
       "      <th>Type_</th>\n",
       "      <th>CrimeType</th>\n",
       "      <th>Description</th>\n",
       "    </tr>\n",
       "  </thead>\n",
       "  <tbody>\n",
       "    <tr>\n",
       "      <th>71</th>\n",
       "      <td>30</td>\n",
       "      <td>VIOLENT CRIME</td>\n",
       "      <td>HOMICIDE</td>\n",
       "    </tr>\n",
       "    <tr>\n",
       "      <th>72</th>\n",
       "      <td>30C</td>\n",
       "      <td>VIOLENT CRIME</td>\n",
       "      <td>HOMICIDE BY CUTTING</td>\n",
       "    </tr>\n",
       "    <tr>\n",
       "      <th>73</th>\n",
       "      <td>30D</td>\n",
       "      <td>VIOLENT CRIME</td>\n",
       "      <td>HOMICIDE DOMESTIC</td>\n",
       "    </tr>\n",
       "    <tr>\n",
       "      <th>74</th>\n",
       "      <td>30S</td>\n",
       "      <td>VIOLENT CRIME</td>\n",
       "      <td>HOMICIDE BY SHOOTING</td>\n",
       "    </tr>\n",
       "    <tr>\n",
       "      <th>75</th>\n",
       "      <td>34</td>\n",
       "      <td>VIOLENT CRIME</td>\n",
       "      <td>AGGRAVATED BATTERY</td>\n",
       "    </tr>\n",
       "  </tbody>\n",
       "</table>\n",
       "</div>"
      ],
      "text/plain": [
       "   Type_      CrimeType           Description\n",
       "71    30  VIOLENT CRIME              HOMICIDE\n",
       "72   30C  VIOLENT CRIME   HOMICIDE BY CUTTING\n",
       "73   30D  VIOLENT CRIME     HOMICIDE DOMESTIC\n",
       "74   30S  VIOLENT CRIME  HOMICIDE BY SHOOTING\n",
       "75    34  VIOLENT CRIME    AGGRAVATED BATTERY"
      ]
     },
     "execution_count": 17,
     "metadata": {},
     "output_type": "execute_result"
    }
   ],
   "source": [
    "crime_types.head()"
   ]
  },
  {
   "cell_type": "markdown",
   "metadata": {},
   "source": [
    "# 3. Merge CFS with Categories data"
   ]
  },
  {
   "cell_type": "code",
   "execution_count": 18,
   "metadata": {
    "collapsed": true
   },
   "outputs": [],
   "source": [
    "merged_df = pd.merge(cfs_df,crime_types,on='Type_',how='inner')"
   ]
  },
  {
   "cell_type": "code",
   "execution_count": 19,
   "metadata": {
    "collapsed": false
   },
   "outputs": [
    {
     "data": {
      "text/html": [
       "<div>\n",
       "<table border=\"1\" class=\"dataframe\">\n",
       "  <thead>\n",
       "    <tr style=\"text-align: right;\">\n",
       "      <th></th>\n",
       "      <th>NOPD_Item</th>\n",
       "      <th>Type_</th>\n",
       "      <th>TypeText</th>\n",
       "      <th>Priority</th>\n",
       "      <th>InitialType</th>\n",
       "      <th>InitialTypeText</th>\n",
       "      <th>InitialPriority</th>\n",
       "      <th>MapX</th>\n",
       "      <th>MapY</th>\n",
       "      <th>TimeCreate</th>\n",
       "      <th>...</th>\n",
       "      <th>Disposition</th>\n",
       "      <th>DispositionText</th>\n",
       "      <th>SelfInitiated</th>\n",
       "      <th>Beat</th>\n",
       "      <th>BLOCK_ADDRESS</th>\n",
       "      <th>Zip</th>\n",
       "      <th>PoliceDistrict</th>\n",
       "      <th>Location</th>\n",
       "      <th>CrimeType</th>\n",
       "      <th>Description</th>\n",
       "    </tr>\n",
       "  </thead>\n",
       "  <tbody>\n",
       "    <tr>\n",
       "      <th>0</th>\n",
       "      <td>A0026112</td>\n",
       "      <td>65</td>\n",
       "      <td>SIMPLE ROBBERY</td>\n",
       "      <td>1B</td>\n",
       "      <td>NaN</td>\n",
       "      <td>NaN</td>\n",
       "      <td>NaN</td>\n",
       "      <td>3680346</td>\n",
       "      <td>531912</td>\n",
       "      <td>2012-01-01 01:44:00</td>\n",
       "      <td>...</td>\n",
       "      <td>RTF</td>\n",
       "      <td>REPORT TO FOLLOW</td>\n",
       "      <td>NaN</td>\n",
       "      <td>NaN</td>\n",
       "      <td>002XX N Rampart St</td>\n",
       "      <td>70112.0</td>\n",
       "      <td>8</td>\n",
       "      <td>(29.956608537919635, -90.07170060793311)</td>\n",
       "      <td>VIOLENT CRIME</td>\n",
       "      <td>SIMPLE ROBBERY</td>\n",
       "    </tr>\n",
       "    <tr>\n",
       "      <th>1</th>\n",
       "      <td>A0139412</td>\n",
       "      <td>65</td>\n",
       "      <td>SIMPLE ROBBERY</td>\n",
       "      <td>1B</td>\n",
       "      <td>NaN</td>\n",
       "      <td>NaN</td>\n",
       "      <td>NaN</td>\n",
       "      <td>3682307</td>\n",
       "      <td>529905</td>\n",
       "      <td>2012-01-01 20:04:00</td>\n",
       "      <td>...</td>\n",
       "      <td>RTF</td>\n",
       "      <td>REPORT TO FOLLOW</td>\n",
       "      <td>NaN</td>\n",
       "      <td>NaN</td>\n",
       "      <td>003XX Canal St</td>\n",
       "      <td>70130.0</td>\n",
       "      <td>8</td>\n",
       "      <td>(29.951030452997887, -90.06557853022184)</td>\n",
       "      <td>VIOLENT CRIME</td>\n",
       "      <td>SIMPLE ROBBERY</td>\n",
       "    </tr>\n",
       "    <tr>\n",
       "      <th>2</th>\n",
       "      <td>A0163512</td>\n",
       "      <td>65</td>\n",
       "      <td>SIMPLE ROBBERY</td>\n",
       "      <td>2B</td>\n",
       "      <td>NaN</td>\n",
       "      <td>NaN</td>\n",
       "      <td>NaN</td>\n",
       "      <td>3682519</td>\n",
       "      <td>532977</td>\n",
       "      <td>2012-01-02 00:13:00</td>\n",
       "      <td>...</td>\n",
       "      <td>RTF</td>\n",
       "      <td>REPORT TO FOLLOW</td>\n",
       "      <td>NaN</td>\n",
       "      <td>NaN</td>\n",
       "      <td>008XX Bourbon St</td>\n",
       "      <td>70116.0</td>\n",
       "      <td>8</td>\n",
       "      <td>(29.9594709577918, -90.06480175675452)</td>\n",
       "      <td>VIOLENT CRIME</td>\n",
       "      <td>SIMPLE ROBBERY</td>\n",
       "    </tr>\n",
       "    <tr>\n",
       "      <th>3</th>\n",
       "      <td>A0195712</td>\n",
       "      <td>65</td>\n",
       "      <td>SIMPLE ROBBERY</td>\n",
       "      <td>1B</td>\n",
       "      <td>NaN</td>\n",
       "      <td>NaN</td>\n",
       "      <td>NaN</td>\n",
       "      <td>3669570</td>\n",
       "      <td>518651</td>\n",
       "      <td>2012-01-02 09:12:00</td>\n",
       "      <td>...</td>\n",
       "      <td>RTF</td>\n",
       "      <td>REPORT TO FOLLOW</td>\n",
       "      <td>NaN</td>\n",
       "      <td>NaN</td>\n",
       "      <td>009XX Bordeaux St</td>\n",
       "      <td>70115.0</td>\n",
       "      <td>2</td>\n",
       "      <td>(29.92046691792707, -90.1061762712039)</td>\n",
       "      <td>VIOLENT CRIME</td>\n",
       "      <td>SIMPLE ROBBERY</td>\n",
       "    </tr>\n",
       "    <tr>\n",
       "      <th>4</th>\n",
       "      <td>A0248912</td>\n",
       "      <td>65</td>\n",
       "      <td>SIMPLE ROBBERY</td>\n",
       "      <td>1B</td>\n",
       "      <td>NaN</td>\n",
       "      <td>NaN</td>\n",
       "      <td>NaN</td>\n",
       "      <td>3692359</td>\n",
       "      <td>543219</td>\n",
       "      <td>2012-01-02 17:25:00</td>\n",
       "      <td>...</td>\n",
       "      <td>RTF</td>\n",
       "      <td>REPORT TO FOLLOW</td>\n",
       "      <td>NaN</td>\n",
       "      <td>NaN</td>\n",
       "      <td>030XX Morrice Duncan Dr</td>\n",
       "      <td>70126.0</td>\n",
       "      <td>5</td>\n",
       "      <td>(29.987329613283705, -90.03336254702)</td>\n",
       "      <td>VIOLENT CRIME</td>\n",
       "      <td>SIMPLE ROBBERY</td>\n",
       "    </tr>\n",
       "  </tbody>\n",
       "</table>\n",
       "<p>5 rows × 23 columns</p>\n",
       "</div>"
      ],
      "text/plain": [
       "  NOPD_Item Type_        TypeText Priority InitialType InitialTypeText  \\\n",
       "0  A0026112    65  SIMPLE ROBBERY       1B         NaN             NaN   \n",
       "1  A0139412    65  SIMPLE ROBBERY       1B         NaN             NaN   \n",
       "2  A0163512    65  SIMPLE ROBBERY       2B         NaN             NaN   \n",
       "3  A0195712    65  SIMPLE ROBBERY       1B         NaN             NaN   \n",
       "4  A0248912    65  SIMPLE ROBBERY       1B         NaN             NaN   \n",
       "\n",
       "  InitialPriority     MapX    MapY          TimeCreate       ...        \\\n",
       "0             NaN  3680346  531912 2012-01-01 01:44:00       ...         \n",
       "1             NaN  3682307  529905 2012-01-01 20:04:00       ...         \n",
       "2             NaN  3682519  532977 2012-01-02 00:13:00       ...         \n",
       "3             NaN  3669570  518651 2012-01-02 09:12:00       ...         \n",
       "4             NaN  3692359  543219 2012-01-02 17:25:00       ...         \n",
       "\n",
       "  Disposition   DispositionText SelfInitiated Beat            BLOCK_ADDRESS  \\\n",
       "0         RTF  REPORT TO FOLLOW           NaN  NaN       002XX N Rampart St   \n",
       "1         RTF  REPORT TO FOLLOW           NaN  NaN           003XX Canal St   \n",
       "2         RTF  REPORT TO FOLLOW           NaN  NaN         008XX Bourbon St   \n",
       "3         RTF  REPORT TO FOLLOW           NaN  NaN        009XX Bordeaux St   \n",
       "4         RTF  REPORT TO FOLLOW           NaN  NaN  030XX Morrice Duncan Dr   \n",
       "\n",
       "       Zip PoliceDistrict                                  Location  \\\n",
       "0  70112.0              8  (29.956608537919635, -90.07170060793311)   \n",
       "1  70130.0              8  (29.951030452997887, -90.06557853022184)   \n",
       "2  70116.0              8    (29.9594709577918, -90.06480175675452)   \n",
       "3  70115.0              2    (29.92046691792707, -90.1061762712039)   \n",
       "4  70126.0              5     (29.987329613283705, -90.03336254702)   \n",
       "\n",
       "       CrimeType     Description  \n",
       "0  VIOLENT CRIME  SIMPLE ROBBERY  \n",
       "1  VIOLENT CRIME  SIMPLE ROBBERY  \n",
       "2  VIOLENT CRIME  SIMPLE ROBBERY  \n",
       "3  VIOLENT CRIME  SIMPLE ROBBERY  \n",
       "4  VIOLENT CRIME  SIMPLE ROBBERY  \n",
       "\n",
       "[5 rows x 23 columns]"
      ]
     },
     "execution_count": 19,
     "metadata": {},
     "output_type": "execute_result"
    }
   ],
   "source": [
    "merged_df.head()"
   ]
  },
  {
   "cell_type": "code",
   "execution_count": 20,
   "metadata": {
    "collapsed": false
   },
   "outputs": [
    {
     "data": {
      "text/plain": [
       "13954"
      ]
     },
     "execution_count": 20,
     "metadata": {},
     "output_type": "execute_result"
    }
   ],
   "source": [
    "len(merged_df)"
   ]
  },
  {
   "cell_type": "markdown",
   "metadata": {},
   "source": [
    "# 4. Verify Records"
   ]
  },
  {
   "cell_type": "code",
   "execution_count": 21,
   "metadata": {
    "collapsed": false
   },
   "outputs": [
    {
     "data": {
      "text/plain": [
       "0"
      ]
     },
     "execution_count": 21,
     "metadata": {},
     "output_type": "execute_result"
    }
   ],
   "source": [
    "# Check length of records with CrimeType Null\n",
    "len(merged_df[merged_df.CrimeType.isnull()])"
   ]
  },
  {
   "cell_type": "code",
   "execution_count": 22,
   "metadata": {
    "collapsed": false
   },
   "outputs": [
    {
     "data": {
      "text/plain": [
       "13954"
      ]
     },
     "execution_count": 22,
     "metadata": {},
     "output_type": "execute_result"
    }
   ],
   "source": [
    "# Check length of records with CrimeType Not Null\n",
    "len(merged_df[merged_df.CrimeType.notnull()])"
   ]
  },
  {
   "cell_type": "code",
   "execution_count": 23,
   "metadata": {
    "collapsed": true
   },
   "outputs": [],
   "source": [
    "# Remove records with CrimeType Null\n",
    "cfs_final = merged_df[merged_df.CrimeType.notnull()]"
   ]
  },
  {
   "cell_type": "code",
   "execution_count": 24,
   "metadata": {
    "collapsed": false
   },
   "outputs": [
    {
     "data": {
      "text/html": [
       "<div>\n",
       "<table border=\"1\" class=\"dataframe\">\n",
       "  <thead>\n",
       "    <tr style=\"text-align: right;\">\n",
       "      <th></th>\n",
       "      <th>NOPD_Item</th>\n",
       "      <th>Type_</th>\n",
       "      <th>TypeText</th>\n",
       "      <th>Priority</th>\n",
       "      <th>InitialType</th>\n",
       "      <th>InitialTypeText</th>\n",
       "      <th>InitialPriority</th>\n",
       "      <th>MapX</th>\n",
       "      <th>MapY</th>\n",
       "      <th>TimeCreate</th>\n",
       "      <th>...</th>\n",
       "      <th>Disposition</th>\n",
       "      <th>DispositionText</th>\n",
       "      <th>SelfInitiated</th>\n",
       "      <th>Beat</th>\n",
       "      <th>BLOCK_ADDRESS</th>\n",
       "      <th>Zip</th>\n",
       "      <th>PoliceDistrict</th>\n",
       "      <th>Location</th>\n",
       "      <th>CrimeType</th>\n",
       "      <th>Description</th>\n",
       "    </tr>\n",
       "  </thead>\n",
       "  <tbody>\n",
       "    <tr>\n",
       "      <th>0</th>\n",
       "      <td>A0026112</td>\n",
       "      <td>65</td>\n",
       "      <td>SIMPLE ROBBERY</td>\n",
       "      <td>1B</td>\n",
       "      <td>NaN</td>\n",
       "      <td>NaN</td>\n",
       "      <td>NaN</td>\n",
       "      <td>3680346</td>\n",
       "      <td>531912</td>\n",
       "      <td>2012-01-01 01:44:00</td>\n",
       "      <td>...</td>\n",
       "      <td>RTF</td>\n",
       "      <td>REPORT TO FOLLOW</td>\n",
       "      <td>NaN</td>\n",
       "      <td>NaN</td>\n",
       "      <td>002XX N Rampart St</td>\n",
       "      <td>70112.0</td>\n",
       "      <td>8</td>\n",
       "      <td>(29.956608537919635, -90.07170060793311)</td>\n",
       "      <td>VIOLENT CRIME</td>\n",
       "      <td>SIMPLE ROBBERY</td>\n",
       "    </tr>\n",
       "    <tr>\n",
       "      <th>1</th>\n",
       "      <td>A0139412</td>\n",
       "      <td>65</td>\n",
       "      <td>SIMPLE ROBBERY</td>\n",
       "      <td>1B</td>\n",
       "      <td>NaN</td>\n",
       "      <td>NaN</td>\n",
       "      <td>NaN</td>\n",
       "      <td>3682307</td>\n",
       "      <td>529905</td>\n",
       "      <td>2012-01-01 20:04:00</td>\n",
       "      <td>...</td>\n",
       "      <td>RTF</td>\n",
       "      <td>REPORT TO FOLLOW</td>\n",
       "      <td>NaN</td>\n",
       "      <td>NaN</td>\n",
       "      <td>003XX Canal St</td>\n",
       "      <td>70130.0</td>\n",
       "      <td>8</td>\n",
       "      <td>(29.951030452997887, -90.06557853022184)</td>\n",
       "      <td>VIOLENT CRIME</td>\n",
       "      <td>SIMPLE ROBBERY</td>\n",
       "    </tr>\n",
       "    <tr>\n",
       "      <th>2</th>\n",
       "      <td>A0163512</td>\n",
       "      <td>65</td>\n",
       "      <td>SIMPLE ROBBERY</td>\n",
       "      <td>2B</td>\n",
       "      <td>NaN</td>\n",
       "      <td>NaN</td>\n",
       "      <td>NaN</td>\n",
       "      <td>3682519</td>\n",
       "      <td>532977</td>\n",
       "      <td>2012-01-02 00:13:00</td>\n",
       "      <td>...</td>\n",
       "      <td>RTF</td>\n",
       "      <td>REPORT TO FOLLOW</td>\n",
       "      <td>NaN</td>\n",
       "      <td>NaN</td>\n",
       "      <td>008XX Bourbon St</td>\n",
       "      <td>70116.0</td>\n",
       "      <td>8</td>\n",
       "      <td>(29.9594709577918, -90.06480175675452)</td>\n",
       "      <td>VIOLENT CRIME</td>\n",
       "      <td>SIMPLE ROBBERY</td>\n",
       "    </tr>\n",
       "    <tr>\n",
       "      <th>3</th>\n",
       "      <td>A0195712</td>\n",
       "      <td>65</td>\n",
       "      <td>SIMPLE ROBBERY</td>\n",
       "      <td>1B</td>\n",
       "      <td>NaN</td>\n",
       "      <td>NaN</td>\n",
       "      <td>NaN</td>\n",
       "      <td>3669570</td>\n",
       "      <td>518651</td>\n",
       "      <td>2012-01-02 09:12:00</td>\n",
       "      <td>...</td>\n",
       "      <td>RTF</td>\n",
       "      <td>REPORT TO FOLLOW</td>\n",
       "      <td>NaN</td>\n",
       "      <td>NaN</td>\n",
       "      <td>009XX Bordeaux St</td>\n",
       "      <td>70115.0</td>\n",
       "      <td>2</td>\n",
       "      <td>(29.92046691792707, -90.1061762712039)</td>\n",
       "      <td>VIOLENT CRIME</td>\n",
       "      <td>SIMPLE ROBBERY</td>\n",
       "    </tr>\n",
       "    <tr>\n",
       "      <th>4</th>\n",
       "      <td>A0248912</td>\n",
       "      <td>65</td>\n",
       "      <td>SIMPLE ROBBERY</td>\n",
       "      <td>1B</td>\n",
       "      <td>NaN</td>\n",
       "      <td>NaN</td>\n",
       "      <td>NaN</td>\n",
       "      <td>3692359</td>\n",
       "      <td>543219</td>\n",
       "      <td>2012-01-02 17:25:00</td>\n",
       "      <td>...</td>\n",
       "      <td>RTF</td>\n",
       "      <td>REPORT TO FOLLOW</td>\n",
       "      <td>NaN</td>\n",
       "      <td>NaN</td>\n",
       "      <td>030XX Morrice Duncan Dr</td>\n",
       "      <td>70126.0</td>\n",
       "      <td>5</td>\n",
       "      <td>(29.987329613283705, -90.03336254702)</td>\n",
       "      <td>VIOLENT CRIME</td>\n",
       "      <td>SIMPLE ROBBERY</td>\n",
       "    </tr>\n",
       "  </tbody>\n",
       "</table>\n",
       "<p>5 rows × 23 columns</p>\n",
       "</div>"
      ],
      "text/plain": [
       "  NOPD_Item Type_        TypeText Priority InitialType InitialTypeText  \\\n",
       "0  A0026112    65  SIMPLE ROBBERY       1B         NaN             NaN   \n",
       "1  A0139412    65  SIMPLE ROBBERY       1B         NaN             NaN   \n",
       "2  A0163512    65  SIMPLE ROBBERY       2B         NaN             NaN   \n",
       "3  A0195712    65  SIMPLE ROBBERY       1B         NaN             NaN   \n",
       "4  A0248912    65  SIMPLE ROBBERY       1B         NaN             NaN   \n",
       "\n",
       "  InitialPriority     MapX    MapY          TimeCreate       ...        \\\n",
       "0             NaN  3680346  531912 2012-01-01 01:44:00       ...         \n",
       "1             NaN  3682307  529905 2012-01-01 20:04:00       ...         \n",
       "2             NaN  3682519  532977 2012-01-02 00:13:00       ...         \n",
       "3             NaN  3669570  518651 2012-01-02 09:12:00       ...         \n",
       "4             NaN  3692359  543219 2012-01-02 17:25:00       ...         \n",
       "\n",
       "  Disposition   DispositionText SelfInitiated Beat            BLOCK_ADDRESS  \\\n",
       "0         RTF  REPORT TO FOLLOW           NaN  NaN       002XX N Rampart St   \n",
       "1         RTF  REPORT TO FOLLOW           NaN  NaN           003XX Canal St   \n",
       "2         RTF  REPORT TO FOLLOW           NaN  NaN         008XX Bourbon St   \n",
       "3         RTF  REPORT TO FOLLOW           NaN  NaN        009XX Bordeaux St   \n",
       "4         RTF  REPORT TO FOLLOW           NaN  NaN  030XX Morrice Duncan Dr   \n",
       "\n",
       "       Zip PoliceDistrict                                  Location  \\\n",
       "0  70112.0              8  (29.956608537919635, -90.07170060793311)   \n",
       "1  70130.0              8  (29.951030452997887, -90.06557853022184)   \n",
       "2  70116.0              8    (29.9594709577918, -90.06480175675452)   \n",
       "3  70115.0              2    (29.92046691792707, -90.1061762712039)   \n",
       "4  70126.0              5     (29.987329613283705, -90.03336254702)   \n",
       "\n",
       "       CrimeType     Description  \n",
       "0  VIOLENT CRIME  SIMPLE ROBBERY  \n",
       "1  VIOLENT CRIME  SIMPLE ROBBERY  \n",
       "2  VIOLENT CRIME  SIMPLE ROBBERY  \n",
       "3  VIOLENT CRIME  SIMPLE ROBBERY  \n",
       "4  VIOLENT CRIME  SIMPLE ROBBERY  \n",
       "\n",
       "[5 rows x 23 columns]"
      ]
     },
     "execution_count": 24,
     "metadata": {},
     "output_type": "execute_result"
    }
   ],
   "source": [
    "cfs_final.head()"
   ]
  },
  {
   "cell_type": "code",
   "execution_count": 25,
   "metadata": {
    "collapsed": false
   },
   "outputs": [
    {
     "data": {
      "text/html": [
       "<div>\n",
       "<table border=\"1\" class=\"dataframe\">\n",
       "  <thead>\n",
       "    <tr style=\"text-align: right;\">\n",
       "      <th></th>\n",
       "      <th>NOPD_Item</th>\n",
       "      <th>Type_</th>\n",
       "      <th>TypeText</th>\n",
       "      <th>Priority</th>\n",
       "      <th>InitialType</th>\n",
       "      <th>InitialTypeText</th>\n",
       "      <th>InitialPriority</th>\n",
       "      <th>MapX</th>\n",
       "      <th>MapY</th>\n",
       "      <th>TimeCreate</th>\n",
       "      <th>...</th>\n",
       "      <th>Disposition</th>\n",
       "      <th>DispositionText</th>\n",
       "      <th>SelfInitiated</th>\n",
       "      <th>Beat</th>\n",
       "      <th>BLOCK_ADDRESS</th>\n",
       "      <th>Zip</th>\n",
       "      <th>PoliceDistrict</th>\n",
       "      <th>Location</th>\n",
       "      <th>CrimeType</th>\n",
       "      <th>Description</th>\n",
       "    </tr>\n",
       "  </thead>\n",
       "  <tbody>\n",
       "    <tr>\n",
       "      <th>13949</th>\n",
       "      <td>J1221215</td>\n",
       "      <td>42B</td>\n",
       "      <td>ORAL SEXUAL BATTERY</td>\n",
       "      <td>2A</td>\n",
       "      <td>42B</td>\n",
       "      <td>ORAL SEXUAL BATTERY</td>\n",
       "      <td>1A</td>\n",
       "      <td>37369000</td>\n",
       "      <td>3513814</td>\n",
       "      <td>2015-10-10 16:58:22</td>\n",
       "      <td>...</td>\n",
       "      <td>RTF</td>\n",
       "      <td>REPORT TO FOLLOW</td>\n",
       "      <td>N</td>\n",
       "      <td>4C03</td>\n",
       "      <td>Amazon St &amp; Kansas St</td>\n",
       "      <td>70114.0</td>\n",
       "      <td>4</td>\n",
       "      <td>(0, 0)</td>\n",
       "      <td>VIOLENT CRIME</td>\n",
       "      <td>ORAL SEXUAL BATTERY</td>\n",
       "    </tr>\n",
       "    <tr>\n",
       "      <th>13950</th>\n",
       "      <td>K0073015</td>\n",
       "      <td>42B</td>\n",
       "      <td>ORAL SEXUAL BATTERY</td>\n",
       "      <td>2A</td>\n",
       "      <td>21</td>\n",
       "      <td>COMPLAINT OTHER</td>\n",
       "      <td>2A</td>\n",
       "      <td>37369000</td>\n",
       "      <td>3513814</td>\n",
       "      <td>2015-11-01 15:14:57</td>\n",
       "      <td>...</td>\n",
       "      <td>RTF</td>\n",
       "      <td>REPORT TO FOLLOW</td>\n",
       "      <td>N</td>\n",
       "      <td>3U02</td>\n",
       "      <td>050XX Chef Menteur Hwy</td>\n",
       "      <td>70126.0</td>\n",
       "      <td>3</td>\n",
       "      <td>(0, 0)</td>\n",
       "      <td>VIOLENT CRIME</td>\n",
       "      <td>ORAL SEXUAL BATTERY</td>\n",
       "    </tr>\n",
       "    <tr>\n",
       "      <th>13951</th>\n",
       "      <td>K3038915</td>\n",
       "      <td>42B</td>\n",
       "      <td>ORAL SEXUAL BATTERY</td>\n",
       "      <td>1A</td>\n",
       "      <td>42B</td>\n",
       "      <td>ORAL SEXUAL BATTERY</td>\n",
       "      <td>1A</td>\n",
       "      <td>37369000</td>\n",
       "      <td>3513814</td>\n",
       "      <td>2015-11-26 17:29:18</td>\n",
       "      <td>...</td>\n",
       "      <td>RTF</td>\n",
       "      <td>REPORT TO FOLLOW</td>\n",
       "      <td>N</td>\n",
       "      <td>3I01</td>\n",
       "      <td>008XX Louque Pl</td>\n",
       "      <td>70124.0</td>\n",
       "      <td>3</td>\n",
       "      <td>(0, 0)</td>\n",
       "      <td>VIOLENT CRIME</td>\n",
       "      <td>ORAL SEXUAL BATTERY</td>\n",
       "    </tr>\n",
       "    <tr>\n",
       "      <th>13952</th>\n",
       "      <td>C0577416</td>\n",
       "      <td>42B</td>\n",
       "      <td>ORAL SEXUAL BATTERY</td>\n",
       "      <td>2A</td>\n",
       "      <td>21</td>\n",
       "      <td>COMPLAINT OTHER</td>\n",
       "      <td>1H</td>\n",
       "      <td>37369000</td>\n",
       "      <td>3513814</td>\n",
       "      <td>2016-03-05 15:46:45</td>\n",
       "      <td>...</td>\n",
       "      <td>RTF</td>\n",
       "      <td>REPORT TO FOLLOW</td>\n",
       "      <td>N</td>\n",
       "      <td>3M03</td>\n",
       "      <td>015XX Milton St</td>\n",
       "      <td>70122.0</td>\n",
       "      <td>3</td>\n",
       "      <td>(0, 0)</td>\n",
       "      <td>VIOLENT CRIME</td>\n",
       "      <td>ORAL SEXUAL BATTERY</td>\n",
       "    </tr>\n",
       "    <tr>\n",
       "      <th>13953</th>\n",
       "      <td>C1635316</td>\n",
       "      <td>42B</td>\n",
       "      <td>ORAL SEXUAL BATTERY</td>\n",
       "      <td>2A</td>\n",
       "      <td>21</td>\n",
       "      <td>COMPLAINT OTHER</td>\n",
       "      <td>1H</td>\n",
       "      <td>37369000</td>\n",
       "      <td>3513814</td>\n",
       "      <td>2016-03-14 13:12:14</td>\n",
       "      <td>...</td>\n",
       "      <td>RTF</td>\n",
       "      <td>REPORT TO FOLLOW</td>\n",
       "      <td>N</td>\n",
       "      <td>3S02</td>\n",
       "      <td>020XX Lakeshore Dr</td>\n",
       "      <td>70122.0</td>\n",
       "      <td>3</td>\n",
       "      <td>(0, 0)</td>\n",
       "      <td>VIOLENT CRIME</td>\n",
       "      <td>ORAL SEXUAL BATTERY</td>\n",
       "    </tr>\n",
       "  </tbody>\n",
       "</table>\n",
       "<p>5 rows × 23 columns</p>\n",
       "</div>"
      ],
      "text/plain": [
       "      NOPD_Item Type_             TypeText Priority InitialType  \\\n",
       "13949  J1221215   42B  ORAL SEXUAL BATTERY       2A         42B   \n",
       "13950  K0073015   42B  ORAL SEXUAL BATTERY       2A          21   \n",
       "13951  K3038915   42B  ORAL SEXUAL BATTERY       1A         42B   \n",
       "13952  C0577416   42B  ORAL SEXUAL BATTERY       2A          21   \n",
       "13953  C1635316   42B  ORAL SEXUAL BATTERY       2A          21   \n",
       "\n",
       "           InitialTypeText InitialPriority      MapX     MapY  \\\n",
       "13949  ORAL SEXUAL BATTERY              1A  37369000  3513814   \n",
       "13950      COMPLAINT OTHER              2A  37369000  3513814   \n",
       "13951  ORAL SEXUAL BATTERY              1A  37369000  3513814   \n",
       "13952      COMPLAINT OTHER              1H  37369000  3513814   \n",
       "13953      COMPLAINT OTHER              1H  37369000  3513814   \n",
       "\n",
       "               TimeCreate         ...          Disposition   DispositionText  \\\n",
       "13949 2015-10-10 16:58:22         ...                  RTF  REPORT TO FOLLOW   \n",
       "13950 2015-11-01 15:14:57         ...                  RTF  REPORT TO FOLLOW   \n",
       "13951 2015-11-26 17:29:18         ...                  RTF  REPORT TO FOLLOW   \n",
       "13952 2016-03-05 15:46:45         ...                  RTF  REPORT TO FOLLOW   \n",
       "13953 2016-03-14 13:12:14         ...                  RTF  REPORT TO FOLLOW   \n",
       "\n",
       "      SelfInitiated  Beat           BLOCK_ADDRESS      Zip PoliceDistrict  \\\n",
       "13949             N  4C03   Amazon St & Kansas St  70114.0              4   \n",
       "13950             N  3U02  050XX Chef Menteur Hwy  70126.0              3   \n",
       "13951             N  3I01         008XX Louque Pl  70124.0              3   \n",
       "13952             N  3M03         015XX Milton St  70122.0              3   \n",
       "13953             N  3S02      020XX Lakeshore Dr  70122.0              3   \n",
       "\n",
       "      Location      CrimeType          Description  \n",
       "13949   (0, 0)  VIOLENT CRIME  ORAL SEXUAL BATTERY  \n",
       "13950   (0, 0)  VIOLENT CRIME  ORAL SEXUAL BATTERY  \n",
       "13951   (0, 0)  VIOLENT CRIME  ORAL SEXUAL BATTERY  \n",
       "13952   (0, 0)  VIOLENT CRIME  ORAL SEXUAL BATTERY  \n",
       "13953   (0, 0)  VIOLENT CRIME  ORAL SEXUAL BATTERY  \n",
       "\n",
       "[5 rows x 23 columns]"
      ]
     },
     "execution_count": 25,
     "metadata": {},
     "output_type": "execute_result"
    }
   ],
   "source": [
    "cfs_final.tail()"
   ]
  },
  {
   "cell_type": "code",
   "execution_count": 26,
   "metadata": {
    "collapsed": false
   },
   "outputs": [
    {
     "data": {
      "text/plain": [
       "array(['65', '64G', '34C', '64', '55', '30S', '37', '42', '34S', '43',\n",
       "       '65J', '30', '37D', '34', '64J', '64K', '34D', '43M', '30C', '42M',\n",
       "       '30D', '42B'], dtype=object)"
      ]
     },
     "execution_count": 26,
     "metadata": {},
     "output_type": "execute_result"
    }
   ],
   "source": [
    "cfs_final.Type_.unique()"
   ]
  },
  {
   "cell_type": "code",
   "execution_count": 27,
   "metadata": {
    "collapsed": false
   },
   "outputs": [
    {
     "data": {
      "text/plain": [
       "13954"
      ]
     },
     "execution_count": 27,
     "metadata": {},
     "output_type": "execute_result"
    }
   ],
   "source": [
    "len(cfs_final)"
   ]
  },
  {
   "cell_type": "code",
   "execution_count": 28,
   "metadata": {
    "collapsed": false
   },
   "outputs": [
    {
     "data": {
      "text/plain": [
       "Timestamp('2012-01-01 01:44:00')"
      ]
     },
     "execution_count": 28,
     "metadata": {},
     "output_type": "execute_result"
    }
   ],
   "source": [
    "min(cfs_final.TimeCreate)"
   ]
  },
  {
   "cell_type": "code",
   "execution_count": 29,
   "metadata": {
    "collapsed": false
   },
   "outputs": [
    {
     "data": {
      "text/plain": [
       "Timestamp('2016-12-31 19:46:46')"
      ]
     },
     "execution_count": 29,
     "metadata": {},
     "output_type": "execute_result"
    }
   ],
   "source": [
    "max(cfs_final.TimeCreate)"
   ]
  },
  {
   "cell_type": "markdown",
   "metadata": {},
   "source": [
    "# 5. Generate Lat/Long from Location"
   ]
  },
  {
   "cell_type": "code",
   "execution_count": 30,
   "metadata": {
    "collapsed": false
   },
   "outputs": [
    {
     "data": {
      "text/plain": [
       "1084"
      ]
     },
     "execution_count": 30,
     "metadata": {},
     "output_type": "execute_result"
    }
   ],
   "source": [
    "len(cfs_final[cfs_final.Location=='(0, 0)'])"
   ]
  },
  {
   "cell_type": "markdown",
   "metadata": {},
   "source": [
    "Remove records with (lat,lon) = (0,0)"
   ]
  },
  {
   "cell_type": "code",
   "execution_count": 31,
   "metadata": {
    "collapsed": false
   },
   "outputs": [],
   "source": [
    "# cfs_final = cfs_final[cfs_final.Location!='(0, 0)']"
   ]
  },
  {
   "cell_type": "code",
   "execution_count": 32,
   "metadata": {
    "collapsed": false
   },
   "outputs": [],
   "source": [
    "# len(cfs_final)"
   ]
  },
  {
   "cell_type": "markdown",
   "metadata": {},
   "source": [
    "Remove records with (lat,lon) = null"
   ]
  },
  {
   "cell_type": "code",
   "execution_count": 33,
   "metadata": {
    "collapsed": false
   },
   "outputs": [
    {
     "data": {
      "text/plain": [
       "27"
      ]
     },
     "execution_count": 33,
     "metadata": {},
     "output_type": "execute_result"
    }
   ],
   "source": [
    "len(cfs_final[cfs_final.Location.isnull()])"
   ]
  },
  {
   "cell_type": "code",
   "execution_count": 34,
   "metadata": {
    "collapsed": true
   },
   "outputs": [],
   "source": [
    "cfs_final = cfs_final[cfs_final.Location.notnull()]"
   ]
  },
  {
   "cell_type": "code",
   "execution_count": 35,
   "metadata": {
    "collapsed": false
   },
   "outputs": [
    {
     "data": {
      "text/plain": [
       "13927"
      ]
     },
     "execution_count": 35,
     "metadata": {},
     "output_type": "execute_result"
    }
   ],
   "source": [
    "len(cfs_final)"
   ]
  },
  {
   "cell_type": "code",
   "execution_count": 36,
   "metadata": {
    "collapsed": false
   },
   "outputs": [],
   "source": [
    "cfs_final['Latitude'] = [str(val).split(',')[0][1:].strip() for val in cfs_final.Location] "
   ]
  },
  {
   "cell_type": "code",
   "execution_count": 37,
   "metadata": {
    "collapsed": false,
    "scrolled": true
   },
   "outputs": [],
   "source": [
    "cfs_final['Longitude'] = [str(val).split(',')[1][:-1].strip() for val in cfs_final.Location] "
   ]
  },
  {
   "cell_type": "code",
   "execution_count": 38,
   "metadata": {
    "collapsed": false
   },
   "outputs": [],
   "source": [
    "cfs_final.reset_index(inplace=True, drop=True)"
   ]
  },
  {
   "cell_type": "code",
   "execution_count": 39,
   "metadata": {
    "collapsed": false,
    "scrolled": true
   },
   "outputs": [
    {
     "data": {
      "text/plain": [
       "Index([u'NOPD_Item', u'Type_', u'TypeText', u'Priority', u'InitialType',\n",
       "       u'InitialTypeText', u'InitialPriority', u'MapX', u'MapY', u'TimeCreate',\n",
       "       u'TimeDispatch', u'TimeArrive', u'TimeClosed', u'Disposition',\n",
       "       u'DispositionText', u'SelfInitiated', u'Beat', u'BLOCK_ADDRESS', u'Zip',\n",
       "       u'PoliceDistrict', u'Location', u'CrimeType', u'Description',\n",
       "       u'Latitude', u'Longitude'],\n",
       "      dtype='object')"
      ]
     },
     "execution_count": 39,
     "metadata": {},
     "output_type": "execute_result"
    }
   ],
   "source": [
    "cfs_final.columns"
   ]
  },
  {
   "cell_type": "code",
   "execution_count": 40,
   "metadata": {
    "collapsed": false
   },
   "outputs": [
    {
     "data": {
      "text/html": [
       "<div>\n",
       "<table border=\"1\" class=\"dataframe\">\n",
       "  <thead>\n",
       "    <tr style=\"text-align: right;\">\n",
       "      <th></th>\n",
       "      <th>NOPD_Item</th>\n",
       "      <th>Type_</th>\n",
       "      <th>TypeText</th>\n",
       "      <th>Priority</th>\n",
       "      <th>InitialType</th>\n",
       "      <th>InitialTypeText</th>\n",
       "      <th>InitialPriority</th>\n",
       "      <th>MapX</th>\n",
       "      <th>MapY</th>\n",
       "      <th>TimeCreate</th>\n",
       "      <th>...</th>\n",
       "      <th>SelfInitiated</th>\n",
       "      <th>Beat</th>\n",
       "      <th>BLOCK_ADDRESS</th>\n",
       "      <th>Zip</th>\n",
       "      <th>PoliceDistrict</th>\n",
       "      <th>Location</th>\n",
       "      <th>CrimeType</th>\n",
       "      <th>Description</th>\n",
       "      <th>Latitude</th>\n",
       "      <th>Longitude</th>\n",
       "    </tr>\n",
       "  </thead>\n",
       "  <tbody>\n",
       "    <tr>\n",
       "      <th>0</th>\n",
       "      <td>A0026112</td>\n",
       "      <td>65</td>\n",
       "      <td>SIMPLE ROBBERY</td>\n",
       "      <td>1B</td>\n",
       "      <td>NaN</td>\n",
       "      <td>NaN</td>\n",
       "      <td>NaN</td>\n",
       "      <td>3680346</td>\n",
       "      <td>531912</td>\n",
       "      <td>2012-01-01 01:44:00</td>\n",
       "      <td>...</td>\n",
       "      <td>NaN</td>\n",
       "      <td>NaN</td>\n",
       "      <td>002XX N Rampart St</td>\n",
       "      <td>70112.0</td>\n",
       "      <td>8</td>\n",
       "      <td>(29.956608537919635, -90.07170060793311)</td>\n",
       "      <td>VIOLENT CRIME</td>\n",
       "      <td>SIMPLE ROBBERY</td>\n",
       "      <td>29.956608537919635</td>\n",
       "      <td>-90.07170060793311</td>\n",
       "    </tr>\n",
       "    <tr>\n",
       "      <th>1</th>\n",
       "      <td>A0139412</td>\n",
       "      <td>65</td>\n",
       "      <td>SIMPLE ROBBERY</td>\n",
       "      <td>1B</td>\n",
       "      <td>NaN</td>\n",
       "      <td>NaN</td>\n",
       "      <td>NaN</td>\n",
       "      <td>3682307</td>\n",
       "      <td>529905</td>\n",
       "      <td>2012-01-01 20:04:00</td>\n",
       "      <td>...</td>\n",
       "      <td>NaN</td>\n",
       "      <td>NaN</td>\n",
       "      <td>003XX Canal St</td>\n",
       "      <td>70130.0</td>\n",
       "      <td>8</td>\n",
       "      <td>(29.951030452997887, -90.06557853022184)</td>\n",
       "      <td>VIOLENT CRIME</td>\n",
       "      <td>SIMPLE ROBBERY</td>\n",
       "      <td>29.951030452997887</td>\n",
       "      <td>-90.06557853022184</td>\n",
       "    </tr>\n",
       "    <tr>\n",
       "      <th>2</th>\n",
       "      <td>A0163512</td>\n",
       "      <td>65</td>\n",
       "      <td>SIMPLE ROBBERY</td>\n",
       "      <td>2B</td>\n",
       "      <td>NaN</td>\n",
       "      <td>NaN</td>\n",
       "      <td>NaN</td>\n",
       "      <td>3682519</td>\n",
       "      <td>532977</td>\n",
       "      <td>2012-01-02 00:13:00</td>\n",
       "      <td>...</td>\n",
       "      <td>NaN</td>\n",
       "      <td>NaN</td>\n",
       "      <td>008XX Bourbon St</td>\n",
       "      <td>70116.0</td>\n",
       "      <td>8</td>\n",
       "      <td>(29.9594709577918, -90.06480175675452)</td>\n",
       "      <td>VIOLENT CRIME</td>\n",
       "      <td>SIMPLE ROBBERY</td>\n",
       "      <td>29.9594709577918</td>\n",
       "      <td>-90.06480175675452</td>\n",
       "    </tr>\n",
       "    <tr>\n",
       "      <th>3</th>\n",
       "      <td>A0195712</td>\n",
       "      <td>65</td>\n",
       "      <td>SIMPLE ROBBERY</td>\n",
       "      <td>1B</td>\n",
       "      <td>NaN</td>\n",
       "      <td>NaN</td>\n",
       "      <td>NaN</td>\n",
       "      <td>3669570</td>\n",
       "      <td>518651</td>\n",
       "      <td>2012-01-02 09:12:00</td>\n",
       "      <td>...</td>\n",
       "      <td>NaN</td>\n",
       "      <td>NaN</td>\n",
       "      <td>009XX Bordeaux St</td>\n",
       "      <td>70115.0</td>\n",
       "      <td>2</td>\n",
       "      <td>(29.92046691792707, -90.1061762712039)</td>\n",
       "      <td>VIOLENT CRIME</td>\n",
       "      <td>SIMPLE ROBBERY</td>\n",
       "      <td>29.92046691792707</td>\n",
       "      <td>-90.1061762712039</td>\n",
       "    </tr>\n",
       "    <tr>\n",
       "      <th>4</th>\n",
       "      <td>A0248912</td>\n",
       "      <td>65</td>\n",
       "      <td>SIMPLE ROBBERY</td>\n",
       "      <td>1B</td>\n",
       "      <td>NaN</td>\n",
       "      <td>NaN</td>\n",
       "      <td>NaN</td>\n",
       "      <td>3692359</td>\n",
       "      <td>543219</td>\n",
       "      <td>2012-01-02 17:25:00</td>\n",
       "      <td>...</td>\n",
       "      <td>NaN</td>\n",
       "      <td>NaN</td>\n",
       "      <td>030XX Morrice Duncan Dr</td>\n",
       "      <td>70126.0</td>\n",
       "      <td>5</td>\n",
       "      <td>(29.987329613283705, -90.03336254702)</td>\n",
       "      <td>VIOLENT CRIME</td>\n",
       "      <td>SIMPLE ROBBERY</td>\n",
       "      <td>29.987329613283705</td>\n",
       "      <td>-90.03336254702</td>\n",
       "    </tr>\n",
       "  </tbody>\n",
       "</table>\n",
       "<p>5 rows × 25 columns</p>\n",
       "</div>"
      ],
      "text/plain": [
       "  NOPD_Item Type_        TypeText Priority InitialType InitialTypeText  \\\n",
       "0  A0026112    65  SIMPLE ROBBERY       1B         NaN             NaN   \n",
       "1  A0139412    65  SIMPLE ROBBERY       1B         NaN             NaN   \n",
       "2  A0163512    65  SIMPLE ROBBERY       2B         NaN             NaN   \n",
       "3  A0195712    65  SIMPLE ROBBERY       1B         NaN             NaN   \n",
       "4  A0248912    65  SIMPLE ROBBERY       1B         NaN             NaN   \n",
       "\n",
       "  InitialPriority     MapX    MapY          TimeCreate         ...          \\\n",
       "0             NaN  3680346  531912 2012-01-01 01:44:00         ...           \n",
       "1             NaN  3682307  529905 2012-01-01 20:04:00         ...           \n",
       "2             NaN  3682519  532977 2012-01-02 00:13:00         ...           \n",
       "3             NaN  3669570  518651 2012-01-02 09:12:00         ...           \n",
       "4             NaN  3692359  543219 2012-01-02 17:25:00         ...           \n",
       "\n",
       "  SelfInitiated Beat            BLOCK_ADDRESS      Zip PoliceDistrict  \\\n",
       "0           NaN  NaN       002XX N Rampart St  70112.0              8   \n",
       "1           NaN  NaN           003XX Canal St  70130.0              8   \n",
       "2           NaN  NaN         008XX Bourbon St  70116.0              8   \n",
       "3           NaN  NaN        009XX Bordeaux St  70115.0              2   \n",
       "4           NaN  NaN  030XX Morrice Duncan Dr  70126.0              5   \n",
       "\n",
       "                                   Location      CrimeType     Description  \\\n",
       "0  (29.956608537919635, -90.07170060793311)  VIOLENT CRIME  SIMPLE ROBBERY   \n",
       "1  (29.951030452997887, -90.06557853022184)  VIOLENT CRIME  SIMPLE ROBBERY   \n",
       "2    (29.9594709577918, -90.06480175675452)  VIOLENT CRIME  SIMPLE ROBBERY   \n",
       "3    (29.92046691792707, -90.1061762712039)  VIOLENT CRIME  SIMPLE ROBBERY   \n",
       "4     (29.987329613283705, -90.03336254702)  VIOLENT CRIME  SIMPLE ROBBERY   \n",
       "\n",
       "             Latitude           Longitude  \n",
       "0  29.956608537919635  -90.07170060793311  \n",
       "1  29.951030452997887  -90.06557853022184  \n",
       "2    29.9594709577918  -90.06480175675452  \n",
       "3   29.92046691792707   -90.1061762712039  \n",
       "4  29.987329613283705     -90.03336254702  \n",
       "\n",
       "[5 rows x 25 columns]"
      ]
     },
     "execution_count": 40,
     "metadata": {},
     "output_type": "execute_result"
    }
   ],
   "source": [
    "cfs_final.head()"
   ]
  },
  {
   "cell_type": "code",
   "execution_count": 41,
   "metadata": {
    "collapsed": false,
    "scrolled": false
   },
   "outputs": [
    {
     "data": {
      "text/html": [
       "<div>\n",
       "<table border=\"1\" class=\"dataframe\">\n",
       "  <thead>\n",
       "    <tr style=\"text-align: right;\">\n",
       "      <th></th>\n",
       "      <th>NOPD_Item</th>\n",
       "      <th>Type_</th>\n",
       "      <th>TypeText</th>\n",
       "      <th>Priority</th>\n",
       "      <th>InitialType</th>\n",
       "      <th>InitialTypeText</th>\n",
       "      <th>InitialPriority</th>\n",
       "      <th>MapX</th>\n",
       "      <th>MapY</th>\n",
       "      <th>TimeCreate</th>\n",
       "      <th>...</th>\n",
       "      <th>SelfInitiated</th>\n",
       "      <th>Beat</th>\n",
       "      <th>BLOCK_ADDRESS</th>\n",
       "      <th>Zip</th>\n",
       "      <th>PoliceDistrict</th>\n",
       "      <th>Location</th>\n",
       "      <th>CrimeType</th>\n",
       "      <th>Description</th>\n",
       "      <th>Latitude</th>\n",
       "      <th>Longitude</th>\n",
       "    </tr>\n",
       "  </thead>\n",
       "  <tbody>\n",
       "    <tr>\n",
       "      <th>13922</th>\n",
       "      <td>J1221215</td>\n",
       "      <td>42B</td>\n",
       "      <td>ORAL SEXUAL BATTERY</td>\n",
       "      <td>2A</td>\n",
       "      <td>42B</td>\n",
       "      <td>ORAL SEXUAL BATTERY</td>\n",
       "      <td>1A</td>\n",
       "      <td>37369000</td>\n",
       "      <td>3513814</td>\n",
       "      <td>2015-10-10 16:58:22</td>\n",
       "      <td>...</td>\n",
       "      <td>N</td>\n",
       "      <td>4C03</td>\n",
       "      <td>Amazon St &amp; Kansas St</td>\n",
       "      <td>70114.0</td>\n",
       "      <td>4</td>\n",
       "      <td>(0, 0)</td>\n",
       "      <td>VIOLENT CRIME</td>\n",
       "      <td>ORAL SEXUAL BATTERY</td>\n",
       "      <td>0</td>\n",
       "      <td>0</td>\n",
       "    </tr>\n",
       "    <tr>\n",
       "      <th>13923</th>\n",
       "      <td>K0073015</td>\n",
       "      <td>42B</td>\n",
       "      <td>ORAL SEXUAL BATTERY</td>\n",
       "      <td>2A</td>\n",
       "      <td>21</td>\n",
       "      <td>COMPLAINT OTHER</td>\n",
       "      <td>2A</td>\n",
       "      <td>37369000</td>\n",
       "      <td>3513814</td>\n",
       "      <td>2015-11-01 15:14:57</td>\n",
       "      <td>...</td>\n",
       "      <td>N</td>\n",
       "      <td>3U02</td>\n",
       "      <td>050XX Chef Menteur Hwy</td>\n",
       "      <td>70126.0</td>\n",
       "      <td>3</td>\n",
       "      <td>(0, 0)</td>\n",
       "      <td>VIOLENT CRIME</td>\n",
       "      <td>ORAL SEXUAL BATTERY</td>\n",
       "      <td>0</td>\n",
       "      <td>0</td>\n",
       "    </tr>\n",
       "    <tr>\n",
       "      <th>13924</th>\n",
       "      <td>K3038915</td>\n",
       "      <td>42B</td>\n",
       "      <td>ORAL SEXUAL BATTERY</td>\n",
       "      <td>1A</td>\n",
       "      <td>42B</td>\n",
       "      <td>ORAL SEXUAL BATTERY</td>\n",
       "      <td>1A</td>\n",
       "      <td>37369000</td>\n",
       "      <td>3513814</td>\n",
       "      <td>2015-11-26 17:29:18</td>\n",
       "      <td>...</td>\n",
       "      <td>N</td>\n",
       "      <td>3I01</td>\n",
       "      <td>008XX Louque Pl</td>\n",
       "      <td>70124.0</td>\n",
       "      <td>3</td>\n",
       "      <td>(0, 0)</td>\n",
       "      <td>VIOLENT CRIME</td>\n",
       "      <td>ORAL SEXUAL BATTERY</td>\n",
       "      <td>0</td>\n",
       "      <td>0</td>\n",
       "    </tr>\n",
       "    <tr>\n",
       "      <th>13925</th>\n",
       "      <td>C0577416</td>\n",
       "      <td>42B</td>\n",
       "      <td>ORAL SEXUAL BATTERY</td>\n",
       "      <td>2A</td>\n",
       "      <td>21</td>\n",
       "      <td>COMPLAINT OTHER</td>\n",
       "      <td>1H</td>\n",
       "      <td>37369000</td>\n",
       "      <td>3513814</td>\n",
       "      <td>2016-03-05 15:46:45</td>\n",
       "      <td>...</td>\n",
       "      <td>N</td>\n",
       "      <td>3M03</td>\n",
       "      <td>015XX Milton St</td>\n",
       "      <td>70122.0</td>\n",
       "      <td>3</td>\n",
       "      <td>(0, 0)</td>\n",
       "      <td>VIOLENT CRIME</td>\n",
       "      <td>ORAL SEXUAL BATTERY</td>\n",
       "      <td>0</td>\n",
       "      <td>0</td>\n",
       "    </tr>\n",
       "    <tr>\n",
       "      <th>13926</th>\n",
       "      <td>C1635316</td>\n",
       "      <td>42B</td>\n",
       "      <td>ORAL SEXUAL BATTERY</td>\n",
       "      <td>2A</td>\n",
       "      <td>21</td>\n",
       "      <td>COMPLAINT OTHER</td>\n",
       "      <td>1H</td>\n",
       "      <td>37369000</td>\n",
       "      <td>3513814</td>\n",
       "      <td>2016-03-14 13:12:14</td>\n",
       "      <td>...</td>\n",
       "      <td>N</td>\n",
       "      <td>3S02</td>\n",
       "      <td>020XX Lakeshore Dr</td>\n",
       "      <td>70122.0</td>\n",
       "      <td>3</td>\n",
       "      <td>(0, 0)</td>\n",
       "      <td>VIOLENT CRIME</td>\n",
       "      <td>ORAL SEXUAL BATTERY</td>\n",
       "      <td>0</td>\n",
       "      <td>0</td>\n",
       "    </tr>\n",
       "  </tbody>\n",
       "</table>\n",
       "<p>5 rows × 25 columns</p>\n",
       "</div>"
      ],
      "text/plain": [
       "      NOPD_Item Type_             TypeText Priority InitialType  \\\n",
       "13922  J1221215   42B  ORAL SEXUAL BATTERY       2A         42B   \n",
       "13923  K0073015   42B  ORAL SEXUAL BATTERY       2A          21   \n",
       "13924  K3038915   42B  ORAL SEXUAL BATTERY       1A         42B   \n",
       "13925  C0577416   42B  ORAL SEXUAL BATTERY       2A          21   \n",
       "13926  C1635316   42B  ORAL SEXUAL BATTERY       2A          21   \n",
       "\n",
       "           InitialTypeText InitialPriority      MapX     MapY  \\\n",
       "13922  ORAL SEXUAL BATTERY              1A  37369000  3513814   \n",
       "13923      COMPLAINT OTHER              2A  37369000  3513814   \n",
       "13924  ORAL SEXUAL BATTERY              1A  37369000  3513814   \n",
       "13925      COMPLAINT OTHER              1H  37369000  3513814   \n",
       "13926      COMPLAINT OTHER              1H  37369000  3513814   \n",
       "\n",
       "               TimeCreate    ...     SelfInitiated  Beat  \\\n",
       "13922 2015-10-10 16:58:22    ...                 N  4C03   \n",
       "13923 2015-11-01 15:14:57    ...                 N  3U02   \n",
       "13924 2015-11-26 17:29:18    ...                 N  3I01   \n",
       "13925 2016-03-05 15:46:45    ...                 N  3M03   \n",
       "13926 2016-03-14 13:12:14    ...                 N  3S02   \n",
       "\n",
       "                BLOCK_ADDRESS      Zip PoliceDistrict Location      CrimeType  \\\n",
       "13922   Amazon St & Kansas St  70114.0              4   (0, 0)  VIOLENT CRIME   \n",
       "13923  050XX Chef Menteur Hwy  70126.0              3   (0, 0)  VIOLENT CRIME   \n",
       "13924         008XX Louque Pl  70124.0              3   (0, 0)  VIOLENT CRIME   \n",
       "13925         015XX Milton St  70122.0              3   (0, 0)  VIOLENT CRIME   \n",
       "13926      020XX Lakeshore Dr  70122.0              3   (0, 0)  VIOLENT CRIME   \n",
       "\n",
       "               Description  Latitude  Longitude  \n",
       "13922  ORAL SEXUAL BATTERY         0          0  \n",
       "13923  ORAL SEXUAL BATTERY         0          0  \n",
       "13924  ORAL SEXUAL BATTERY         0          0  \n",
       "13925  ORAL SEXUAL BATTERY         0          0  \n",
       "13926  ORAL SEXUAL BATTERY         0          0  \n",
       "\n",
       "[5 rows x 25 columns]"
      ]
     },
     "execution_count": 41,
     "metadata": {},
     "output_type": "execute_result"
    }
   ],
   "source": [
    "cfs_final.tail()"
   ]
  },
  {
   "cell_type": "markdown",
   "metadata": {},
   "source": [
    "# 6. Check Beat Values"
   ]
  },
  {
   "cell_type": "code",
   "execution_count": 42,
   "metadata": {
    "collapsed": false
   },
   "outputs": [
    {
     "data": {
      "text/plain": [
       "4855"
      ]
     },
     "execution_count": 42,
     "metadata": {},
     "output_type": "execute_result"
    }
   ],
   "source": [
    "# Count of Null Beat records\n",
    "len(cfs_final[cfs_final.Beat.isnull()])"
   ]
  },
  {
   "cell_type": "markdown",
   "metadata": {},
   "source": [
    "## A. Load missing Beat Values"
   ]
  },
  {
   "cell_type": "code",
   "execution_count": 43,
   "metadata": {
    "collapsed": true
   },
   "outputs": [],
   "source": [
    "filename = \"../Datasets/Raw_Data/Shared_by_NOPD/2012 and 2013 CFS Item Number and Beat.csv\""
   ]
  },
  {
   "cell_type": "code",
   "execution_count": 44,
   "metadata": {
    "collapsed": false
   },
   "outputs": [],
   "source": [
    "df_beat = pd.read_csv(filename, header=None)\n",
    "\n",
    "# Rename columns\n",
    "df_beat.rename(columns={0:'NOPD_Item',1:'Beat'},inplace=True)"
   ]
  },
  {
   "cell_type": "code",
   "execution_count": 45,
   "metadata": {
    "collapsed": false
   },
   "outputs": [
    {
     "data": {
      "text/html": [
       "<div>\n",
       "<table border=\"1\" class=\"dataframe\">\n",
       "  <thead>\n",
       "    <tr style=\"text-align: right;\">\n",
       "      <th></th>\n",
       "      <th>NOPD_Item</th>\n",
       "      <th>Beat</th>\n",
       "    </tr>\n",
       "  </thead>\n",
       "  <tbody>\n",
       "    <tr>\n",
       "      <th>0</th>\n",
       "      <td>A0000112</td>\n",
       "      <td>8C04</td>\n",
       "    </tr>\n",
       "    <tr>\n",
       "      <th>1</th>\n",
       "      <td>A0000113</td>\n",
       "      <td>5E01</td>\n",
       "    </tr>\n",
       "    <tr>\n",
       "      <th>2</th>\n",
       "      <td>A0000212</td>\n",
       "      <td>5P03</td>\n",
       "    </tr>\n",
       "    <tr>\n",
       "      <th>3</th>\n",
       "      <td>A0000213</td>\n",
       "      <td>4E04</td>\n",
       "    </tr>\n",
       "    <tr>\n",
       "      <th>4</th>\n",
       "      <td>A0000312</td>\n",
       "      <td>6I02</td>\n",
       "    </tr>\n",
       "  </tbody>\n",
       "</table>\n",
       "</div>"
      ],
      "text/plain": [
       "  NOPD_Item  Beat\n",
       "0  A0000112  8C04\n",
       "1  A0000113  5E01\n",
       "2  A0000212  5P03\n",
       "3  A0000213  4E04\n",
       "4  A0000312  6I02"
      ]
     },
     "execution_count": 45,
     "metadata": {},
     "output_type": "execute_result"
    }
   ],
   "source": [
    "df_beat.head()"
   ]
  },
  {
   "cell_type": "code",
   "execution_count": 76,
   "metadata": {
    "collapsed": false
   },
   "outputs": [],
   "source": [
    "NOPD_Item_list = list(cfs_final.NOPD_Item)"
   ]
  },
  {
   "cell_type": "code",
   "execution_count": 80,
   "metadata": {
    "collapsed": false
   },
   "outputs": [],
   "source": [
    "df_beat = df_beat[df_beat.NOPD_Item.isin(NOPD_Item_list)]"
   ]
  },
  {
   "cell_type": "code",
   "execution_count": 91,
   "metadata": {
    "collapsed": false
   },
   "outputs": [],
   "source": [
    "df_beat = df_beat[df_beat.Beat.notnull()]"
   ]
  },
  {
   "cell_type": "code",
   "execution_count": 98,
   "metadata": {
    "collapsed": false
   },
   "outputs": [],
   "source": [
    "# Fill missing Beat Values\n",
    "for row in cfs_final[cfs_final.Beat.isnull()].iterrows():\n",
    "    if(row[1].NOPD_Item in list(df_beat.NOPD_Item)):\n",
    "        cfs_final['Beat'].loc[cfs_final.NOPD_Item == row[1].NOPD_Item] = \\\n",
    "                    df_beat.Beat[df_beat.NOPD_Item == row[1].NOPD_Item].values[0]"
   ]
  },
  {
   "cell_type": "code",
   "execution_count": 99,
   "metadata": {
    "collapsed": false
   },
   "outputs": [
    {
     "data": {
      "text/plain": [
       "8"
      ]
     },
     "execution_count": 99,
     "metadata": {},
     "output_type": "execute_result"
    }
   ],
   "source": [
    "# Count of Null Beat records\n",
    "len(cfs_final[cfs_final.Beat.isnull()])"
   ]
  },
  {
   "cell_type": "code",
   "execution_count": 100,
   "metadata": {
    "collapsed": false
   },
   "outputs": [
    {
     "data": {
      "text/plain": [
       "0.05744237811445394"
      ]
     },
     "execution_count": 100,
     "metadata": {},
     "output_type": "execute_result"
    }
   ],
   "source": [
    "# % of records with Null beat values\n",
    "len(cfs_final[cfs_final.Beat.isnull()])*100.0/len(cfs_final)"
   ]
  },
  {
   "cell_type": "code",
   "execution_count": 101,
   "metadata": {
    "collapsed": false
   },
   "outputs": [
    {
     "data": {
      "text/plain": [
       "13927"
      ]
     },
     "execution_count": 101,
     "metadata": {},
     "output_type": "execute_result"
    }
   ],
   "source": [
    "len(cfs_final)"
   ]
  },
  {
   "cell_type": "markdown",
   "metadata": {},
   "source": [
    "# 7. Save CFS Data to csv"
   ]
  },
  {
   "cell_type": "code",
   "execution_count": 102,
   "metadata": {
    "collapsed": true
   },
   "outputs": [],
   "source": [
    "# Save the data\n",
    "fullpath = \"..\\\\Datasets\\\\Final_Data\\\\Calls_for_Service_Cleaned.csv\"\n",
    "cfs_final.to_csv(fullpath, sep=',',  index = False)"
   ]
  },
  {
   "cell_type": "markdown",
   "metadata": {},
   "source": [
    "# 8. Zip with most Violent Crimes"
   ]
  },
  {
   "cell_type": "code",
   "execution_count": 103,
   "metadata": {
    "collapsed": false
   },
   "outputs": [],
   "source": [
    "zip_crime_count = Counter(cfs_final.Zip)"
   ]
  },
  {
   "cell_type": "code",
   "execution_count": 104,
   "metadata": {
    "collapsed": false
   },
   "outputs": [
    {
     "data": {
      "text/plain": [
       "[(70119.0, 1603),\n",
       " (70117.0, 1518),\n",
       " (70126.0, 1315),\n",
       " (70116.0, 1291),\n",
       " (70127.0, 906)]"
      ]
     },
     "execution_count": 104,
     "metadata": {},
     "output_type": "execute_result"
    }
   ],
   "source": [
    "zip_crime_count.most_common(5)"
   ]
  },
  {
   "cell_type": "code",
   "execution_count": null,
   "metadata": {
    "collapsed": true
   },
   "outputs": [],
   "source": []
  }
 ],
 "metadata": {
  "anaconda-cloud": {},
  "kernelspec": {
   "display_name": "Python [Root]",
   "language": "python",
   "name": "Python [Root]"
  },
  "language_info": {
   "codemirror_mode": {
    "name": "ipython",
    "version": 2
   },
   "file_extension": ".py",
   "mimetype": "text/x-python",
   "name": "python",
   "nbconvert_exporter": "python",
   "pygments_lexer": "ipython2",
   "version": "2.7.11"
  }
 },
 "nbformat": 4,
 "nbformat_minor": 1
}
