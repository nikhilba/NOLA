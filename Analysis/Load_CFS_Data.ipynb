{
 "cells": [
  {
   "cell_type": "markdown",
   "metadata": {},
   "source": [
    "# Introduction \n",
    "\n",
    "The below script loads data from Calls_for_service file and merges with data from max_cfs_ucr_categories file.\n",
    "Following constraints are applied:\n",
    "- Records year range = 2014 - 2016\n",
    "- Records Disposition = RTF \n",
    "- Records CrimeType = Violent Crime"
   ]
  },
  {
   "cell_type": "markdown",
   "metadata": {},
   "source": [
    "# Index\n",
    "\n",
    "- [1. Libraries](#1.-Libraries)\n",
    "- [2. Data Loading](#2.-Data-Loading)\n",
    "    - [A. Load Calls-for-Service (CFS) Data](#A.-Load-Calls-for-Service-Data)\n",
    "    - [B. Filter Records with Disposition 'RTF'](#B.-Filter-Records-with-Disposition-'RTF')\n",
    "    - [C. Filter Records for Year 2014 to 2016](#C.-Filter-Records-for-Year-2014-to-2016)    \n",
    "- [3. Load Categories Data](#3.-Load-Categories-Data)\n",
    "    - [A. Filter Records for CrimeType 'Violent Crime'](#A.-Filter-Records-for-CrimeType-'Violent-Crime')\n",
    "- [4. Merge CFS with Categories data](#4.-Merge-CFS-with-Categories-data)\n",
    "- [5. Verify Records](#5.-Verify-Records)\n",
    "- [6. Generate Lat/Long from Location](#6.-Generate-Lat/Long-from-Location)\n",
    "- [7. Save CFS Data to csv](#7.-Save-CFS-Data-to-csv)\n",
    "- [8. Zip with most Violent Crimes](#8.-Zip-with-most-Violent-Crimes)\n"
   ]
  },
  {
   "cell_type": "markdown",
   "metadata": {},
   "source": [
    "# 1. Libraries\n",
    "\n",
    "Following libraries are required for this code to run successfully."
   ]
  },
  {
   "cell_type": "code",
   "execution_count": 142,
   "metadata": {
    "collapsed": false
   },
   "outputs": [],
   "source": [
    "# Load required libraries \n",
    "import os\n",
    "import csv\n",
    "import zipfile\n",
    "import string\n",
    "import pandas as pd\n",
    "import datetime as dt\n",
    "from collections import Counter"
   ]
  },
  {
   "cell_type": "markdown",
   "metadata": {},
   "source": [
    "# 2. Data Loading\n",
    "\n",
    "In this section we load following files:\n",
    "- Calls_for_Service Data\n",
    "- MAX_CFS_UCR_Categories Data\n",
    "\n",
    "And perform required data manipulation steps."
   ]
  },
  {
   "cell_type": "markdown",
   "metadata": {},
   "source": [
    "## A. Load Calls-for-Service Data"
   ]
  },
  {
   "cell_type": "code",
   "execution_count": 98,
   "metadata": {
    "collapsed": false
   },
   "outputs": [
    {
     "data": {
      "text/plain": [
       "'../Datasets/Raw_Data/Calls_for_Service/'"
      ]
     },
     "execution_count": 98,
     "metadata": {},
     "output_type": "execute_result"
    }
   ],
   "source": [
    "# Set location of file\n",
    "path = os.path.join(\"../Datasets/Raw_Data/Calls_for_Service/\")\n",
    "path"
   ]
  },
  {
   "cell_type": "code",
   "execution_count": 99,
   "metadata": {
    "collapsed": false
   },
   "outputs": [
    {
     "data": {
      "text/plain": [
       "['Calls_for_Service_2012.zip',\n",
       " 'Calls_for_Service_2013.zip',\n",
       " 'Calls_for_Service_2014.zip',\n",
       " 'Calls_for_Service_2015.zip',\n",
       " 'Calls_for_Service_2016.zip']"
      ]
     },
     "execution_count": 99,
     "metadata": {},
     "output_type": "execute_result"
    }
   ],
   "source": [
    "# Get filenames\n",
    "filenames = os.listdir(path)\n",
    "filenames"
   ]
  },
  {
   "cell_type": "code",
   "execution_count": 100,
   "metadata": {
    "collapsed": false
   },
   "outputs": [],
   "source": [
    "# Load data from files in list\n",
    "dfs = []\n",
    "for f in filenames:\n",
    "    zf = zipfile.ZipFile(os.path.join(path,f)) \n",
    "    dfs.append(pd.read_csv(zf.open(str.replace(f, 'zip', 'csv')),))\n",
    "\n",
    "# Merge all df in list\n",
    "cfs_df = pd.concat(dfs, ignore_index=True)\n",
    "\n",
    "# Change datatype of column Type_ to String\n",
    "cfs_df.Type_ = cfs_df.Type_.apply(str)"
   ]
  },
  {
   "cell_type": "code",
   "execution_count": 101,
   "metadata": {
    "collapsed": false
   },
   "outputs": [
    {
     "data": {
      "text/html": [
       "<div>\n",
       "<table border=\"1\" class=\"dataframe\">\n",
       "  <thead>\n",
       "    <tr style=\"text-align: right;\">\n",
       "      <th></th>\n",
       "      <th>NOPD_Item</th>\n",
       "      <th>Type_</th>\n",
       "      <th>TypeText</th>\n",
       "      <th>Priority</th>\n",
       "      <th>InitialType</th>\n",
       "      <th>InitialTypeText</th>\n",
       "      <th>InitialPriority</th>\n",
       "      <th>MapX</th>\n",
       "      <th>MapY</th>\n",
       "      <th>TimeCreate</th>\n",
       "      <th>...</th>\n",
       "      <th>TimeArrive</th>\n",
       "      <th>TimeClosed</th>\n",
       "      <th>Disposition</th>\n",
       "      <th>DispositionText</th>\n",
       "      <th>SelfInitiated</th>\n",
       "      <th>Beat</th>\n",
       "      <th>BLOCK_ADDRESS</th>\n",
       "      <th>Zip</th>\n",
       "      <th>PoliceDistrict</th>\n",
       "      <th>Location</th>\n",
       "    </tr>\n",
       "  </thead>\n",
       "  <tbody>\n",
       "    <tr>\n",
       "      <th>0</th>\n",
       "      <td>A0000112</td>\n",
       "      <td>62A</td>\n",
       "      <td>BURGLAR ALARM, SILEN</td>\n",
       "      <td>2C</td>\n",
       "      <td>NaN</td>\n",
       "      <td>NaN</td>\n",
       "      <td>NaN</td>\n",
       "      <td>3683627</td>\n",
       "      <td>532625</td>\n",
       "      <td>1/1/2012 0:00</td>\n",
       "      <td>...</td>\n",
       "      <td>NaN</td>\n",
       "      <td>1/1/2012 0:33</td>\n",
       "      <td>NAT</td>\n",
       "      <td>NECESSARY ACTION TAKEN</td>\n",
       "      <td>NaN</td>\n",
       "      <td>NaN</td>\n",
       "      <td>009XX Decatur St</td>\n",
       "      <td>70116.0</td>\n",
       "      <td>8</td>\n",
       "      <td>(29.958469303316875, -90.0613152964016)</td>\n",
       "    </tr>\n",
       "    <tr>\n",
       "      <th>1</th>\n",
       "      <td>A0000412</td>\n",
       "      <td>94</td>\n",
       "      <td>DISCHARGING FIREARMS</td>\n",
       "      <td>2B</td>\n",
       "      <td>NaN</td>\n",
       "      <td>NaN</td>\n",
       "      <td>NaN</td>\n",
       "      <td>3732996</td>\n",
       "      <td>562418</td>\n",
       "      <td>1/1/2012 0:00</td>\n",
       "      <td>...</td>\n",
       "      <td>1/1/2012 0:16</td>\n",
       "      <td>1/1/2012 0:30</td>\n",
       "      <td>UNF</td>\n",
       "      <td>UNFOUNDED</td>\n",
       "      <td>NaN</td>\n",
       "      <td>NaN</td>\n",
       "      <td>147XX Chef Menteur Hwy</td>\n",
       "      <td>70129.0</td>\n",
       "      <td>7</td>\n",
       "      <td>(30.038788769111676, -89.90425047516077)</td>\n",
       "    </tr>\n",
       "    <tr>\n",
       "      <th>2</th>\n",
       "      <td>A0000212</td>\n",
       "      <td>103</td>\n",
       "      <td>DISTURBANCE (OTHER)</td>\n",
       "      <td>1C</td>\n",
       "      <td>NaN</td>\n",
       "      <td>NaN</td>\n",
       "      <td>NaN</td>\n",
       "      <td>3687688</td>\n",
       "      <td>548824</td>\n",
       "      <td>1/1/2012 0:01</td>\n",
       "      <td>...</td>\n",
       "      <td>1/1/2012 0:01</td>\n",
       "      <td>1/1/2012 0:19</td>\n",
       "      <td>NAT</td>\n",
       "      <td>NECESSARY ACTION TAKEN</td>\n",
       "      <td>NaN</td>\n",
       "      <td>NaN</td>\n",
       "      <td>038XX Gentilly Blvd</td>\n",
       "      <td>70122.0</td>\n",
       "      <td>3</td>\n",
       "      <td>(30.002886229898206, -90.04791794333323)</td>\n",
       "    </tr>\n",
       "    <tr>\n",
       "      <th>3</th>\n",
       "      <td>A0000712</td>\n",
       "      <td>21</td>\n",
       "      <td>COMPLAINT OTHER</td>\n",
       "      <td>1H</td>\n",
       "      <td>NaN</td>\n",
       "      <td>NaN</td>\n",
       "      <td>NaN</td>\n",
       "      <td>3670776</td>\n",
       "      <td>521242</td>\n",
       "      <td>1/1/2012 0:01</td>\n",
       "      <td>...</td>\n",
       "      <td>NaN</td>\n",
       "      <td>1/1/2012 0:20</td>\n",
       "      <td>NAT</td>\n",
       "      <td>NECESSARY ACTION TAKEN</td>\n",
       "      <td>NaN</td>\n",
       "      <td>NaN</td>\n",
       "      <td>Carondelet St &amp; Napoleon Ave</td>\n",
       "      <td>70115.0</td>\n",
       "      <td>2</td>\n",
       "      <td>(29.927555772946167, -90.10228161624175)</td>\n",
       "    </tr>\n",
       "    <tr>\n",
       "      <th>4</th>\n",
       "      <td>A0000512</td>\n",
       "      <td>62A</td>\n",
       "      <td>BURGLAR ALARM, SILEN</td>\n",
       "      <td>2C</td>\n",
       "      <td>NaN</td>\n",
       "      <td>NaN</td>\n",
       "      <td>NaN</td>\n",
       "      <td>3665739</td>\n",
       "      <td>549621</td>\n",
       "      <td>1/1/2012 0:01</td>\n",
       "      <td>...</td>\n",
       "      <td>1/1/2012 0:09</td>\n",
       "      <td>1/1/2012 1:55</td>\n",
       "      <td>NAT</td>\n",
       "      <td>NECESSARY ACTION TAKEN</td>\n",
       "      <td>NaN</td>\n",
       "      <td>NaN</td>\n",
       "      <td>002XX W Harrison Ave</td>\n",
       "      <td>70124.0</td>\n",
       "      <td>3</td>\n",
       "      <td>(30.005736477457617, -90.11723146931276)</td>\n",
       "    </tr>\n",
       "  </tbody>\n",
       "</table>\n",
       "<p>5 rows × 21 columns</p>\n",
       "</div>"
      ],
      "text/plain": [
       "  NOPD_Item Type_              TypeText Priority InitialType InitialTypeText  \\\n",
       "0  A0000112   62A  BURGLAR ALARM, SILEN       2C         NaN             NaN   \n",
       "1  A0000412    94  DISCHARGING FIREARMS       2B         NaN             NaN   \n",
       "2  A0000212   103   DISTURBANCE (OTHER)       1C         NaN             NaN   \n",
       "3  A0000712    21       COMPLAINT OTHER       1H         NaN             NaN   \n",
       "4  A0000512   62A  BURGLAR ALARM, SILEN       2C         NaN             NaN   \n",
       "\n",
       "  InitialPriority     MapX    MapY     TimeCreate  \\\n",
       "0             NaN  3683627  532625  1/1/2012 0:00   \n",
       "1             NaN  3732996  562418  1/1/2012 0:00   \n",
       "2             NaN  3687688  548824  1/1/2012 0:01   \n",
       "3             NaN  3670776  521242  1/1/2012 0:01   \n",
       "4             NaN  3665739  549621  1/1/2012 0:01   \n",
       "\n",
       "                     ...                        TimeArrive     TimeClosed  \\\n",
       "0                    ...                               NaN  1/1/2012 0:33   \n",
       "1                    ...                     1/1/2012 0:16  1/1/2012 0:30   \n",
       "2                    ...                     1/1/2012 0:01  1/1/2012 0:19   \n",
       "3                    ...                               NaN  1/1/2012 0:20   \n",
       "4                    ...                     1/1/2012 0:09  1/1/2012 1:55   \n",
       "\n",
       "  Disposition         DispositionText SelfInitiated Beat  \\\n",
       "0         NAT  NECESSARY ACTION TAKEN           NaN  NaN   \n",
       "1         UNF               UNFOUNDED           NaN  NaN   \n",
       "2         NAT  NECESSARY ACTION TAKEN           NaN  NaN   \n",
       "3         NAT  NECESSARY ACTION TAKEN           NaN  NaN   \n",
       "4         NAT  NECESSARY ACTION TAKEN           NaN  NaN   \n",
       "\n",
       "                  BLOCK_ADDRESS      Zip  PoliceDistrict  \\\n",
       "0              009XX Decatur St  70116.0               8   \n",
       "1        147XX Chef Menteur Hwy  70129.0               7   \n",
       "2           038XX Gentilly Blvd  70122.0               3   \n",
       "3  Carondelet St & Napoleon Ave  70115.0               2   \n",
       "4          002XX W Harrison Ave  70124.0               3   \n",
       "\n",
       "                                   Location  \n",
       "0   (29.958469303316875, -90.0613152964016)  \n",
       "1  (30.038788769111676, -89.90425047516077)  \n",
       "2  (30.002886229898206, -90.04791794333323)  \n",
       "3  (29.927555772946167, -90.10228161624175)  \n",
       "4  (30.005736477457617, -90.11723146931276)  \n",
       "\n",
       "[5 rows x 21 columns]"
      ]
     },
     "execution_count": 101,
     "metadata": {},
     "output_type": "execute_result"
    }
   ],
   "source": [
    "# Display top 5 rows\n",
    "cfs_df.head()"
   ]
  },
  {
   "cell_type": "code",
   "execution_count": 102,
   "metadata": {
    "collapsed": false
   },
   "outputs": [
    {
     "data": {
      "text/plain": [
       "2252907"
      ]
     },
     "execution_count": 102,
     "metadata": {},
     "output_type": "execute_result"
    }
   ],
   "source": [
    "# Number of records\n",
    "len(cfs_df)"
   ]
  },
  {
   "cell_type": "code",
   "execution_count": 103,
   "metadata": {
    "collapsed": false,
    "scrolled": true
   },
   "outputs": [
    {
     "data": {
      "text/plain": [
       "Index([u'NOPD_Item', u'Type_', u'TypeText', u'Priority', u'InitialType',\n",
       "       u'InitialTypeText', u'InitialPriority', u'MapX', u'MapY', u'TimeCreate',\n",
       "       u'TimeDispatch', u'TimeArrive', u'TimeClosed', u'Disposition',\n",
       "       u'DispositionText', u'SelfInitiated', u'Beat', u'BLOCK_ADDRESS', u'Zip',\n",
       "       u'PoliceDistrict', u'Location'],\n",
       "      dtype='object')"
      ]
     },
     "execution_count": 103,
     "metadata": {},
     "output_type": "execute_result"
    }
   ],
   "source": [
    "# Column Names\n",
    "cfs_df.columns"
   ]
  },
  {
   "cell_type": "markdown",
   "metadata": {},
   "source": [
    "## B. Filter Records with Disposition 'RTF' "
   ]
  },
  {
   "cell_type": "code",
   "execution_count": 104,
   "metadata": {
    "collapsed": true
   },
   "outputs": [],
   "source": [
    "cfs_df = cfs_df[cfs_df.Disposition.str.strip() == 'RTF']"
   ]
  },
  {
   "cell_type": "code",
   "execution_count": 105,
   "metadata": {
    "collapsed": false
   },
   "outputs": [
    {
     "data": {
      "text/plain": [
       "428570"
      ]
     },
     "execution_count": 105,
     "metadata": {},
     "output_type": "execute_result"
    }
   ],
   "source": [
    "# Number of records\n",
    "len(cfs_df)"
   ]
  },
  {
   "cell_type": "code",
   "execution_count": 106,
   "metadata": {
    "collapsed": false,
    "scrolled": true
   },
   "outputs": [
    {
     "data": {
      "text/html": [
       "<div>\n",
       "<table border=\"1\" class=\"dataframe\">\n",
       "  <thead>\n",
       "    <tr style=\"text-align: right;\">\n",
       "      <th></th>\n",
       "      <th>NOPD_Item</th>\n",
       "      <th>Type_</th>\n",
       "      <th>TypeText</th>\n",
       "      <th>Priority</th>\n",
       "      <th>InitialType</th>\n",
       "      <th>InitialTypeText</th>\n",
       "      <th>InitialPriority</th>\n",
       "      <th>MapX</th>\n",
       "      <th>MapY</th>\n",
       "      <th>TimeCreate</th>\n",
       "      <th>...</th>\n",
       "      <th>TimeArrive</th>\n",
       "      <th>TimeClosed</th>\n",
       "      <th>Disposition</th>\n",
       "      <th>DispositionText</th>\n",
       "      <th>SelfInitiated</th>\n",
       "      <th>Beat</th>\n",
       "      <th>BLOCK_ADDRESS</th>\n",
       "      <th>Zip</th>\n",
       "      <th>PoliceDistrict</th>\n",
       "      <th>Location</th>\n",
       "    </tr>\n",
       "  </thead>\n",
       "  <tbody>\n",
       "    <tr>\n",
       "      <th>64</th>\n",
       "      <td>A0006912</td>\n",
       "      <td>29S</td>\n",
       "      <td>SUICIDE</td>\n",
       "      <td>2B</td>\n",
       "      <td>NaN</td>\n",
       "      <td>NaN</td>\n",
       "      <td>NaN</td>\n",
       "      <td>37369000</td>\n",
       "      <td>3513814</td>\n",
       "      <td>1/1/2012 0:16</td>\n",
       "      <td>...</td>\n",
       "      <td>1/1/2012 0:32</td>\n",
       "      <td>1/1/2012 0:59</td>\n",
       "      <td>RTF</td>\n",
       "      <td>REPORT TO FOLLOW</td>\n",
       "      <td>NaN</td>\n",
       "      <td>NaN</td>\n",
       "      <td>049XX Major Dr</td>\n",
       "      <td>70128.0</td>\n",
       "      <td>0</td>\n",
       "      <td>(9.235500542976004E-7, -0.000002292984766499941)</td>\n",
       "    </tr>\n",
       "    <tr>\n",
       "      <th>79</th>\n",
       "      <td>A0008112</td>\n",
       "      <td>966</td>\n",
       "      <td>DRUG VIOLATIONS</td>\n",
       "      <td>1G</td>\n",
       "      <td>NaN</td>\n",
       "      <td>NaN</td>\n",
       "      <td>NaN</td>\n",
       "      <td>3680920</td>\n",
       "      <td>540222</td>\n",
       "      <td>1/1/2012 0:22</td>\n",
       "      <td>...</td>\n",
       "      <td>1/1/2012 0:23</td>\n",
       "      <td>1/1/2012 1:13</td>\n",
       "      <td>RTF</td>\n",
       "      <td>REPORT TO FOLLOW</td>\n",
       "      <td>NaN</td>\n",
       "      <td>NaN</td>\n",
       "      <td>St Bernard Ave &amp; N Tonti St</td>\n",
       "      <td>70119.0</td>\n",
       "      <td>1</td>\n",
       "      <td>(29.979440793120016, -90.06959870234981)</td>\n",
       "    </tr>\n",
       "    <tr>\n",
       "      <th>80</th>\n",
       "      <td>A0008212</td>\n",
       "      <td>21U</td>\n",
       "      <td>UNDER AGE DRINKING V</td>\n",
       "      <td>1F</td>\n",
       "      <td>NaN</td>\n",
       "      <td>NaN</td>\n",
       "      <td>NaN</td>\n",
       "      <td>3681403</td>\n",
       "      <td>531510</td>\n",
       "      <td>1/1/2012 0:22</td>\n",
       "      <td>...</td>\n",
       "      <td>1/1/2012 0:22</td>\n",
       "      <td>1/1/2012 1:33</td>\n",
       "      <td>RTF</td>\n",
       "      <td>REPORT TO FOLLOW</td>\n",
       "      <td>NaN</td>\n",
       "      <td>NaN</td>\n",
       "      <td>003XX Bourbon St</td>\n",
       "      <td>70112.0</td>\n",
       "      <td>8</td>\n",
       "      <td>(29.95547113098435, -90.06837696099961)</td>\n",
       "    </tr>\n",
       "    <tr>\n",
       "      <th>83</th>\n",
       "      <td>A0008312</td>\n",
       "      <td>66</td>\n",
       "      <td>EXTORTION (THREATS)</td>\n",
       "      <td>1F</td>\n",
       "      <td>NaN</td>\n",
       "      <td>NaN</td>\n",
       "      <td>NaN</td>\n",
       "      <td>3691753</td>\n",
       "      <td>536508</td>\n",
       "      <td>1/1/2012 0:23</td>\n",
       "      <td>...</td>\n",
       "      <td>1/1/2012 0:25</td>\n",
       "      <td>1/1/2012 1:19</td>\n",
       "      <td>RTF</td>\n",
       "      <td>REPORT TO FOLLOW</td>\n",
       "      <td>NaN</td>\n",
       "      <td>NaN</td>\n",
       "      <td>014XX Alvar St</td>\n",
       "      <td>70117.0</td>\n",
       "      <td>5</td>\n",
       "      <td>(29.96889564722802, -90.03551677167968)</td>\n",
       "    </tr>\n",
       "    <tr>\n",
       "      <th>92</th>\n",
       "      <td>A0009412</td>\n",
       "      <td>94</td>\n",
       "      <td>DISCHARGING FIREARMS</td>\n",
       "      <td>2B</td>\n",
       "      <td>NaN</td>\n",
       "      <td>NaN</td>\n",
       "      <td>NaN</td>\n",
       "      <td>3696950</td>\n",
       "      <td>533169</td>\n",
       "      <td>1/1/2012 0:28</td>\n",
       "      <td>...</td>\n",
       "      <td>1/1/2012 0:28</td>\n",
       "      <td>1/1/2012 1:36</td>\n",
       "      <td>RTF</td>\n",
       "      <td>REPORT TO FOLLOW</td>\n",
       "      <td>NaN</td>\n",
       "      <td>NaN</td>\n",
       "      <td>054XX Burgundy St</td>\n",
       "      <td>70117.0</td>\n",
       "      <td>5</td>\n",
       "      <td>(29.959551708547103, -90.01922533580768)</td>\n",
       "    </tr>\n",
       "  </tbody>\n",
       "</table>\n",
       "<p>5 rows × 21 columns</p>\n",
       "</div>"
      ],
      "text/plain": [
       "   NOPD_Item Type_              TypeText Priority InitialType InitialTypeText  \\\n",
       "64  A0006912   29S               SUICIDE       2B         NaN             NaN   \n",
       "79  A0008112   966       DRUG VIOLATIONS       1G         NaN             NaN   \n",
       "80  A0008212   21U  UNDER AGE DRINKING V       1F         NaN             NaN   \n",
       "83  A0008312    66   EXTORTION (THREATS)       1F         NaN             NaN   \n",
       "92  A0009412    94  DISCHARGING FIREARMS       2B         NaN             NaN   \n",
       "\n",
       "   InitialPriority      MapX     MapY     TimeCreate  \\\n",
       "64             NaN  37369000  3513814  1/1/2012 0:16   \n",
       "79             NaN   3680920   540222  1/1/2012 0:22   \n",
       "80             NaN   3681403   531510  1/1/2012 0:22   \n",
       "83             NaN   3691753   536508  1/1/2012 0:23   \n",
       "92             NaN   3696950   533169  1/1/2012 0:28   \n",
       "\n",
       "                          ...                            TimeArrive  \\\n",
       "64                        ...                         1/1/2012 0:32   \n",
       "79                        ...                         1/1/2012 0:23   \n",
       "80                        ...                         1/1/2012 0:22   \n",
       "83                        ...                         1/1/2012 0:25   \n",
       "92                        ...                         1/1/2012 0:28   \n",
       "\n",
       "       TimeClosed Disposition   DispositionText SelfInitiated Beat  \\\n",
       "64  1/1/2012 0:59         RTF  REPORT TO FOLLOW           NaN  NaN   \n",
       "79  1/1/2012 1:13         RTF  REPORT TO FOLLOW           NaN  NaN   \n",
       "80  1/1/2012 1:33         RTF  REPORT TO FOLLOW           NaN  NaN   \n",
       "83  1/1/2012 1:19         RTF  REPORT TO FOLLOW           NaN  NaN   \n",
       "92  1/1/2012 1:36         RTF  REPORT TO FOLLOW           NaN  NaN   \n",
       "\n",
       "                  BLOCK_ADDRESS      Zip  PoliceDistrict  \\\n",
       "64               049XX Major Dr  70128.0               0   \n",
       "79  St Bernard Ave & N Tonti St  70119.0               1   \n",
       "80             003XX Bourbon St  70112.0               8   \n",
       "83               014XX Alvar St  70117.0               5   \n",
       "92            054XX Burgundy St  70117.0               5   \n",
       "\n",
       "                                            Location  \n",
       "64  (9.235500542976004E-7, -0.000002292984766499941)  \n",
       "79          (29.979440793120016, -90.06959870234981)  \n",
       "80           (29.95547113098435, -90.06837696099961)  \n",
       "83           (29.96889564722802, -90.03551677167968)  \n",
       "92          (29.959551708547103, -90.01922533580768)  \n",
       "\n",
       "[5 rows x 21 columns]"
      ]
     },
     "execution_count": 106,
     "metadata": {},
     "output_type": "execute_result"
    }
   ],
   "source": [
    "# Display top 5 rows\n",
    "cfs_df.head()"
   ]
  },
  {
   "cell_type": "markdown",
   "metadata": {},
   "source": [
    "## C. Filter Records for Year 2014 to 2016"
   ]
  },
  {
   "cell_type": "code",
   "execution_count": 107,
   "metadata": {
    "collapsed": false
   },
   "outputs": [],
   "source": [
    "# Convert column type to datetime\n",
    "cfs_df.TimeCreate = pd.to_datetime(cfs_df.TimeCreate)"
   ]
  },
  {
   "cell_type": "code",
   "execution_count": 108,
   "metadata": {
    "collapsed": false
   },
   "outputs": [],
   "source": [
    "# Apply filter for year range 2014-2016\n",
    "cfs_df = cfs_df[(cfs_df.TimeCreate >= dt.date(2014,1,1)) \\\n",
    "                & (cfs_df.TimeCreate < dt.date(2017,1,1))]"
   ]
  },
  {
   "cell_type": "code",
   "execution_count": 109,
   "metadata": {
    "collapsed": false
   },
   "outputs": [
    {
     "data": {
      "text/plain": [
       "250441"
      ]
     },
     "execution_count": 109,
     "metadata": {},
     "output_type": "execute_result"
    }
   ],
   "source": [
    "len(cfs_df)"
   ]
  },
  {
   "cell_type": "code",
   "execution_count": 110,
   "metadata": {
    "collapsed": false,
    "scrolled": false
   },
   "outputs": [
    {
     "data": {
      "text/html": [
       "<div>\n",
       "<table border=\"1\" class=\"dataframe\">\n",
       "  <thead>\n",
       "    <tr style=\"text-align: right;\">\n",
       "      <th></th>\n",
       "      <th>NOPD_Item</th>\n",
       "      <th>Type_</th>\n",
       "      <th>TypeText</th>\n",
       "      <th>Priority</th>\n",
       "      <th>InitialType</th>\n",
       "      <th>InitialTypeText</th>\n",
       "      <th>InitialPriority</th>\n",
       "      <th>MapX</th>\n",
       "      <th>MapY</th>\n",
       "      <th>TimeCreate</th>\n",
       "      <th>...</th>\n",
       "      <th>TimeArrive</th>\n",
       "      <th>TimeClosed</th>\n",
       "      <th>Disposition</th>\n",
       "      <th>DispositionText</th>\n",
       "      <th>SelfInitiated</th>\n",
       "      <th>Beat</th>\n",
       "      <th>BLOCK_ADDRESS</th>\n",
       "      <th>Zip</th>\n",
       "      <th>PoliceDistrict</th>\n",
       "      <th>Location</th>\n",
       "    </tr>\n",
       "  </thead>\n",
       "  <tbody>\n",
       "    <tr>\n",
       "      <th>968679</th>\n",
       "      <td>A0004414</td>\n",
       "      <td>67P</td>\n",
       "      <td>PICKPOCKET</td>\n",
       "      <td>1E</td>\n",
       "      <td>21</td>\n",
       "      <td>COMPLAINT OTHER</td>\n",
       "      <td>1H</td>\n",
       "      <td>3682941</td>\n",
       "      <td>531692</td>\n",
       "      <td>2014-01-01 00:12:25</td>\n",
       "      <td>...</td>\n",
       "      <td>01/01/2014 12:12:25 AM</td>\n",
       "      <td>01/01/2014 01:31:41 AM</td>\n",
       "      <td>RTF</td>\n",
       "      <td>REPORT TO FOLLOW</td>\n",
       "      <td>Y</td>\n",
       "      <td>8B02</td>\n",
       "      <td>007XX St Peter</td>\n",
       "      <td>NaN</td>\n",
       "      <td>8</td>\n",
       "      <td>(29.95592569, -90.06351118)</td>\n",
       "    </tr>\n",
       "    <tr>\n",
       "      <th>968690</th>\n",
       "      <td>A0005614</td>\n",
       "      <td>21P</td>\n",
       "      <td>LOST PROPERTY</td>\n",
       "      <td>0E</td>\n",
       "      <td>21P</td>\n",
       "      <td>LOST PROPERTY</td>\n",
       "      <td>0E</td>\n",
       "      <td>3681813</td>\n",
       "      <td>532089</td>\n",
       "      <td>2014-01-01 00:15:23</td>\n",
       "      <td>...</td>\n",
       "      <td>01/01/2014 12:15:23 AM</td>\n",
       "      <td>01/01/2014 12:19:05 AM</td>\n",
       "      <td>RTF</td>\n",
       "      <td>REPORT TO FOLLOW</td>\n",
       "      <td>Y</td>\n",
       "      <td>8D05</td>\n",
       "      <td>St Louis St &amp; Bourbon St</td>\n",
       "      <td>70112.0</td>\n",
       "      <td>8</td>\n",
       "      <td>(29.95705191, -90.06705979)</td>\n",
       "    </tr>\n",
       "    <tr>\n",
       "      <th>968703</th>\n",
       "      <td>A0007014</td>\n",
       "      <td>21</td>\n",
       "      <td>COMPLAINT OTHER</td>\n",
       "      <td>1H</td>\n",
       "      <td>21</td>\n",
       "      <td>COMPLAINT OTHER</td>\n",
       "      <td>1H</td>\n",
       "      <td>3681777</td>\n",
       "      <td>532065</td>\n",
       "      <td>2014-01-01 00:24:21</td>\n",
       "      <td>...</td>\n",
       "      <td>01/01/2014 12:24:21 AM</td>\n",
       "      <td>01/01/2014 01:25:54 AM</td>\n",
       "      <td>RTF</td>\n",
       "      <td>REPORT TO FOLLOW</td>\n",
       "      <td>Y</td>\n",
       "      <td>8D05</td>\n",
       "      <td>008XX Saint Louis St</td>\n",
       "      <td>70112.0</td>\n",
       "      <td>8</td>\n",
       "      <td>(29.95698593, -90.06717422)</td>\n",
       "    </tr>\n",
       "    <tr>\n",
       "      <th>968706</th>\n",
       "      <td>A0007314</td>\n",
       "      <td>103</td>\n",
       "      <td>DISTURBANCE (OTHER)</td>\n",
       "      <td>2A</td>\n",
       "      <td>103</td>\n",
       "      <td>DISTURBANCE (OTHER)</td>\n",
       "      <td>2A</td>\n",
       "      <td>3682976</td>\n",
       "      <td>539535</td>\n",
       "      <td>2014-01-01 00:26:00</td>\n",
       "      <td>...</td>\n",
       "      <td>01/01/2014 12:39:46 AM</td>\n",
       "      <td>01/01/2014 01:01:21 AM</td>\n",
       "      <td>RTF</td>\n",
       "      <td>REPORT TO FOLLOW</td>\n",
       "      <td>N</td>\n",
       "      <td>5A03</td>\n",
       "      <td>019XX N Johnson St</td>\n",
       "      <td>70116.0</td>\n",
       "      <td>5</td>\n",
       "      <td>(29.97749169, -90.06312630)</td>\n",
       "    </tr>\n",
       "    <tr>\n",
       "      <th>968712</th>\n",
       "      <td>A0007914</td>\n",
       "      <td>29</td>\n",
       "      <td>DEATH</td>\n",
       "      <td>1B</td>\n",
       "      <td>24</td>\n",
       "      <td>MEDICAL</td>\n",
       "      <td>2B</td>\n",
       "      <td>3716553</td>\n",
       "      <td>558988</td>\n",
       "      <td>2014-01-01 00:28:59</td>\n",
       "      <td>...</td>\n",
       "      <td>01/01/2014 12:47:00 AM</td>\n",
       "      <td>01/01/2014 02:24:59 AM</td>\n",
       "      <td>RTF</td>\n",
       "      <td>REPORT TO FOLLOW</td>\n",
       "      <td>N</td>\n",
       "      <td>7I02</td>\n",
       "      <td>112XX S Parkwood Ct</td>\n",
       "      <td>70128.0</td>\n",
       "      <td>7</td>\n",
       "      <td>(30.02991285, -89.95634447)</td>\n",
       "    </tr>\n",
       "  </tbody>\n",
       "</table>\n",
       "<p>5 rows × 21 columns</p>\n",
       "</div>"
      ],
      "text/plain": [
       "       NOPD_Item Type_             TypeText Priority InitialType  \\\n",
       "968679  A0004414   67P           PICKPOCKET       1E          21   \n",
       "968690  A0005614   21P        LOST PROPERTY       0E         21P   \n",
       "968703  A0007014    21      COMPLAINT OTHER       1H          21   \n",
       "968706  A0007314   103  DISTURBANCE (OTHER)       2A         103   \n",
       "968712  A0007914    29                DEATH       1B          24   \n",
       "\n",
       "            InitialTypeText InitialPriority     MapX    MapY  \\\n",
       "968679      COMPLAINT OTHER              1H  3682941  531692   \n",
       "968690        LOST PROPERTY              0E  3681813  532089   \n",
       "968703      COMPLAINT OTHER              1H  3681777  532065   \n",
       "968706  DISTURBANCE (OTHER)              2A  3682976  539535   \n",
       "968712              MEDICAL              2B  3716553  558988   \n",
       "\n",
       "                TimeCreate             ...               \\\n",
       "968679 2014-01-01 00:12:25             ...                \n",
       "968690 2014-01-01 00:15:23             ...                \n",
       "968703 2014-01-01 00:24:21             ...                \n",
       "968706 2014-01-01 00:26:00             ...                \n",
       "968712 2014-01-01 00:28:59             ...                \n",
       "\n",
       "                    TimeArrive              TimeClosed Disposition  \\\n",
       "968679  01/01/2014 12:12:25 AM  01/01/2014 01:31:41 AM         RTF   \n",
       "968690  01/01/2014 12:15:23 AM  01/01/2014 12:19:05 AM         RTF   \n",
       "968703  01/01/2014 12:24:21 AM  01/01/2014 01:25:54 AM         RTF   \n",
       "968706  01/01/2014 12:39:46 AM  01/01/2014 01:01:21 AM         RTF   \n",
       "968712  01/01/2014 12:47:00 AM  01/01/2014 02:24:59 AM         RTF   \n",
       "\n",
       "         DispositionText SelfInitiated  Beat             BLOCK_ADDRESS  \\\n",
       "968679  REPORT TO FOLLOW             Y  8B02            007XX St Peter   \n",
       "968690  REPORT TO FOLLOW             Y  8D05  St Louis St & Bourbon St   \n",
       "968703  REPORT TO FOLLOW             Y  8D05      008XX Saint Louis St   \n",
       "968706  REPORT TO FOLLOW             N  5A03        019XX N Johnson St   \n",
       "968712  REPORT TO FOLLOW             N  7I02       112XX S Parkwood Ct   \n",
       "\n",
       "            Zip  PoliceDistrict                     Location  \n",
       "968679      NaN               8  (29.95592569, -90.06351118)  \n",
       "968690  70112.0               8  (29.95705191, -90.06705979)  \n",
       "968703  70112.0               8  (29.95698593, -90.06717422)  \n",
       "968706  70116.0               5  (29.97749169, -90.06312630)  \n",
       "968712  70128.0               7  (30.02991285, -89.95634447)  \n",
       "\n",
       "[5 rows x 21 columns]"
      ]
     },
     "execution_count": 110,
     "metadata": {},
     "output_type": "execute_result"
    }
   ],
   "source": [
    "# Display top 5 rows\n",
    "cfs_df.head()"
   ]
  },
  {
   "cell_type": "markdown",
   "metadata": {},
   "source": [
    "# 3. Load Categories Data"
   ]
  },
  {
   "cell_type": "code",
   "execution_count": 111,
   "metadata": {
    "collapsed": false
   },
   "outputs": [],
   "source": [
    "# Set location of file\n",
    "fname = \"../Datasets/Raw_Data/MAX_CFS_UCR_Categories.xlsx\"\n",
    "\n",
    "# Load file\n",
    "crime_types = pd.read_excel(fname,sheetname='Sheet1')\n",
    "\n",
    "# Select required columns\n",
    "crime_types = crime_types.ix[:,['Code','UCR MAIN','Description']]\n",
    "\n",
    "# Rename columns\n",
    "crime_types.rename(columns={'Code':'Type_','UCR MAIN':'CrimeType','Description':'Description'},inplace=True)\n",
    "\n",
    "# Change datatype of column Type_ to String\n",
    "crime_types.Type_ = crime_types.Type_.apply(str)\n",
    "crime_types.Type_ = crime_types.Type_.str.strip()"
   ]
  },
  {
   "cell_type": "markdown",
   "metadata": {},
   "source": [
    "## A. Filter Records for CrimeType 'Violent Crime'"
   ]
  },
  {
   "cell_type": "code",
   "execution_count": 112,
   "metadata": {
    "collapsed": false
   },
   "outputs": [],
   "source": [
    "crime_types = crime_types[crime_types.CrimeType.str.strip() == 'VIOLENT CRIME']"
   ]
  },
  {
   "cell_type": "code",
   "execution_count": 113,
   "metadata": {
    "collapsed": false,
    "scrolled": false
   },
   "outputs": [
    {
     "data": {
      "text/html": [
       "<div>\n",
       "<table border=\"1\" class=\"dataframe\">\n",
       "  <thead>\n",
       "    <tr style=\"text-align: right;\">\n",
       "      <th></th>\n",
       "      <th>Type_</th>\n",
       "      <th>CrimeType</th>\n",
       "      <th>Description</th>\n",
       "    </tr>\n",
       "  </thead>\n",
       "  <tbody>\n",
       "    <tr>\n",
       "      <th>71</th>\n",
       "      <td>30</td>\n",
       "      <td>VIOLENT CRIME</td>\n",
       "      <td>HOMICIDE</td>\n",
       "    </tr>\n",
       "    <tr>\n",
       "      <th>72</th>\n",
       "      <td>30C</td>\n",
       "      <td>VIOLENT CRIME</td>\n",
       "      <td>HOMICIDE BY CUTTING</td>\n",
       "    </tr>\n",
       "    <tr>\n",
       "      <th>73</th>\n",
       "      <td>30D</td>\n",
       "      <td>VIOLENT CRIME</td>\n",
       "      <td>HOMICIDE DOMESTIC</td>\n",
       "    </tr>\n",
       "    <tr>\n",
       "      <th>74</th>\n",
       "      <td>30S</td>\n",
       "      <td>VIOLENT CRIME</td>\n",
       "      <td>HOMICIDE BY SHOOTING</td>\n",
       "    </tr>\n",
       "    <tr>\n",
       "      <th>75</th>\n",
       "      <td>34</td>\n",
       "      <td>VIOLENT CRIME</td>\n",
       "      <td>AGGRAVATED BATTERY</td>\n",
       "    </tr>\n",
       "  </tbody>\n",
       "</table>\n",
       "</div>"
      ],
      "text/plain": [
       "   Type_      CrimeType           Description\n",
       "71    30  VIOLENT CRIME              HOMICIDE\n",
       "72   30C  VIOLENT CRIME   HOMICIDE BY CUTTING\n",
       "73   30D  VIOLENT CRIME     HOMICIDE DOMESTIC\n",
       "74   30S  VIOLENT CRIME  HOMICIDE BY SHOOTING\n",
       "75    34  VIOLENT CRIME    AGGRAVATED BATTERY"
      ]
     },
     "execution_count": 113,
     "metadata": {},
     "output_type": "execute_result"
    }
   ],
   "source": [
    "crime_types.head()"
   ]
  },
  {
   "cell_type": "markdown",
   "metadata": {},
   "source": [
    "# 4. Merge CFS with Categories data"
   ]
  },
  {
   "cell_type": "code",
   "execution_count": 114,
   "metadata": {
    "collapsed": true
   },
   "outputs": [],
   "source": [
    "merged_df = pd.merge(cfs_df,crime_types,on='Type_',how='inner')"
   ]
  },
  {
   "cell_type": "code",
   "execution_count": 115,
   "metadata": {
    "collapsed": false
   },
   "outputs": [
    {
     "data": {
      "text/html": [
       "<div>\n",
       "<table border=\"1\" class=\"dataframe\">\n",
       "  <thead>\n",
       "    <tr style=\"text-align: right;\">\n",
       "      <th></th>\n",
       "      <th>NOPD_Item</th>\n",
       "      <th>Type_</th>\n",
       "      <th>TypeText</th>\n",
       "      <th>Priority</th>\n",
       "      <th>InitialType</th>\n",
       "      <th>InitialTypeText</th>\n",
       "      <th>InitialPriority</th>\n",
       "      <th>MapX</th>\n",
       "      <th>MapY</th>\n",
       "      <th>TimeCreate</th>\n",
       "      <th>...</th>\n",
       "      <th>Disposition</th>\n",
       "      <th>DispositionText</th>\n",
       "      <th>SelfInitiated</th>\n",
       "      <th>Beat</th>\n",
       "      <th>BLOCK_ADDRESS</th>\n",
       "      <th>Zip</th>\n",
       "      <th>PoliceDistrict</th>\n",
       "      <th>Location</th>\n",
       "      <th>CrimeType</th>\n",
       "      <th>Description</th>\n",
       "    </tr>\n",
       "  </thead>\n",
       "  <tbody>\n",
       "    <tr>\n",
       "      <th>0</th>\n",
       "      <td>A0009014</td>\n",
       "      <td>55</td>\n",
       "      <td>AGGRAVATED CRIMINAL DAMAGE</td>\n",
       "      <td>2A</td>\n",
       "      <td>55</td>\n",
       "      <td>AGGRAVATED CRIMINAL DAMAGE</td>\n",
       "      <td>2A</td>\n",
       "      <td>3669512</td>\n",
       "      <td>540197</td>\n",
       "      <td>2014-01-01 00:35:13</td>\n",
       "      <td>...</td>\n",
       "      <td>RTF</td>\n",
       "      <td>REPORT TO FOLLOW</td>\n",
       "      <td>N</td>\n",
       "      <td>3H01</td>\n",
       "      <td>046XX Iberville St</td>\n",
       "      <td>70119.0</td>\n",
       "      <td>3</td>\n",
       "      <td>(29.97971459, -90.10562794)</td>\n",
       "      <td>VIOLENT CRIME</td>\n",
       "      <td>AGGRAVATED CRIMINAL DAMAGE</td>\n",
       "    </tr>\n",
       "    <tr>\n",
       "      <th>1</th>\n",
       "      <td>A0073014</td>\n",
       "      <td>55</td>\n",
       "      <td>AGGRAVATED CRIMINAL DAMAGE</td>\n",
       "      <td>1B</td>\n",
       "      <td>56</td>\n",
       "      <td>SIMPLE CRIMINAL DAMAGE</td>\n",
       "      <td>1D</td>\n",
       "      <td>3671068</td>\n",
       "      <td>526707</td>\n",
       "      <td>2014-01-01 12:03:57</td>\n",
       "      <td>...</td>\n",
       "      <td>RTF</td>\n",
       "      <td>REPORT TO FOLLOW</td>\n",
       "      <td>N</td>\n",
       "      <td>2R01</td>\n",
       "      <td>032XX Milan St</td>\n",
       "      <td>70125.0</td>\n",
       "      <td>2</td>\n",
       "      <td>(29.94257507, -90.10117130)</td>\n",
       "      <td>VIOLENT CRIME</td>\n",
       "      <td>AGGRAVATED CRIMINAL DAMAGE</td>\n",
       "    </tr>\n",
       "    <tr>\n",
       "      <th>2</th>\n",
       "      <td>A0288814</td>\n",
       "      <td>55</td>\n",
       "      <td>AGGRAVATED CRIMINAL DAMAGE</td>\n",
       "      <td>2A</td>\n",
       "      <td>55</td>\n",
       "      <td>AGGRAVATED CRIMINAL DAMAGE</td>\n",
       "      <td>2A</td>\n",
       "      <td>3720367</td>\n",
       "      <td>573122</td>\n",
       "      <td>2014-01-03 03:15:10</td>\n",
       "      <td>...</td>\n",
       "      <td>RTF</td>\n",
       "      <td>REPORT TO FOLLOW</td>\n",
       "      <td>N</td>\n",
       "      <td>7K04</td>\n",
       "      <td>076XX Forum Blvd</td>\n",
       "      <td>70128.0</td>\n",
       "      <td>7</td>\n",
       "      <td>(30.06864780, -89.94374869)</td>\n",
       "      <td>VIOLENT CRIME</td>\n",
       "      <td>AGGRAVATED CRIMINAL DAMAGE</td>\n",
       "    </tr>\n",
       "    <tr>\n",
       "      <th>3</th>\n",
       "      <td>A0446614</td>\n",
       "      <td>55</td>\n",
       "      <td>AGGRAVATED CRIMINAL DAMAGE</td>\n",
       "      <td>1B</td>\n",
       "      <td>94</td>\n",
       "      <td>DISCHARGING FIREARM</td>\n",
       "      <td>2B</td>\n",
       "      <td>3707680</td>\n",
       "      <td>558372</td>\n",
       "      <td>2014-01-04 12:37:35</td>\n",
       "      <td>...</td>\n",
       "      <td>RTF</td>\n",
       "      <td>REPORT TO FOLLOW</td>\n",
       "      <td>N</td>\n",
       "      <td>7R03</td>\n",
       "      <td>090XX Lake Forest Blvd</td>\n",
       "      <td>70127.0</td>\n",
       "      <td>7</td>\n",
       "      <td>(30.02850987, -89.98440526)</td>\n",
       "      <td>VIOLENT CRIME</td>\n",
       "      <td>AGGRAVATED CRIMINAL DAMAGE</td>\n",
       "    </tr>\n",
       "    <tr>\n",
       "      <th>4</th>\n",
       "      <td>A0451114</td>\n",
       "      <td>55</td>\n",
       "      <td>AGGRAVATED CRIMINAL DAMAGE</td>\n",
       "      <td>1B</td>\n",
       "      <td>55</td>\n",
       "      <td>AGGRAVATED CRIMINAL DAMAGE</td>\n",
       "      <td>1B</td>\n",
       "      <td>3718188</td>\n",
       "      <td>572520</td>\n",
       "      <td>2014-01-04 13:12:22</td>\n",
       "      <td>...</td>\n",
       "      <td>RTF</td>\n",
       "      <td>REPORT TO FOLLOW</td>\n",
       "      <td>N</td>\n",
       "      <td>7K04</td>\n",
       "      <td>139XX Wales St</td>\n",
       "      <td>70128.0</td>\n",
       "      <td>7</td>\n",
       "      <td>(30.06706701, -89.95065976)</td>\n",
       "      <td>VIOLENT CRIME</td>\n",
       "      <td>AGGRAVATED CRIMINAL DAMAGE</td>\n",
       "    </tr>\n",
       "  </tbody>\n",
       "</table>\n",
       "<p>5 rows × 23 columns</p>\n",
       "</div>"
      ],
      "text/plain": [
       "  NOPD_Item Type_                    TypeText Priority InitialType  \\\n",
       "0  A0009014    55  AGGRAVATED CRIMINAL DAMAGE       2A          55   \n",
       "1  A0073014    55  AGGRAVATED CRIMINAL DAMAGE       1B          56   \n",
       "2  A0288814    55  AGGRAVATED CRIMINAL DAMAGE       2A          55   \n",
       "3  A0446614    55  AGGRAVATED CRIMINAL DAMAGE       1B          94   \n",
       "4  A0451114    55  AGGRAVATED CRIMINAL DAMAGE       1B          55   \n",
       "\n",
       "              InitialTypeText InitialPriority     MapX    MapY  \\\n",
       "0  AGGRAVATED CRIMINAL DAMAGE              2A  3669512  540197   \n",
       "1      SIMPLE CRIMINAL DAMAGE              1D  3671068  526707   \n",
       "2  AGGRAVATED CRIMINAL DAMAGE              2A  3720367  573122   \n",
       "3         DISCHARGING FIREARM              2B  3707680  558372   \n",
       "4  AGGRAVATED CRIMINAL DAMAGE              1B  3718188  572520   \n",
       "\n",
       "           TimeCreate             ...             Disposition  \\\n",
       "0 2014-01-01 00:35:13             ...                     RTF   \n",
       "1 2014-01-01 12:03:57             ...                     RTF   \n",
       "2 2014-01-03 03:15:10             ...                     RTF   \n",
       "3 2014-01-04 12:37:35             ...                     RTF   \n",
       "4 2014-01-04 13:12:22             ...                     RTF   \n",
       "\n",
       "    DispositionText SelfInitiated  Beat           BLOCK_ADDRESS      Zip  \\\n",
       "0  REPORT TO FOLLOW             N  3H01      046XX Iberville St  70119.0   \n",
       "1  REPORT TO FOLLOW             N  2R01          032XX Milan St  70125.0   \n",
       "2  REPORT TO FOLLOW             N  7K04        076XX Forum Blvd  70128.0   \n",
       "3  REPORT TO FOLLOW             N  7R03  090XX Lake Forest Blvd  70127.0   \n",
       "4  REPORT TO FOLLOW             N  7K04          139XX Wales St  70128.0   \n",
       "\n",
       "  PoliceDistrict                     Location      CrimeType  \\\n",
       "0              3  (29.97971459, -90.10562794)  VIOLENT CRIME   \n",
       "1              2  (29.94257507, -90.10117130)  VIOLENT CRIME   \n",
       "2              7  (30.06864780, -89.94374869)  VIOLENT CRIME   \n",
       "3              7  (30.02850987, -89.98440526)  VIOLENT CRIME   \n",
       "4              7  (30.06706701, -89.95065976)  VIOLENT CRIME   \n",
       "\n",
       "                  Description  \n",
       "0  AGGRAVATED CRIMINAL DAMAGE  \n",
       "1  AGGRAVATED CRIMINAL DAMAGE  \n",
       "2  AGGRAVATED CRIMINAL DAMAGE  \n",
       "3  AGGRAVATED CRIMINAL DAMAGE  \n",
       "4  AGGRAVATED CRIMINAL DAMAGE  \n",
       "\n",
       "[5 rows x 23 columns]"
      ]
     },
     "execution_count": 115,
     "metadata": {},
     "output_type": "execute_result"
    }
   ],
   "source": [
    "merged_df.head()"
   ]
  },
  {
   "cell_type": "code",
   "execution_count": 116,
   "metadata": {
    "collapsed": false
   },
   "outputs": [
    {
     "data": {
      "text/plain": [
       "9101"
      ]
     },
     "execution_count": 116,
     "metadata": {},
     "output_type": "execute_result"
    }
   ],
   "source": [
    "len(merged_df)"
   ]
  },
  {
   "cell_type": "markdown",
   "metadata": {},
   "source": [
    "# 5. Verify Records"
   ]
  },
  {
   "cell_type": "code",
   "execution_count": 117,
   "metadata": {
    "collapsed": false
   },
   "outputs": [
    {
     "data": {
      "text/plain": [
       "0"
      ]
     },
     "execution_count": 117,
     "metadata": {},
     "output_type": "execute_result"
    }
   ],
   "source": [
    "# Check length of records with CrimeType Null\n",
    "len(merged_df[merged_df.CrimeType.isnull()])"
   ]
  },
  {
   "cell_type": "code",
   "execution_count": 118,
   "metadata": {
    "collapsed": false
   },
   "outputs": [
    {
     "data": {
      "text/plain": [
       "9101"
      ]
     },
     "execution_count": 118,
     "metadata": {},
     "output_type": "execute_result"
    }
   ],
   "source": [
    "# Check length of records with CrimeType Not Null\n",
    "len(merged_df[merged_df.CrimeType.notnull()])"
   ]
  },
  {
   "cell_type": "code",
   "execution_count": 119,
   "metadata": {
    "collapsed": true
   },
   "outputs": [],
   "source": [
    "# Remove records with CrimeType Null\n",
    "cfs_final = merged_df[merged_df.CrimeType.notnull()]"
   ]
  },
  {
   "cell_type": "code",
   "execution_count": 120,
   "metadata": {
    "collapsed": false
   },
   "outputs": [
    {
     "data": {
      "text/html": [
       "<div>\n",
       "<table border=\"1\" class=\"dataframe\">\n",
       "  <thead>\n",
       "    <tr style=\"text-align: right;\">\n",
       "      <th></th>\n",
       "      <th>NOPD_Item</th>\n",
       "      <th>Type_</th>\n",
       "      <th>TypeText</th>\n",
       "      <th>Priority</th>\n",
       "      <th>InitialType</th>\n",
       "      <th>InitialTypeText</th>\n",
       "      <th>InitialPriority</th>\n",
       "      <th>MapX</th>\n",
       "      <th>MapY</th>\n",
       "      <th>TimeCreate</th>\n",
       "      <th>...</th>\n",
       "      <th>Disposition</th>\n",
       "      <th>DispositionText</th>\n",
       "      <th>SelfInitiated</th>\n",
       "      <th>Beat</th>\n",
       "      <th>BLOCK_ADDRESS</th>\n",
       "      <th>Zip</th>\n",
       "      <th>PoliceDistrict</th>\n",
       "      <th>Location</th>\n",
       "      <th>CrimeType</th>\n",
       "      <th>Description</th>\n",
       "    </tr>\n",
       "  </thead>\n",
       "  <tbody>\n",
       "    <tr>\n",
       "      <th>0</th>\n",
       "      <td>A0009014</td>\n",
       "      <td>55</td>\n",
       "      <td>AGGRAVATED CRIMINAL DAMAGE</td>\n",
       "      <td>2A</td>\n",
       "      <td>55</td>\n",
       "      <td>AGGRAVATED CRIMINAL DAMAGE</td>\n",
       "      <td>2A</td>\n",
       "      <td>3669512</td>\n",
       "      <td>540197</td>\n",
       "      <td>2014-01-01 00:35:13</td>\n",
       "      <td>...</td>\n",
       "      <td>RTF</td>\n",
       "      <td>REPORT TO FOLLOW</td>\n",
       "      <td>N</td>\n",
       "      <td>3H01</td>\n",
       "      <td>046XX Iberville St</td>\n",
       "      <td>70119.0</td>\n",
       "      <td>3</td>\n",
       "      <td>(29.97971459, -90.10562794)</td>\n",
       "      <td>VIOLENT CRIME</td>\n",
       "      <td>AGGRAVATED CRIMINAL DAMAGE</td>\n",
       "    </tr>\n",
       "    <tr>\n",
       "      <th>1</th>\n",
       "      <td>A0073014</td>\n",
       "      <td>55</td>\n",
       "      <td>AGGRAVATED CRIMINAL DAMAGE</td>\n",
       "      <td>1B</td>\n",
       "      <td>56</td>\n",
       "      <td>SIMPLE CRIMINAL DAMAGE</td>\n",
       "      <td>1D</td>\n",
       "      <td>3671068</td>\n",
       "      <td>526707</td>\n",
       "      <td>2014-01-01 12:03:57</td>\n",
       "      <td>...</td>\n",
       "      <td>RTF</td>\n",
       "      <td>REPORT TO FOLLOW</td>\n",
       "      <td>N</td>\n",
       "      <td>2R01</td>\n",
       "      <td>032XX Milan St</td>\n",
       "      <td>70125.0</td>\n",
       "      <td>2</td>\n",
       "      <td>(29.94257507, -90.10117130)</td>\n",
       "      <td>VIOLENT CRIME</td>\n",
       "      <td>AGGRAVATED CRIMINAL DAMAGE</td>\n",
       "    </tr>\n",
       "    <tr>\n",
       "      <th>2</th>\n",
       "      <td>A0288814</td>\n",
       "      <td>55</td>\n",
       "      <td>AGGRAVATED CRIMINAL DAMAGE</td>\n",
       "      <td>2A</td>\n",
       "      <td>55</td>\n",
       "      <td>AGGRAVATED CRIMINAL DAMAGE</td>\n",
       "      <td>2A</td>\n",
       "      <td>3720367</td>\n",
       "      <td>573122</td>\n",
       "      <td>2014-01-03 03:15:10</td>\n",
       "      <td>...</td>\n",
       "      <td>RTF</td>\n",
       "      <td>REPORT TO FOLLOW</td>\n",
       "      <td>N</td>\n",
       "      <td>7K04</td>\n",
       "      <td>076XX Forum Blvd</td>\n",
       "      <td>70128.0</td>\n",
       "      <td>7</td>\n",
       "      <td>(30.06864780, -89.94374869)</td>\n",
       "      <td>VIOLENT CRIME</td>\n",
       "      <td>AGGRAVATED CRIMINAL DAMAGE</td>\n",
       "    </tr>\n",
       "    <tr>\n",
       "      <th>3</th>\n",
       "      <td>A0446614</td>\n",
       "      <td>55</td>\n",
       "      <td>AGGRAVATED CRIMINAL DAMAGE</td>\n",
       "      <td>1B</td>\n",
       "      <td>94</td>\n",
       "      <td>DISCHARGING FIREARM</td>\n",
       "      <td>2B</td>\n",
       "      <td>3707680</td>\n",
       "      <td>558372</td>\n",
       "      <td>2014-01-04 12:37:35</td>\n",
       "      <td>...</td>\n",
       "      <td>RTF</td>\n",
       "      <td>REPORT TO FOLLOW</td>\n",
       "      <td>N</td>\n",
       "      <td>7R03</td>\n",
       "      <td>090XX Lake Forest Blvd</td>\n",
       "      <td>70127.0</td>\n",
       "      <td>7</td>\n",
       "      <td>(30.02850987, -89.98440526)</td>\n",
       "      <td>VIOLENT CRIME</td>\n",
       "      <td>AGGRAVATED CRIMINAL DAMAGE</td>\n",
       "    </tr>\n",
       "    <tr>\n",
       "      <th>4</th>\n",
       "      <td>A0451114</td>\n",
       "      <td>55</td>\n",
       "      <td>AGGRAVATED CRIMINAL DAMAGE</td>\n",
       "      <td>1B</td>\n",
       "      <td>55</td>\n",
       "      <td>AGGRAVATED CRIMINAL DAMAGE</td>\n",
       "      <td>1B</td>\n",
       "      <td>3718188</td>\n",
       "      <td>572520</td>\n",
       "      <td>2014-01-04 13:12:22</td>\n",
       "      <td>...</td>\n",
       "      <td>RTF</td>\n",
       "      <td>REPORT TO FOLLOW</td>\n",
       "      <td>N</td>\n",
       "      <td>7K04</td>\n",
       "      <td>139XX Wales St</td>\n",
       "      <td>70128.0</td>\n",
       "      <td>7</td>\n",
       "      <td>(30.06706701, -89.95065976)</td>\n",
       "      <td>VIOLENT CRIME</td>\n",
       "      <td>AGGRAVATED CRIMINAL DAMAGE</td>\n",
       "    </tr>\n",
       "  </tbody>\n",
       "</table>\n",
       "<p>5 rows × 23 columns</p>\n",
       "</div>"
      ],
      "text/plain": [
       "  NOPD_Item Type_                    TypeText Priority InitialType  \\\n",
       "0  A0009014    55  AGGRAVATED CRIMINAL DAMAGE       2A          55   \n",
       "1  A0073014    55  AGGRAVATED CRIMINAL DAMAGE       1B          56   \n",
       "2  A0288814    55  AGGRAVATED CRIMINAL DAMAGE       2A          55   \n",
       "3  A0446614    55  AGGRAVATED CRIMINAL DAMAGE       1B          94   \n",
       "4  A0451114    55  AGGRAVATED CRIMINAL DAMAGE       1B          55   \n",
       "\n",
       "              InitialTypeText InitialPriority     MapX    MapY  \\\n",
       "0  AGGRAVATED CRIMINAL DAMAGE              2A  3669512  540197   \n",
       "1      SIMPLE CRIMINAL DAMAGE              1D  3671068  526707   \n",
       "2  AGGRAVATED CRIMINAL DAMAGE              2A  3720367  573122   \n",
       "3         DISCHARGING FIREARM              2B  3707680  558372   \n",
       "4  AGGRAVATED CRIMINAL DAMAGE              1B  3718188  572520   \n",
       "\n",
       "           TimeCreate             ...             Disposition  \\\n",
       "0 2014-01-01 00:35:13             ...                     RTF   \n",
       "1 2014-01-01 12:03:57             ...                     RTF   \n",
       "2 2014-01-03 03:15:10             ...                     RTF   \n",
       "3 2014-01-04 12:37:35             ...                     RTF   \n",
       "4 2014-01-04 13:12:22             ...                     RTF   \n",
       "\n",
       "    DispositionText SelfInitiated  Beat           BLOCK_ADDRESS      Zip  \\\n",
       "0  REPORT TO FOLLOW             N  3H01      046XX Iberville St  70119.0   \n",
       "1  REPORT TO FOLLOW             N  2R01          032XX Milan St  70125.0   \n",
       "2  REPORT TO FOLLOW             N  7K04        076XX Forum Blvd  70128.0   \n",
       "3  REPORT TO FOLLOW             N  7R03  090XX Lake Forest Blvd  70127.0   \n",
       "4  REPORT TO FOLLOW             N  7K04          139XX Wales St  70128.0   \n",
       "\n",
       "  PoliceDistrict                     Location      CrimeType  \\\n",
       "0              3  (29.97971459, -90.10562794)  VIOLENT CRIME   \n",
       "1              2  (29.94257507, -90.10117130)  VIOLENT CRIME   \n",
       "2              7  (30.06864780, -89.94374869)  VIOLENT CRIME   \n",
       "3              7  (30.02850987, -89.98440526)  VIOLENT CRIME   \n",
       "4              7  (30.06706701, -89.95065976)  VIOLENT CRIME   \n",
       "\n",
       "                  Description  \n",
       "0  AGGRAVATED CRIMINAL DAMAGE  \n",
       "1  AGGRAVATED CRIMINAL DAMAGE  \n",
       "2  AGGRAVATED CRIMINAL DAMAGE  \n",
       "3  AGGRAVATED CRIMINAL DAMAGE  \n",
       "4  AGGRAVATED CRIMINAL DAMAGE  \n",
       "\n",
       "[5 rows x 23 columns]"
      ]
     },
     "execution_count": 120,
     "metadata": {},
     "output_type": "execute_result"
    }
   ],
   "source": [
    "cfs_final.head()"
   ]
  },
  {
   "cell_type": "code",
   "execution_count": 121,
   "metadata": {
    "collapsed": false
   },
   "outputs": [
    {
     "data": {
      "text/html": [
       "<div>\n",
       "<table border=\"1\" class=\"dataframe\">\n",
       "  <thead>\n",
       "    <tr style=\"text-align: right;\">\n",
       "      <th></th>\n",
       "      <th>NOPD_Item</th>\n",
       "      <th>Type_</th>\n",
       "      <th>TypeText</th>\n",
       "      <th>Priority</th>\n",
       "      <th>InitialType</th>\n",
       "      <th>InitialTypeText</th>\n",
       "      <th>InitialPriority</th>\n",
       "      <th>MapX</th>\n",
       "      <th>MapY</th>\n",
       "      <th>TimeCreate</th>\n",
       "      <th>...</th>\n",
       "      <th>Disposition</th>\n",
       "      <th>DispositionText</th>\n",
       "      <th>SelfInitiated</th>\n",
       "      <th>Beat</th>\n",
       "      <th>BLOCK_ADDRESS</th>\n",
       "      <th>Zip</th>\n",
       "      <th>PoliceDistrict</th>\n",
       "      <th>Location</th>\n",
       "      <th>CrimeType</th>\n",
       "      <th>Description</th>\n",
       "    </tr>\n",
       "  </thead>\n",
       "  <tbody>\n",
       "    <tr>\n",
       "      <th>9096</th>\n",
       "      <td>A1977716</td>\n",
       "      <td>43M</td>\n",
       "      <td>SIMPLE RAPE MALE VICTIM</td>\n",
       "      <td>2B</td>\n",
       "      <td>21</td>\n",
       "      <td>COMPLAINT OTHER</td>\n",
       "      <td>1H</td>\n",
       "      <td>37369000</td>\n",
       "      <td>3513814</td>\n",
       "      <td>2016-01-17 06:19:35</td>\n",
       "      <td>...</td>\n",
       "      <td>RTF</td>\n",
       "      <td>REPORT TO FOLLOW</td>\n",
       "      <td>Y</td>\n",
       "      <td>3M04</td>\n",
       "      <td>046XX Blk Paris Ave</td>\n",
       "      <td>70122.0</td>\n",
       "      <td>3</td>\n",
       "      <td>(0, 0)</td>\n",
       "      <td>VIOLENT CRIME</td>\n",
       "      <td>SIMPLE RAPE MALE VICTIM</td>\n",
       "    </tr>\n",
       "    <tr>\n",
       "      <th>9097</th>\n",
       "      <td>C3235016</td>\n",
       "      <td>43M</td>\n",
       "      <td>SIMPLE RAPE MALE VICTIM</td>\n",
       "      <td>2B</td>\n",
       "      <td>21</td>\n",
       "      <td>COMPLAINT OTHER</td>\n",
       "      <td>1H</td>\n",
       "      <td>37369000</td>\n",
       "      <td>3513814</td>\n",
       "      <td>2016-03-27 18:07:11</td>\n",
       "      <td>...</td>\n",
       "      <td>RTF</td>\n",
       "      <td>REPORT TO FOLLOW</td>\n",
       "      <td>N</td>\n",
       "      <td>3T02</td>\n",
       "      <td>047XX Painters St</td>\n",
       "      <td>70122.0</td>\n",
       "      <td>3</td>\n",
       "      <td>(0, 0)</td>\n",
       "      <td>VIOLENT CRIME</td>\n",
       "      <td>SIMPLE RAPE MALE VICTIM</td>\n",
       "    </tr>\n",
       "    <tr>\n",
       "      <th>9098</th>\n",
       "      <td>F1435916</td>\n",
       "      <td>43M</td>\n",
       "      <td>SIMPLE RAPE MALE VICTIM</td>\n",
       "      <td>2B</td>\n",
       "      <td>21</td>\n",
       "      <td>COMPLAINT OTHER</td>\n",
       "      <td>1H</td>\n",
       "      <td>37369000</td>\n",
       "      <td>3513814</td>\n",
       "      <td>2016-06-13 14:55:27</td>\n",
       "      <td>...</td>\n",
       "      <td>RTF</td>\n",
       "      <td>REPORT TO FOLLOW</td>\n",
       "      <td>Y</td>\n",
       "      <td>4E01</td>\n",
       "      <td>050XX Woodland Dr</td>\n",
       "      <td>70131.0</td>\n",
       "      <td>4</td>\n",
       "      <td>(0, 0)</td>\n",
       "      <td>VIOLENT CRIME</td>\n",
       "      <td>SIMPLE RAPE MALE VICTIM</td>\n",
       "    </tr>\n",
       "    <tr>\n",
       "      <th>9099</th>\n",
       "      <td>G2907016</td>\n",
       "      <td>43M</td>\n",
       "      <td>SIMPLE RAPE MALE VICTIM</td>\n",
       "      <td>2B</td>\n",
       "      <td>21P</td>\n",
       "      <td>LOST PROPERTY</td>\n",
       "      <td>0E</td>\n",
       "      <td>37369000</td>\n",
       "      <td>3513814</td>\n",
       "      <td>2016-07-27 11:28:13</td>\n",
       "      <td>...</td>\n",
       "      <td>RTF</td>\n",
       "      <td>REPORT TO FOLLOW</td>\n",
       "      <td>N</td>\n",
       "      <td>8C02</td>\n",
       "      <td>003XX Royal St</td>\n",
       "      <td>70130.0</td>\n",
       "      <td>8</td>\n",
       "      <td>(0, 0)</td>\n",
       "      <td>VIOLENT CRIME</td>\n",
       "      <td>SIMPLE RAPE MALE VICTIM</td>\n",
       "    </tr>\n",
       "    <tr>\n",
       "      <th>9100</th>\n",
       "      <td>J0044416</td>\n",
       "      <td>43M</td>\n",
       "      <td>SIMPLE RAPE MALE VICTIM</td>\n",
       "      <td>1A</td>\n",
       "      <td>43M</td>\n",
       "      <td>SIMPLE RAPE MALE VICTIM</td>\n",
       "      <td>1A</td>\n",
       "      <td>37369000</td>\n",
       "      <td>3513814</td>\n",
       "      <td>2016-10-01 11:55:01</td>\n",
       "      <td>...</td>\n",
       "      <td>RTF</td>\n",
       "      <td>REPORT TO FOLLOW</td>\n",
       "      <td>N</td>\n",
       "      <td>1E03</td>\n",
       "      <td>015XX Basin St</td>\n",
       "      <td>70116.0</td>\n",
       "      <td>1</td>\n",
       "      <td>(0, 0)</td>\n",
       "      <td>VIOLENT CRIME</td>\n",
       "      <td>SIMPLE RAPE MALE VICTIM</td>\n",
       "    </tr>\n",
       "  </tbody>\n",
       "</table>\n",
       "<p>5 rows × 23 columns</p>\n",
       "</div>"
      ],
      "text/plain": [
       "     NOPD_Item Type_                 TypeText Priority InitialType  \\\n",
       "9096  A1977716   43M  SIMPLE RAPE MALE VICTIM       2B          21   \n",
       "9097  C3235016   43M  SIMPLE RAPE MALE VICTIM       2B          21   \n",
       "9098  F1435916   43M  SIMPLE RAPE MALE VICTIM       2B          21   \n",
       "9099  G2907016   43M  SIMPLE RAPE MALE VICTIM       2B         21P   \n",
       "9100  J0044416   43M  SIMPLE RAPE MALE VICTIM       1A         43M   \n",
       "\n",
       "              InitialTypeText InitialPriority      MapX     MapY  \\\n",
       "9096          COMPLAINT OTHER              1H  37369000  3513814   \n",
       "9097          COMPLAINT OTHER              1H  37369000  3513814   \n",
       "9098          COMPLAINT OTHER              1H  37369000  3513814   \n",
       "9099            LOST PROPERTY              0E  37369000  3513814   \n",
       "9100  SIMPLE RAPE MALE VICTIM              1A  37369000  3513814   \n",
       "\n",
       "              TimeCreate           ...            Disposition  \\\n",
       "9096 2016-01-17 06:19:35           ...                    RTF   \n",
       "9097 2016-03-27 18:07:11           ...                    RTF   \n",
       "9098 2016-06-13 14:55:27           ...                    RTF   \n",
       "9099 2016-07-27 11:28:13           ...                    RTF   \n",
       "9100 2016-10-01 11:55:01           ...                    RTF   \n",
       "\n",
       "       DispositionText SelfInitiated  Beat        BLOCK_ADDRESS      Zip  \\\n",
       "9096  REPORT TO FOLLOW             Y  3M04  046XX Blk Paris Ave  70122.0   \n",
       "9097  REPORT TO FOLLOW             N  3T02    047XX Painters St  70122.0   \n",
       "9098  REPORT TO FOLLOW             Y  4E01    050XX Woodland Dr  70131.0   \n",
       "9099  REPORT TO FOLLOW             N  8C02       003XX Royal St  70130.0   \n",
       "9100  REPORT TO FOLLOW             N  1E03       015XX Basin St  70116.0   \n",
       "\n",
       "     PoliceDistrict Location      CrimeType              Description  \n",
       "9096              3   (0, 0)  VIOLENT CRIME  SIMPLE RAPE MALE VICTIM  \n",
       "9097              3   (0, 0)  VIOLENT CRIME  SIMPLE RAPE MALE VICTIM  \n",
       "9098              4   (0, 0)  VIOLENT CRIME  SIMPLE RAPE MALE VICTIM  \n",
       "9099              8   (0, 0)  VIOLENT CRIME  SIMPLE RAPE MALE VICTIM  \n",
       "9100              1   (0, 0)  VIOLENT CRIME  SIMPLE RAPE MALE VICTIM  \n",
       "\n",
       "[5 rows x 23 columns]"
      ]
     },
     "execution_count": 121,
     "metadata": {},
     "output_type": "execute_result"
    }
   ],
   "source": [
    "cfs_final.tail()"
   ]
  },
  {
   "cell_type": "code",
   "execution_count": 122,
   "metadata": {
    "collapsed": false
   },
   "outputs": [
    {
     "data": {
      "text/plain": [
       "array(['55', '64G', '34', '34S', '30S', '37', '34D', '34C', '65', '42',\n",
       "       '37D', '43', '64J', '64K', '64', '65J', '30C', '42B', '30', '42M',\n",
       "       '30D', '43M'], dtype=object)"
      ]
     },
     "execution_count": 122,
     "metadata": {},
     "output_type": "execute_result"
    }
   ],
   "source": [
    "cfs_final.Type_.unique()"
   ]
  },
  {
   "cell_type": "code",
   "execution_count": 123,
   "metadata": {
    "collapsed": false
   },
   "outputs": [
    {
     "data": {
      "text/plain": [
       "9101"
      ]
     },
     "execution_count": 123,
     "metadata": {},
     "output_type": "execute_result"
    }
   ],
   "source": [
    "len(cfs_final)"
   ]
  },
  {
   "cell_type": "code",
   "execution_count": 124,
   "metadata": {
    "collapsed": false
   },
   "outputs": [
    {
     "data": {
      "text/plain": [
       "Timestamp('2014-01-01 00:35:13')"
      ]
     },
     "execution_count": 124,
     "metadata": {},
     "output_type": "execute_result"
    }
   ],
   "source": [
    "min(cfs_final.TimeCreate)"
   ]
  },
  {
   "cell_type": "code",
   "execution_count": 125,
   "metadata": {
    "collapsed": false
   },
   "outputs": [
    {
     "data": {
      "text/plain": [
       "Timestamp('2016-12-31 19:46:46')"
      ]
     },
     "execution_count": 125,
     "metadata": {},
     "output_type": "execute_result"
    }
   ],
   "source": [
    "max(cfs_final.TimeCreate)"
   ]
  },
  {
   "cell_type": "markdown",
   "metadata": {},
   "source": [
    "# 6. Generate Lat/Long from Location"
   ]
  },
  {
   "cell_type": "code",
   "execution_count": 126,
   "metadata": {
    "collapsed": false
   },
   "outputs": [
    {
     "data": {
      "text/plain": [
       "1084"
      ]
     },
     "execution_count": 126,
     "metadata": {},
     "output_type": "execute_result"
    }
   ],
   "source": [
    "len(cfs_final[cfs_final.Location=='(0, 0)'])"
   ]
  },
  {
   "cell_type": "markdown",
   "metadata": {},
   "source": [
    "Remove records with (lat,lon) = (0,0)"
   ]
  },
  {
   "cell_type": "code",
   "execution_count": 127,
   "metadata": {
    "collapsed": false
   },
   "outputs": [],
   "source": [
    "# cfs_final = cfs_final[cfs_final.Location!='(0, 0)']"
   ]
  },
  {
   "cell_type": "code",
   "execution_count": 128,
   "metadata": {
    "collapsed": false
   },
   "outputs": [],
   "source": [
    "# len(cfs_final)"
   ]
  },
  {
   "cell_type": "markdown",
   "metadata": {},
   "source": [
    "Remove records with (lat,lon) = null"
   ]
  },
  {
   "cell_type": "code",
   "execution_count": 129,
   "metadata": {
    "collapsed": true
   },
   "outputs": [],
   "source": [
    "cfs_final = cfs_final[cfs_final.Location.notnull()]"
   ]
  },
  {
   "cell_type": "code",
   "execution_count": 130,
   "metadata": {
    "collapsed": false
   },
   "outputs": [
    {
     "data": {
      "text/plain": [
       "9074"
      ]
     },
     "execution_count": 130,
     "metadata": {},
     "output_type": "execute_result"
    }
   ],
   "source": [
    "len(cfs_final)"
   ]
  },
  {
   "cell_type": "code",
   "execution_count": 131,
   "metadata": {
    "collapsed": false
   },
   "outputs": [],
   "source": [
    "cfs_final['Latitude'] = [str(val).split(',')[0][1:].strip() for val in cfs_final.Location] "
   ]
  },
  {
   "cell_type": "code",
   "execution_count": 132,
   "metadata": {
    "collapsed": false,
    "scrolled": true
   },
   "outputs": [],
   "source": [
    "cfs_final['Longitude'] = [str(val).split(',')[1][:-1].strip() for val in cfs_final.Location] "
   ]
  },
  {
   "cell_type": "code",
   "execution_count": 135,
   "metadata": {
    "collapsed": false
   },
   "outputs": [],
   "source": [
    "cfs_final.reset_index(inplace=True, drop=True)"
   ]
  },
  {
   "cell_type": "code",
   "execution_count": 136,
   "metadata": {
    "collapsed": false,
    "scrolled": true
   },
   "outputs": [
    {
     "data": {
      "text/plain": [
       "Index([u'NOPD_Item', u'Type_', u'TypeText', u'Priority', u'InitialType',\n",
       "       u'InitialTypeText', u'InitialPriority', u'MapX', u'MapY', u'TimeCreate',\n",
       "       u'TimeDispatch', u'TimeArrive', u'TimeClosed', u'Disposition',\n",
       "       u'DispositionText', u'SelfInitiated', u'Beat', u'BLOCK_ADDRESS', u'Zip',\n",
       "       u'PoliceDistrict', u'Location', u'CrimeType', u'Description',\n",
       "       u'Latitude', u'Longitude'],\n",
       "      dtype='object')"
      ]
     },
     "execution_count": 136,
     "metadata": {},
     "output_type": "execute_result"
    }
   ],
   "source": [
    "cfs_final.columns"
   ]
  },
  {
   "cell_type": "code",
   "execution_count": 139,
   "metadata": {
    "collapsed": false
   },
   "outputs": [
    {
     "data": {
      "text/html": [
       "<div>\n",
       "<table border=\"1\" class=\"dataframe\">\n",
       "  <thead>\n",
       "    <tr style=\"text-align: right;\">\n",
       "      <th></th>\n",
       "      <th>NOPD_Item</th>\n",
       "      <th>Type_</th>\n",
       "      <th>TypeText</th>\n",
       "      <th>Priority</th>\n",
       "      <th>InitialType</th>\n",
       "      <th>InitialTypeText</th>\n",
       "      <th>InitialPriority</th>\n",
       "      <th>MapX</th>\n",
       "      <th>MapY</th>\n",
       "      <th>TimeCreate</th>\n",
       "      <th>...</th>\n",
       "      <th>SelfInitiated</th>\n",
       "      <th>Beat</th>\n",
       "      <th>BLOCK_ADDRESS</th>\n",
       "      <th>Zip</th>\n",
       "      <th>PoliceDistrict</th>\n",
       "      <th>Location</th>\n",
       "      <th>CrimeType</th>\n",
       "      <th>Description</th>\n",
       "      <th>Latitude</th>\n",
       "      <th>Longitude</th>\n",
       "    </tr>\n",
       "  </thead>\n",
       "  <tbody>\n",
       "    <tr>\n",
       "      <th>0</th>\n",
       "      <td>A0009014</td>\n",
       "      <td>55</td>\n",
       "      <td>AGGRAVATED CRIMINAL DAMAGE</td>\n",
       "      <td>2A</td>\n",
       "      <td>55</td>\n",
       "      <td>AGGRAVATED CRIMINAL DAMAGE</td>\n",
       "      <td>2A</td>\n",
       "      <td>3669512</td>\n",
       "      <td>540197</td>\n",
       "      <td>2014-01-01 00:35:13</td>\n",
       "      <td>...</td>\n",
       "      <td>N</td>\n",
       "      <td>3H01</td>\n",
       "      <td>046XX Iberville St</td>\n",
       "      <td>70119.0</td>\n",
       "      <td>3</td>\n",
       "      <td>(29.97971459, -90.10562794)</td>\n",
       "      <td>VIOLENT CRIME</td>\n",
       "      <td>AGGRAVATED CRIMINAL DAMAGE</td>\n",
       "      <td>29.97971459</td>\n",
       "      <td>-90.10562794</td>\n",
       "    </tr>\n",
       "    <tr>\n",
       "      <th>1</th>\n",
       "      <td>A0073014</td>\n",
       "      <td>55</td>\n",
       "      <td>AGGRAVATED CRIMINAL DAMAGE</td>\n",
       "      <td>1B</td>\n",
       "      <td>56</td>\n",
       "      <td>SIMPLE CRIMINAL DAMAGE</td>\n",
       "      <td>1D</td>\n",
       "      <td>3671068</td>\n",
       "      <td>526707</td>\n",
       "      <td>2014-01-01 12:03:57</td>\n",
       "      <td>...</td>\n",
       "      <td>N</td>\n",
       "      <td>2R01</td>\n",
       "      <td>032XX Milan St</td>\n",
       "      <td>70125.0</td>\n",
       "      <td>2</td>\n",
       "      <td>(29.94257507, -90.10117130)</td>\n",
       "      <td>VIOLENT CRIME</td>\n",
       "      <td>AGGRAVATED CRIMINAL DAMAGE</td>\n",
       "      <td>29.94257507</td>\n",
       "      <td>-90.10117130</td>\n",
       "    </tr>\n",
       "    <tr>\n",
       "      <th>2</th>\n",
       "      <td>A0288814</td>\n",
       "      <td>55</td>\n",
       "      <td>AGGRAVATED CRIMINAL DAMAGE</td>\n",
       "      <td>2A</td>\n",
       "      <td>55</td>\n",
       "      <td>AGGRAVATED CRIMINAL DAMAGE</td>\n",
       "      <td>2A</td>\n",
       "      <td>3720367</td>\n",
       "      <td>573122</td>\n",
       "      <td>2014-01-03 03:15:10</td>\n",
       "      <td>...</td>\n",
       "      <td>N</td>\n",
       "      <td>7K04</td>\n",
       "      <td>076XX Forum Blvd</td>\n",
       "      <td>70128.0</td>\n",
       "      <td>7</td>\n",
       "      <td>(30.06864780, -89.94374869)</td>\n",
       "      <td>VIOLENT CRIME</td>\n",
       "      <td>AGGRAVATED CRIMINAL DAMAGE</td>\n",
       "      <td>30.06864780</td>\n",
       "      <td>-89.94374869</td>\n",
       "    </tr>\n",
       "    <tr>\n",
       "      <th>3</th>\n",
       "      <td>A0446614</td>\n",
       "      <td>55</td>\n",
       "      <td>AGGRAVATED CRIMINAL DAMAGE</td>\n",
       "      <td>1B</td>\n",
       "      <td>94</td>\n",
       "      <td>DISCHARGING FIREARM</td>\n",
       "      <td>2B</td>\n",
       "      <td>3707680</td>\n",
       "      <td>558372</td>\n",
       "      <td>2014-01-04 12:37:35</td>\n",
       "      <td>...</td>\n",
       "      <td>N</td>\n",
       "      <td>7R03</td>\n",
       "      <td>090XX Lake Forest Blvd</td>\n",
       "      <td>70127.0</td>\n",
       "      <td>7</td>\n",
       "      <td>(30.02850987, -89.98440526)</td>\n",
       "      <td>VIOLENT CRIME</td>\n",
       "      <td>AGGRAVATED CRIMINAL DAMAGE</td>\n",
       "      <td>30.02850987</td>\n",
       "      <td>-89.98440526</td>\n",
       "    </tr>\n",
       "    <tr>\n",
       "      <th>4</th>\n",
       "      <td>A0451114</td>\n",
       "      <td>55</td>\n",
       "      <td>AGGRAVATED CRIMINAL DAMAGE</td>\n",
       "      <td>1B</td>\n",
       "      <td>55</td>\n",
       "      <td>AGGRAVATED CRIMINAL DAMAGE</td>\n",
       "      <td>1B</td>\n",
       "      <td>3718188</td>\n",
       "      <td>572520</td>\n",
       "      <td>2014-01-04 13:12:22</td>\n",
       "      <td>...</td>\n",
       "      <td>N</td>\n",
       "      <td>7K04</td>\n",
       "      <td>139XX Wales St</td>\n",
       "      <td>70128.0</td>\n",
       "      <td>7</td>\n",
       "      <td>(30.06706701, -89.95065976)</td>\n",
       "      <td>VIOLENT CRIME</td>\n",
       "      <td>AGGRAVATED CRIMINAL DAMAGE</td>\n",
       "      <td>30.06706701</td>\n",
       "      <td>-89.95065976</td>\n",
       "    </tr>\n",
       "  </tbody>\n",
       "</table>\n",
       "<p>5 rows × 25 columns</p>\n",
       "</div>"
      ],
      "text/plain": [
       "  NOPD_Item Type_                    TypeText Priority InitialType  \\\n",
       "0  A0009014    55  AGGRAVATED CRIMINAL DAMAGE       2A          55   \n",
       "1  A0073014    55  AGGRAVATED CRIMINAL DAMAGE       1B          56   \n",
       "2  A0288814    55  AGGRAVATED CRIMINAL DAMAGE       2A          55   \n",
       "3  A0446614    55  AGGRAVATED CRIMINAL DAMAGE       1B          94   \n",
       "4  A0451114    55  AGGRAVATED CRIMINAL DAMAGE       1B          55   \n",
       "\n",
       "              InitialTypeText InitialPriority     MapX    MapY  \\\n",
       "0  AGGRAVATED CRIMINAL DAMAGE              2A  3669512  540197   \n",
       "1      SIMPLE CRIMINAL DAMAGE              1D  3671068  526707   \n",
       "2  AGGRAVATED CRIMINAL DAMAGE              2A  3720367  573122   \n",
       "3         DISCHARGING FIREARM              2B  3707680  558372   \n",
       "4  AGGRAVATED CRIMINAL DAMAGE              1B  3718188  572520   \n",
       "\n",
       "           TimeCreate      ...      SelfInitiated  Beat  \\\n",
       "0 2014-01-01 00:35:13      ...                  N  3H01   \n",
       "1 2014-01-01 12:03:57      ...                  N  2R01   \n",
       "2 2014-01-03 03:15:10      ...                  N  7K04   \n",
       "3 2014-01-04 12:37:35      ...                  N  7R03   \n",
       "4 2014-01-04 13:12:22      ...                  N  7K04   \n",
       "\n",
       "            BLOCK_ADDRESS      Zip PoliceDistrict  \\\n",
       "0      046XX Iberville St  70119.0              3   \n",
       "1          032XX Milan St  70125.0              2   \n",
       "2        076XX Forum Blvd  70128.0              7   \n",
       "3  090XX Lake Forest Blvd  70127.0              7   \n",
       "4          139XX Wales St  70128.0              7   \n",
       "\n",
       "                      Location      CrimeType                 Description  \\\n",
       "0  (29.97971459, -90.10562794)  VIOLENT CRIME  AGGRAVATED CRIMINAL DAMAGE   \n",
       "1  (29.94257507, -90.10117130)  VIOLENT CRIME  AGGRAVATED CRIMINAL DAMAGE   \n",
       "2  (30.06864780, -89.94374869)  VIOLENT CRIME  AGGRAVATED CRIMINAL DAMAGE   \n",
       "3  (30.02850987, -89.98440526)  VIOLENT CRIME  AGGRAVATED CRIMINAL DAMAGE   \n",
       "4  (30.06706701, -89.95065976)  VIOLENT CRIME  AGGRAVATED CRIMINAL DAMAGE   \n",
       "\n",
       "      Latitude     Longitude  \n",
       "0  29.97971459  -90.10562794  \n",
       "1  29.94257507  -90.10117130  \n",
       "2  30.06864780  -89.94374869  \n",
       "3  30.02850987  -89.98440526  \n",
       "4  30.06706701  -89.95065976  \n",
       "\n",
       "[5 rows x 25 columns]"
      ]
     },
     "execution_count": 139,
     "metadata": {},
     "output_type": "execute_result"
    }
   ],
   "source": [
    "cfs_final.head()"
   ]
  },
  {
   "cell_type": "code",
   "execution_count": 137,
   "metadata": {
    "collapsed": false,
    "scrolled": false
   },
   "outputs": [
    {
     "data": {
      "text/html": [
       "<div>\n",
       "<table border=\"1\" class=\"dataframe\">\n",
       "  <thead>\n",
       "    <tr style=\"text-align: right;\">\n",
       "      <th></th>\n",
       "      <th>NOPD_Item</th>\n",
       "      <th>Type_</th>\n",
       "      <th>TypeText</th>\n",
       "      <th>Priority</th>\n",
       "      <th>InitialType</th>\n",
       "      <th>InitialTypeText</th>\n",
       "      <th>InitialPriority</th>\n",
       "      <th>MapX</th>\n",
       "      <th>MapY</th>\n",
       "      <th>TimeCreate</th>\n",
       "      <th>...</th>\n",
       "      <th>SelfInitiated</th>\n",
       "      <th>Beat</th>\n",
       "      <th>BLOCK_ADDRESS</th>\n",
       "      <th>Zip</th>\n",
       "      <th>PoliceDistrict</th>\n",
       "      <th>Location</th>\n",
       "      <th>CrimeType</th>\n",
       "      <th>Description</th>\n",
       "      <th>Latitude</th>\n",
       "      <th>Longitude</th>\n",
       "    </tr>\n",
       "  </thead>\n",
       "  <tbody>\n",
       "    <tr>\n",
       "      <th>9069</th>\n",
       "      <td>A1977716</td>\n",
       "      <td>43M</td>\n",
       "      <td>SIMPLE RAPE MALE VICTIM</td>\n",
       "      <td>2B</td>\n",
       "      <td>21</td>\n",
       "      <td>COMPLAINT OTHER</td>\n",
       "      <td>1H</td>\n",
       "      <td>37369000</td>\n",
       "      <td>3513814</td>\n",
       "      <td>2016-01-17 06:19:35</td>\n",
       "      <td>...</td>\n",
       "      <td>Y</td>\n",
       "      <td>3M04</td>\n",
       "      <td>046XX Blk Paris Ave</td>\n",
       "      <td>70122.0</td>\n",
       "      <td>3</td>\n",
       "      <td>(0, 0)</td>\n",
       "      <td>VIOLENT CRIME</td>\n",
       "      <td>SIMPLE RAPE MALE VICTIM</td>\n",
       "      <td>0</td>\n",
       "      <td>0</td>\n",
       "    </tr>\n",
       "    <tr>\n",
       "      <th>9070</th>\n",
       "      <td>C3235016</td>\n",
       "      <td>43M</td>\n",
       "      <td>SIMPLE RAPE MALE VICTIM</td>\n",
       "      <td>2B</td>\n",
       "      <td>21</td>\n",
       "      <td>COMPLAINT OTHER</td>\n",
       "      <td>1H</td>\n",
       "      <td>37369000</td>\n",
       "      <td>3513814</td>\n",
       "      <td>2016-03-27 18:07:11</td>\n",
       "      <td>...</td>\n",
       "      <td>N</td>\n",
       "      <td>3T02</td>\n",
       "      <td>047XX Painters St</td>\n",
       "      <td>70122.0</td>\n",
       "      <td>3</td>\n",
       "      <td>(0, 0)</td>\n",
       "      <td>VIOLENT CRIME</td>\n",
       "      <td>SIMPLE RAPE MALE VICTIM</td>\n",
       "      <td>0</td>\n",
       "      <td>0</td>\n",
       "    </tr>\n",
       "    <tr>\n",
       "      <th>9071</th>\n",
       "      <td>F1435916</td>\n",
       "      <td>43M</td>\n",
       "      <td>SIMPLE RAPE MALE VICTIM</td>\n",
       "      <td>2B</td>\n",
       "      <td>21</td>\n",
       "      <td>COMPLAINT OTHER</td>\n",
       "      <td>1H</td>\n",
       "      <td>37369000</td>\n",
       "      <td>3513814</td>\n",
       "      <td>2016-06-13 14:55:27</td>\n",
       "      <td>...</td>\n",
       "      <td>Y</td>\n",
       "      <td>4E01</td>\n",
       "      <td>050XX Woodland Dr</td>\n",
       "      <td>70131.0</td>\n",
       "      <td>4</td>\n",
       "      <td>(0, 0)</td>\n",
       "      <td>VIOLENT CRIME</td>\n",
       "      <td>SIMPLE RAPE MALE VICTIM</td>\n",
       "      <td>0</td>\n",
       "      <td>0</td>\n",
       "    </tr>\n",
       "    <tr>\n",
       "      <th>9072</th>\n",
       "      <td>G2907016</td>\n",
       "      <td>43M</td>\n",
       "      <td>SIMPLE RAPE MALE VICTIM</td>\n",
       "      <td>2B</td>\n",
       "      <td>21P</td>\n",
       "      <td>LOST PROPERTY</td>\n",
       "      <td>0E</td>\n",
       "      <td>37369000</td>\n",
       "      <td>3513814</td>\n",
       "      <td>2016-07-27 11:28:13</td>\n",
       "      <td>...</td>\n",
       "      <td>N</td>\n",
       "      <td>8C02</td>\n",
       "      <td>003XX Royal St</td>\n",
       "      <td>70130.0</td>\n",
       "      <td>8</td>\n",
       "      <td>(0, 0)</td>\n",
       "      <td>VIOLENT CRIME</td>\n",
       "      <td>SIMPLE RAPE MALE VICTIM</td>\n",
       "      <td>0</td>\n",
       "      <td>0</td>\n",
       "    </tr>\n",
       "    <tr>\n",
       "      <th>9073</th>\n",
       "      <td>J0044416</td>\n",
       "      <td>43M</td>\n",
       "      <td>SIMPLE RAPE MALE VICTIM</td>\n",
       "      <td>1A</td>\n",
       "      <td>43M</td>\n",
       "      <td>SIMPLE RAPE MALE VICTIM</td>\n",
       "      <td>1A</td>\n",
       "      <td>37369000</td>\n",
       "      <td>3513814</td>\n",
       "      <td>2016-10-01 11:55:01</td>\n",
       "      <td>...</td>\n",
       "      <td>N</td>\n",
       "      <td>1E03</td>\n",
       "      <td>015XX Basin St</td>\n",
       "      <td>70116.0</td>\n",
       "      <td>1</td>\n",
       "      <td>(0, 0)</td>\n",
       "      <td>VIOLENT CRIME</td>\n",
       "      <td>SIMPLE RAPE MALE VICTIM</td>\n",
       "      <td>0</td>\n",
       "      <td>0</td>\n",
       "    </tr>\n",
       "  </tbody>\n",
       "</table>\n",
       "<p>5 rows × 25 columns</p>\n",
       "</div>"
      ],
      "text/plain": [
       "     NOPD_Item Type_                 TypeText Priority InitialType  \\\n",
       "9069  A1977716   43M  SIMPLE RAPE MALE VICTIM       2B          21   \n",
       "9070  C3235016   43M  SIMPLE RAPE MALE VICTIM       2B          21   \n",
       "9071  F1435916   43M  SIMPLE RAPE MALE VICTIM       2B          21   \n",
       "9072  G2907016   43M  SIMPLE RAPE MALE VICTIM       2B         21P   \n",
       "9073  J0044416   43M  SIMPLE RAPE MALE VICTIM       1A         43M   \n",
       "\n",
       "              InitialTypeText InitialPriority      MapX     MapY  \\\n",
       "9069          COMPLAINT OTHER              1H  37369000  3513814   \n",
       "9070          COMPLAINT OTHER              1H  37369000  3513814   \n",
       "9071          COMPLAINT OTHER              1H  37369000  3513814   \n",
       "9072            LOST PROPERTY              0E  37369000  3513814   \n",
       "9073  SIMPLE RAPE MALE VICTIM              1A  37369000  3513814   \n",
       "\n",
       "              TimeCreate    ...     SelfInitiated  Beat        BLOCK_ADDRESS  \\\n",
       "9069 2016-01-17 06:19:35    ...                 Y  3M04  046XX Blk Paris Ave   \n",
       "9070 2016-03-27 18:07:11    ...                 N  3T02    047XX Painters St   \n",
       "9071 2016-06-13 14:55:27    ...                 Y  4E01    050XX Woodland Dr   \n",
       "9072 2016-07-27 11:28:13    ...                 N  8C02       003XX Royal St   \n",
       "9073 2016-10-01 11:55:01    ...                 N  1E03       015XX Basin St   \n",
       "\n",
       "          Zip PoliceDistrict Location      CrimeType              Description  \\\n",
       "9069  70122.0              3   (0, 0)  VIOLENT CRIME  SIMPLE RAPE MALE VICTIM   \n",
       "9070  70122.0              3   (0, 0)  VIOLENT CRIME  SIMPLE RAPE MALE VICTIM   \n",
       "9071  70131.0              4   (0, 0)  VIOLENT CRIME  SIMPLE RAPE MALE VICTIM   \n",
       "9072  70130.0              8   (0, 0)  VIOLENT CRIME  SIMPLE RAPE MALE VICTIM   \n",
       "9073  70116.0              1   (0, 0)  VIOLENT CRIME  SIMPLE RAPE MALE VICTIM   \n",
       "\n",
       "      Latitude  Longitude  \n",
       "9069         0          0  \n",
       "9070         0          0  \n",
       "9071         0          0  \n",
       "9072         0          0  \n",
       "9073         0          0  \n",
       "\n",
       "[5 rows x 25 columns]"
      ]
     },
     "execution_count": 137,
     "metadata": {},
     "output_type": "execute_result"
    }
   ],
   "source": [
    "cfs_final.tail()"
   ]
  },
  {
   "cell_type": "markdown",
   "metadata": {},
   "source": [
    "# 7. Save CFS Data to csv"
   ]
  },
  {
   "cell_type": "code",
   "execution_count": 140,
   "metadata": {
    "collapsed": true
   },
   "outputs": [],
   "source": [
    "# Save the data\n",
    "fullpath = \"..\\\\Datasets\\\\Final_Data\\\\Calls_for_Service_Cleaned.csv\"\n",
    "cfs_final.to_csv(fullpath, sep=',',  index = False)"
   ]
  },
  {
   "cell_type": "markdown",
   "metadata": {},
   "source": [
    "# 8. Zip with most Violent Crimes"
   ]
  },
  {
   "cell_type": "code",
   "execution_count": 146,
   "metadata": {
    "collapsed": false
   },
   "outputs": [],
   "source": [
    "zip_crime_count = Counter(cfs_final.Zip)"
   ]
  },
  {
   "cell_type": "code",
   "execution_count": 147,
   "metadata": {
    "collapsed": false
   },
   "outputs": [
    {
     "data": {
      "text/plain": [
       "[(70117.0, 1044),\n",
       " (70119.0, 1001),\n",
       " (70126.0, 860),\n",
       " (70116.0, 830),\n",
       " (70127.0, 619)]"
      ]
     },
     "execution_count": 147,
     "metadata": {},
     "output_type": "execute_result"
    }
   ],
   "source": [
    "zip_crime_count.most_common(5)"
   ]
  },
  {
   "cell_type": "code",
   "execution_count": null,
   "metadata": {
    "collapsed": true
   },
   "outputs": [],
   "source": []
  }
 ],
 "metadata": {
  "anaconda-cloud": {},
  "kernelspec": {
   "display_name": "Python [Root]",
   "language": "python",
   "name": "Python [Root]"
  },
  "language_info": {
   "codemirror_mode": {
    "name": "ipython",
    "version": 2
   },
   "file_extension": ".py",
   "mimetype": "text/x-python",
   "name": "python",
   "nbconvert_exporter": "python",
   "pygments_lexer": "ipython2",
   "version": "2.7.11"
  }
 },
 "nbformat": 4,
 "nbformat_minor": 1
}
