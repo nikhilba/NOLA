{
 "cells": [
  {
   "cell_type": "markdown",
   "metadata": {},
   "source": [
    "# Introduction\n",
    "\n",
    "The below script helps generate beat values for Stop and search file. We load data from Calls_for_service file and merge with data from Stop_and_Search file. \n",
    "\n",
    "Following constraints are applied:\n",
    "- Records year range = 2012 - 2016"
   ]
  },
  {
   "cell_type": "markdown",
   "metadata": {},
   "source": [
    "# Index\n",
    "\n",
    "- [1. Libraries](#1.-Libraries)\n",
    "- [2. Data Loading](#2.-Data-Loading)\n",
    "    - [A. Load Calls-for-Service (CFS) Data](#A.-Load-Calls-for-Service-Data)    \n",
    "    - [B. Load Stop and Search Data](#B.-Load-Stop-and-Search-Data)\n",
    "    - [C. Filter Records for Year 2012 to 2016](#C.-Filter-Records-for-Year-2012-to-2016)  \n",
    "- [3. Get beat for SNS](#3.-Get-beat-for-SNS)"
   ]
  },
  {
   "cell_type": "markdown",
   "metadata": {},
   "source": [
    "# 1. Libraries\n",
    "\n",
    "Following libraries are required for this code to run successfully."
   ]
  },
  {
   "cell_type": "code",
   "execution_count": 1,
   "metadata": {
    "collapsed": false
   },
   "outputs": [],
   "source": [
    "import os\n",
    "import csv\n",
    "import zipfile\n",
    "import string\n",
    "import datetime\n",
    "import pandas as pd"
   ]
  },
  {
   "cell_type": "markdown",
   "metadata": {},
   "source": [
    "# 2. Data Loading\n",
    "\n",
    "In this section we load following files:\n",
    "- Calls_for_Service Data\n",
    "- Stop_and_Search__Field\\_Interviews_ Data\n",
    "\n",
    "And perform required data manipulation steps."
   ]
  },
  {
   "cell_type": "markdown",
   "metadata": {},
   "source": [
    "## A. Load Calls-for-Service Data"
   ]
  },
  {
   "cell_type": "code",
   "execution_count": 2,
   "metadata": {
    "collapsed": false
   },
   "outputs": [
    {
     "data": {
      "text/plain": [
       "'..\\\\Datasets\\\\Raw_Data\\\\Calls_for_Service\\\\'"
      ]
     },
     "execution_count": 2,
     "metadata": {},
     "output_type": "execute_result"
    }
   ],
   "source": [
    "# Set location of file\n",
    "path = os.path.join(\"..\\\\Datasets\\\\Raw_Data\\\\Calls_for_Service\\\\\")\n",
    "path"
   ]
  },
  {
   "cell_type": "code",
   "execution_count": 3,
   "metadata": {
    "collapsed": false
   },
   "outputs": [
    {
     "data": {
      "text/plain": [
       "['Calls_for_Service_2012.zip',\n",
       " 'Calls_for_Service_2013.zip',\n",
       " 'Calls_for_Service_2014.zip',\n",
       " 'Calls_for_Service_2015.zip',\n",
       " 'Calls_for_Service_2016.zip']"
      ]
     },
     "execution_count": 3,
     "metadata": {},
     "output_type": "execute_result"
    }
   ],
   "source": [
    "# Get filenames\n",
    "filenames = os.listdir(path)\n",
    "filenames"
   ]
  },
  {
   "cell_type": "code",
   "execution_count": 17,
   "metadata": {
    "collapsed": false
   },
   "outputs": [],
   "source": [
    "# Load data from files in list\n",
    "dfs = []\n",
    "for f in filenames:\n",
    "    zf = zipfile.ZipFile(os.path.join(path,f)) \n",
    "    dfs.append(pd.read_csv(zf.open(str.replace(f, 'zip', 'csv')),))\n",
    "\n",
    "# Merge all df in list\n",
    "cfs_df = pd.concat(dfs, ignore_index=True)\n",
    "\n",
    "# Change datatype of column Type_ to String\n",
    "cfs_df.Type_ = cfs_df.Type_.apply(str)"
   ]
  },
  {
   "cell_type": "code",
   "execution_count": 18,
   "metadata": {
    "collapsed": false
   },
   "outputs": [
    {
     "data": {
      "text/html": [
       "<div>\n",
       "<table border=\"1\" class=\"dataframe\">\n",
       "  <thead>\n",
       "    <tr style=\"text-align: right;\">\n",
       "      <th></th>\n",
       "      <th>NOPD_Item</th>\n",
       "      <th>Type_</th>\n",
       "      <th>TypeText</th>\n",
       "      <th>Priority</th>\n",
       "      <th>InitialType</th>\n",
       "      <th>InitialTypeText</th>\n",
       "      <th>InitialPriority</th>\n",
       "      <th>MapX</th>\n",
       "      <th>MapY</th>\n",
       "      <th>TimeCreate</th>\n",
       "      <th>...</th>\n",
       "      <th>TimeArrive</th>\n",
       "      <th>TimeClosed</th>\n",
       "      <th>Disposition</th>\n",
       "      <th>DispositionText</th>\n",
       "      <th>SelfInitiated</th>\n",
       "      <th>Beat</th>\n",
       "      <th>BLOCK_ADDRESS</th>\n",
       "      <th>Zip</th>\n",
       "      <th>PoliceDistrict</th>\n",
       "      <th>Location</th>\n",
       "    </tr>\n",
       "  </thead>\n",
       "  <tbody>\n",
       "    <tr>\n",
       "      <th>0</th>\n",
       "      <td>A0000112</td>\n",
       "      <td>62A</td>\n",
       "      <td>BURGLAR ALARM, SILEN</td>\n",
       "      <td>2C</td>\n",
       "      <td>NaN</td>\n",
       "      <td>NaN</td>\n",
       "      <td>NaN</td>\n",
       "      <td>3683627</td>\n",
       "      <td>532625</td>\n",
       "      <td>1/1/2012 0:00</td>\n",
       "      <td>...</td>\n",
       "      <td>NaN</td>\n",
       "      <td>1/1/2012 0:33</td>\n",
       "      <td>NAT</td>\n",
       "      <td>NECESSARY ACTION TAKEN</td>\n",
       "      <td>NaN</td>\n",
       "      <td>NaN</td>\n",
       "      <td>009XX Decatur St</td>\n",
       "      <td>70116.0</td>\n",
       "      <td>8</td>\n",
       "      <td>(29.958469303316875, -90.0613152964016)</td>\n",
       "    </tr>\n",
       "    <tr>\n",
       "      <th>1</th>\n",
       "      <td>A0000412</td>\n",
       "      <td>94</td>\n",
       "      <td>DISCHARGING FIREARMS</td>\n",
       "      <td>2B</td>\n",
       "      <td>NaN</td>\n",
       "      <td>NaN</td>\n",
       "      <td>NaN</td>\n",
       "      <td>3732996</td>\n",
       "      <td>562418</td>\n",
       "      <td>1/1/2012 0:00</td>\n",
       "      <td>...</td>\n",
       "      <td>1/1/2012 0:16</td>\n",
       "      <td>1/1/2012 0:30</td>\n",
       "      <td>UNF</td>\n",
       "      <td>UNFOUNDED</td>\n",
       "      <td>NaN</td>\n",
       "      <td>NaN</td>\n",
       "      <td>147XX Chef Menteur Hwy</td>\n",
       "      <td>70129.0</td>\n",
       "      <td>7</td>\n",
       "      <td>(30.038788769111676, -89.90425047516077)</td>\n",
       "    </tr>\n",
       "    <tr>\n",
       "      <th>2</th>\n",
       "      <td>A0000212</td>\n",
       "      <td>103</td>\n",
       "      <td>DISTURBANCE (OTHER)</td>\n",
       "      <td>1C</td>\n",
       "      <td>NaN</td>\n",
       "      <td>NaN</td>\n",
       "      <td>NaN</td>\n",
       "      <td>3687688</td>\n",
       "      <td>548824</td>\n",
       "      <td>1/1/2012 0:01</td>\n",
       "      <td>...</td>\n",
       "      <td>1/1/2012 0:01</td>\n",
       "      <td>1/1/2012 0:19</td>\n",
       "      <td>NAT</td>\n",
       "      <td>NECESSARY ACTION TAKEN</td>\n",
       "      <td>NaN</td>\n",
       "      <td>NaN</td>\n",
       "      <td>038XX Gentilly Blvd</td>\n",
       "      <td>70122.0</td>\n",
       "      <td>3</td>\n",
       "      <td>(30.002886229898206, -90.04791794333323)</td>\n",
       "    </tr>\n",
       "    <tr>\n",
       "      <th>3</th>\n",
       "      <td>A0000712</td>\n",
       "      <td>21</td>\n",
       "      <td>COMPLAINT OTHER</td>\n",
       "      <td>1H</td>\n",
       "      <td>NaN</td>\n",
       "      <td>NaN</td>\n",
       "      <td>NaN</td>\n",
       "      <td>3670776</td>\n",
       "      <td>521242</td>\n",
       "      <td>1/1/2012 0:01</td>\n",
       "      <td>...</td>\n",
       "      <td>NaN</td>\n",
       "      <td>1/1/2012 0:20</td>\n",
       "      <td>NAT</td>\n",
       "      <td>NECESSARY ACTION TAKEN</td>\n",
       "      <td>NaN</td>\n",
       "      <td>NaN</td>\n",
       "      <td>Carondelet St &amp; Napoleon Ave</td>\n",
       "      <td>70115.0</td>\n",
       "      <td>2</td>\n",
       "      <td>(29.927555772946167, -90.10228161624175)</td>\n",
       "    </tr>\n",
       "    <tr>\n",
       "      <th>4</th>\n",
       "      <td>A0000512</td>\n",
       "      <td>62A</td>\n",
       "      <td>BURGLAR ALARM, SILEN</td>\n",
       "      <td>2C</td>\n",
       "      <td>NaN</td>\n",
       "      <td>NaN</td>\n",
       "      <td>NaN</td>\n",
       "      <td>3665739</td>\n",
       "      <td>549621</td>\n",
       "      <td>1/1/2012 0:01</td>\n",
       "      <td>...</td>\n",
       "      <td>1/1/2012 0:09</td>\n",
       "      <td>1/1/2012 1:55</td>\n",
       "      <td>NAT</td>\n",
       "      <td>NECESSARY ACTION TAKEN</td>\n",
       "      <td>NaN</td>\n",
       "      <td>NaN</td>\n",
       "      <td>002XX W Harrison Ave</td>\n",
       "      <td>70124.0</td>\n",
       "      <td>3</td>\n",
       "      <td>(30.005736477457617, -90.11723146931276)</td>\n",
       "    </tr>\n",
       "  </tbody>\n",
       "</table>\n",
       "<p>5 rows × 21 columns</p>\n",
       "</div>"
      ],
      "text/plain": [
       "  NOPD_Item Type_              TypeText Priority InitialType InitialTypeText  \\\n",
       "0  A0000112   62A  BURGLAR ALARM, SILEN       2C         NaN             NaN   \n",
       "1  A0000412    94  DISCHARGING FIREARMS       2B         NaN             NaN   \n",
       "2  A0000212   103   DISTURBANCE (OTHER)       1C         NaN             NaN   \n",
       "3  A0000712    21       COMPLAINT OTHER       1H         NaN             NaN   \n",
       "4  A0000512   62A  BURGLAR ALARM, SILEN       2C         NaN             NaN   \n",
       "\n",
       "  InitialPriority     MapX    MapY     TimeCreate  \\\n",
       "0             NaN  3683627  532625  1/1/2012 0:00   \n",
       "1             NaN  3732996  562418  1/1/2012 0:00   \n",
       "2             NaN  3687688  548824  1/1/2012 0:01   \n",
       "3             NaN  3670776  521242  1/1/2012 0:01   \n",
       "4             NaN  3665739  549621  1/1/2012 0:01   \n",
       "\n",
       "                     ...                        TimeArrive     TimeClosed  \\\n",
       "0                    ...                               NaN  1/1/2012 0:33   \n",
       "1                    ...                     1/1/2012 0:16  1/1/2012 0:30   \n",
       "2                    ...                     1/1/2012 0:01  1/1/2012 0:19   \n",
       "3                    ...                               NaN  1/1/2012 0:20   \n",
       "4                    ...                     1/1/2012 0:09  1/1/2012 1:55   \n",
       "\n",
       "  Disposition         DispositionText SelfInitiated Beat  \\\n",
       "0         NAT  NECESSARY ACTION TAKEN           NaN  NaN   \n",
       "1         UNF               UNFOUNDED           NaN  NaN   \n",
       "2         NAT  NECESSARY ACTION TAKEN           NaN  NaN   \n",
       "3         NAT  NECESSARY ACTION TAKEN           NaN  NaN   \n",
       "4         NAT  NECESSARY ACTION TAKEN           NaN  NaN   \n",
       "\n",
       "                  BLOCK_ADDRESS      Zip  PoliceDistrict  \\\n",
       "0              009XX Decatur St  70116.0               8   \n",
       "1        147XX Chef Menteur Hwy  70129.0               7   \n",
       "2           038XX Gentilly Blvd  70122.0               3   \n",
       "3  Carondelet St & Napoleon Ave  70115.0               2   \n",
       "4          002XX W Harrison Ave  70124.0               3   \n",
       "\n",
       "                                   Location  \n",
       "0   (29.958469303316875, -90.0613152964016)  \n",
       "1  (30.038788769111676, -89.90425047516077)  \n",
       "2  (30.002886229898206, -90.04791794333323)  \n",
       "3  (29.927555772946167, -90.10228161624175)  \n",
       "4  (30.005736477457617, -90.11723146931276)  \n",
       "\n",
       "[5 rows x 21 columns]"
      ]
     },
     "execution_count": 18,
     "metadata": {},
     "output_type": "execute_result"
    }
   ],
   "source": [
    "# Display top 5 rows\n",
    "cfs_df.head()"
   ]
  },
  {
   "cell_type": "code",
   "execution_count": 19,
   "metadata": {
    "collapsed": false
   },
   "outputs": [
    {
     "data": {
      "text/plain": [
       "2252907"
      ]
     },
     "execution_count": 19,
     "metadata": {},
     "output_type": "execute_result"
    }
   ],
   "source": [
    "# Number of records\n",
    "len(cfs_df)"
   ]
  },
  {
   "cell_type": "code",
   "execution_count": 20,
   "metadata": {
    "collapsed": false,
    "scrolled": true
   },
   "outputs": [
    {
     "data": {
      "text/plain": [
       "Index([u'NOPD_Item', u'Type_', u'TypeText', u'Priority', u'InitialType',\n",
       "       u'InitialTypeText', u'InitialPriority', u'MapX', u'MapY', u'TimeCreate',\n",
       "       u'TimeDispatch', u'TimeArrive', u'TimeClosed', u'Disposition',\n",
       "       u'DispositionText', u'SelfInitiated', u'Beat', u'BLOCK_ADDRESS', u'Zip',\n",
       "       u'PoliceDistrict', u'Location'],\n",
       "      dtype='object')"
      ]
     },
     "execution_count": 20,
     "metadata": {},
     "output_type": "execute_result"
    }
   ],
   "source": [
    "# Column Names\n",
    "cfs_df.columns"
   ]
  },
  {
   "cell_type": "code",
   "execution_count": 21,
   "metadata": {
    "collapsed": false
   },
   "outputs": [],
   "source": [
    "# Select required columns\n",
    "cfs_beat = cfs_df[['NOPD_Item','Beat']]"
   ]
  },
  {
   "cell_type": "code",
   "execution_count": 22,
   "metadata": {
    "collapsed": false
   },
   "outputs": [
    {
     "data": {
      "text/html": [
       "<div>\n",
       "<table border=\"1\" class=\"dataframe\">\n",
       "  <thead>\n",
       "    <tr style=\"text-align: right;\">\n",
       "      <th></th>\n",
       "      <th>NOPD_Item</th>\n",
       "      <th>Beat</th>\n",
       "    </tr>\n",
       "  </thead>\n",
       "  <tbody>\n",
       "    <tr>\n",
       "      <th>0</th>\n",
       "      <td>A0000112</td>\n",
       "      <td>NaN</td>\n",
       "    </tr>\n",
       "    <tr>\n",
       "      <th>1</th>\n",
       "      <td>A0000412</td>\n",
       "      <td>NaN</td>\n",
       "    </tr>\n",
       "    <tr>\n",
       "      <th>2</th>\n",
       "      <td>A0000212</td>\n",
       "      <td>NaN</td>\n",
       "    </tr>\n",
       "    <tr>\n",
       "      <th>3</th>\n",
       "      <td>A0000712</td>\n",
       "      <td>NaN</td>\n",
       "    </tr>\n",
       "    <tr>\n",
       "      <th>4</th>\n",
       "      <td>A0000512</td>\n",
       "      <td>NaN</td>\n",
       "    </tr>\n",
       "  </tbody>\n",
       "</table>\n",
       "</div>"
      ],
      "text/plain": [
       "  NOPD_Item Beat\n",
       "0  A0000112  NaN\n",
       "1  A0000412  NaN\n",
       "2  A0000212  NaN\n",
       "3  A0000712  NaN\n",
       "4  A0000512  NaN"
      ]
     },
     "execution_count": 22,
     "metadata": {},
     "output_type": "execute_result"
    }
   ],
   "source": [
    "# Display top 5 rows\n",
    "cfs_beat.head()"
   ]
  },
  {
   "cell_type": "code",
   "execution_count": 23,
   "metadata": {
    "collapsed": false
   },
   "outputs": [
    {
     "data": {
      "text/plain": [
       "2252907"
      ]
     },
     "execution_count": 23,
     "metadata": {},
     "output_type": "execute_result"
    }
   ],
   "source": [
    "# Len NOPD Item\n",
    "len(cfs_beat.NOPD_Item)"
   ]
  },
  {
   "cell_type": "code",
   "execution_count": 24,
   "metadata": {
    "collapsed": false
   },
   "outputs": [
    {
     "data": {
      "text/plain": [
       "969699"
      ]
     },
     "execution_count": 24,
     "metadata": {},
     "output_type": "execute_result"
    }
   ],
   "source": [
    "# Count of Null Beat records\n",
    "len(cfs_beat[cfs_beat.Beat.isnull()])"
   ]
  },
  {
   "cell_type": "code",
   "execution_count": 25,
   "metadata": {
    "collapsed": false
   },
   "outputs": [
    {
     "data": {
      "text/html": [
       "<div>\n",
       "<table border=\"1\" class=\"dataframe\">\n",
       "  <thead>\n",
       "    <tr style=\"text-align: right;\">\n",
       "      <th></th>\n",
       "      <th>NOPD_Item</th>\n",
       "      <th>Beat</th>\n",
       "    </tr>\n",
       "  </thead>\n",
       "  <tbody>\n",
       "    <tr>\n",
       "      <th>0</th>\n",
       "      <td>A0000112</td>\n",
       "      <td>8C04</td>\n",
       "    </tr>\n",
       "    <tr>\n",
       "      <th>1</th>\n",
       "      <td>A0000113</td>\n",
       "      <td>5E01</td>\n",
       "    </tr>\n",
       "    <tr>\n",
       "      <th>2</th>\n",
       "      <td>A0000212</td>\n",
       "      <td>5P03</td>\n",
       "    </tr>\n",
       "    <tr>\n",
       "      <th>3</th>\n",
       "      <td>A0000213</td>\n",
       "      <td>4E04</td>\n",
       "    </tr>\n",
       "    <tr>\n",
       "      <th>4</th>\n",
       "      <td>A0000312</td>\n",
       "      <td>6I02</td>\n",
       "    </tr>\n",
       "  </tbody>\n",
       "</table>\n",
       "</div>"
      ],
      "text/plain": [
       "  NOPD_Item  Beat\n",
       "0  A0000112  8C04\n",
       "1  A0000113  5E01\n",
       "2  A0000212  5P03\n",
       "3  A0000213  4E04\n",
       "4  A0000312  6I02"
      ]
     },
     "execution_count": 25,
     "metadata": {},
     "output_type": "execute_result"
    }
   ],
   "source": [
    "# Load missing beat values\n",
    "filename = \"../Datasets/Raw_Data/Shared_by_NOPD/2012 and 2013 CFS Item Number and Beat.csv\"\n",
    "df_beat = pd.read_csv(filename, header=None)\n",
    "\n",
    "# Rename columns\n",
    "df_beat.rename(columns={0:'NOPD_Item',1:'Beat'},inplace=True)\n",
    "\n",
    "df_beat.head()"
   ]
  },
  {
   "cell_type": "code",
   "execution_count": 26,
   "metadata": {
    "collapsed": false
   },
   "outputs": [],
   "source": [
    "NOPD_Item_list = list(cfs_beat.NOPD_Item)\n",
    "df_beat = df_beat[df_beat.NOPD_Item.isin(NOPD_Item_list)]\n",
    "df_beat = df_beat[df_beat.Beat.notnull()]"
   ]
  },
  {
   "cell_type": "code",
   "execution_count": 27,
   "metadata": {
    "collapsed": false
   },
   "outputs": [
    {
     "data": {
      "text/html": [
       "<div>\n",
       "<table border=\"1\" class=\"dataframe\">\n",
       "  <thead>\n",
       "    <tr style=\"text-align: right;\">\n",
       "      <th></th>\n",
       "      <th>NOPD_Item</th>\n",
       "      <th>Beat</th>\n",
       "    </tr>\n",
       "  </thead>\n",
       "  <tbody>\n",
       "    <tr>\n",
       "      <th>0</th>\n",
       "      <td>A0000112</td>\n",
       "      <td>8C04</td>\n",
       "    </tr>\n",
       "    <tr>\n",
       "      <th>1</th>\n",
       "      <td>A0000113</td>\n",
       "      <td>5E01</td>\n",
       "    </tr>\n",
       "    <tr>\n",
       "      <th>2</th>\n",
       "      <td>A0000212</td>\n",
       "      <td>5P03</td>\n",
       "    </tr>\n",
       "    <tr>\n",
       "      <th>3</th>\n",
       "      <td>A0000213</td>\n",
       "      <td>4E04</td>\n",
       "    </tr>\n",
       "    <tr>\n",
       "      <th>4</th>\n",
       "      <td>A0000312</td>\n",
       "      <td>6I02</td>\n",
       "    </tr>\n",
       "  </tbody>\n",
       "</table>\n",
       "</div>"
      ],
      "text/plain": [
       "  NOPD_Item  Beat\n",
       "0  A0000112  8C04\n",
       "1  A0000113  5E01\n",
       "2  A0000212  5P03\n",
       "3  A0000213  4E04\n",
       "4  A0000312  6I02"
      ]
     },
     "execution_count": 27,
     "metadata": {},
     "output_type": "execute_result"
    }
   ],
   "source": [
    "df_beat.head()"
   ]
  },
  {
   "cell_type": "code",
   "execution_count": 28,
   "metadata": {
    "collapsed": false
   },
   "outputs": [],
   "source": [
    "# # Fill missing Beat Values\n",
    "# for row in cfs_beat[cfs_beat.Beat.isnull()].iterrows():\n",
    "#     if(row[1].NOPD_Item in list(df_beat.NOPD_Item)):\n",
    "#         cfs_beat['Beat'].loc[cfs_beat.NOPD_Item == row[1].NOPD_Item] = \\\n",
    "#                     df_beat.Beat[df_beat.NOPD_Item == row[1].NOPD_Item].values[0]"
   ]
  },
  {
   "cell_type": "code",
   "execution_count": 29,
   "metadata": {
    "collapsed": true
   },
   "outputs": [],
   "source": [
    "cfs_beat = cfs_beat[cfs_beat.Beat.notnull()]"
   ]
  },
  {
   "cell_type": "code",
   "execution_count": 32,
   "metadata": {
    "collapsed": false,
    "scrolled": false
   },
   "outputs": [],
   "source": [
    "cfs_beat = cfs_beat.append(df_beat, ignore_index=True)"
   ]
  },
  {
   "cell_type": "code",
   "execution_count": 33,
   "metadata": {
    "collapsed": false
   },
   "outputs": [
    {
     "data": {
      "text/plain": [
       "2245854"
      ]
     },
     "execution_count": 33,
     "metadata": {},
     "output_type": "execute_result"
    }
   ],
   "source": [
    "len(cfs_beat)"
   ]
  },
  {
   "cell_type": "code",
   "execution_count": 34,
   "metadata": {
    "collapsed": false
   },
   "outputs": [
    {
     "data": {
      "text/plain": [
       "7053"
      ]
     },
     "execution_count": 34,
     "metadata": {},
     "output_type": "execute_result"
    }
   ],
   "source": [
    "# Missing beat values \n",
    "2252907 - 2245854"
   ]
  },
  {
   "cell_type": "markdown",
   "metadata": {},
   "source": [
    "## B. Load Stop and Search Data"
   ]
  },
  {
   "cell_type": "code",
   "execution_count": 35,
   "metadata": {
    "collapsed": true
   },
   "outputs": [],
   "source": [
    "# Set location of file\n",
    "sns_file_path = \"..\\\\Datasets\\\\Raw_Data\\\\Stop_and_Search\\\\Stop_and_Search__Field_Interviews_.csv\""
   ]
  },
  {
   "cell_type": "code",
   "execution_count": 36,
   "metadata": {
    "collapsed": false
   },
   "outputs": [
    {
     "name": "stderr",
     "output_type": "stream",
     "text": [
      "C:\\Users\\Nikhil\\Anaconda2\\lib\\site-packages\\IPython\\core\\interactiveshell.py:2723: DtypeWarning: Columns (1,7,28) have mixed types. Specify dtype option on import or set low_memory=False.\n",
      "  interactivity=interactivity, compiler=compiler, result=result)\n"
     ]
    }
   ],
   "source": [
    "# Load the SNS Data\n",
    "sns_df = pd.read_csv(sns_file_path) "
   ]
  },
  {
   "cell_type": "code",
   "execution_count": 37,
   "metadata": {
    "collapsed": false
   },
   "outputs": [
    {
     "data": {
      "text/html": [
       "<div>\n",
       "<table border=\"1\" class=\"dataframe\">\n",
       "  <thead>\n",
       "    <tr style=\"text-align: right;\">\n",
       "      <th></th>\n",
       "      <th>FieldInterviewID</th>\n",
       "      <th>NOPD_Item</th>\n",
       "      <th>EventDate</th>\n",
       "      <th>District</th>\n",
       "      <th>Zone</th>\n",
       "      <th>OfficerAssignment</th>\n",
       "      <th>StopDescription</th>\n",
       "      <th>ActionsTaken</th>\n",
       "      <th>VehicleYear</th>\n",
       "      <th>VehicleMake</th>\n",
       "      <th>...</th>\n",
       "      <th>SubjectWeight</th>\n",
       "      <th>SubjectEyeColor</th>\n",
       "      <th>SubjectHairColor</th>\n",
       "      <th>SubjectDriverLicState</th>\n",
       "      <th>CreatedDateTime</th>\n",
       "      <th>LastModifiedDateTime</th>\n",
       "      <th>Longitude</th>\n",
       "      <th>Latitude</th>\n",
       "      <th>Zip</th>\n",
       "      <th>BlockAddress</th>\n",
       "    </tr>\n",
       "  </thead>\n",
       "  <tbody>\n",
       "    <tr>\n",
       "      <th>0</th>\n",
       "      <td>17415</td>\n",
       "      <td>NaN</td>\n",
       "      <td>01/01/2010 01:11:00 AM</td>\n",
       "      <td>6</td>\n",
       "      <td>E</td>\n",
       "      <td>6th  District</td>\n",
       "      <td>TRAFFIC VIOLATION</td>\n",
       "      <td>NaN</td>\n",
       "      <td>2005.0</td>\n",
       "      <td>DODGE</td>\n",
       "      <td>...</td>\n",
       "      <td>160.0</td>\n",
       "      <td>Brown</td>\n",
       "      <td>Black</td>\n",
       "      <td>LA</td>\n",
       "      <td>01/01/2010 01:26:26 AM</td>\n",
       "      <td>NaN</td>\n",
       "      <td>0.0</td>\n",
       "      <td>0.0</td>\n",
       "      <td>NaN</td>\n",
       "      <td>NaN</td>\n",
       "    </tr>\n",
       "    <tr>\n",
       "      <th>1</th>\n",
       "      <td>17416</td>\n",
       "      <td>NaN</td>\n",
       "      <td>01/01/2010 02:06:00 AM</td>\n",
       "      <td>5</td>\n",
       "      <td>D</td>\n",
       "      <td>5th  District</td>\n",
       "      <td>CALL FOR SERVICE</td>\n",
       "      <td>NaN</td>\n",
       "      <td>NaN</td>\n",
       "      <td>NaN</td>\n",
       "      <td>...</td>\n",
       "      <td>140.0</td>\n",
       "      <td>Brown</td>\n",
       "      <td>Black</td>\n",
       "      <td>NaN</td>\n",
       "      <td>01/01/2010 02:27:38 AM</td>\n",
       "      <td>NaN</td>\n",
       "      <td>0.0</td>\n",
       "      <td>0.0</td>\n",
       "      <td>NaN</td>\n",
       "      <td>NaN</td>\n",
       "    </tr>\n",
       "    <tr>\n",
       "      <th>2</th>\n",
       "      <td>17416</td>\n",
       "      <td>NaN</td>\n",
       "      <td>01/01/2010 02:06:00 AM</td>\n",
       "      <td>5</td>\n",
       "      <td>D</td>\n",
       "      <td>5th  District</td>\n",
       "      <td>CALL FOR SERVICE</td>\n",
       "      <td>NaN</td>\n",
       "      <td>NaN</td>\n",
       "      <td>NaN</td>\n",
       "      <td>...</td>\n",
       "      <td>145.0</td>\n",
       "      <td>Brown</td>\n",
       "      <td>Black</td>\n",
       "      <td>NaN</td>\n",
       "      <td>01/01/2010 02:27:38 AM</td>\n",
       "      <td>NaN</td>\n",
       "      <td>0.0</td>\n",
       "      <td>0.0</td>\n",
       "      <td>NaN</td>\n",
       "      <td>NaN</td>\n",
       "    </tr>\n",
       "    <tr>\n",
       "      <th>3</th>\n",
       "      <td>17416</td>\n",
       "      <td>NaN</td>\n",
       "      <td>01/01/2010 02:06:00 AM</td>\n",
       "      <td>5</td>\n",
       "      <td>D</td>\n",
       "      <td>5th  District</td>\n",
       "      <td>CALL FOR SERVICE</td>\n",
       "      <td>NaN</td>\n",
       "      <td>NaN</td>\n",
       "      <td>NaN</td>\n",
       "      <td>...</td>\n",
       "      <td>140.0</td>\n",
       "      <td>Brown</td>\n",
       "      <td>Black</td>\n",
       "      <td>NaN</td>\n",
       "      <td>01/01/2010 02:27:38 AM</td>\n",
       "      <td>NaN</td>\n",
       "      <td>0.0</td>\n",
       "      <td>0.0</td>\n",
       "      <td>NaN</td>\n",
       "      <td>NaN</td>\n",
       "    </tr>\n",
       "    <tr>\n",
       "      <th>4</th>\n",
       "      <td>17416</td>\n",
       "      <td>NaN</td>\n",
       "      <td>01/01/2010 02:06:00 AM</td>\n",
       "      <td>5</td>\n",
       "      <td>D</td>\n",
       "      <td>5th  District</td>\n",
       "      <td>CALL FOR SERVICE</td>\n",
       "      <td>NaN</td>\n",
       "      <td>NaN</td>\n",
       "      <td>NaN</td>\n",
       "      <td>...</td>\n",
       "      <td>140.0</td>\n",
       "      <td>Brown</td>\n",
       "      <td>Black</td>\n",
       "      <td>NaN</td>\n",
       "      <td>01/01/2010 02:27:38 AM</td>\n",
       "      <td>NaN</td>\n",
       "      <td>0.0</td>\n",
       "      <td>0.0</td>\n",
       "      <td>NaN</td>\n",
       "      <td>NaN</td>\n",
       "    </tr>\n",
       "  </tbody>\n",
       "</table>\n",
       "<p>5 rows × 29 columns</p>\n",
       "</div>"
      ],
      "text/plain": [
       "   FieldInterviewID NOPD_Item               EventDate  District Zone  \\\n",
       "0             17415       NaN  01/01/2010 01:11:00 AM         6    E   \n",
       "1             17416       NaN  01/01/2010 02:06:00 AM         5    D   \n",
       "2             17416       NaN  01/01/2010 02:06:00 AM         5    D   \n",
       "3             17416       NaN  01/01/2010 02:06:00 AM         5    D   \n",
       "4             17416       NaN  01/01/2010 02:06:00 AM         5    D   \n",
       "\n",
       "  OfficerAssignment    StopDescription ActionsTaken  VehicleYear VehicleMake  \\\n",
       "0     6th  District  TRAFFIC VIOLATION          NaN       2005.0       DODGE   \n",
       "1     5th  District   CALL FOR SERVICE          NaN          NaN         NaN   \n",
       "2     5th  District   CALL FOR SERVICE          NaN          NaN         NaN   \n",
       "3     5th  District   CALL FOR SERVICE          NaN          NaN         NaN   \n",
       "4     5th  District   CALL FOR SERVICE          NaN          NaN         NaN   \n",
       "\n",
       "       ...      SubjectWeight SubjectEyeColor SubjectHairColor  \\\n",
       "0      ...              160.0           Brown            Black   \n",
       "1      ...              140.0           Brown            Black   \n",
       "2      ...              145.0           Brown            Black   \n",
       "3      ...              140.0           Brown            Black   \n",
       "4      ...              140.0           Brown            Black   \n",
       "\n",
       "   SubjectDriverLicState         CreatedDateTime LastModifiedDateTime  \\\n",
       "0                     LA  01/01/2010 01:26:26 AM                  NaN   \n",
       "1                    NaN  01/01/2010 02:27:38 AM                  NaN   \n",
       "2                    NaN  01/01/2010 02:27:38 AM                  NaN   \n",
       "3                    NaN  01/01/2010 02:27:38 AM                  NaN   \n",
       "4                    NaN  01/01/2010 02:27:38 AM                  NaN   \n",
       "\n",
       "   Longitude Latitude  Zip  BlockAddress  \n",
       "0        0.0      0.0  NaN           NaN  \n",
       "1        0.0      0.0  NaN           NaN  \n",
       "2        0.0      0.0  NaN           NaN  \n",
       "3        0.0      0.0  NaN           NaN  \n",
       "4        0.0      0.0  NaN           NaN  \n",
       "\n",
       "[5 rows x 29 columns]"
      ]
     },
     "execution_count": 37,
     "metadata": {},
     "output_type": "execute_result"
    }
   ],
   "source": [
    "# Display top 5 rows\n",
    "sns_df.head()"
   ]
  },
  {
   "cell_type": "code",
   "execution_count": 38,
   "metadata": {
    "collapsed": false
   },
   "outputs": [
    {
     "data": {
      "text/plain": [
       "Index([u'FieldInterviewID', u'NOPD_Item', u'EventDate', u'District', u'Zone',\n",
       "       u'OfficerAssignment', u'StopDescription', u'ActionsTaken',\n",
       "       u'VehicleYear', u'VehicleMake', u'VehicleModel', u'VehicleStyle',\n",
       "       u'VehicleColor', u'SubjectID', u'SubjectRace', u'SubjectGender',\n",
       "       u'SubjectAge', u'SubjectHasPhotoID', u'SubjectHeight', u'SubjectWeight',\n",
       "       u'SubjectEyeColor', u'SubjectHairColor', u'SubjectDriverLicState',\n",
       "       u'CreatedDateTime', u'LastModifiedDateTime', u'Longitude', u'Latitude',\n",
       "       u'Zip', u'BlockAddress'],\n",
       "      dtype='object')"
      ]
     },
     "execution_count": 38,
     "metadata": {},
     "output_type": "execute_result"
    }
   ],
   "source": [
    "sns_df.columns"
   ]
  },
  {
   "cell_type": "code",
   "execution_count": 39,
   "metadata": {
    "collapsed": false
   },
   "outputs": [
    {
     "data": {
      "text/plain": [
       "430607"
      ]
     },
     "execution_count": 39,
     "metadata": {},
     "output_type": "execute_result"
    }
   ],
   "source": [
    "len(sns_df.NOPD_Item)"
   ]
  },
  {
   "cell_type": "markdown",
   "metadata": {},
   "source": [
    "## C. Filter Records for Year 2012 to 2016"
   ]
  },
  {
   "cell_type": "code",
   "execution_count": 40,
   "metadata": {
    "collapsed": false
   },
   "outputs": [],
   "source": [
    "# Convert column type to datetime\n",
    "sns_df.EventDate = pd.to_datetime(sns_df.EventDate)"
   ]
  },
  {
   "cell_type": "code",
   "execution_count": 41,
   "metadata": {
    "collapsed": false
   },
   "outputs": [],
   "source": [
    "# Apply filter for year range 2012-2016\n",
    "sns_df = sns_df[(sns_df.EventDate >= datetime.date(2012,1,1)) \\\n",
    "                & (sns_df.EventDate < datetime.date(2017,1,1))]"
   ]
  },
  {
   "cell_type": "code",
   "execution_count": 42,
   "metadata": {
    "collapsed": false
   },
   "outputs": [
    {
     "data": {
      "text/plain": [
       "Timestamp('2016-12-31 23:25:00')"
      ]
     },
     "execution_count": 42,
     "metadata": {},
     "output_type": "execute_result"
    }
   ],
   "source": [
    "max(sns_df.EventDate)"
   ]
  },
  {
   "cell_type": "code",
   "execution_count": 43,
   "metadata": {
    "collapsed": false
   },
   "outputs": [
    {
     "data": {
      "text/plain": [
       "Timestamp('2012-01-01 00:05:00')"
      ]
     },
     "execution_count": 43,
     "metadata": {},
     "output_type": "execute_result"
    }
   ],
   "source": [
    "min(sns_df.EventDate)"
   ]
  },
  {
   "cell_type": "code",
   "execution_count": 44,
   "metadata": {
    "collapsed": false
   },
   "outputs": [
    {
     "data": {
      "text/plain": [
       "215854"
      ]
     },
     "execution_count": 44,
     "metadata": {},
     "output_type": "execute_result"
    }
   ],
   "source": [
    "# Unique NOPD Item\n",
    "tot_sns = len(set(sns_df.NOPD_Item))\n",
    "tot_sns"
   ]
  },
  {
   "cell_type": "markdown",
   "metadata": {
    "collapsed": true
   },
   "source": [
    "# 3. Get beat for SNS"
   ]
  },
  {
   "cell_type": "code",
   "execution_count": 45,
   "metadata": {
    "collapsed": true
   },
   "outputs": [],
   "source": [
    "# Merge SNS and CFS Data\n",
    "cfs_sns_df = pd.merge(sns_df, cfs_beat , how='left', on='NOPD_Item')"
   ]
  },
  {
   "cell_type": "code",
   "execution_count": 46,
   "metadata": {
    "collapsed": false
   },
   "outputs": [
    {
     "data": {
      "text/html": [
       "<div>\n",
       "<table border=\"1\" class=\"dataframe\">\n",
       "  <thead>\n",
       "    <tr style=\"text-align: right;\">\n",
       "      <th></th>\n",
       "      <th>FieldInterviewID</th>\n",
       "      <th>NOPD_Item</th>\n",
       "      <th>EventDate</th>\n",
       "      <th>District</th>\n",
       "      <th>Zone</th>\n",
       "      <th>OfficerAssignment</th>\n",
       "      <th>StopDescription</th>\n",
       "      <th>ActionsTaken</th>\n",
       "      <th>VehicleYear</th>\n",
       "      <th>VehicleMake</th>\n",
       "      <th>...</th>\n",
       "      <th>SubjectEyeColor</th>\n",
       "      <th>SubjectHairColor</th>\n",
       "      <th>SubjectDriverLicState</th>\n",
       "      <th>CreatedDateTime</th>\n",
       "      <th>LastModifiedDateTime</th>\n",
       "      <th>Longitude</th>\n",
       "      <th>Latitude</th>\n",
       "      <th>Zip</th>\n",
       "      <th>BlockAddress</th>\n",
       "      <th>Beat</th>\n",
       "    </tr>\n",
       "  </thead>\n",
       "  <tbody>\n",
       "    <tr>\n",
       "      <th>0</th>\n",
       "      <td>98193</td>\n",
       "      <td>F0010411</td>\n",
       "      <td>2013-05-31 01:49:00</td>\n",
       "      <td>8</td>\n",
       "      <td>I</td>\n",
       "      <td>8th  District</td>\n",
       "      <td>TRAFFIC VIOLATION</td>\n",
       "      <td>Stop Results: Citation issued;Subject Type: Dr...</td>\n",
       "      <td>1995.0</td>\n",
       "      <td>NISSAN</td>\n",
       "      <td>...</td>\n",
       "      <td>Brown</td>\n",
       "      <td>Brown</td>\n",
       "      <td>LA</td>\n",
       "      <td>06/01/2011 02:59:25 AM</td>\n",
       "      <td>NaN</td>\n",
       "      <td>-90.073191</td>\n",
       "      <td>29.956125</td>\n",
       "      <td>70112.0</td>\n",
       "      <td>Basin St &amp; Canal St</td>\n",
       "      <td>NaN</td>\n",
       "    </tr>\n",
       "    <tr>\n",
       "      <th>1</th>\n",
       "      <td>98193</td>\n",
       "      <td>F0010411</td>\n",
       "      <td>2013-05-31 01:49:00</td>\n",
       "      <td>8</td>\n",
       "      <td>I</td>\n",
       "      <td>8th  District</td>\n",
       "      <td>TRAFFIC VIOLATION</td>\n",
       "      <td>Stop Results: Citation issued;Subject Type: Dr...</td>\n",
       "      <td>1995.0</td>\n",
       "      <td>NISSAN</td>\n",
       "      <td>...</td>\n",
       "      <td>Brown</td>\n",
       "      <td>Brown</td>\n",
       "      <td>LA</td>\n",
       "      <td>06/01/2011 02:59:25 AM</td>\n",
       "      <td>NaN</td>\n",
       "      <td>-90.073191</td>\n",
       "      <td>29.956125</td>\n",
       "      <td>70112.0</td>\n",
       "      <td>Basin St &amp; Canal St</td>\n",
       "      <td>NaN</td>\n",
       "    </tr>\n",
       "    <tr>\n",
       "      <th>2</th>\n",
       "      <td>148767</td>\n",
       "      <td>B0000012</td>\n",
       "      <td>2012-02-17 01:00:00</td>\n",
       "      <td>8</td>\n",
       "      <td>D</td>\n",
       "      <td>8th  District</td>\n",
       "      <td>CALL FOR SERVICE</td>\n",
       "      <td>NaN</td>\n",
       "      <td>NaN</td>\n",
       "      <td>NaN</td>\n",
       "      <td>...</td>\n",
       "      <td>Brown</td>\n",
       "      <td>Black</td>\n",
       "      <td>LA</td>\n",
       "      <td>02/20/2012 06:25:32 AM</td>\n",
       "      <td>NaN</td>\n",
       "      <td>0.000000</td>\n",
       "      <td>0.000000</td>\n",
       "      <td>NaN</td>\n",
       "      <td>NaN</td>\n",
       "      <td>NaN</td>\n",
       "    </tr>\n",
       "    <tr>\n",
       "      <th>3</th>\n",
       "      <td>148767</td>\n",
       "      <td>B0000012</td>\n",
       "      <td>2012-02-17 01:00:00</td>\n",
       "      <td>8</td>\n",
       "      <td>D</td>\n",
       "      <td>8th  District</td>\n",
       "      <td>CALL FOR SERVICE</td>\n",
       "      <td>NaN</td>\n",
       "      <td>NaN</td>\n",
       "      <td>NaN</td>\n",
       "      <td>...</td>\n",
       "      <td>Brown</td>\n",
       "      <td>Brown</td>\n",
       "      <td>LA</td>\n",
       "      <td>02/20/2012 06:25:32 AM</td>\n",
       "      <td>NaN</td>\n",
       "      <td>0.000000</td>\n",
       "      <td>0.000000</td>\n",
       "      <td>NaN</td>\n",
       "      <td>NaN</td>\n",
       "      <td>NaN</td>\n",
       "    </tr>\n",
       "    <tr>\n",
       "      <th>4</th>\n",
       "      <td>164605</td>\n",
       "      <td>E0187912</td>\n",
       "      <td>2012-05-02 08:11:00</td>\n",
       "      <td>2</td>\n",
       "      <td>F</td>\n",
       "      <td>Traffic</td>\n",
       "      <td>CALL FOR SERVICE</td>\n",
       "      <td>NaN</td>\n",
       "      <td>2010.0</td>\n",
       "      <td>HONDA</td>\n",
       "      <td>...</td>\n",
       "      <td>NaN</td>\n",
       "      <td>NaN</td>\n",
       "      <td>NaN</td>\n",
       "      <td>05/02/2012 08:13:11 AM</td>\n",
       "      <td>NaN</td>\n",
       "      <td>-90.112765</td>\n",
       "      <td>29.920468</td>\n",
       "      <td>70115.0</td>\n",
       "      <td>053XX Magazine St</td>\n",
       "      <td>2F03</td>\n",
       "    </tr>\n",
       "  </tbody>\n",
       "</table>\n",
       "<p>5 rows × 30 columns</p>\n",
       "</div>"
      ],
      "text/plain": [
       "   FieldInterviewID NOPD_Item           EventDate  District Zone  \\\n",
       "0             98193  F0010411 2013-05-31 01:49:00         8    I   \n",
       "1             98193  F0010411 2013-05-31 01:49:00         8    I   \n",
       "2            148767  B0000012 2012-02-17 01:00:00         8    D   \n",
       "3            148767  B0000012 2012-02-17 01:00:00         8    D   \n",
       "4            164605  E0187912 2012-05-02 08:11:00         2    F   \n",
       "\n",
       "  OfficerAssignment    StopDescription  \\\n",
       "0     8th  District  TRAFFIC VIOLATION   \n",
       "1     8th  District  TRAFFIC VIOLATION   \n",
       "2     8th  District   CALL FOR SERVICE   \n",
       "3     8th  District   CALL FOR SERVICE   \n",
       "4           Traffic   CALL FOR SERVICE   \n",
       "\n",
       "                                        ActionsTaken  VehicleYear VehicleMake  \\\n",
       "0  Stop Results: Citation issued;Subject Type: Dr...       1995.0      NISSAN   \n",
       "1  Stop Results: Citation issued;Subject Type: Dr...       1995.0      NISSAN   \n",
       "2                                                NaN          NaN         NaN   \n",
       "3                                                NaN          NaN         NaN   \n",
       "4                                                NaN       2010.0       HONDA   \n",
       "\n",
       "   ...  SubjectEyeColor SubjectHairColor SubjectDriverLicState  \\\n",
       "0  ...            Brown            Brown                    LA   \n",
       "1  ...            Brown            Brown                    LA   \n",
       "2  ...            Brown            Black                    LA   \n",
       "3  ...            Brown            Brown                    LA   \n",
       "4  ...              NaN              NaN                   NaN   \n",
       "\n",
       "          CreatedDateTime LastModifiedDateTime  Longitude   Latitude      Zip  \\\n",
       "0  06/01/2011 02:59:25 AM                  NaN -90.073191  29.956125  70112.0   \n",
       "1  06/01/2011 02:59:25 AM                  NaN -90.073191  29.956125  70112.0   \n",
       "2  02/20/2012 06:25:32 AM                  NaN   0.000000   0.000000      NaN   \n",
       "3  02/20/2012 06:25:32 AM                  NaN   0.000000   0.000000      NaN   \n",
       "4  05/02/2012 08:13:11 AM                  NaN -90.112765  29.920468  70115.0   \n",
       "\n",
       "          BlockAddress  Beat  \n",
       "0  Basin St & Canal St   NaN  \n",
       "1  Basin St & Canal St   NaN  \n",
       "2                  NaN   NaN  \n",
       "3                  NaN   NaN  \n",
       "4    053XX Magazine St  2F03  \n",
       "\n",
       "[5 rows x 30 columns]"
      ]
     },
     "execution_count": 46,
     "metadata": {},
     "output_type": "execute_result"
    }
   ],
   "source": [
    "cfs_sns_df.head()"
   ]
  },
  {
   "cell_type": "code",
   "execution_count": 47,
   "metadata": {
    "collapsed": false
   },
   "outputs": [
    {
     "data": {
      "text/plain": [
       "213326"
      ]
     },
     "execution_count": 47,
     "metadata": {},
     "output_type": "execute_result"
    }
   ],
   "source": [
    "# Unique NOPD Item\n",
    "tot_sns_beat = len(set(cfs_sns_df.NOPD_Item[cfs_sns_df.Beat.notnull()]))\n",
    "tot_sns_beat"
   ]
  },
  {
   "cell_type": "code",
   "execution_count": 48,
   "metadata": {
    "collapsed": true
   },
   "outputs": [],
   "source": [
    "# Calculate % of records with beats\n",
    "sns_beat_available = tot_sns_beat*100.0/tot_sns"
   ]
  },
  {
   "cell_type": "code",
   "execution_count": 49,
   "metadata": {
    "collapsed": false
   },
   "outputs": [
    {
     "data": {
      "text/plain": [
       "1.1711619891222824"
      ]
     },
     "execution_count": 49,
     "metadata": {},
     "output_type": "execute_result"
    }
   ],
   "source": [
    "# % of records missing beat\n",
    "100 - sns_beat_available"
   ]
  },
  {
   "cell_type": "code",
   "execution_count": 50,
   "metadata": {
    "collapsed": true
   },
   "outputs": [],
   "source": [
    "# Save the data\n",
    "fullpath = \"..\\\\Datasets\\\\Final_Data\\\\SNS_with_beat.csv\"\n",
    "cfs_sns_df.to_csv(fullpath, sep=',',  index = False)"
   ]
  },
  {
   "cell_type": "code",
   "execution_count": null,
   "metadata": {
    "collapsed": true
   },
   "outputs": [],
   "source": []
  }
 ],
 "metadata": {
  "anaconda-cloud": {},
  "kernelspec": {
   "display_name": "Python [Root]",
   "language": "python",
   "name": "Python [Root]"
  },
  "language_info": {
   "codemirror_mode": {
    "name": "ipython",
    "version": 2
   },
   "file_extension": ".py",
   "mimetype": "text/x-python",
   "name": "python",
   "nbconvert_exporter": "python",
   "pygments_lexer": "ipython2",
   "version": "2.7.11"
  }
 },
 "nbformat": 4,
 "nbformat_minor": 1
}
