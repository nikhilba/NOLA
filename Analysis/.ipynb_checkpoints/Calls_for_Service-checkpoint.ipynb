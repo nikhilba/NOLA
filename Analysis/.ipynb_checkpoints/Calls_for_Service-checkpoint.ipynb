{
 "cells": [
  {
   "cell_type": "markdown",
   "metadata": {},
   "source": [
    "## The below script loads data from Calls_for_service file and merges with data from max_cfs_ucr_categories file.\n",
    "Following constraints are applied:\n",
    "- Records year range = 2012 - 2016\n",
    "- Records Disposition = RTF \n",
    "- Records CrimeType = Violent Crime"
   ]
  },
  {
   "cell_type": "code",
   "execution_count": 1,
   "metadata": {
    "collapsed": false
   },
   "outputs": [],
   "source": [
    "import os\n",
    "import csv\n",
    "import zipfile\n",
    "import string\n",
    "import pandas as pd\n",
    "import datetime as dt\n",
    "import numpy as np"
   ]
  },
  {
   "cell_type": "markdown",
   "metadata": {},
   "source": [
    "## Data Loading"
   ]
  },
  {
   "cell_type": "markdown",
   "metadata": {},
   "source": [
    "### Load Calls-for-Service Data"
   ]
  },
  {
   "cell_type": "code",
   "execution_count": 2,
   "metadata": {
    "collapsed": false
   },
   "outputs": [
    {
     "data": {
      "text/plain": [
       "'../Datasets/Beat_Data/'"
      ]
     },
     "execution_count": 2,
     "metadata": {},
     "output_type": "execute_result"
    }
   ],
   "source": [
    "# Set location of file\n",
    "path = os.path.join(\"../Datasets/Beat_Data/\")\n",
    "path"
   ]
  },
  {
   "cell_type": "code",
   "execution_count": 3,
   "metadata": {
    "collapsed": false
   },
   "outputs": [
    {
     "data": {
      "text/plain": [
       "['stop_search_beat.csv', 'crime_beat.csv', 'qol_beat_3zip.csv', 'ReadMe']"
      ]
     },
     "execution_count": 3,
     "metadata": {},
     "output_type": "execute_result"
    }
   ],
   "source": [
    "# Get filenames\n",
    "filenames = os.listdir(path)\n",
    "filenames"
   ]
  },
  {
   "cell_type": "code",
   "execution_count": 4,
   "metadata": {
    "collapsed": false
   },
   "outputs": [],
   "source": [
    "cfs_df = pd.read_csv(path+\"crime_beat.csv\")"
   ]
  },
  {
   "cell_type": "code",
   "execution_count": 5,
   "metadata": {
    "collapsed": false
   },
   "outputs": [
    {
     "data": {
      "text/html": [
       "<div>\n",
       "<table border=\"1\" class=\"dataframe\">\n",
       "  <thead>\n",
       "    <tr style=\"text-align: right;\">\n",
       "      <th></th>\n",
       "      <th>NOPD_Item</th>\n",
       "      <th>Type_</th>\n",
       "      <th>TypeText</th>\n",
       "      <th>Priority</th>\n",
       "      <th>InitialType</th>\n",
       "      <th>InitialTypeText</th>\n",
       "      <th>InitialPriority</th>\n",
       "      <th>MapX</th>\n",
       "      <th>MapY</th>\n",
       "      <th>TimeCreate</th>\n",
       "      <th>...</th>\n",
       "      <th>BLOCK_ADDRESS</th>\n",
       "      <th>Zip</th>\n",
       "      <th>PoliceDistrict</th>\n",
       "      <th>Location</th>\n",
       "      <th>CrimeType</th>\n",
       "      <th>Description</th>\n",
       "      <th>Date</th>\n",
       "      <th>latitude</th>\n",
       "      <th>longitude</th>\n",
       "      <th>Beat_New</th>\n",
       "    </tr>\n",
       "  </thead>\n",
       "  <tbody>\n",
       "    <tr>\n",
       "      <th>0</th>\n",
       "      <td>A0514814</td>\n",
       "      <td>65.0</td>\n",
       "      <td>SIMPLE ROBBERY</td>\n",
       "      <td>1B</td>\n",
       "      <td>35.0</td>\n",
       "      <td>SIMPLE BATTERY</td>\n",
       "      <td>2A</td>\n",
       "      <td>3683377</td>\n",
       "      <td>531825</td>\n",
       "      <td>01/04/2014 11:42:30 PM</td>\n",
       "      <td>...</td>\n",
       "      <td>St Peter &amp; River</td>\n",
       "      <td>70130</td>\n",
       "      <td>8</td>\n",
       "      <td>(29.95627848, -90.06213187)</td>\n",
       "      <td>VIOLENT CRIME</td>\n",
       "      <td>SIMPLE ROBBERY</td>\n",
       "      <td>2014-01-04</td>\n",
       "      <td>29.956278</td>\n",
       "      <td>-90.062132</td>\n",
       "      <td>8B02</td>\n",
       "    </tr>\n",
       "    <tr>\n",
       "      <th>1</th>\n",
       "      <td>A1137614</td>\n",
       "      <td>65.0</td>\n",
       "      <td>SIMPLE ROBBERY</td>\n",
       "      <td>2A</td>\n",
       "      <td>65.0</td>\n",
       "      <td>SIMPLE ROBBERY</td>\n",
       "      <td>2A</td>\n",
       "      <td>3679066</td>\n",
       "      <td>525743</td>\n",
       "      <td>01/09/2014 08:20:55 PM</td>\n",
       "      <td>...</td>\n",
       "      <td>014XX Saint Charles Ave</td>\n",
       "      <td>70130</td>\n",
       "      <td>6</td>\n",
       "      <td>(29.93968461, -90.07595579)</td>\n",
       "      <td>VIOLENT CRIME</td>\n",
       "      <td>SIMPLE ROBBERY</td>\n",
       "      <td>2014-01-09</td>\n",
       "      <td>29.939685</td>\n",
       "      <td>-90.075956</td>\n",
       "      <td>6G02</td>\n",
       "    </tr>\n",
       "    <tr>\n",
       "      <th>2</th>\n",
       "      <td>A1371814</td>\n",
       "      <td>65.0</td>\n",
       "      <td>SIMPLE ROBBERY</td>\n",
       "      <td>1B</td>\n",
       "      <td>35.0</td>\n",
       "      <td>SIMPLE BATTERY</td>\n",
       "      <td>1D</td>\n",
       "      <td>3682713</td>\n",
       "      <td>531408</td>\n",
       "      <td>01/11/2014 02:19:56 PM</td>\n",
       "      <td>...</td>\n",
       "      <td>Decatur St &amp; St Louis St</td>\n",
       "      <td>70130</td>\n",
       "      <td>8</td>\n",
       "      <td>(29.95515119, -90.06424170)</td>\n",
       "      <td>VIOLENT CRIME</td>\n",
       "      <td>SIMPLE ROBBERY</td>\n",
       "      <td>2014-01-11</td>\n",
       "      <td>29.955151</td>\n",
       "      <td>-90.064242</td>\n",
       "      <td>8B02</td>\n",
       "    </tr>\n",
       "    <tr>\n",
       "      <th>3</th>\n",
       "      <td>A2136614</td>\n",
       "      <td>65.0</td>\n",
       "      <td>SIMPLE ROBBERY</td>\n",
       "      <td>1B</td>\n",
       "      <td>65.0</td>\n",
       "      <td>SIMPLE ROBBERY</td>\n",
       "      <td>1B</td>\n",
       "      <td>3668999</td>\n",
       "      <td>535899</td>\n",
       "      <td>01/17/2014 12:10:08 PM</td>\n",
       "      <td>...</td>\n",
       "      <td>040XX S Carrollton Ave</td>\n",
       "      <td>70119</td>\n",
       "      <td>1</td>\n",
       "      <td>(29.96791191, -90.10739402)</td>\n",
       "      <td>VIOLENT CRIME</td>\n",
       "      <td>SIMPLE ROBBERY</td>\n",
       "      <td>2014-01-17</td>\n",
       "      <td>29.967912</td>\n",
       "      <td>-90.107394</td>\n",
       "      <td>1K02</td>\n",
       "    </tr>\n",
       "    <tr>\n",
       "      <th>4</th>\n",
       "      <td>A2697014</td>\n",
       "      <td>65.0</td>\n",
       "      <td>SIMPLE ROBBERY</td>\n",
       "      <td>1B</td>\n",
       "      <td>65.0</td>\n",
       "      <td>SIMPLE ROBBERY</td>\n",
       "      <td>1B</td>\n",
       "      <td>3674619</td>\n",
       "      <td>534666</td>\n",
       "      <td>01/21/2014 08:43:35 PM</td>\n",
       "      <td>...</td>\n",
       "      <td>Jane Pl &amp; Palmyra St</td>\n",
       "      <td>70119</td>\n",
       "      <td>1</td>\n",
       "      <td>(29.96435362, -90.08968824)</td>\n",
       "      <td>VIOLENT CRIME</td>\n",
       "      <td>SIMPLE ROBBERY</td>\n",
       "      <td>2014-01-21</td>\n",
       "      <td>29.964354</td>\n",
       "      <td>-90.089688</td>\n",
       "      <td>1L01</td>\n",
       "    </tr>\n",
       "  </tbody>\n",
       "</table>\n",
       "<p>5 rows × 27 columns</p>\n",
       "</div>"
      ],
      "text/plain": [
       "  NOPD_Item  Type_        TypeText Priority  InitialType InitialTypeText  \\\n",
       "0  A0514814   65.0  SIMPLE ROBBERY       1B         35.0  SIMPLE BATTERY   \n",
       "1  A1137614   65.0  SIMPLE ROBBERY       2A         65.0  SIMPLE ROBBERY   \n",
       "2  A1371814   65.0  SIMPLE ROBBERY       1B         35.0  SIMPLE BATTERY   \n",
       "3  A2136614   65.0  SIMPLE ROBBERY       1B         65.0  SIMPLE ROBBERY   \n",
       "4  A2697014   65.0  SIMPLE ROBBERY       1B         65.0  SIMPLE ROBBERY   \n",
       "\n",
       "  InitialPriority     MapX    MapY              TimeCreate    ...     \\\n",
       "0              2A  3683377  531825  01/04/2014 11:42:30 PM    ...      \n",
       "1              2A  3679066  525743  01/09/2014 08:20:55 PM    ...      \n",
       "2              1D  3682713  531408  01/11/2014 02:19:56 PM    ...      \n",
       "3              1B  3668999  535899  01/17/2014 12:10:08 PM    ...      \n",
       "4              1B  3674619  534666  01/21/2014 08:43:35 PM    ...      \n",
       "\n",
       "              BLOCK_ADDRESS    Zip PoliceDistrict  \\\n",
       "0          St Peter & River  70130              8   \n",
       "1   014XX Saint Charles Ave  70130              6   \n",
       "2  Decatur St & St Louis St  70130              8   \n",
       "3    040XX S Carrollton Ave  70119              1   \n",
       "4      Jane Pl & Palmyra St  70119              1   \n",
       "\n",
       "                      Location      CrimeType     Description        Date  \\\n",
       "0  (29.95627848, -90.06213187)  VIOLENT CRIME  SIMPLE ROBBERY  2014-01-04   \n",
       "1  (29.93968461, -90.07595579)  VIOLENT CRIME  SIMPLE ROBBERY  2014-01-09   \n",
       "2  (29.95515119, -90.06424170)  VIOLENT CRIME  SIMPLE ROBBERY  2014-01-11   \n",
       "3  (29.96791191, -90.10739402)  VIOLENT CRIME  SIMPLE ROBBERY  2014-01-17   \n",
       "4  (29.96435362, -90.08968824)  VIOLENT CRIME  SIMPLE ROBBERY  2014-01-21   \n",
       "\n",
       "    latitude  longitude  Beat_New  \n",
       "0  29.956278 -90.062132      8B02  \n",
       "1  29.939685 -90.075956      6G02  \n",
       "2  29.955151 -90.064242      8B02  \n",
       "3  29.967912 -90.107394      1K02  \n",
       "4  29.964354 -90.089688      1L01  \n",
       "\n",
       "[5 rows x 27 columns]"
      ]
     },
     "execution_count": 5,
     "metadata": {},
     "output_type": "execute_result"
    }
   ],
   "source": [
    "# Display top 5 rows\n",
    "cfs_df.head()"
   ]
  },
  {
   "cell_type": "code",
   "execution_count": 6,
   "metadata": {
    "collapsed": false
   },
   "outputs": [
    {
     "data": {
      "text/plain": [
       "2586"
      ]
     },
     "execution_count": 6,
     "metadata": {},
     "output_type": "execute_result"
    }
   ],
   "source": [
    "# Number of records\n",
    "len(cfs_df)"
   ]
  },
  {
   "cell_type": "markdown",
   "metadata": {},
   "source": [
    "### Load Categories Data"
   ]
  },
  {
   "cell_type": "code",
   "execution_count": 7,
   "metadata": {
    "collapsed": false
   },
   "outputs": [],
   "source": [
    "cfs_df.TimeArrive = pd.to_datetime(cfs_df.TimeArrive)\n",
    "cfs_df.TimeCreate= pd.to_datetime(cfs_df.TimeCreate)\n",
    "cfs_df.TimeClosed = pd.to_datetime(cfs_df.TimeClosed)\n",
    "cfs_df.TimeDispatch = pd.to_datetime(cfs_df.TimeDispatch)"
   ]
  },
  {
   "cell_type": "markdown",
   "metadata": {},
   "source": [
    "Which beats are notorius over the years."
   ]
  },
  {
   "cell_type": "code",
   "execution_count": 8,
   "metadata": {
    "collapsed": false
   },
   "outputs": [
    {
     "data": {
      "text/plain": [
       "Zip    Zip    Beat\n",
       "70117  70117  5G02    79\n",
       "              8F04    73\n",
       "              5G01    59\n",
       "              5E01    58\n",
       "              5C02    55\n",
       "70119  70119  5K02    80\n",
       "              1I03    60\n",
       "              1K01    50\n",
       "              1C02    47\n",
       "              5K01    47\n",
       "70130  70130  8C01    42\n",
       "              8C02    39\n",
       "              8B02    38\n",
       "              6B02    36\n",
       "              8G04    26\n",
       "Name: Beat, dtype: int64"
      ]
     },
     "execution_count": 8,
     "metadata": {},
     "output_type": "execute_result"
    }
   ],
   "source": [
    "# cfs_df.Zip.unique()\n",
    "# cfs_df.groupby([cfs_df.Zip,cfs_df.Beat]).size().nlargest(5)\n",
    "top_5_beats = cfs_df['Beat'].groupby(cfs_df['Zip']).value_counts()\n",
    "top_5_beats.groupby(level=0).nlargest(5)"
   ]
  },
  {
   "cell_type": "code",
   "execution_count": 9,
   "metadata": {
    "collapsed": false
   },
   "outputs": [],
   "source": [
    "two_zips_df = cfs_df[(cfs_df.Zip==70117) | (cfs_df.Zip==70119)]"
   ]
  },
  {
   "cell_type": "markdown",
   "metadata": {},
   "source": [
    "Creating two calls for service dataframe for two zips 70119 and 70117"
   ]
  },
  {
   "cell_type": "code",
   "execution_count": 10,
   "metadata": {
    "collapsed": true
   },
   "outputs": [],
   "source": [
    "zip_1_df = two_zips_df[two_zips_df.Zip==70117]\n",
    "zip_1_df = zip_1_df.groupby(zip_1_df.TimeCreate).size().reset_index()\n",
    "zip_2_df = two_zips_df[two_zips_df.Zip==70119]\n",
    "zip_2_df = zip_2_df.groupby(zip_2_df.TimeCreate).size().reset_index()"
   ]
  },
  {
   "cell_type": "code",
   "execution_count": 11,
   "metadata": {
    "collapsed": false
   },
   "outputs": [
    {
     "data": {
      "text/html": [
       "<div>\n",
       "<table border=\"1\" class=\"dataframe\">\n",
       "  <thead>\n",
       "    <tr style=\"text-align: right;\">\n",
       "      <th></th>\n",
       "      <th>TimeCreate</th>\n",
       "      <th>0</th>\n",
       "    </tr>\n",
       "  </thead>\n",
       "  <tbody>\n",
       "    <tr>\n",
       "      <th>0</th>\n",
       "      <td>2014-01-01 10:19:51</td>\n",
       "      <td>1</td>\n",
       "    </tr>\n",
       "    <tr>\n",
       "      <th>1</th>\n",
       "      <td>2014-01-01 22:49:14</td>\n",
       "      <td>1</td>\n",
       "    </tr>\n",
       "    <tr>\n",
       "      <th>2</th>\n",
       "      <td>2014-01-02 19:19:33</td>\n",
       "      <td>1</td>\n",
       "    </tr>\n",
       "    <tr>\n",
       "      <th>3</th>\n",
       "      <td>2014-01-04 08:50:16</td>\n",
       "      <td>1</td>\n",
       "    </tr>\n",
       "    <tr>\n",
       "      <th>4</th>\n",
       "      <td>2014-01-04 18:40:20</td>\n",
       "      <td>1</td>\n",
       "    </tr>\n",
       "  </tbody>\n",
       "</table>\n",
       "</div>"
      ],
      "text/plain": [
       "           TimeCreate  0\n",
       "0 2014-01-01 10:19:51  1\n",
       "1 2014-01-01 22:49:14  1\n",
       "2 2014-01-02 19:19:33  1\n",
       "3 2014-01-04 08:50:16  1\n",
       "4 2014-01-04 18:40:20  1"
      ]
     },
     "execution_count": 11,
     "metadata": {},
     "output_type": "execute_result"
    }
   ],
   "source": [
    "zip_1_df.head()"
   ]
  },
  {
   "cell_type": "code",
   "execution_count": 12,
   "metadata": {
    "collapsed": false
   },
   "outputs": [
    {
     "data": {
      "text/html": [
       "<div>\n",
       "<table border=\"1\" class=\"dataframe\">\n",
       "  <thead>\n",
       "    <tr style=\"text-align: right;\">\n",
       "      <th></th>\n",
       "      <th>TimeCreate</th>\n",
       "      <th>0</th>\n",
       "    </tr>\n",
       "  </thead>\n",
       "  <tbody>\n",
       "    <tr>\n",
       "      <th>0</th>\n",
       "      <td>2014-01-01 00:35:13</td>\n",
       "      <td>1</td>\n",
       "    </tr>\n",
       "    <tr>\n",
       "      <th>1</th>\n",
       "      <td>2014-01-02 18:48:31</td>\n",
       "      <td>1</td>\n",
       "    </tr>\n",
       "    <tr>\n",
       "      <th>2</th>\n",
       "      <td>2014-01-03 10:23:54</td>\n",
       "      <td>1</td>\n",
       "    </tr>\n",
       "    <tr>\n",
       "      <th>3</th>\n",
       "      <td>2014-01-04 12:18:14</td>\n",
       "      <td>1</td>\n",
       "    </tr>\n",
       "    <tr>\n",
       "      <th>4</th>\n",
       "      <td>2014-01-05 22:21:56</td>\n",
       "      <td>1</td>\n",
       "    </tr>\n",
       "  </tbody>\n",
       "</table>\n",
       "</div>"
      ],
      "text/plain": [
       "           TimeCreate  0\n",
       "0 2014-01-01 00:35:13  1\n",
       "1 2014-01-02 18:48:31  1\n",
       "2 2014-01-03 10:23:54  1\n",
       "3 2014-01-04 12:18:14  1\n",
       "4 2014-01-05 22:21:56  1"
      ]
     },
     "execution_count": 12,
     "metadata": {},
     "output_type": "execute_result"
    }
   ],
   "source": [
    "zip_2_df.head()"
   ]
  },
  {
   "cell_type": "markdown",
   "metadata": {},
   "source": [
    "Building two dataframes specific to crime prone beats"
   ]
  },
  {
   "cell_type": "code",
   "execution_count": 13,
   "metadata": {
    "collapsed": false
   },
   "outputs": [],
   "source": [
    "e_p_b_one = cfs_df[cfs_df.Beat=='5K02']\n",
    "e_p_b_one = e_p_b_one.groupby(e_p_b_one.TimeCreate).size().reset_index()"
   ]
  },
  {
   "cell_type": "code",
   "execution_count": 14,
   "metadata": {
    "collapsed": false
   },
   "outputs": [],
   "source": [
    "e_p_b_two = cfs_df[cfs_df.Beat=='5G02']\n",
    "e_p_b_two = e_p_b_two.groupby(e_p_b_two.TimeCreate).size().reset_index()"
   ]
  },
  {
   "cell_type": "code",
   "execution_count": 15,
   "metadata": {
    "collapsed": false
   },
   "outputs": [
    {
     "name": "stderr",
     "output_type": "stream",
     "text": [
      "/home/bks4line/anaconda2/lib/python2.7/site-packages/IPython/core/interactiveshell.py:2717: DtypeWarning: Columns (7) have mixed types. Specify dtype option on import or set low_memory=False.\n",
      "  interactivity=interactivity, compiler=compiler, result=result)\n"
     ]
    }
   ],
   "source": [
    "sns_path = \"../Datasets/Beat_Data/stop_search_beat.csv\"\n",
    "s_n_s_df =  pd.read_csv(sns_path)"
   ]
  },
  {
   "cell_type": "code",
   "execution_count": 16,
   "metadata": {
    "collapsed": false
   },
   "outputs": [
    {
     "data": {
      "text/plain": [
       "Index([u'FieldInterviewID', u'NOPD_Item', u'EventDate', u'District', u'Zone',\n",
       "       u'OfficerAssignment', u'StopDescription', u'ActionsTaken',\n",
       "       u'VehicleYear', u'VehicleMake', u'VehicleModel', u'VehicleStyle',\n",
       "       u'VehicleColor', u'SubjectID', u'SubjectRace', u'SubjectGender',\n",
       "       u'SubjectAge', u'SubjectHasPhotoID', u'SubjectHeight', u'SubjectWeight',\n",
       "       u'SubjectEyeColor', u'SubjectHairColor', u'SubjectDriverLicState',\n",
       "       u'CreatedDateTime', u'LastModifiedDateTime', u'Longitude', u'Latitude',\n",
       "       u'Zip', u'BlockAddress', u'Date', u'Beat'],\n",
       "      dtype='object')"
      ]
     },
     "execution_count": 16,
     "metadata": {},
     "output_type": "execute_result"
    }
   ],
   "source": [
    "s_n_s_df.columns"
   ]
  },
  {
   "cell_type": "markdown",
   "metadata": {},
   "source": [
    "Now lets get the zips for which the searches are made. 70119 and 70117"
   ]
  },
  {
   "cell_type": "code",
   "execution_count": 17,
   "metadata": {
    "collapsed": true
   },
   "outputs": [],
   "source": [
    "zip_1_sns =  s_n_s_df[s_n_s_df.Zip==70117]\n",
    "zip_2_sns  = s_n_s_df[s_n_s_df.Zip==70119]\n",
    "zip_1_sns = zip_1_sns.groupby(zip_1_sns.Date).size().reset_index()\n",
    "zip_2_sns = zip_2_sns.groupby(zip_2_sns.Date).size().reset_index()"
   ]
  },
  {
   "cell_type": "markdown",
   "metadata": {},
   "source": [
    "get the stops count for top two beats"
   ]
  },
  {
   "cell_type": "code",
   "execution_count": 18,
   "metadata": {
    "collapsed": false
   },
   "outputs": [],
   "source": [
    "s_n_s_epb_one = s_n_s_df[s_n_s_df.Beat=='5K02']\n",
    "s_n_s_epb_one = s_n_s_epb_one.groupby(s_n_s_epb_one.Date).size().reset_index()\n",
    "s_n_s_epb_two = s_n_s_df[s_n_s_df.Beat=='5G02']\n",
    "s_n_s_epb_two = s_n_s_epb_two.groupby(s_n_s_epb_two.Date).size().reset_index()"
   ]
  },
  {
   "cell_type": "code",
   "execution_count": 19,
   "metadata": {
    "collapsed": false
   },
   "outputs": [],
   "source": [
    "s_n_s_epb_one.rename(columns = {0:\"Count\"},inplace=True)"
   ]
  },
  {
   "cell_type": "code",
   "execution_count": 20,
   "metadata": {
    "collapsed": false
   },
   "outputs": [],
   "source": [
    "s_n_s_epb_two.rename(columns = {0:\"Count\"},inplace=True)"
   ]
  },
  {
   "cell_type": "code",
   "execution_count": 21,
   "metadata": {
    "collapsed": false
   },
   "outputs": [],
   "source": [
    "s_n_s_epb_one.Date = s_n_s_epb_one.Date.str.replace('-',\"\")"
   ]
  },
  {
   "cell_type": "code",
   "execution_count": 22,
   "metadata": {
    "collapsed": false
   },
   "outputs": [],
   "source": [
    "s_n_s_epb_one.Date = pd.to_datetime(s_n_s_epb_one.Date,format=\"%Y%m%d\")"
   ]
  },
  {
   "cell_type": "code",
   "execution_count": 23,
   "metadata": {
    "collapsed": true
   },
   "outputs": [],
   "source": [
    "s_n_s_epb_two.Date = s_n_s_epb_two.Date.str.replace('-',\"\")\n",
    "s_n_s_epb_two.Date = pd.to_datetime(s_n_s_epb_two.Date,format=\"%Y%m%d\")"
   ]
  },
  {
   "cell_type": "code",
   "execution_count": 24,
   "metadata": {
    "collapsed": false
   },
   "outputs": [],
   "source": [
    "e_p_b_one.rename(columns = {0:\"Count\"},inplace=True)"
   ]
  },
  {
   "cell_type": "code",
   "execution_count": 25,
   "metadata": {
    "collapsed": true
   },
   "outputs": [],
   "source": [
    "e_p_b_two.rename(columns = {0:\"Count\"},inplace=True)"
   ]
  },
  {
   "cell_type": "code",
   "execution_count": 26,
   "metadata": {
    "collapsed": true
   },
   "outputs": [],
   "source": [
    "zip_1_df.rename(columns = {0:\"Count\"},inplace=True)\n",
    "zip_2_df.rename(columns = {0:\"Count\"},inplace=True)\n",
    "zip_1_sns.rename(columns = {0:\"Count\"},inplace=True)\n",
    "zip_2_sns.rename(columns = {0:\"Count\"},inplace=True)"
   ]
  },
  {
   "cell_type": "code",
   "execution_count": 27,
   "metadata": {
    "collapsed": true
   },
   "outputs": [],
   "source": [
    "zip_1_sns.Date = zip_1_sns.Date.str.replace('-',\"\")\n",
    "zip_1_sns.Date = pd.to_datetime(zip_1_sns.Date,format=\"%Y%m%d\")\n",
    "zip_2_sns.Date = zip_2_sns.Date.str.replace('-',\"\")\n",
    "zip_2_sns.Date = pd.to_datetime(zip_2_sns.Date,format=\"%Y%m%d\")"
   ]
  },
  {
   "cell_type": "code",
   "execution_count": 28,
   "metadata": {
    "collapsed": false
   },
   "outputs": [],
   "source": [
    "e_p_b_one.TimeCreate = e_p_b_one.TimeCreate.apply(lambda x:x.date())"
   ]
  },
  {
   "cell_type": "code",
   "execution_count": 29,
   "metadata": {
    "collapsed": true
   },
   "outputs": [],
   "source": [
    "e_p_b_two.TimeCreate = e_p_b_two.TimeCreate.apply(lambda x:x.date())"
   ]
  },
  {
   "cell_type": "code",
   "execution_count": 30,
   "metadata": {
    "collapsed": true
   },
   "outputs": [],
   "source": [
    "zip_1_df.TimeCreate = zip_1_df.TimeCreate.apply(lambda x:x.date())\n",
    "zip_2_df.TimeCreate = zip_2_df.TimeCreate.apply(lambda x:x.date())"
   ]
  },
  {
   "cell_type": "code",
   "execution_count": null,
   "metadata": {
    "collapsed": false
   },
   "outputs": [],
   "source": [
    "e_p_b_one.index = e_p_b_one.TimeCreate\n",
    "del e_p_b_one['TimeCreate']\n"
   ]
  },
  {
   "cell_type": "code",
   "execution_count": null,
   "metadata": {
    "collapsed": false
   },
   "outputs": [],
   "source": [
    "e_p_b_two.index = e_p_b_two.TimeCreate\n",
    "del e_p_b_two['TimeCreate']\n"
   ]
  },
  {
   "cell_type": "code",
   "execution_count": null,
   "metadata": {
    "collapsed": false
   },
   "outputs": [],
   "source": [
    "s_n_s_epb_one.index = s_n_s_epb_one.Date\n",
    "del s_n_s_epb_one['Date']\n"
   ]
  },
  {
   "cell_type": "code",
   "execution_count": null,
   "metadata": {
    "collapsed": false
   },
   "outputs": [],
   "source": [
    "s_n_s_epb_two.index = s_n_s_epb_two.Date\n",
    "del s_n_s_epb_two['Date']"
   ]
  },
  {
   "cell_type": "code",
   "execution_count": 37,
   "metadata": {
    "collapsed": true
   },
   "outputs": [],
   "source": [
    "zip_1_df.index = zip_1_df.TimeCreate\n",
    "del zip_1_df['TimeCreate']\n",
    "zip_2_df.index = zip_2_df.TimeCreate\n",
    "del zip_2_df['TimeCreate']\n",
    "zip_1_sns.index = zip_1_sns.Date\n",
    "del zip_1_sns['Date']\n",
    "zip_2_sns.index = zip_2_sns.Date\n",
    "del zip_2_sns['Date']"
   ]
  },
  {
   "cell_type": "code",
   "execution_count": 38,
   "metadata": {
    "collapsed": true
   },
   "outputs": [],
   "source": [
    "e_p_b_one.loc[pd.to_datetime(\"20140101\",format=\"%Y%m%d\").date()]=[0]\n",
    "e_p_b_one.loc[pd.to_datetime(\"20161231\",format=\"%Y%m%d\").date()]=[0]\n",
    "e_p_b_two.loc[pd.to_datetime(\"20140101\",format=\"%Y%m%d\").date()]=[0]\n",
    "e_p_b_two.loc[pd.to_datetime(\"20161231\",format=\"%Y%m%d\").date()]=[0]\n",
    "s_n_s_epb_one.loc[pd.to_datetime(\"20140101\",format=\"%Y%m%d\").date()]=[0]\n",
    "s_n_s_epb_one.loc[pd.to_datetime(\"20161231\",format=\"%Y%m%d\").date()]=[0]\n",
    "s_n_s_epb_two.loc[pd.to_datetime(\"20140101\",format=\"%Y%m%d\").date()]=[0]\n",
    "s_n_s_epb_two.loc[pd.to_datetime(\"20161231\",format=\"%Y%m%d\").date()]=[0]"
   ]
  },
  {
   "cell_type": "markdown",
   "metadata": {},
   "source": [
    "Now totally there are 8 dataframes\n",
    "\n",
    "1. zip_1_df  for zip code 70117 CFS\n",
    "2. zip_2_df for zip code 70119 CFS\n",
    "3. zip_1_sns for sns happened in 70117\n",
    "4. zip_2_sns for sns happened in 70119\n",
    "5. e_p_b_one gives cfs from beat area 5K02\n",
    "6. e_p_b_two gives cfs from beat area 5G02\n",
    "7. s_n_s_epb_one sns happened in beat area 5K02\n",
    "8. s_n_s_epb_two sns happened in beat area 5G02"
   ]
  },
  {
   "cell_type": "code",
   "execution_count": 42,
   "metadata": {
    "collapsed": false
   },
   "outputs": [],
   "source": [
    "# adjusting to match start and end dates to 2014/01/01 and 2016/12/31\n",
    "e_p_b_one.index = pd.to_datetime(e_p_b_one.index)\n",
    "e_p_b_two.index = pd.to_datetime(e_p_b_two.index)\n",
    "s_n_s_epb_one.index = pd.to_datetime(s_n_s_epb_one.index)\n",
    "s_n_s_epb_two.index = pd.to_datetime(s_n_s_epb_two.index)\n",
    "zip_1_df.index = pd.to_datetime(zip_1_df.index)\n",
    "zip_2_df.index = pd.to_datetime(zip_2_df.index)\n",
    "zip_1_sns.index =pd.to_datetime(zip_1_sns.index)\n",
    "zip_2_sns.index = pd.to_datetime(zip_2_sns.index)"
   ]
  },
  {
   "cell_type": "code",
   "execution_count": 440,
   "metadata": {
    "collapsed": false
   },
   "outputs": [],
   "source": [
    "def stops_vs_crime(crimes_df,stops_df,crime_window,stops_window):\n",
    "    \n",
    "    \n",
    "    total_crimes_in_window = crimes_df.resample(crime_window,closed='left').agg({'sum_crimes': np.sum, 'avg_crimes': np.mean, 'max_crimes':np.max}).fillna(0)\n",
    "    total_stops_in_window =  stops_df.resample(stops_window,closed='left').agg({'sum_stops': np.sum, 'avg_stops': np.mean,'max_stops':np.max}).fillna(0)\n",
    "    total_crimes_within_stop_window = crimes_df.resample(stops_window,closed='left').agg({'sum_window_crimes': np.sum, 'avg_window_crimes': np.mean,'max_window_crimes':np.max}).fillna(0)\n",
    "    \n",
    "    # for months\n",
    "    \n",
    "\n",
    "    if stops_window=='MS' and crime_window=='MS':\n",
    "        total_crimes_in_window =  total_crimes_in_window[1:]\n",
    "    if stops_window=='MS' and crime_window=='14D':\n",
    "        total_crimes_in_window =total_crimes_in_window[2::2]\n",
    "    if stops_window=='MS' and crime_window=='7D':\n",
    "        total_crimes_in_window =  total_crimes_in_window[4::4]\n",
    "    if stops_window=='MS' and crime_window=='D':\n",
    "        total_crimes_in_window  = total_crimes_in_window[total_crimes_in_window.index.day==1]\n",
    "    \n",
    "    \n",
    "    # for weeks\n",
    "    if stops_window=='14D' and crime_window=='14D':\n",
    "        total_crimes_in_window= total_crimes_in_window[1::]\n",
    "    \n",
    "    if stops_window=='14D' and crime_window=='7D':\n",
    "        total_crimes_in_window= total_crimes_in_window[2::2]\n",
    "    \n",
    "    if stops_window=='14D' and crime_window=='D':\n",
    "        total_crimes_in_window = total_crimes_in_window[::14]\n",
    "    \n",
    "    # for 7D and D\n",
    "    \n",
    "    if stops_window=='7D' and crime_window=='D':\n",
    "        \n",
    "        total_crimes_in_window = total_crimes_in_window[::7]\n",
    "        \n",
    "#     print total_crimes_within_stop_window.head()\n",
    "    total_stops_and_crimes_in_window =pd.concat([total_stops_in_window, total_crimes_within_stop_window], axis=1, join='inner')\n",
    "    \n",
    "    return total_crimes_in_window,total_stops_and_crimes_in_window\n",
    "    \n",
    "    "
   ]
  },
  {
   "cell_type": "code",
   "execution_count": 413,
   "metadata": {
    "collapsed": false
   },
   "outputs": [],
   "source": [
    "crimes_in_window, stops_window = stops_vs_crime(zip_1_df,zip_1_sns,'MS','MS')\n"
   ]
  },
  {
   "cell_type": "code",
   "execution_count": null,
   "metadata": {
    "collapsed": true
   },
   "outputs": [],
   "source": [
    "crimes_in_window."
   ]
  },
  {
   "cell_type": "code",
   "execution_count": 396,
   "metadata": {
    "collapsed": false
   },
   "outputs": [],
   "source": [
    "from matplotlib import pyplot\n",
    "% %matplotlib inline\n",
    "\n",
    "import plotly\n",
    "plotly.tools.set_credentials_file(username='karthikb', api_key='ubvM66f4apRzPA049z05')\n",
    "import plotly.graph_objs as go\n",
    "\n",
    "\n",
    "a_df = zip_1_df.groupby(zip_1_df.index).size().reset_index()\n",
    "\n"
   ]
  },
  {
   "cell_type": "markdown",
   "metadata": {},
   "source": [
    "# Crime trends in 70117"
   ]
  },
  {
   "cell_type": "code",
   "execution_count": 398,
   "metadata": {
    "collapsed": false
   },
   "outputs": [],
   "source": [
    "a_df.index = a_df.TimeCreate\n",
    "a_df.rename(columns={0:\"Crime Count\"},inplace=True)\n",
    "# a_df[(a_df.index.month==5)| ]\n"
   ]
  },
  {
   "cell_type": "code",
   "execution_count": 400,
   "metadata": {
    "collapsed": false
   },
   "outputs": [
    {
     "data": {
      "text/html": [
       "<iframe id=\"igraph\" scrolling=\"no\" style=\"border:none;\" seamless=\"seamless\" src=\"https://plot.ly/~karthikb/108.embed\" height=\"525px\" width=\"100%\"></iframe>"
      ],
      "text/plain": [
       "<plotly.tools.PlotlyDisplay object>"
      ]
     },
     "execution_count": 400,
     "metadata": {},
     "output_type": "execute_result"
    }
   ],
   "source": [
    "data = [go.Scatter(x=a_df.index,y=a_df[\"Crime Count\"])]\n",
    "plotly.plotly.iplot(data)"
   ]
  },
  {
   "cell_type": "markdown",
   "metadata": {},
   "source": [
    "# Impact of Stops on crimes within the its window in 70117"
   ]
  },
  {
   "cell_type": "code",
   "execution_count": 418,
   "metadata": {
    "collapsed": false
   },
   "outputs": [
    {
     "data": {
      "text/html": [
       "<div>\n",
       "<table border=\"1\" class=\"dataframe\">\n",
       "  <thead>\n",
       "    <tr>\n",
       "      <th></th>\n",
       "      <th>max_stops</th>\n",
       "      <th>sum_stops</th>\n",
       "      <th>avg_stops</th>\n",
       "      <th>max_window_crimes</th>\n",
       "      <th>avg_window_crimes</th>\n",
       "      <th>sum_window_crimes</th>\n",
       "    </tr>\n",
       "    <tr>\n",
       "      <th></th>\n",
       "      <th>Count</th>\n",
       "      <th>Count</th>\n",
       "      <th>Count</th>\n",
       "      <th>Count</th>\n",
       "      <th>Count</th>\n",
       "      <th>Count</th>\n",
       "    </tr>\n",
       "    <tr>\n",
       "      <th>Date</th>\n",
       "      <th></th>\n",
       "      <th></th>\n",
       "      <th></th>\n",
       "      <th></th>\n",
       "      <th></th>\n",
       "      <th></th>\n",
       "    </tr>\n",
       "  </thead>\n",
       "  <tbody>\n",
       "    <tr>\n",
       "      <th>2014-01-01</th>\n",
       "      <td>30</td>\n",
       "      <td>420</td>\n",
       "      <td>13.548387</td>\n",
       "      <td>1</td>\n",
       "      <td>1</td>\n",
       "      <td>23</td>\n",
       "    </tr>\n",
       "    <tr>\n",
       "      <th>2014-02-01</th>\n",
       "      <td>22</td>\n",
       "      <td>324</td>\n",
       "      <td>11.571429</td>\n",
       "      <td>1</td>\n",
       "      <td>1</td>\n",
       "      <td>20</td>\n",
       "    </tr>\n",
       "    <tr>\n",
       "      <th>2014-03-01</th>\n",
       "      <td>18</td>\n",
       "      <td>276</td>\n",
       "      <td>8.903226</td>\n",
       "      <td>1</td>\n",
       "      <td>1</td>\n",
       "      <td>28</td>\n",
       "    </tr>\n",
       "    <tr>\n",
       "      <th>2014-04-01</th>\n",
       "      <td>22</td>\n",
       "      <td>210</td>\n",
       "      <td>7.000000</td>\n",
       "      <td>1</td>\n",
       "      <td>1</td>\n",
       "      <td>21</td>\n",
       "    </tr>\n",
       "    <tr>\n",
       "      <th>2014-05-01</th>\n",
       "      <td>20</td>\n",
       "      <td>233</td>\n",
       "      <td>7.516129</td>\n",
       "      <td>1</td>\n",
       "      <td>1</td>\n",
       "      <td>30</td>\n",
       "    </tr>\n",
       "  </tbody>\n",
       "</table>\n",
       "</div>"
      ],
      "text/plain": [
       "           max_stops sum_stops  avg_stops max_window_crimes avg_window_crimes  \\\n",
       "               Count     Count      Count             Count             Count   \n",
       "Date                                                                            \n",
       "2014-01-01        30       420  13.548387                 1                 1   \n",
       "2014-02-01        22       324  11.571429                 1                 1   \n",
       "2014-03-01        18       276   8.903226                 1                 1   \n",
       "2014-04-01        22       210   7.000000                 1                 1   \n",
       "2014-05-01        20       233   7.516129                 1                 1   \n",
       "\n",
       "           sum_window_crimes  \n",
       "                       Count  \n",
       "Date                          \n",
       "2014-01-01                23  \n",
       "2014-02-01                20  \n",
       "2014-03-01                28  \n",
       "2014-04-01                21  \n",
       "2014-05-01                30  "
      ]
     },
     "execution_count": 418,
     "metadata": {},
     "output_type": "execute_result"
    }
   ],
   "source": [
    "stops_window.head()\n",
    "# stops_per_crime_per_month =  stops_window.ix[:,'sum_stops']/stops_window.ix[:,'sum_window_crimes']\n",
    "# stops_window.ix[:,stops_window['sum_stops']].plot(secondary_y=True,style='g')"
   ]
  },
  {
   "cell_type": "code",
   "execution_count": 426,
   "metadata": {
    "collapsed": false
   },
   "outputs": [],
   "source": [
    "# Learn about API authentication here: https://plot.ly/python/getting-started\n",
    "# Find your api_key here: https://plot.ly/settings/api\n",
    "def window_graph(stops_df):\n",
    "    \n",
    "    trace1 = go.Scatter(\n",
    "        x=stops_df.index,\n",
    "        y=list(stops_df.ix[:,'sum_stops'].Count),\n",
    "        name='Stops in a month window'\n",
    "    )\n",
    "    trace2 = go.Scatter(\n",
    "        x=stops_df.index,\n",
    "        y=list(stops_df.ix[:,'sum_window_crimes'].Count),\n",
    "        name='Crimes in a month window',\n",
    "        yaxis='y2'\n",
    "    )\n",
    "    data = [trace1, trace2]\n",
    "    layout = go.Layout(\n",
    "        title='Stops vs Crimes',\n",
    "        yaxis=dict(\n",
    "            title='Number of Stops'\n",
    "        ),\n",
    "        yaxis2=dict(\n",
    "            title='Number of crimes',\n",
    "            titlefont=dict(\n",
    "                color='rgb(148, 103, 189)'\n",
    "            ),\n",
    "            tickfont=dict(\n",
    "                color='rgb(148, 103, 189)'\n",
    "            ),\n",
    "            overlaying='y',\n",
    "            side='right'\n",
    "        )\n",
    "    )\n",
    "    fig = go.Figure(data=data, layout=layout)\n",
    "    return fig\n"
   ]
  },
  {
   "cell_type": "code",
   "execution_count": null,
   "metadata": {
    "collapsed": true
   },
   "outputs": [],
   "source": []
  },
  {
   "cell_type": "code",
   "execution_count": 427,
   "metadata": {
    "collapsed": false
   },
   "outputs": [
    {
     "data": {
      "text/html": [
       "<iframe id=\"igraph\" scrolling=\"no\" style=\"border:none;\" seamless=\"seamless\" src=\"https://plot.ly/~karthikb/124.embed\" height=\"525px\" width=\"100%\"></iframe>"
      ],
      "text/plain": [
       "<plotly.tools.PlotlyDisplay object>"
      ]
     },
     "execution_count": 427,
     "metadata": {},
     "output_type": "execute_result"
    }
   ],
   "source": [
    "fig  = window_graph(stops_df=stops_window)\n",
    "plotly.plotly.iplot(fig)"
   ]
  },
  {
   "cell_type": "markdown",
   "metadata": {},
   "source": [
    "# Impact of Stops on Future crime.\n",
    "\n",
    "A correlation graph between the crimes happened in the current window month and the previous window month "
   ]
  },
  {
   "cell_type": "code",
   "execution_count": 433,
   "metadata": {
    "collapsed": true
   },
   "outputs": [],
   "source": [
    "crime_month_window, stops_month_window = stops_vs_crime(zip_1_df,zip_1_sns,'MS','MS')\n",
    "crime_two_week_window, stops_month_window = stops_vs_crime(zip_1_df,zip_1_sns,'14D','MS')\n",
    "crime_week_window, stops_month_window = stops_vs_crime(zip_1_df,zip_1_sns,'7D','MS')\n",
    "crime_day_window,stops_month_window = stops_vs_crime(zip_1_df,zip_1_sns,'D','MS')"
   ]
  },
  {
   "cell_type": "code",
   "execution_count": 437,
   "metadata": {
    "collapsed": true
   },
   "outputs": [],
   "source": [
    "avg_stops_window_crimes =  int(np.average(stops_month_window['sum_window_crimes']))\n",
    "avg_monthly_crimes = int(np.average(crime_month_window['sum_crimes']))\n",
    "avg_bi_weekly_crimes = int(np.average(crime_two_week_window['sum_crimes']))\n",
    "avg_weekly_crimes = int(np.average(crime_week_window['sum_crimes']))\n",
    "avg_daily_crimes = int(np.average(crime_day_window['sum_crimes']))"
   ]
  },
  {
   "cell_type": "code",
   "execution_count": 439,
   "metadata": {
    "collapsed": false
   },
   "outputs": [
    {
     "data": {
      "text/html": [
       "<iframe id=\"igraph\" scrolling=\"no\" style=\"border:none;\" seamless=\"seamless\" src=\"https://plot.ly/~karthikb/130.embed\" height=\"525px\" width=\"100%\"></iframe>"
      ],
      "text/plain": [
       "<plotly.tools.PlotlyDisplay object>"
      ]
     },
     "execution_count": 439,
     "metadata": {},
     "output_type": "execute_result"
    }
   ],
   "source": [
    "trace1 = go.Bar(\n",
    "    x=['M vs M', 'M vs 2W', 'M vs W','M vs D'],\n",
    "    y=[avg_stops_window_crimes]*4,\n",
    "    name='Stops and Search Period',\n",
    "    error_y=dict(\n",
    "        type='data',\n",
    "        array=[1, 0.5, 1.5],\n",
    "        visible=True\n",
    "    )\n",
    ")\n",
    "\n",
    "trace2 = go.Bar(\n",
    "    x=['M vs M', 'M vs 2W', 'M vs W','M vs D'],\n",
    "    y=[avg_monthly_crimes,avg_bi_weekly_crimes,avg_weekly_crimes,avg_daily_crimes],\n",
    "    name='After Stops and Search',\n",
    "    error_y=dict(\n",
    "        type='data',\n",
    "        array=[0.5, 1, 2],\n",
    "        visible=True\n",
    "    )\n",
    ")\n",
    "\n",
    "data = [trace1, trace2]\n",
    "layout = go.Layout(\n",
    "    barmode='group'\n",
    ")\n",
    "fig = go.Figure(data=data, layout=layout)\n",
    "plotly.plotly.iplot(fig, filename='error-bar-bar')\n"
   ]
  },
  {
   "cell_type": "code",
   "execution_count": 441,
   "metadata": {
    "collapsed": true
   },
   "outputs": [],
   "source": [
    "crime_tweek_tweek_window, stops_two_week_window = stops_vs_crime(zip_1_df,zip_1_sns,'14D','14D')\n",
    "crime_week_tweek_window, stops_two_week_window = stops_vs_crime(zip_1_df,zip_1_sns,'7D','14D')\n",
    "crime_day_tweek_window, stops_two_week_window = stops_vs_crime(zip_1_df,zip_1_sns,'D','14D')"
   ]
  },
  {
   "cell_type": "code",
   "execution_count": 442,
   "metadata": {
    "collapsed": true
   },
   "outputs": [],
   "source": [
    "avg_tweek_stops_window_crimes =  int(np.average(stops_two_week_window['sum_window_crimes']))\n",
    "avg_tweek_tweek_crimes = int(np.average(crime_tweek_tweek_window['sum_crimes']))\n",
    "avg_week_tweek_crimes = int(np.average(crime_week_tweek_window['sum_crimes']))\n",
    "avg_datily_tweek_crimes = int(np.average(crime_day_tweek_window['sum_crimes']))\n"
   ]
  },
  {
   "cell_type": "code",
   "execution_count": 443,
   "metadata": {
    "collapsed": false,
    "scrolled": false
   },
   "outputs": [
    {
     "data": {
      "text/html": [
       "<iframe id=\"igraph\" scrolling=\"no\" style=\"border:none;\" seamless=\"seamless\" src=\"https://plot.ly/~karthikb/130.embed\" height=\"525px\" width=\"100%\"></iframe>"
      ],
      "text/plain": [
       "<plotly.tools.PlotlyDisplay object>"
      ]
     },
     "execution_count": 443,
     "metadata": {},
     "output_type": "execute_result"
    }
   ],
   "source": [
    "trace1 = go.Bar(\n",
    "    x=['2W vs 2W', '2W vs W', '2W vs D'],\n",
    "    y=[avg_tweek_stops_window_crimes]*3,\n",
    "    name='Stops and Search Period',\n",
    "    error_y=dict(\n",
    "        type='data',\n",
    "        array=[1, 0.5, 1.5],\n",
    "        visible=True\n",
    "    )\n",
    ")\n",
    "\n",
    "trace2 = go.Bar(\n",
    "    x=['2W vs 2W', '2W vs W', '2W vs D'],\n",
    "    y=[avg_tweek_tweek_crimes,avg_week_tweek_crimes,avg_datily_tweek_crimes],\n",
    "    name='After Stops and Search',\n",
    "    error_y=dict(\n",
    "        type='data',\n",
    "        array=[0.5, 1, 2],\n",
    "        visible=True\n",
    "    )\n",
    ")\n",
    "\n",
    "data = [trace1, trace2]\n",
    "layout = go.Layout(\n",
    "    barmode='group'\n",
    ")\n",
    "fig = go.Figure(data=data, layout=layout)\n",
    "plotly.plotly.iplot(fig, filename='error-bar-bar')\n"
   ]
  },
  {
   "cell_type": "code",
   "execution_count": 448,
   "metadata": {
    "collapsed": false
   },
   "outputs": [
    {
     "data": {
      "text/html": [
       "<iframe id=\"igraph\" scrolling=\"no\" style=\"border:none;\" seamless=\"seamless\" src=\"https://plot.ly/~karthikb/132.embed\" height=\"525px\" width=\"100%\"></iframe>"
      ],
      "text/plain": [
       "<plotly.tools.PlotlyDisplay object>"
      ]
     },
     "execution_count": 448,
     "metadata": {},
     "output_type": "execute_result"
    }
   ],
   "source": [
    "trace1 = go.Scatter(\n",
    "        x= stops_two_week_window.index,\n",
    "        y=list(stops_two_week_window.ix[:,'sum_stops'].Count),\n",
    "        name='Stops in a 2 week window'\n",
    "    )\n",
    "trace2 = go.Scatter(\n",
    "        x=stops_two_week_window.index,\n",
    "        y=list(stops_two_week_window.ix[:,'sum_window_crimes'].Count),\n",
    "        name='Crimes in a 2 week window',\n",
    "        yaxis='y2'\n",
    "    )\n",
    "data = [trace1, trace2]\n",
    "layout = go.Layout(\n",
    "        title='Stops vs Crimes 2 Weeks',\n",
    "        yaxis=dict(\n",
    "        title='Number of Stops'\n",
    "        ),\n",
    "        yaxis2=dict(\n",
    "        title='Number of crimes',\n",
    "        titlefont=dict(\n",
    "        color='rgb(148, 103, 189)'\n",
    "        ),\n",
    "        tickfont=dict(\n",
    "        color='rgb(148, 103, 189)'\n",
    "        ),\n",
    "        overlaying='y',\n",
    "        side='right'\n",
    "        )\n",
    "    )\n",
    "fig = go.Figure(data=data, layout=layout)\n",
    "plotly.plotly.iplot(fig)"
   ]
  },
  {
   "cell_type": "code",
   "execution_count": 375,
   "metadata": {
    "collapsed": false
   },
   "outputs": [],
   "source": [
    "m_s_df = stops_per_crime_per_month.Count.groupby(stops_per_crime_per_month.index.month).mean().reset_index()\n",
    "m_s_df['month'] = ['Jan','Feb','Mar','Apr','May','Jun','July','Aug','Sep','Oct','Nov','Dec']\n",
    "m_s_df.index = m_s_df.month\n",
    "del m_s_df['month']"
   ]
  },
  {
   "cell_type": "code",
   "execution_count": 429,
   "metadata": {
    "collapsed": false
   },
   "outputs": [
    {
     "data": {
      "text/html": [
       "<iframe id=\"igraph\" scrolling=\"no\" style=\"border:none;\" seamless=\"seamless\" src=\"https://plot.ly/~karthikb/128.embed\" height=\"525px\" width=\"100%\"></iframe>"
      ],
      "text/plain": [
       "<plotly.tools.PlotlyDisplay object>"
      ]
     },
     "execution_count": 429,
     "metadata": {},
     "output_type": "execute_result"
    }
   ],
   "source": [
    "# m_s_df.ix[:,m_s_df.Count].plot()\n",
    "\n",
    "\n",
    "\n",
    "\n",
    "\n",
    "data = [go.Bar(\n",
    "            y = list(m_s_df.Count),\n",
    "            x = list(m_s_df.index),\n",
    "            name='Stops in a month window'\n",
    "    )]\n",
    "\n",
    "layout = go.Layout(\n",
    "        title='Average Number of Stops per crime',\n",
    "        yaxis=dict(\n",
    "            title='Number of Stops'\n",
    "        )\n",
    "    )\n",
    "\n",
    "plotly.plotly.iplot(data,layout=layout)"
   ]
  },
  {
   "cell_type": "markdown",
   "metadata": {},
   "source": [
    "# 70119 "
   ]
  },
  {
   "cell_type": "code",
   "execution_count": 449,
   "metadata": {
    "collapsed": true
   },
   "outputs": [],
   "source": [
    "b_df.index = b_df.TimeCreate\n",
    "b_df.rename(columns={0:\"Crime Count in 70119\"},inplace=True)\n",
    "# a_df[(a_df.index.month==5)| ]\n"
   ]
  },
  {
   "cell_type": "code",
   "execution_count": 450,
   "metadata": {
    "collapsed": false
   },
   "outputs": [
    {
     "data": {
      "text/html": [
       "<iframe id=\"igraph\" scrolling=\"no\" style=\"border:none;\" seamless=\"seamless\" src=\"https://plot.ly/~karthikb/134.embed\" height=\"525px\" width=\"100%\"></iframe>"
      ],
      "text/plain": [
       "<plotly.tools.PlotlyDisplay object>"
      ]
     },
     "execution_count": 450,
     "metadata": {},
     "output_type": "execute_result"
    }
   ],
   "source": [
    "data = [go.Scatter(x=b_df.index,y=b_df[\"Crime Count in 70119\"])]\n",
    "plotly.plotly.iplot(data)"
   ]
  },
  {
   "cell_type": "code",
   "execution_count": 451,
   "metadata": {
    "collapsed": true
   },
   "outputs": [],
   "source": [
    "crime_month_window_, stops_month_window_ = stops_vs_crime(zip_2_df,zip_2_sns,'MS','MS')\n",
    "crime_two_week_window_, stops_month_window_ = stops_vs_crime(zip_2_df,zip_2_sns,'14D','MS')\n",
    "crime_week_window_, stops_month_window_ = stops_vs_crime(zip_2_df,zip_2_sns,'7D','MS')\n",
    "crime_day_window_,stops_month_window_ = stops_vs_crime(zip_2_df,zip_2_sns,'D','MS')"
   ]
  },
  {
   "cell_type": "code",
   "execution_count": 452,
   "metadata": {
    "collapsed": true
   },
   "outputs": [],
   "source": [
    "avg_stops_window_crimes_ =  int(np.average(stops_month_window_['sum_window_crimes']))\n",
    "avg_monthly_crimes_ = int(np.average(crime_month_window_['sum_crimes']))\n",
    "avg_bi_weekly_crimes_ = int(np.average(crime_two_week_window_['sum_crimes']))\n",
    "avg_weekly_crimes_ = int(np.average(crime_week_window_['sum_crimes']))\n",
    "avg_daily_crimes_ = int(np.average(crime_day_window_['sum_crimes']))"
   ]
  },
  {
   "cell_type": "code",
   "execution_count": 453,
   "metadata": {
    "collapsed": false
   },
   "outputs": [
    {
     "data": {
      "text/html": [
       "<iframe id=\"igraph\" scrolling=\"no\" style=\"border:none;\" seamless=\"seamless\" src=\"https://plot.ly/~karthikb/136.embed\" height=\"525px\" width=\"100%\"></iframe>"
      ],
      "text/plain": [
       "<plotly.tools.PlotlyDisplay object>"
      ]
     },
     "execution_count": 453,
     "metadata": {},
     "output_type": "execute_result"
    }
   ],
   "source": [
    "trace1 = go.Scatter(\n",
    "        x=stops_month_window_.index,\n",
    "        y=list(stops_month_window_.ix[:,'sum_stops'].Count),\n",
    "        name='Stops in a month window'\n",
    "    )\n",
    "trace2 = go.Scatter(\n",
    "    x=stops_month_window_.index,\n",
    "    y=list(stops_month_window_.ix[:,'sum_window_crimes'].Count),\n",
    "    name='Crimes in a month window',\n",
    "    yaxis='y2'\n",
    ")\n",
    "data = [trace1, trace2]\n",
    "layout = go.Layout(\n",
    "    title='Stops vs Crimes',\n",
    "    yaxis=dict(\n",
    "    title='Number of Stops'\n",
    "    ),\n",
    "yaxis2=dict(\n",
    "    title='Number of crimes',\n",
    "    titlefont=dict(\n",
    "        color='rgb(148, 103, 189)'\n",
    "        ),\n",
    "    tickfont=dict(\n",
    "    color='rgb(148, 103, 189)'\n",
    "    ),\n",
    "    overlaying='y',\n",
    "    side='right'\n",
    "    )\n",
    ")\n",
    "fig = go.Figure(data=data, layout=layout)\n",
    "plotly.plotly.iplot(fig)"
   ]
  },
  {
   "cell_type": "code",
   "execution_count": 454,
   "metadata": {
    "collapsed": false
   },
   "outputs": [
    {
     "data": {
      "text/html": [
       "<iframe id=\"igraph\" scrolling=\"no\" style=\"border:none;\" seamless=\"seamless\" src=\"https://plot.ly/~karthikb/130.embed\" height=\"525px\" width=\"100%\"></iframe>"
      ],
      "text/plain": [
       "<plotly.tools.PlotlyDisplay object>"
      ]
     },
     "execution_count": 454,
     "metadata": {},
     "output_type": "execute_result"
    }
   ],
   "source": [
    "trace1 = go.Bar(\n",
    "    x=['M vs M', 'M vs 2W', 'M vs W','M vs D'],\n",
    "    y=[avg_stops_window_crimes_]*4,\n",
    "    name='Stops and Search Period',\n",
    "    error_y=dict(\n",
    "        type='data',\n",
    "        array=[1, 0.5, 1.5],\n",
    "        visible=True\n",
    "    )\n",
    ")\n",
    "\n",
    "trace2 = go.Bar(\n",
    "    x=['M vs M', 'M vs 2W', 'M vs W','M vs D'],\n",
    "    y=[avg_monthly_crimes_,avg_bi_weekly_crimes_,avg_weekly_crimes_,avg_daily_crimes_],\n",
    "    name='After Stops and Search',\n",
    "    error_y=dict(\n",
    "        type='data',\n",
    "        array=[0.5, 1, 2],\n",
    "        visible=True\n",
    "    )\n",
    ")\n",
    "\n",
    "data = [trace1, trace2]\n",
    "layout = go.Layout(\n",
    "    barmode='group'\n",
    ")\n",
    "fig = go.Figure(data=data, layout=layout)\n",
    "plotly.plotly.iplot(fig, filename='error-bar-bar')"
   ]
  },
  {
   "cell_type": "code",
   "execution_count": 455,
   "metadata": {
    "collapsed": true
   },
   "outputs": [],
   "source": [
    "crime_tweek_tweek_window_, stops_two_week_window_ = stops_vs_crime(zip_2_df,zip_2_sns,'14D','14D')\n",
    "crime_week_tweek_window_, stops_two_week_window_ = stops_vs_crime(zip_2_df,zip_2_sns,'7D','14D')\n",
    "crime_day_tweek_window_, stops_two_week_window_ = stops_vs_crime(zip_2_df,zip_2_sns,'D','14D')"
   ]
  },
  {
   "cell_type": "code",
   "execution_count": 456,
   "metadata": {
    "collapsed": true
   },
   "outputs": [],
   "source": [
    "avg_tweek_stops_window_crimes_ =  int(np.average(stops_two_week_window_['sum_window_crimes']))\n",
    "avg_tweek_tweek_crimes_ = int(np.average(crime_tweek_tweek_window_['sum_crimes']))\n",
    "avg_week_tweek_crimes_ = int(np.average(crime_week_tweek_window_['sum_crimes']))\n",
    "avg_datily_tweek_crimes_ = int(np.average(crime_day_tweek_window_['sum_crimes']))"
   ]
  },
  {
   "cell_type": "code",
   "execution_count": 457,
   "metadata": {
    "collapsed": false
   },
   "outputs": [
    {
     "data": {
      "text/html": [
       "<iframe id=\"igraph\" scrolling=\"no\" style=\"border:none;\" seamless=\"seamless\" src=\"https://plot.ly/~karthikb/130.embed\" height=\"525px\" width=\"100%\"></iframe>"
      ],
      "text/plain": [
       "<plotly.tools.PlotlyDisplay object>"
      ]
     },
     "execution_count": 457,
     "metadata": {},
     "output_type": "execute_result"
    }
   ],
   "source": [
    "trace1 = go.Bar(\n",
    "    x=['2W vs 2W', '2W vs W', '2W vs D'],\n",
    "    y=[avg_tweek_stops_window_crimes_]*3,\n",
    "    name='Stops and Search Period',\n",
    "    error_y=dict(\n",
    "        type='data',\n",
    "        array=[1, 0.5, 1.5],\n",
    "        visible=True\n",
    "    )\n",
    ")\n",
    "\n",
    "trace2 = go.Bar(\n",
    "    x=['2W vs 2W', '2W vs W', '2W vs D'],\n",
    "    y=[avg_tweek_tweek_crimes_,avg_week_tweek_crimes_,avg_datily_tweek_crimes_],\n",
    "    name='After Stops and Search',\n",
    "    error_y=dict(\n",
    "        type='data',\n",
    "        array=[0.5, 1, 2],\n",
    "        visible=True\n",
    "    )\n",
    ")\n",
    "\n",
    "data = [trace1, trace2]\n",
    "layout = go.Layout(\n",
    "    barmode='group'\n",
    ")\n",
    "fig = go.Figure(data=data, layout=layout)\n",
    "plotly.plotly.iplot(fig, filename='error-bar-bar')"
   ]
  },
  {
   "cell_type": "code",
   "execution_count": 459,
   "metadata": {
    "collapsed": false
   },
   "outputs": [
    {
     "data": {
      "text/html": [
       "<iframe id=\"igraph\" scrolling=\"no\" style=\"border:none;\" seamless=\"seamless\" src=\"https://plot.ly/~karthikb/138.embed\" height=\"525px\" width=\"100%\"></iframe>"
      ],
      "text/plain": [
       "<plotly.tools.PlotlyDisplay object>"
      ]
     },
     "execution_count": 459,
     "metadata": {},
     "output_type": "execute_result"
    }
   ],
   "source": [
    "trace1 = go.Scatter(\n",
    "        x= stops_two_week_window_.index,\n",
    "        y=list(stops_two_week_window_.ix[:,'sum_stops'].Count),\n",
    "        name='Stops in a 2 week window'\n",
    "    )\n",
    "trace2 = go.Scatter(\n",
    "        x=stops_two_week_window_.index,\n",
    "        y=list(stops_two_week_window_.ix[:,'sum_window_crimes'].Count),\n",
    "        name='Crimes in a 2 week window',\n",
    "        yaxis='y2'\n",
    "    )\n",
    "data = [trace1, trace2]\n",
    "layout = go.Layout(\n",
    "        title='Stops vs Crimes 2 Weeks',\n",
    "        yaxis=dict(\n",
    "        title='Number of Stops'\n",
    "        ),\n",
    "        yaxis2=dict(\n",
    "        title='Number of crimes',\n",
    "        titlefont=dict(\n",
    "        color='rgb(148, 103, 189)'\n",
    "        ),\n",
    "        tickfont=dict(\n",
    "        color='rgb(148, 103, 189)'\n",
    "        ),\n",
    "        overlaying='y',\n",
    "        side='right'\n",
    "        )\n",
    "    )\n",
    "fig = go.Figure(data=data, layout=layout)\n",
    "plotly.plotly.iplot(fig)"
   ]
  },
  {
   "cell_type": "code",
   "execution_count": 467,
   "metadata": {
    "collapsed": false
   },
   "outputs": [],
   "source": [
    "stops_per_crime_per_month_ = stops_month_window_[\"sum_stops\"].Count/stops_month_window_[\"sum_window_crimes\"].Count"
   ]
  },
  {
   "cell_type": "code",
   "execution_count": 474,
   "metadata": {
    "collapsed": false
   },
   "outputs": [],
   "source": [
    "\n",
    "m_s_df_ = stops_per_crime_per_month_.groupby(stops_per_crime_per_month_.index.month).mean().reset_index()\n",
    "m_s_df_['month'] = ['Jan','Feb','Mar','Apr','May','Jun','July','Aug','Sep','Oct','Nov','Dec']\n",
    "m_s_df_.index = m_s_df_.month\n",
    "del m_s_df_['month']"
   ]
  },
  {
   "cell_type": "code",
   "execution_count": 476,
   "metadata": {
    "collapsed": false
   },
   "outputs": [
    {
     "data": {
      "text/html": [
       "<iframe id=\"igraph\" scrolling=\"no\" style=\"border:none;\" seamless=\"seamless\" src=\"https://plot.ly/~karthikb/140.embed\" height=\"525px\" width=\"100%\"></iframe>"
      ],
      "text/plain": [
       "<plotly.tools.PlotlyDisplay object>"
      ]
     },
     "execution_count": 476,
     "metadata": {},
     "output_type": "execute_result"
    }
   ],
   "source": [
    "data = [go.Bar(\n",
    "            y = list(m_s_df_.Count),\n",
    "            x = list(m_s_df_.index),\n",
    "            name='Stops in a month window'\n",
    "    )]\n",
    "\n",
    "layout = go.Layout(\n",
    "        title='Average Number of Stops per crime',\n",
    "        yaxis=dict(\n",
    "            title='Number of Stops'\n",
    "        )\n",
    "    )\n",
    "\n",
    "plotly.plotly.iplot(data,layout=layout)"
   ]
  },
  {
   "cell_type": "markdown",
   "metadata": {},
   "source": [
    "# Get Beat for Stops and Search"
   ]
  },
  {
   "cell_type": "markdown",
   "metadata": {
    "collapsed": true
   },
   "source": [
    "# Merging with Stop and Search"
   ]
  },
  {
   "cell_type": "code",
   "execution_count": null,
   "metadata": {
    "collapsed": true
   },
   "outputs": [],
   "source": [
    "def countCrimeStopInTimeWindow(crimeData, stopData, timeFrame, timeWindow):\n",
    "    # timeFrame - timeWindow\n",
    "    # month - month / 2 weeks / week\n",
    "    # 2 weeks - 2 weeks / week / day\n",
    "    # week - week / day\n",
    "    stopDate = []\n",
    "    crimeSum = []\n",
    "    stopSum = []\n",
    "    \n",
    "    before = []\n",
    "    during = []\n",
    "    after = []\n",
    "    \n",
    "    if timeFrame == \"month\":\n",
    "        if timeWindow == \"month\":\n",
    "            window = 30\n",
    "        elif timeWindow == \"2 weeks\":\n",
    "            window = 15\n",
    "        elif timeWindow == \"week\":\n",
    "            window = 7\n",
    "        for year in range(2014, 2017):\n",
    "            for month in range(1, 13):\n",
    "                stopStart = stopData.index.searchsorted(dt.datetime(year, month, 1))\n",
    "                \n",
    "                crimeStart = stopStart\n",
    "                \n",
    "                if month in [1, 3, 5, 7, 8, 10, 12]:\n",
    "                    stopEnd = stopData.index.searchsorted(dt.datetime(year, month, 31))\n",
    "                elif month in [4, 6, 9, 11]:\n",
    "                    stopEnd = stopData.index.searchsorted(dt.datetime(year, month, 30))\n",
    "                else:\n",
    "                    stopEnd = stopData.index.searchsorted(dt.datetime(year, month, 28))\n",
    "                crimeEnd = stopEnd + window\n",
    "                stopDate.append(str(year) + \"-\" + str(month))\n",
    "                stopSum.append(int(sum(stopData.ix[stopStart:stopEnd].values)))\n",
    "                crimeSum.append(int(sum(crimeData.ix[crimeStart:crimeEnd].values)))\n",
    "                \n",
    "    \n",
    "    if timeFrame == \"2 weeks\":\n",
    "        if timeWindow == \"2 weeks\":\n",
    "            window = 15\n",
    "        elif timeWindow == \"week\":\n",
    "            window = 7\n",
    "        elif timeWindow == \"day\":\n",
    "            window = 1\n",
    "        for year in range(2014, 2017):\n",
    "            for month in range(1, 13):\n",
    "                for half in [1, 2]:\n",
    "                    stopStart = stopData.index.searchsorted(dt.datetime(year, month, 1 + 15 * (half - 1)))\n",
    "                    crimeStart = stopStart\n",
    "                    if half == 1:\n",
    "                        stopEnd = stopData.index.searchsorted(dt.datetime(year, month, 15))\n",
    "                    else:\n",
    "                        if month in [1, 3, 5, 7, 8, 10, 12]:\n",
    "                            stopEnd = stopData.index.searchsorted(dt.datetime(year, month, 31))\n",
    "                        elif month in [4, 6, 9, 11]:\n",
    "                            stopEnd = stopData.index.searchsorted(dt.datetime(year, month, 30))\n",
    "                        else:\n",
    "                            stopEnd = stopData.index.searchsorted(dt.datetime(year, month, 28))\n",
    "                    crimeEnd = stopEnd + window\n",
    "                    stopDate.append(str(year) + \"-\" + str(month) + \"-\" + str(half))\n",
    "                    stopSum.append(int(sum(stopData.ix[stopStart:stopEnd].values)))\n",
    "                    crimeSum.append(int(sum(crimeData.ix[crimeStart:crimeEnd].values)))\n",
    "                    \n",
    "                    \n",
    "    if timeFrame == \"week\":\n",
    "        numWeek = int(len(crimeData) / 7)\n",
    "        if timeWindow == \"week\":\n",
    "            window = 7\n",
    "        if timeWindow == \"day\":\n",
    "            window = 1\n",
    "        for year in range(2012, 2017):\n",
    "            for week in range(numWeek):\n",
    "                stopStart = stopData.index.searchsorted(dt.datetime(2012, 1, 2)) + 7 * (week - 1)\n",
    "                crimeStart = stopStart\n",
    "                stopEnd = stopStart + 7\n",
    "                crimeEnd = stopEnd + window\n",
    "                stopDate.append(str(year) + \"-\" + str(week))\n",
    "                stopSum.append(int(sum(stopData.ix[stopStart:stopEnd].values)))\n",
    "                crimeSum.append(int(sum(crimeData.ix[crimeStart:crimeEnd].values)))\n",
    "                               \n",
    "    return crimeSum, stopSum"
   ]
  },
  {
   "cell_type": "code",
   "execution_count": null,
   "metadata": {
    "collapsed": false
   },
   "outputs": [],
   "source": [
    "# fill seaborn scatter here\n",
    "a,b = countCrimeStopInTimeWindow(e_p_b_one,s_n_s_epb_one,\"month\",\"month\")\n"
   ]
  },
  {
   "cell_type": "code",
   "execution_count": null,
   "metadata": {
    "collapsed": false
   },
   "outputs": [],
   "source": [
    "def get_all_correlations(crimes_count,stops_count,beat):\n",
    "    \n",
    "    month_month = countCrimeStopInTimeWindow(crimes_count, stops_count, \"month\", \"month\")\n",
    "    month_twoWeeks = countCrimeStopInTimeWindow(crimes_count, stops_count, \"month\", \"2 weeks\")\n",
    "    month_week = countCrimeStopInTimeWindow(crimes_count, stops_count, \"month\", \"week\")\n",
    "    twoWeeks_twoWeeks = countCrimeStopInTimeWindow(crimes_count, stops_count, \"2 weeks\", \"2 weeks\")\n",
    "    twoWeeks_week = countCrimeStopInTimeWindow(crimes_count, stops_count, \"2 weeks\", \"week\")\n",
    "    twoWeeks_day = countCrimeStopInTimeWindow(crimes_count, stops_count, \"2 weeks\", \"week\")\n",
    "    week_week = countCrimeStopInTimeWindow(crimes_count, stops_count, \"week\", \"week\")\n",
    "    week_day = countCrimeStopInTimeWindow(crimes_count, stops_count, \"week\", \"day\")\n",
    "    \n",
    "    \n",
    "    \n",
    "    \n",
    "#     fig['layout'].update(height=600, width=600,\n",
    "#                      title='Calls For Service')\n",
    "    \n",
    "#     py.iplot(fig, filename='Calls For Service')\n",
    "# #     data = [trace1,trace2, trace3,trace4,trace5,trace6,trace7,trace8]\n",
    "    \n",
    "    \n",
    "    # the plotting goes here\n",
    "    \n",
    "    mm_cor = np.corrcoef(month_month[0], month_month[1])[0, 1]\n",
    "    mtw_cor = np.corrcoef(month_twoWeeks[0], month_twoWeeks[1])[0, 1]\n",
    "    mw_cor = np.corrcoef(month_week[0], month_week[1])[0, 1]\n",
    "    twtw_cor = np.corrcoef(twoWeeks_twoWeeks[0], twoWeeks_twoWeeks[1])[0, 1]\n",
    "    tww_cor = np.corrcoef(twoWeeks_week[0], twoWeeks_week[1])[0, 1]\n",
    "    twd_cor = np.corrcoef(twoWeeks_day[0], twoWeeks_day[1])[0, 1]\n",
    "    ww_cor = np.corrcoef(week_week[0], week_week[1])[0, 1]\n",
    "    wwd_cor = np.corrcoef(week_day[0], week_day[1])[0, 1]\n",
    "    \n",
    "    dict =  {\"Beat\":beat,\"mm_cor\":mm_cor, \"mtw_cor\":mtw_cor,\"mw_cor\":mw_cor,\"twtw_cor\":twtw_cor,\"tww_cor\":tww_cor,\"twd_cor\":twd_cor,\"ww_cor\":ww_cor,\"wwd_cor\":wwd_cor}\n",
    "    return pd.DataFrame([dict],columns=dict.keys())"
   ]
  },
  {
   "cell_type": "code",
   "execution_count": null,
   "metadata": {
    "collapsed": false
   },
   "outputs": [],
   "source": [
    "# print(mm_cor, mtw_cor, mw_cor, twtw_cor, tww_cor, twd_cor, ww_cor, wwd_cor)"
   ]
  },
  {
   "cell_type": "code",
   "execution_count": null,
   "metadata": {
    "collapsed": true
   },
   "outputs": [],
   "source": [
    "def correlation_for_each_zip(crime_count,stop_count):\n",
    "    unique_Beats = crime_count['Beat'].unique()\n",
    "    final_df = pd.DataFrame()\n",
    "    for i in unique_Beats:\n",
    "        Beat_i_crimes = crime_sum[crime_sum.Beat==i]\n",
    "        Beat_i_crimes = crime_sum[['Date','count']]\n",
    "        # gives some number of rows with 2 columns\n",
    "        Beat_i_crimes = Beat_i_crimes.set_index(['Date'])\n",
    "        Beat_i_stops = stops_sum[stops_sum.Beat==i]\n",
    "        Beat_i_stops = Beat_i_stops[['Date','count']]\n",
    "        Beat_i_stops = Beat_i_stops.set_index(['Date'])\n",
    "        # gives some number of rows with 2 columns\n",
    "        idf =  get_all_correlations(Beat_i_crimes,Beat_i_stops,i)\n",
    "        final_df = final_df.append(idf,ignore_index=True)\n",
    "    \n",
    "    \n",
    "    print len(final_df)\n",
    "        \n",
    "        \n",
    "        \n",
    "        "
   ]
  },
  {
   "cell_type": "code",
   "execution_count": null,
   "metadata": {
    "collapsed": true
   },
   "outputs": [],
   "source": []
  },
  {
   "cell_type": "code",
   "execution_count": null,
   "metadata": {
    "collapsed": false
   },
   "outputs": [],
   "source": [
    "a = dt.datetime(2014, 07, 31)"
   ]
  },
  {
   "cell_type": "code",
   "execution_count": null,
   "metadata": {
    "collapsed": false
   },
   "outputs": [],
   "source": [
    "a"
   ]
  },
  {
   "cell_type": "code",
   "execution_count": null,
   "metadata": {
    "collapsed": false
   },
   "outputs": [],
   "source": [
    "def aggregateDateByTimeWin(stops, crime, startDate, endDate):\n",
    "    before = []\n",
    "    during = []\n",
    "    after = []\n",
    "#     for i in range(len(indicator)):\n",
    "#         duration = (stops[endDate].iloc[i] - indicator[startDate].iloc[i]).days\n",
    "    lastStart = crime.index.searchsorted(crime.index[i] - dt.timedelta(days= duration))\n",
    "    lastEnd = crime.index.searchsorted(stops[startDate].iloc[i])\n",
    "    currStart = crime.index.searchsorted(stops[startDate].iloc[i])\n",
    "    currEnd = crime.index.searchsorted(stops[endDate].iloc[i])\n",
    "    nextStart = crime.index.searchsorted(stops[endDate].iloc[i])\n",
    "    nextEnd = crime.index.searchsorted(stops[endDate].iloc[i] + dt.timedelta(days = duration))\n",
    "    beforeNum = before.append(int(sum(crime.ix[lastStart:lastStart].values)))\n",
    "    duringNum = during.append(int(sum(crime.ix[currStart:currEnd].values)))\n",
    "    afterNum = after.append(int(sum(crime.ix[nextStart:nextEnd].values)))\n",
    "    return (before, during, after)"
   ]
  },
  {
   "cell_type": "code",
   "execution_count": null,
   "metadata": {
    "collapsed": false
   },
   "outputs": [],
   "source": []
  }
 ],
 "metadata": {
  "anaconda-cloud": {},
  "kernelspec": {
   "display_name": "Python [default]",
   "language": "python",
   "name": "python2"
  },
  "language_info": {
   "codemirror_mode": {
    "name": "ipython",
    "version": 2
   },
   "file_extension": ".py",
   "mimetype": "text/x-python",
   "name": "python",
   "nbconvert_exporter": "python",
   "pygments_lexer": "ipython2",
   "version": "2.7.12"
  }
 },
 "nbformat": 4,
 "nbformat_minor": 1
}
