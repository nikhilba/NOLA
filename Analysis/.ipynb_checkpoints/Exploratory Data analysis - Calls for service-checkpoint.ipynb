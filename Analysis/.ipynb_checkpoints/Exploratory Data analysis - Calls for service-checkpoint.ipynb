{
 "cells": [
  {
   "cell_type": "markdown",
   "metadata": {},
   "source": [
    "# Call for Service Data - 2015\n",
    "\n",
    "\n",
    "### Prerequisite\n",
    "\n",
    "  Install [Anaconda](https://www.continuum.io/downloads), the latest version with Python version as **3.5**. once you install anaconda, check for the version in your command prompt.\n",
    "  \n",
    "``` > conda --version ```\n",
    "\n",
    "\n",
    "\n",
    "> Purpose: This dataset reflects incidents that have been reported to the New Orleans Police Department. \n",
    "\n",
    "[Link](http://nopdnews.com/transparency/policing-data/)\n",
    "\n",
    "Download the files from the link above in a folder. Go to the same folder and start command line/command prompt and run the command below.\n",
    "\n",
    "```> jupyter notebook```\n",
    "\n",
    "A new chrome tab will be opened. There you will see this notebook with the name **Exploratory Data Analysis - Calls for service**.\n",
    "\n",
    "The notebook covers following.\n",
    "\n",
    "    Steps:\n",
    "    1. Loading the csv dataset.\n",
    "    2. understanding the columns.\n",
    "    3. work on use case.\n",
    "\n",
    "### Loading the dataset\n",
    "\n",
    "  We can use [Pandas](http://pandas.pydata.org/pandas-docs/stable/index.html), a powerful Python data analysis tool-kit to do the data cleaning activity. It is fast and efficient. We will give documentation links to the functions that we use in the code. 2015 Calls for service data is of CSV format."
   ]
  },
  {
   "cell_type": "code",
   "execution_count": 33,
   "metadata": {
    "collapsed": true
   },
   "outputs": [],
   "source": [
    "## import pandas\n",
    "import pandas as pd"
   ]
  },
  {
   "cell_type": "code",
   "execution_count": 34,
   "metadata": {
    "collapsed": false
   },
   "outputs": [],
   "source": [
    "# store the csv file as dataframe. Calls For Service (CFS)\n",
    "# http://pandas.pydata.org/pandas-docs/stable/generated/pandas.read_csv.html\n",
    "# csv files are stored in the directory where jupyter notebook is running. \n",
    "cfs_df = pd.read_csv('Calls_for_Service_2015.csv')"
   ]
  },
  {
   "cell_type": "code",
   "execution_count": 35,
   "metadata": {
    "collapsed": false
   },
   "outputs": [
    {
     "data": {
      "text/html": [
       "<div>\n",
       "<table border=\"1\" class=\"dataframe\">\n",
       "  <thead>\n",
       "    <tr style=\"text-align: right;\">\n",
       "      <th></th>\n",
       "      <th>﻿NOPD_Item</th>\n",
       "      <th>Type_</th>\n",
       "      <th>TypeText</th>\n",
       "      <th>Priority</th>\n",
       "      <th>InitialType</th>\n",
       "      <th>InitialTypeText</th>\n",
       "      <th>InitialPriority</th>\n",
       "      <th>MapX</th>\n",
       "      <th>MapY</th>\n",
       "      <th>TimeCreate</th>\n",
       "      <th>...</th>\n",
       "      <th>TimeArrive</th>\n",
       "      <th>TimeClosed</th>\n",
       "      <th>Disposition</th>\n",
       "      <th>DispositionText</th>\n",
       "      <th>SelfInitiated</th>\n",
       "      <th>Beat</th>\n",
       "      <th>BLOCK_ADDRESS</th>\n",
       "      <th>Zip</th>\n",
       "      <th>PoliceDistrict</th>\n",
       "      <th>Location</th>\n",
       "    </tr>\n",
       "  </thead>\n",
       "  <tbody>\n",
       "    <tr>\n",
       "      <th>0</th>\n",
       "      <td>A0000115</td>\n",
       "      <td>56</td>\n",
       "      <td>SIMPLE CRIMINAL DAMAGE</td>\n",
       "      <td>1D</td>\n",
       "      <td>94F</td>\n",
       "      <td>FIREWORKS</td>\n",
       "      <td>1A</td>\n",
       "      <td>3682553</td>\n",
       "      <td>532626</td>\n",
       "      <td>01/01/2015 12:00:34 AM</td>\n",
       "      <td>...</td>\n",
       "      <td>01/01/2015 01:41:20 AM</td>\n",
       "      <td>01/01/2015 01:41:30 AM</td>\n",
       "      <td>UNF</td>\n",
       "      <td>UNFOUNDED</td>\n",
       "      <td>N</td>\n",
       "      <td>8D06</td>\n",
       "      <td>007XX Orleans Ave</td>\n",
       "      <td>70116.0</td>\n",
       "      <td>8</td>\n",
       "      <td>(29.95850519, -90.06470624)</td>\n",
       "    </tr>\n",
       "    <tr>\n",
       "      <th>1</th>\n",
       "      <td>A0000215</td>\n",
       "      <td>21</td>\n",
       "      <td>COMPLAINT OTHER</td>\n",
       "      <td>1H</td>\n",
       "      <td>21</td>\n",
       "      <td>COMPLAINT OTHER</td>\n",
       "      <td>1H</td>\n",
       "      <td>3682368</td>\n",
       "      <td>532820</td>\n",
       "      <td>01/01/2015 12:00:36 AM</td>\n",
       "      <td>...</td>\n",
       "      <td>01/01/2015 12:00:36 AM</td>\n",
       "      <td>01/01/2015 01:31:54 AM</td>\n",
       "      <td>NAT</td>\n",
       "      <td>Necessary Action Taken</td>\n",
       "      <td>Y</td>\n",
       "      <td>8E01</td>\n",
       "      <td>Bourbon St &amp; Orleans Ave</td>\n",
       "      <td>70116.0</td>\n",
       "      <td>8</td>\n",
       "      <td>(29.95904477, -90.06528204)</td>\n",
       "    </tr>\n",
       "    <tr>\n",
       "      <th>2</th>\n",
       "      <td>A0000415</td>\n",
       "      <td>94</td>\n",
       "      <td>DISCHARGING FIREARM</td>\n",
       "      <td>1A</td>\n",
       "      <td>94</td>\n",
       "      <td>DISCHARGING FIREARM</td>\n",
       "      <td>2B</td>\n",
       "      <td>3686245</td>\n",
       "      <td>546280</td>\n",
       "      <td>01/01/2015 12:01:47 AM</td>\n",
       "      <td>...</td>\n",
       "      <td>NaN</td>\n",
       "      <td>01/01/2015 01:32:38 AM</td>\n",
       "      <td>UNF</td>\n",
       "      <td>UNFOUNDED</td>\n",
       "      <td>N</td>\n",
       "      <td>3Y03</td>\n",
       "      <td>Clematis St &amp; Acacia St</td>\n",
       "      <td>70122.0</td>\n",
       "      <td>3</td>\n",
       "      <td>(29.99593586, -90.05256561)</td>\n",
       "    </tr>\n",
       "    <tr>\n",
       "      <th>3</th>\n",
       "      <td>A0000515</td>\n",
       "      <td>107</td>\n",
       "      <td>SUSPICIOUS PERSON</td>\n",
       "      <td>2A</td>\n",
       "      <td>107</td>\n",
       "      <td>SUSPICIOUS PERSON</td>\n",
       "      <td>2A</td>\n",
       "      <td>3687521</td>\n",
       "      <td>537825</td>\n",
       "      <td>01/01/2015 12:02:22 AM</td>\n",
       "      <td>...</td>\n",
       "      <td>01/01/2015 12:13:19 AM</td>\n",
       "      <td>01/01/2015 12:24:40 AM</td>\n",
       "      <td>GOA</td>\n",
       "      <td>GONE ON ARRIVAL</td>\n",
       "      <td>N</td>\n",
       "      <td>5C03</td>\n",
       "      <td>026XX N Robertson St</td>\n",
       "      <td>70117.0</td>\n",
       "      <td>5</td>\n",
       "      <td>(29.97264816, -90.04883217)</td>\n",
       "    </tr>\n",
       "    <tr>\n",
       "      <th>4</th>\n",
       "      <td>A0000615</td>\n",
       "      <td>21</td>\n",
       "      <td>COMPLAINT OTHER</td>\n",
       "      <td>1H</td>\n",
       "      <td>21</td>\n",
       "      <td>COMPLAINT OTHER</td>\n",
       "      <td>1H</td>\n",
       "      <td>3682082</td>\n",
       "      <td>529645</td>\n",
       "      <td>01/01/2015 12:02:44 AM</td>\n",
       "      <td>...</td>\n",
       "      <td>NaN</td>\n",
       "      <td>01/01/2015 01:22:17 AM</td>\n",
       "      <td>VOI</td>\n",
       "      <td>VOID</td>\n",
       "      <td>N</td>\n",
       "      <td>8G02</td>\n",
       "      <td>003XX Canal St</td>\n",
       "      <td>70130.0</td>\n",
       "      <td>8</td>\n",
       "      <td>(29.95032257, -90.06629572)</td>\n",
       "    </tr>\n",
       "  </tbody>\n",
       "</table>\n",
       "<p>5 rows × 21 columns</p>\n",
       "</div>"
      ],
      "text/plain": [
       "  ﻿NOPD_Item Type_                TypeText Priority InitialType  \\\n",
       "0   A0000115    56  SIMPLE CRIMINAL DAMAGE       1D         94F   \n",
       "1   A0000215    21         COMPLAINT OTHER       1H          21   \n",
       "2   A0000415    94     DISCHARGING FIREARM       1A          94   \n",
       "3   A0000515   107       SUSPICIOUS PERSON       2A         107   \n",
       "4   A0000615    21         COMPLAINT OTHER       1H          21   \n",
       "\n",
       "       InitialTypeText InitialPriority     MapX    MapY  \\\n",
       "0            FIREWORKS              1A  3682553  532626   \n",
       "1      COMPLAINT OTHER              1H  3682368  532820   \n",
       "2  DISCHARGING FIREARM              2B  3686245  546280   \n",
       "3    SUSPICIOUS PERSON              2A  3687521  537825   \n",
       "4      COMPLAINT OTHER              1H  3682082  529645   \n",
       "\n",
       "               TimeCreate             ...               \\\n",
       "0  01/01/2015 12:00:34 AM             ...                \n",
       "1  01/01/2015 12:00:36 AM             ...                \n",
       "2  01/01/2015 12:01:47 AM             ...                \n",
       "3  01/01/2015 12:02:22 AM             ...                \n",
       "4  01/01/2015 12:02:44 AM             ...                \n",
       "\n",
       "               TimeArrive              TimeClosed Disposition  \\\n",
       "0  01/01/2015 01:41:20 AM  01/01/2015 01:41:30 AM         UNF   \n",
       "1  01/01/2015 12:00:36 AM  01/01/2015 01:31:54 AM         NAT   \n",
       "2                     NaN  01/01/2015 01:32:38 AM         UNF   \n",
       "3  01/01/2015 12:13:19 AM  01/01/2015 12:24:40 AM         GOA   \n",
       "4                     NaN  01/01/2015 01:22:17 AM         VOI   \n",
       "\n",
       "          DispositionText SelfInitiated  Beat             BLOCK_ADDRESS  \\\n",
       "0               UNFOUNDED             N  8D06         007XX Orleans Ave   \n",
       "1  Necessary Action Taken             Y  8E01  Bourbon St & Orleans Ave   \n",
       "2               UNFOUNDED             N  3Y03   Clematis St & Acacia St   \n",
       "3         GONE ON ARRIVAL             N  5C03      026XX N Robertson St   \n",
       "4                    VOID             N  8G02            003XX Canal St   \n",
       "\n",
       "       Zip  PoliceDistrict                     Location  \n",
       "0  70116.0               8  (29.95850519, -90.06470624)  \n",
       "1  70116.0               8  (29.95904477, -90.06528204)  \n",
       "2  70122.0               3  (29.99593586, -90.05256561)  \n",
       "3  70117.0               5  (29.97264816, -90.04883217)  \n",
       "4  70130.0               8  (29.95032257, -90.06629572)  \n",
       "\n",
       "[5 rows x 21 columns]"
      ]
     },
     "execution_count": 35,
     "metadata": {},
     "output_type": "execute_result"
    }
   ],
   "source": [
    "cfs_df.head()"
   ]
  },
  {
   "cell_type": "code",
   "execution_count": 36,
   "metadata": {
    "collapsed": false
   },
   "outputs": [
    {
     "data": {
      "text/plain": [
       "(432739, 21)"
      ]
     },
     "execution_count": 36,
     "metadata": {},
     "output_type": "execute_result"
    }
   ],
   "source": [
    "# how many Calls for service incidents recorded in the year 2015? 432739\n",
    "cfs_df.shape"
   ]
  },
  {
   "cell_type": "code",
   "execution_count": 37,
   "metadata": {
    "collapsed": false
   },
   "outputs": [
    {
     "data": {
      "text/plain": [
       "['\\ufeffNOPD_Item',\n",
       " 'Type_',\n",
       " 'TypeText',\n",
       " 'Priority',\n",
       " 'InitialType',\n",
       " 'InitialTypeText',\n",
       " 'InitialPriority',\n",
       " 'MapX',\n",
       " 'MapY',\n",
       " 'TimeCreate',\n",
       " 'TimeDispatch',\n",
       " 'TimeArrive',\n",
       " 'TimeClosed',\n",
       " 'Disposition',\n",
       " 'DispositionText',\n",
       " 'SelfInitiated',\n",
       " 'Beat',\n",
       " 'BLOCK_ADDRESS',\n",
       " 'Zip',\n",
       " 'PoliceDistrict',\n",
       " 'Location']"
      ]
     },
     "execution_count": 37,
     "metadata": {},
     "output_type": "execute_result"
    }
   ],
   "source": [
    "# printing the column names.\n",
    "list(cfs_df)"
   ]
  },
  {
   "cell_type": "code",
   "execution_count": 38,
   "metadata": {
    "collapsed": false
   },
   "outputs": [
    {
     "data": {
      "text/plain": [
       "array(['56', '21', '94', '107', '94F', '63', '62A', '100', '17J', '911',\n",
       "       '24', '103D', '103', '18', '103M', '37', '106', '67P', '66D', '68',\n",
       "       '64A', '21P', '103F', '20', '52F', '21M', '67', '21N', '62R', '17M',\n",
       "       '21H', '20I', '58R', '35', '34C', '35D', '58', '65P', '67A', '99',\n",
       "       '67F', '60', '65', '98', '64G', '20X', '29S', '100I', '17R', '38',\n",
       "       '64K', '56D', 'WALK', '62C', '67S', '21TEST', '67B', '67C', '102',\n",
       "       '59', '19', '30S', '966', '29', '55', '62', '21J', '67AR', '42',\n",
       "       '21C', '62L', '17F', '66', '29U', '52', '62B', '38D', '37D', '20F',\n",
       "       '17T', '95G', '67E', '81', '34S', '18DE', '79', '34D', '34',\n",
       "       '1028P', '21R', '21T', '69', '65J', '43', '72', '43B', '21U', '95',\n",
       "       '51', '108', '94S', '284', '100X', '30C', '23', '64', '95K', '30D',\n",
       "       '17', '64J', '107U', '1055', '21S', '82', '83', '107S', '71', '51B',\n",
       "       '39', '110', '54', '112', '30', '42M', '21MG', '62D', '42U', '21F',\n",
       "       '63P', '18A', '21B', '90', 'NOPD', '100F', '542', '45', '110E',\n",
       "       '24K', '101', '44', '21AB', '283', '92', '43U', '43M', '118', '59D',\n",
       "       '42B', '26', '89', '62S', '84'], dtype=object)"
      ]
     },
     "execution_count": 38,
     "metadata": {},
     "output_type": "execute_result"
    }
   ],
   "source": [
    "cfs_df.Type_.unique()"
   ]
  },
  {
   "cell_type": "code",
   "execution_count": 39,
   "metadata": {
    "collapsed": false
   },
   "outputs": [],
   "source": [
    "crime_types = pd.read_excel('MAX_CFS_UCR_Categories.xlsx',sheetname='Sheet1')"
   ]
  },
  {
   "cell_type": "code",
   "execution_count": 40,
   "metadata": {
    "collapsed": false
   },
   "outputs": [],
   "source": [
    "crime_types = crime_types.ix[:,['Code','UCR MAIN']]"
   ]
  },
  {
   "cell_type": "code",
   "execution_count": 41,
   "metadata": {
    "collapsed": false
   },
   "outputs": [],
   "source": [
    "import re\n",
    "def remove_before_hyphen(x):\n",
    "    x = x.strip()\n",
    "    is_hyphen = re.search('-',x)\n",
    "    if is_hyphen:\n",
    "        return x[is_hyphen.span()[1]:]\n",
    "    else:\n",
    "        return x"
   ]
  },
  {
   "cell_type": "code",
   "execution_count": 42,
   "metadata": {
    "collapsed": false
   },
   "outputs": [],
   "source": [
    "crime_types.Code = crime_types.Code.map(str).map(remove_before_hyphen)"
   ]
  },
  {
   "cell_type": "code",
   "execution_count": 43,
   "metadata": {
    "collapsed": false
   },
   "outputs": [
    {
     "data": {
      "text/html": [
       "<div>\n",
       "<table border=\"1\" class=\"dataframe\">\n",
       "  <thead>\n",
       "    <tr style=\"text-align: right;\">\n",
       "      <th></th>\n",
       "      <th>Type_</th>\n",
       "      <th>crime_type</th>\n",
       "    </tr>\n",
       "  </thead>\n",
       "  <tbody>\n",
       "    <tr>\n",
       "      <th>0</th>\n",
       "      <td>100</td>\n",
       "      <td>OTHER CFS</td>\n",
       "    </tr>\n",
       "    <tr>\n",
       "      <th>1</th>\n",
       "      <td>100F</td>\n",
       "      <td>OTHER CFS</td>\n",
       "    </tr>\n",
       "    <tr>\n",
       "      <th>2</th>\n",
       "      <td>100I</td>\n",
       "      <td>OTHER CFS</td>\n",
       "    </tr>\n",
       "    <tr>\n",
       "      <th>3</th>\n",
       "      <td>100X</td>\n",
       "      <td>OTHER CFS</td>\n",
       "    </tr>\n",
       "    <tr>\n",
       "      <th>4</th>\n",
       "      <td>101</td>\n",
       "      <td>OTHER CFS</td>\n",
       "    </tr>\n",
       "  </tbody>\n",
       "</table>\n",
       "</div>"
      ],
      "text/plain": [
       "  Type_ crime_type\n",
       "0   100  OTHER CFS\n",
       "1  100F  OTHER CFS\n",
       "2  100I  OTHER CFS\n",
       "3  100X  OTHER CFS\n",
       "4   101  OTHER CFS"
      ]
     },
     "execution_count": 43,
     "metadata": {},
     "output_type": "execute_result"
    }
   ],
   "source": [
    "crime_types.rename(columns={'Code':'Type_','UCR MAIN':'crime_type'},inplace=True)\n",
    "crime_types.head()"
   ]
  },
  {
   "cell_type": "code",
   "execution_count": 44,
   "metadata": {
    "collapsed": false
   },
   "outputs": [],
   "source": [
    "cfs_df.Type_ = cfs_df.Type_.str.strip()"
   ]
  },
  {
   "cell_type": "code",
   "execution_count": 45,
   "metadata": {
    "collapsed": false
   },
   "outputs": [],
   "source": [
    "cfs_df = pd.merge(cfs_df,crime_types,on='Type_',how='left')"
   ]
  },
  {
   "cell_type": "code",
   "execution_count": 46,
   "metadata": {
    "collapsed": false
   },
   "outputs": [],
   "source": [
    "cfs_df.crime_type.fillna('MISSING',inplace=True)"
   ]
  },
  {
   "cell_type": "markdown",
   "metadata": {},
   "source": [
    "## Use-case\n",
    "\n",
    " From the department's [analysis report](https://insight.livestories.com/s/project-transparent/569fc0404372f40014285093/), Here is how we believe the use-case is defined.\n",
    " \n",
    " [![Calls For Service.png](https://s29.postimg.org/6indkkh9j/Calls_For_Service.png)](https://postimg.org/image/mtnhgvtr7/)\n",
    " \n",
    " **Terminology**\n",
    " \n",
    " 1. 911 - Emergency call. Can be initiated by public/NOPD officer (self-initiated)/Any state entity working with NOPD. Has code starting with **2**.\n",
    " 2. 311 - Non Emergency call. Can be initiated by public/NOPD officer (self-initiated)/Any state entity working with NOPD. Has code starting with **1**.\n",
    " \n",
    " \n",
    "A call is considered as an emergency call iff its **InitialPriority** (column name in dataframe) and **Priority** have codes starting with 2.\n",
    "\n",
    "A Call is considered as a non-emergency call iff its **InitialPriority** and **Priority** have codes starting with 1.\n",
    "\n",
    "Lets analyse from the beginning.\n"
   ]
  },
  {
   "cell_type": "code",
   "execution_count": 47,
   "metadata": {
    "collapsed": false
   },
   "outputs": [
    {
     "data": {
      "text/plain": [
       "(460894, 22)"
      ]
     },
     "execution_count": 47,
     "metadata": {},
     "output_type": "execute_result"
    }
   ],
   "source": [
    "# dropping all rows if all the columns in the rows are empty.\n",
    "cfs_df=cfs_df[pd.notnull(cfs_df.Priority)& pd.notnull(cfs_df.Disposition)]\n",
    "cfs_df.shape"
   ]
  },
  {
   "cell_type": "code",
   "execution_count": 48,
   "metadata": {
    "collapsed": false
   },
   "outputs": [
    {
     "data": {
      "text/plain": [
       "(127789, 333105)"
      ]
     },
     "execution_count": 48,
     "metadata": {},
     "output_type": "execute_result"
    }
   ],
   "source": [
    "# how many self initiated calls are there in 2015? 125170 calls\n",
    "self_init_df = cfs_df[cfs_df.SelfInitiated=='Y']\n",
    "n_self_init_df = cfs_df[cfs_df.SelfInitiated=='N']\n",
    "self_init_df.shape[0],n_self_init_df.shape[0]"
   ]
  },
  {
   "cell_type": "code",
   "execution_count": 49,
   "metadata": {
    "collapsed": false,
    "scrolled": true
   },
   "outputs": [
    {
     "data": {
      "text/html": [
       "<iframe id=\"igraph\" scrolling=\"no\" style=\"border:none;\" seamless=\"seamless\" src=\"https://plot.ly/~karthikb/98.embed\" height=\"525px\" width=\"100%\"></iframe>"
      ],
      "text/plain": [
       "<plotly.tools.PlotlyDisplay object>"
      ]
     },
     "execution_count": 49,
     "metadata": {},
     "output_type": "execute_result"
    }
   ],
   "source": [
    "## lets visualize. I have used plotly, super easy, super fancy visualization tool.\n",
    "## https://plot.ly/python/bar-charts/\n",
    "\n",
    "import plotly\n",
    "# plotly.tools.set_credentials_file(username='karthikb', api_key='ubvM66f4apRzPA049z05')\n",
    "import plotly.graph_objs as go\n",
    "\n",
    "data = [go.Bar(\n",
    "            x=['Self-initiated CFS', 'Other CFS'],\n",
    "            y=[self_init_df.shape[0],n_self_init_df.shape[0]]\n",
    "    )]\n",
    "\n",
    "# plotly.plotly.iplot(data, filename='Calls For Service')\n"
   ]
  },
  {
   "cell_type": "code",
   "execution_count": 50,
   "metadata": {
    "collapsed": false
   },
   "outputs": [],
   "source": [
    "# self initiated emergency calls\n",
    "# self_init_df = self_init_df[pd.notnull(self_init_df.Priority)]\n",
    "# n_self_init_df = n_self_init_df[pd.notnull(n_self_init_df.Priority)]\n",
    "self_init_df = self_init_df.reset_index(drop=True)\n",
    "n_self_init_df = n_self_init_df.reset_index(drop=True)"
   ]
  },
  {
   "cell_type": "code",
   "execution_count": 51,
   "metadata": {
    "collapsed": false
   },
   "outputs": [
    {
     "name": "stdout",
     "output_type": "stream",
     "text": [
      "In 2015 there where 127789 self initiated calls and 333105 other calls\n"
     ]
    }
   ],
   "source": [
    "print(\"In 2015 there where {0} self initiated calls and {1} other calls\".format(len(self_init_df),len(n_self_init_df)))"
   ]
  },
  {
   "cell_type": "markdown",
   "metadata": {},
   "source": [
    "### How Call priority is determined as per the analysis.\n",
    "\n",
    "Emergency calls\n",
    " A call is considered to be an emergency call iff **InitialPriority** and **Priority** has emergency codes starting with 2.\n",
    " \n",
    "In this section we are going to segregate our dataset into 2 dimensions.\n",
    "\n",
    "|             NOLA              | Self-Initated by officers | From Public/Other Departments |\n",
    "|:-----------------------------:|:-------------------------:|-------------------------------|\n",
    "|        Emergency Calls        |                           |                               |\n",
    "|      Non-Emergency Calls      |                           |                               |\n",
    "|   Converted Emergency Calls   |                           |                               |\n",
    "| Converted Non-emergency Calls |                           |                               ||\n",
    "\n"
   ]
  },
  {
   "cell_type": "code",
   "execution_count": 52,
   "metadata": {
    "collapsed": false
   },
   "outputs": [
    {
     "name": "stdout",
     "output_type": "stream",
     "text": [
      "In 2015 NOPD Officers initiated 6151 emergency calls\n"
     ]
    }
   ],
   "source": [
    "# total emergency calls\n",
    "all_emergency_self_init_calls = self_init_df[((self_init_df.InitialPriority.str.contains(\"2\"))\n",
    "                                              & self_init_df.Priority.str.contains(\"2\"))]\n",
    "all_emergency_self_init_calls.reset_index(drop=True)\n",
    "print(\"In 2015 NOPD Officers initiated {0} emergency calls\".format(len(all_emergency_self_init_calls)))"
   ]
  },
  {
   "cell_type": "code",
   "execution_count": 53,
   "metadata": {
    "collapsed": false
   },
   "outputs": [
    {
     "name": "stdout",
     "output_type": "stream",
     "text": [
      "In 2015 NOPD Officers initiated 1147 calls as non-emergency calls and converted to emergency calls\n"
     ]
    }
   ],
   "source": [
    "# call initiated as non-emergency calls and converted as emergencies by officers\n",
    "conv_emergency_self_init_calls = self_init_df[((self_init_df.InitialPriority.str.contains(\"1\"))\n",
    "                                              & self_init_df.Priority.str.contains(\"2\"))]\n",
    "conv_emergency_self_init_calls.reset_index(drop=True)\n",
    "print(\"In 2015 NOPD Officers initiated {0} calls as non-emergency calls and converted to emergency calls\".format\n",
    "      (len(conv_emergency_self_init_calls)))"
   ]
  },
  {
   "cell_type": "code",
   "execution_count": 54,
   "metadata": {
    "collapsed": false
   },
   "outputs": [
    {
     "name": "stdout",
     "output_type": "stream",
     "text": [
      "In 2015 NOPD Officers initiated 110797 non-emergency calls\n"
     ]
    }
   ],
   "source": [
    "non_emergency_self_init_calls = self_init_df[((self_init_df.InitialPriority.str.contains(\"1\"))\n",
    "                                              & self_init_df.Priority.str.contains(\"1\"))]\n",
    "non_emergency_self_init_calls.reset_index(drop=True)\n",
    "print(\"In 2015 NOPD Officers initiated {0} non-emergency calls\".format\n",
    "      (len(non_emergency_self_init_calls)))"
   ]
  },
  {
   "cell_type": "code",
   "execution_count": 55,
   "metadata": {
    "collapsed": false
   },
   "outputs": [
    {
     "name": "stdout",
     "output_type": "stream",
     "text": [
      "In 2015 NOPD Officers initiated 576 calls as emergency calls and converted to non-emergency calls\n"
     ]
    }
   ],
   "source": [
    "conv_non_emer_self_init_calls = self_init_df[((self_init_df.InitialPriority.str.contains(\"2\"))\n",
    "                                              & self_init_df.Priority.str.contains(\"1\"))]\n",
    "conv_non_emer_self_init_calls.reset_index(drop=True)\n",
    "print(\"In 2015 NOPD Officers initiated {0} calls as emergency calls and converted to non-emergency calls\".format\n",
    "      (len(conv_non_emer_self_init_calls)))"
   ]
  },
  {
   "cell_type": "markdown",
   "metadata": {},
   "source": [
    "There are calls with Priority 0. We assume that they are trivial service calls and we ignore the state of those calls for analysis."
   ]
  },
  {
   "cell_type": "code",
   "execution_count": 56,
   "metadata": {
    "collapsed": false
   },
   "outputs": [
    {
     "name": "stdout",
     "output_type": "stream",
     "text": [
      "In 2015 NOPD Officers received 124450 emergency calls from public and other departments\n"
     ]
    }
   ],
   "source": [
    "all_emergency_other_calls = n_self_init_df[((n_self_init_df.InitialPriority.str.contains(\"2\"))\n",
    "                                              & n_self_init_df.Priority.str.contains(\"2\"))]\n",
    "all_emergency_other_calls.reset_index(drop=True)\n",
    "print(\"In 2015 NOPD Officers received {0} emergency calls from public and other departments\"\n",
    "      .format(len(all_emergency_other_calls)))"
   ]
  },
  {
   "cell_type": "code",
   "execution_count": 57,
   "metadata": {
    "collapsed": false
   },
   "outputs": [
    {
     "name": "stdout",
     "output_type": "stream",
     "text": [
      "In 2015 NOPD Officers received 7504 calls as non-emergency calls but registered to emergency calls\n"
     ]
    }
   ],
   "source": [
    "conv_emergency_other_calls = n_self_init_df[((n_self_init_df.InitialPriority.str.contains(\"1\"))\n",
    "                                              & n_self_init_df.Priority.str.contains(\"2\"))]\n",
    "conv_emergency_other_calls.reset_index(drop=True)\n",
    "print(\"In 2015 NOPD Officers received {0} calls as non-emergency calls but registered to emergency calls\".format\n",
    "      (len(conv_emergency_other_calls)))"
   ]
  },
  {
   "cell_type": "code",
   "execution_count": 58,
   "metadata": {
    "collapsed": false
   },
   "outputs": [
    {
     "name": "stdout",
     "output_type": "stream",
     "text": [
      "In 2015 NOPD Officers received 154833 non-emergency calls\n"
     ]
    }
   ],
   "source": [
    "non_emergency_other_calls = n_self_init_df[((n_self_init_df.InitialPriority.str.contains(\"1\"))\n",
    "                                              & n_self_init_df.Priority.str.contains(\"1\"))]\n",
    "non_emergency_other_calls.reset_index(drop=True)\n",
    "print(\"In 2015 NOPD Officers received {0} non-emergency calls\".format\n",
    "      (len(non_emergency_other_calls)))"
   ]
  },
  {
   "cell_type": "code",
   "execution_count": 59,
   "metadata": {
    "collapsed": false
   },
   "outputs": [
    {
     "name": "stdout",
     "output_type": "stream",
     "text": [
      "In 2015 NOPD Officers received 34105 calls as emergency calls but to non-emergency calls\n"
     ]
    }
   ],
   "source": [
    "conv_non_emer_other_calls = n_self_init_df[((n_self_init_df.InitialPriority.str.contains(\"2\"))\n",
    "                                              & n_self_init_df.Priority.str.contains(\"1\"))]\n",
    "conv_non_emer_other_calls.reset_index(drop=True)\n",
    "print(\"In 2015 NOPD Officers received {0} calls as emergency calls but to non-emergency calls\".format\n",
    "      (len(conv_non_emer_other_calls)))"
   ]
  },
  {
   "cell_type": "markdown",
   "metadata": {},
   "source": [
    "**Call Statistics**"
   ]
  },
  {
   "cell_type": "code",
   "execution_count": 60,
   "metadata": {
    "collapsed": false
   },
   "outputs": [
    {
     "data": {
      "text/html": [
       "<iframe id=\"igraph\" scrolling=\"no\" style=\"border:none;\" seamless=\"seamless\" src=\"https://plot.ly/~karthikb/100.embed\" height=\"525px\" width=\"100%\"></iframe>"
      ],
      "text/plain": [
       "<plotly.tools.PlotlyDisplay object>"
      ]
     },
     "execution_count": 60,
     "metadata": {},
     "output_type": "execute_result"
    }
   ],
   "source": [
    "self_init = go.Bar(\n",
    "    x=['Emergency', 'Converted Emergency', 'Non-Emergency', 'Converted Non-Emergency'],\n",
    "    y=[len(all_emergency_self_init_calls),len(conv_emergency_self_init_calls),len(non_emergency_self_init_calls),\n",
    "       len(conv_non_emer_self_init_calls)],\n",
    "    name='Self Initiated Calls'\n",
    ")\n",
    "other = go.Bar(\n",
    "    x=['Emergency', 'Converted Emergency', 'Non-Emergency', 'Converted Non-Emergency'],\n",
    "    y=[len(all_emergency_other_calls), len(conv_emergency_other_calls),len(non_emergency_other_calls),\n",
    "      len(conv_non_emer_other_calls)],\n",
    "    name='Public Calls'\n",
    ")\n",
    "\n",
    "data = [self_init, other]\n",
    "layout = go.Layout(\n",
    "    barmode='group'\n",
    ")\n",
    "\n",
    "fig = go.Figure(data=data, layout=layout)\n",
    "# plotly.plotly.iplot(fig, filename='Call-Stats')"
   ]
  },
  {
   "cell_type": "markdown",
   "metadata": {},
   "source": [
    "### Disposition\n",
    "\n",
    "Disposition is a consquent action that is taken based on the call. Here are some types of disposition.\n",
    "\n",
    "\n",
    "| Abbreviation |                                           Action                                           |\n",
    "|:------------:|:------------------------------------------------------------------------------------------:|\n",
    "|      UNF     |                     Officer determined that the incident did not occur                     |\n",
    "|      NAT     |                     Officer handled the incident to completion on-scene                    |\n",
    "|      GOA     |                  Complainant was not on the scene when the officer arrived                 |\n",
    "|      VOI     |                               Complainant calcelled the call                               |\n",
    "|      RTF     | A Police report or other report will be necessary to complete the handling of the incident |\n",
    "|      DUP     |    An existing call such as when more than one person calls 9-1-1 on the same incident.    |\n",
    "|      EST     |                         Test incident simulated by any department*                         |\n",
    "|      FAR     |                                        False Alarm*                                        |\n",
    "\n"
   ]
  },
  {
   "cell_type": "code",
   "execution_count": 61,
   "metadata": {
    "collapsed": false
   },
   "outputs": [],
   "source": [
    "# this function gets DataFrame and returns a plotly data structure.\n",
    "\n",
    "def plot_disposition_crime_type(df):\n",
    "    count_cases =  df.groupby(['crime_type','Disposition']).size()\n",
    "#     data = [go.Bar(\n",
    "#             x=count_cases.index.tolist(),\n",
    "#             y=count_cases.values.tolist()\n",
    "#     )]\n",
    "#    \n",
    "    print(count_cases)\n"
   ]
  },
  {
   "cell_type": "markdown",
   "metadata": {},
   "source": [
    "## Emergency Calls - Crime Type vs Disposition"
   ]
  },
  {
   "cell_type": "code",
   "execution_count": 62,
   "metadata": {
    "collapsed": false
   },
   "outputs": [
    {
     "name": "stdout",
     "output_type": "stream",
     "text": [
      "crime_type      Disposition\n",
      "MISSING         DUP                3\n",
      "                VOI                1\n",
      "OTHER CFS       DUP             5160\n",
      "                FAR                1\n",
      "                GOA            13424\n",
      "                NAT            56823\n",
      "                RTF            14200\n",
      "                UNF            14716\n",
      "                VOI            13644\n",
      "PROPERTY CRIME  DUP              113\n",
      "                GOA               96\n",
      "                NAT               18\n",
      "                RTF             1923\n",
      "                UNF              379\n",
      "                VOI               70\n",
      "VIOLENT CRIME   DUP              274\n",
      "                GOA              102\n",
      "                NAT                1\n",
      "                RTF             2928\n",
      "                UNF              549\n",
      "                VOI               25\n",
      "dtype: int64\n"
     ]
    }
   ],
   "source": [
    "# public calls\n",
    "plot_disposition_crime_type(all_emergency_other_calls)"
   ]
  },
  {
   "cell_type": "code",
   "execution_count": 32,
   "metadata": {
    "collapsed": false
   },
   "outputs": [
    {
     "name": "stdout",
     "output_type": "stream",
     "text": [
      "crime_type      Disposition\n",
      "OTHER CFS       DUP             123\n",
      "                GOA             199\n",
      "                NAT            4869\n",
      "                RTF             635\n",
      "                UNF             132\n",
      "                VOI              16\n",
      "PROPERTY CRIME  DUP               2\n",
      "                RTF              18\n",
      "VIOLENT CRIME   DUP              12\n",
      "                RTF             137\n",
      "                UNF               8\n",
      "dtype: int64\n"
     ]
    }
   ],
   "source": [
    "# self initiated calls\n",
    "plot_disposition_crime_type(all_emergency_self_init_calls)"
   ]
  },
  {
   "cell_type": "markdown",
   "metadata": {},
   "source": [
    "## Converted Emergency Calls - Crime Type vs Disposition"
   ]
  },
  {
   "cell_type": "code",
   "execution_count": 63,
   "metadata": {
    "collapsed": false
   },
   "outputs": [
    {
     "name": "stdout",
     "output_type": "stream",
     "text": [
      "crime_type      Disposition\n",
      "OTHER CFS       DUP             281\n",
      "                GOA             520\n",
      "                NAT            1863\n",
      "                RTF            3154\n",
      "                UNF             616\n",
      "                VOI             132\n",
      "PROPERTY CRIME  DUP              30\n",
      "                GOA               8\n",
      "                RTF             409\n",
      "                UNF              56\n",
      "                VOI               8\n",
      "VIOLENT CRIME   DUP               8\n",
      "                GOA               4\n",
      "                RTF             389\n",
      "                UNF              24\n",
      "                VOI               2\n",
      "dtype: int64\n"
     ]
    }
   ],
   "source": [
    "# Public calls\n",
    "plot_disposition_crime_type(conv_emergency_other_calls)"
   ]
  },
  {
   "cell_type": "code",
   "execution_count": 64,
   "metadata": {
    "collapsed": false
   },
   "outputs": [
    {
     "name": "stdout",
     "output_type": "stream",
     "text": [
      "crime_type      Disposition\n",
      "OTHER CFS       DUP              5\n",
      "                GOA              5\n",
      "                NAT            363\n",
      "                RTF            128\n",
      "                UNF             19\n",
      "                VOI              5\n",
      "PROPERTY CRIME  RTF             29\n",
      "                UNF              2\n",
      "VIOLENT CRIME   RTF             18\n",
      "                UNF              2\n",
      "dtype: int64\n"
     ]
    }
   ],
   "source": [
    "# self initated calls\n",
    "plot_disposition_crime_type(conv_non_emer_self_init_calls)"
   ]
  },
  {
   "cell_type": "markdown",
   "metadata": {},
   "source": [
    "## Non-Emergency Crime Type vs Calls Disposition"
   ]
  },
  {
   "cell_type": "code",
   "execution_count": 65,
   "metadata": {
    "collapsed": false
   },
   "outputs": [
    {
     "name": "stdout",
     "output_type": "stream",
     "text": [
      "crime_type      Disposition\n",
      "OTHER CFS       DUP             3225\n",
      "                EST                1\n",
      "                GOA             6481\n",
      "                NAT            61867\n",
      "                RTF            25396\n",
      "                UNF            15742\n",
      "                VOI             6529\n",
      "PROPERTY CRIME  DUP              808\n",
      "                GOA             1974\n",
      "                NAT                4\n",
      "                RTF            20125\n",
      "                UNF             9368\n",
      "                VOI             2082\n",
      "VIOLENT CRIME   DUP              121\n",
      "                GOA               90\n",
      "                RTF              540\n",
      "                UNF              434\n",
      "                VOI               46\n",
      "dtype: int64\n"
     ]
    }
   ],
   "source": [
    "# public non emergency\n",
    "plot_disposition_crime_type(non_emergency_other_calls)"
   ]
  },
  {
   "cell_type": "code",
   "execution_count": 66,
   "metadata": {
    "collapsed": false
   },
   "outputs": [
    {
     "name": "stdout",
     "output_type": "stream",
     "text": [
      "crime_type      Disposition\n",
      "OTHER CFS       DUP              546\n",
      "                GOA              311\n",
      "                NAT            93614\n",
      "                RTF            11901\n",
      "                UNF              299\n",
      "                VOI              298\n",
      "PROPERTY CRIME  DUP               59\n",
      "                GOA               12\n",
      "                RTF             3544\n",
      "                UNF               96\n",
      "                VOI                6\n",
      "VIOLENT CRIME   DUP               11\n",
      "                RTF               87\n",
      "                UNF               13\n",
      "dtype: int64\n"
     ]
    }
   ],
   "source": [
    "# self initated non emergency\n",
    "plot_disposition_crime_type(non_emergency_self_init_calls)"
   ]
  },
  {
   "cell_type": "markdown",
   "metadata": {},
   "source": [
    "## Converted Non-Emergency Crime Type vs Calls Disposition"
   ]
  },
  {
   "cell_type": "code",
   "execution_count": 67,
   "metadata": {
    "collapsed": false
   },
   "outputs": [
    {
     "name": "stdout",
     "output_type": "stream",
     "text": [
      "crime_type      Disposition\n",
      "OTHER CFS       DUP              304\n",
      "                GOA             1512\n",
      "                NAT            16098\n",
      "                RTF             5324\n",
      "                UNF             2655\n",
      "                VOI             3481\n",
      "PROPERTY CRIME  DUP               38\n",
      "                GOA              157\n",
      "                NAT                6\n",
      "                RTF             2915\n",
      "                UNF              712\n",
      "                VOI               84\n",
      "VIOLENT CRIME   DUP               28\n",
      "                GOA               24\n",
      "                RTF              581\n",
      "                UNF              179\n",
      "                VOI                7\n",
      "dtype: int64\n"
     ]
    }
   ],
   "source": [
    "# public non-emergency\n",
    "plot_disposition_crime_type(conv_non_emer_other_calls)"
   ]
  },
  {
   "cell_type": "code",
   "execution_count": 68,
   "metadata": {
    "collapsed": false
   },
   "outputs": [
    {
     "name": "stdout",
     "output_type": "stream",
     "text": [
      "crime_type      Disposition\n",
      "OTHER CFS       DUP              5\n",
      "                GOA              5\n",
      "                NAT            363\n",
      "                RTF            128\n",
      "                UNF             19\n",
      "                VOI              5\n",
      "PROPERTY CRIME  RTF             29\n",
      "                UNF              2\n",
      "VIOLENT CRIME   RTF             18\n",
      "                UNF              2\n",
      "dtype: int64\n"
     ]
    }
   ],
   "source": [
    "# self initiated converted non emergency\n",
    "plot_disposition_crime_type(conv_non_emer_self_init_calls)"
   ]
  },
  {
   "cell_type": "markdown",
   "metadata": {},
   "source": [
    "# Analysis To Follow\n",
    "\n",
    "    1. More visualization\n",
    "    2. Time Series analysis\n",
    "    3. Analysis on crime types to see if there is a pattern"
   ]
  }
 ],
 "metadata": {
  "kernelspec": {
   "display_name": "Python [default]",
   "language": "python",
   "name": "python2"
  },
  "language_info": {
   "codemirror_mode": {
    "name": "ipython",
    "version": 2
   },
   "file_extension": ".py",
   "mimetype": "text/x-python",
   "name": "python",
   "nbconvert_exporter": "python",
   "pygments_lexer": "ipython2",
   "version": "2.7.12"
  }
 },
 "nbformat": 4,
 "nbformat_minor": 0
}
