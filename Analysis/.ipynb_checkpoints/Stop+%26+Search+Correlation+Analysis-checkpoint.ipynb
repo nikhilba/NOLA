{
 "cells": [
  {
   "cell_type": "code",
   "execution_count": 2,
   "metadata": {
    "collapsed": true
   },
   "outputs": [],
   "source": [
    "import pandas as pd\n",
    "import numpy as np\n",
    "import datetime as dt\n",
    "import matplotlib\n",
    "import matplotlib.pyplot as plt\n",
    "%matplotlib inline\n",
    "import seaborn as sns"
   ]
  },
  {
   "cell_type": "code",
   "execution_count": 3,
   "metadata": {
    "collapsed": false
   },
   "outputs": [],
   "source": [
    "stop_search = pd.read_csv(\"D:/CFS_SNS.csv\")"
   ]
  },
  {
   "cell_type": "code",
   "execution_count": 4,
   "metadata": {
    "collapsed": false,
    "scrolled": false
   },
   "outputs": [
    {
     "data": {
      "text/html": [
       "<div>\n",
       "<table border=\"1\" class=\"dataframe\">\n",
       "  <thead>\n",
       "    <tr style=\"text-align: right;\">\n",
       "      <th></th>\n",
       "      <th>NOPD_Item</th>\n",
       "      <th>Type_</th>\n",
       "      <th>TypeText</th>\n",
       "      <th>Priority</th>\n",
       "      <th>InitialType</th>\n",
       "      <th>InitialTypeText</th>\n",
       "      <th>InitialPriority</th>\n",
       "      <th>MapX</th>\n",
       "      <th>MapY</th>\n",
       "      <th>TimeCreate</th>\n",
       "      <th>...</th>\n",
       "      <th>SubjectWeight</th>\n",
       "      <th>SubjectEyeColor</th>\n",
       "      <th>SubjectHairColor</th>\n",
       "      <th>SubjectDriverLicState</th>\n",
       "      <th>CreatedDateTime</th>\n",
       "      <th>LastModifiedDateTime</th>\n",
       "      <th>Longitude</th>\n",
       "      <th>Latitude</th>\n",
       "      <th>Zip_y</th>\n",
       "      <th>BlockAddress</th>\n",
       "    </tr>\n",
       "  </thead>\n",
       "  <tbody>\n",
       "    <tr>\n",
       "      <th>0</th>\n",
       "      <td>A0139412</td>\n",
       "      <td>65</td>\n",
       "      <td>SIMPLE ROBBERY</td>\n",
       "      <td>1B</td>\n",
       "      <td>NaN</td>\n",
       "      <td>NaN</td>\n",
       "      <td>NaN</td>\n",
       "      <td>3682307</td>\n",
       "      <td>529905</td>\n",
       "      <td>2012-01-01 20:04:00</td>\n",
       "      <td>...</td>\n",
       "      <td>149.0</td>\n",
       "      <td>Brown</td>\n",
       "      <td>Black</td>\n",
       "      <td>LA</td>\n",
       "      <td>02/01/2012 09:46:15 PM</td>\n",
       "      <td>NaN</td>\n",
       "      <td>-90.065579</td>\n",
       "      <td>29.951030</td>\n",
       "      <td>70130.0</td>\n",
       "      <td>003XX Canal St</td>\n",
       "    </tr>\n",
       "    <tr>\n",
       "      <th>1</th>\n",
       "      <td>A0581612</td>\n",
       "      <td>65</td>\n",
       "      <td>SIMPLE ROBBERY</td>\n",
       "      <td>1A</td>\n",
       "      <td>NaN</td>\n",
       "      <td>NaN</td>\n",
       "      <td>NaN</td>\n",
       "      <td>3681568</td>\n",
       "      <td>531810</td>\n",
       "      <td>2012-01-05 03:18:00</td>\n",
       "      <td>...</td>\n",
       "      <td>160.0</td>\n",
       "      <td>Brown</td>\n",
       "      <td>Brown</td>\n",
       "      <td>LA</td>\n",
       "      <td>01/05/2012 04:41:08 AM</td>\n",
       "      <td>NaN</td>\n",
       "      <td>-90.067845</td>\n",
       "      <td>29.956291</td>\n",
       "      <td>70112.0</td>\n",
       "      <td>008XX Conti St</td>\n",
       "    </tr>\n",
       "    <tr>\n",
       "      <th>2</th>\n",
       "      <td>A0581612</td>\n",
       "      <td>65</td>\n",
       "      <td>SIMPLE ROBBERY</td>\n",
       "      <td>1A</td>\n",
       "      <td>NaN</td>\n",
       "      <td>NaN</td>\n",
       "      <td>NaN</td>\n",
       "      <td>3681568</td>\n",
       "      <td>531810</td>\n",
       "      <td>2012-01-05 03:18:00</td>\n",
       "      <td>...</td>\n",
       "      <td>150.0</td>\n",
       "      <td>Brown</td>\n",
       "      <td>Black</td>\n",
       "      <td>LA</td>\n",
       "      <td>01/06/2012 02:37:06 AM</td>\n",
       "      <td>NaN</td>\n",
       "      <td>-90.067845</td>\n",
       "      <td>29.956291</td>\n",
       "      <td>70112.0</td>\n",
       "      <td>008XX Conti St</td>\n",
       "    </tr>\n",
       "    <tr>\n",
       "      <th>3</th>\n",
       "      <td>A3379812</td>\n",
       "      <td>65</td>\n",
       "      <td>SIMPLE ROBBERY</td>\n",
       "      <td>2B</td>\n",
       "      <td>NaN</td>\n",
       "      <td>NaN</td>\n",
       "      <td>NaN</td>\n",
       "      <td>3684463</td>\n",
       "      <td>533710</td>\n",
       "      <td>2012-01-24 21:18:00</td>\n",
       "      <td>...</td>\n",
       "      <td>170.0</td>\n",
       "      <td>Brown</td>\n",
       "      <td>Black</td>\n",
       "      <td>NaN</td>\n",
       "      <td>01/25/2012 04:11:40 AM</td>\n",
       "      <td>NaN</td>\n",
       "      <td>-90.058637</td>\n",
       "      <td>29.961427</td>\n",
       "      <td>70116.0</td>\n",
       "      <td>005XX Barracks St</td>\n",
       "    </tr>\n",
       "    <tr>\n",
       "      <th>4</th>\n",
       "      <td>B0379412</td>\n",
       "      <td>65</td>\n",
       "      <td>SIMPLE ROBBERY</td>\n",
       "      <td>2B</td>\n",
       "      <td>NaN</td>\n",
       "      <td>NaN</td>\n",
       "      <td>NaN</td>\n",
       "      <td>3688721</td>\n",
       "      <td>537245</td>\n",
       "      <td>2012-02-03 10:16:00</td>\n",
       "      <td>...</td>\n",
       "      <td>175.0</td>\n",
       "      <td>Brown</td>\n",
       "      <td>Black</td>\n",
       "      <td>LA</td>\n",
       "      <td>02/03/2012 11:12:38 AM</td>\n",
       "      <td>NaN</td>\n",
       "      <td>-90.045066</td>\n",
       "      <td>29.971016</td>\n",
       "      <td>70117.0</td>\n",
       "      <td>Montegut St &amp; N Villere St</td>\n",
       "    </tr>\n",
       "  </tbody>\n",
       "</table>\n",
       "<p>5 rows × 51 columns</p>\n",
       "</div>"
      ],
      "text/plain": [
       "  NOPD_Item Type_        TypeText Priority InitialType InitialTypeText  \\\n",
       "0  A0139412    65  SIMPLE ROBBERY       1B         NaN             NaN   \n",
       "1  A0581612    65  SIMPLE ROBBERY       1A         NaN             NaN   \n",
       "2  A0581612    65  SIMPLE ROBBERY       1A         NaN             NaN   \n",
       "3  A3379812    65  SIMPLE ROBBERY       2B         NaN             NaN   \n",
       "4  B0379412    65  SIMPLE ROBBERY       2B         NaN             NaN   \n",
       "\n",
       "  InitialPriority     MapX    MapY           TimeCreate  \\\n",
       "0             NaN  3682307  529905  2012-01-01 20:04:00   \n",
       "1             NaN  3681568  531810  2012-01-05 03:18:00   \n",
       "2             NaN  3681568  531810  2012-01-05 03:18:00   \n",
       "3             NaN  3684463  533710  2012-01-24 21:18:00   \n",
       "4             NaN  3688721  537245  2012-02-03 10:16:00   \n",
       "\n",
       "              ...             SubjectWeight SubjectEyeColor SubjectHairColor  \\\n",
       "0             ...                     149.0           Brown            Black   \n",
       "1             ...                     160.0           Brown            Brown   \n",
       "2             ...                     150.0           Brown            Black   \n",
       "3             ...                     170.0           Brown            Black   \n",
       "4             ...                     175.0           Brown            Black   \n",
       "\n",
       "  SubjectDriverLicState         CreatedDateTime LastModifiedDateTime  \\\n",
       "0                    LA  02/01/2012 09:46:15 PM                  NaN   \n",
       "1                    LA  01/05/2012 04:41:08 AM                  NaN   \n",
       "2                    LA  01/06/2012 02:37:06 AM                  NaN   \n",
       "3                   NaN  01/25/2012 04:11:40 AM                  NaN   \n",
       "4                    LA  02/03/2012 11:12:38 AM                  NaN   \n",
       "\n",
       "   Longitude   Latitude    Zip_y                BlockAddress  \n",
       "0 -90.065579  29.951030  70130.0              003XX Canal St  \n",
       "1 -90.067845  29.956291  70112.0              008XX Conti St  \n",
       "2 -90.067845  29.956291  70112.0              008XX Conti St  \n",
       "3 -90.058637  29.961427  70116.0           005XX Barracks St  \n",
       "4 -90.045066  29.971016  70117.0  Montegut St & N Villere St  \n",
       "\n",
       "[5 rows x 51 columns]"
      ]
     },
     "execution_count": 4,
     "metadata": {},
     "output_type": "execute_result"
    }
   ],
   "source": [
    "stop_search.head()"
   ]
  },
  {
   "cell_type": "code",
   "execution_count": 163,
   "metadata": {
    "collapsed": false
   },
   "outputs": [],
   "source": [
    "# count the number of crimes within each day\n",
    "crime_date = pd.to_datetime(stop_search['TimeCreate'])\n",
    "year = crime_date.dt.year\n",
    "month = crime_date.dt.month\n",
    "day = crime_date.dt.day\n",
    "crime_date = pd.to_datetime(year*10000 + month*100 + day, format='%Y%m%d')\n",
    "\n",
    "crime_count = pd.DataFrame({'Number': np.repeat(1, stop_search.shape[0]),\n",
    "                            'Date': crime_date,\n",
    "                           }, index = None)\n",
    "\n",
    "crime_sum = crime_count.groupby(['Date'])['Number'].sum()\n",
    "crime_sum = pd.DataFrame(crime_sum)"
   ]
  },
  {
   "cell_type": "code",
   "execution_count": 170,
   "metadata": {
    "collapsed": true
   },
   "outputs": [],
   "source": [
    "# count the number of stops and searches within each day\n",
    "stop_date = pd.to_datetime(stop_search['EventDate'])\n",
    "year = stop_date.dt.year\n",
    "month = stop_date.dt.month\n",
    "day = stop_date.dt.day\n",
    "stop_date = pd.to_datetime(year*10000 + month*100 + day, format='%Y%m%d')\n",
    "\n",
    "stop_count = pd.DataFrame({'Number': np.repeat(1, stop_search.shape[0]),\n",
    "                           'Date': stop_date,\n",
    "                          }, index = None)\n",
    "\n",
    "stop_sum = stop_count.groupby(['Date'])['Number'].sum()\n",
    "stop_sum = pd.DataFrame(stop_sum)"
   ]
  },
  {
   "cell_type": "code",
   "execution_count": 249,
   "metadata": {
    "collapsed": false
   },
   "outputs": [],
   "source": [
    "def countCrimeStopInTimeWindow(crimeData, stopData, timeFrame, timeWindow):\n",
    "    # timeFrame - timeWindow\n",
    "    # month - month / 2 weeks / week\n",
    "    # 2 weeks - 2 weeks / week / day\n",
    "    # week - week / day\n",
    "    stopDate = []\n",
    "    crimeSum = []\n",
    "    stopSum = []\n",
    "    \n",
    "    if timeFrame == \"month\":\n",
    "        if timeWindow == \"month\":\n",
    "            window = 30\n",
    "        elif timeWindow == \"2 weeks\":\n",
    "            window = 15\n",
    "        elif timeWindow == \"week\":\n",
    "            window = 7\n",
    "        for year in range(2012, 2017):\n",
    "            for month in range(1, 13):\n",
    "                stopStart = stopData.index.searchsorted(dt.datetime(year, month, 1))\n",
    "                crimeStart = stopStart\n",
    "                if month in [1, 3, 5, 7, 8, 10, 12]:\n",
    "                    stopEnd = stopData.index.searchsorted(dt.datetime(year, month, 31))\n",
    "                elif month in [4, 6, 9, 11]:\n",
    "                    stopEnd = stopData.index.searchsorted(dt.datetime(year, month, 30))\n",
    "                else:\n",
    "                    stopEnd = stopData.index.searchsorted(dt.datetime(year, month, 28))\n",
    "                crimeEnd = stopEnd + window\n",
    "                stopDate.append(str(year) + \"-\" + str(month))\n",
    "                stopSum.append(int(sum(stopData.ix[stopStart:stopEnd].values)))\n",
    "                crimeSum.append(int(sum(crimeData.ix[crimeStart:crimeEnd].values)))\n",
    "                \n",
    "    \n",
    "    if timeFrame == \"2 weeks\":\n",
    "        if timeWindow == \"2 weeks\":\n",
    "            window = 15\n",
    "        elif timeWindow == \"week\":\n",
    "            window = 7\n",
    "        elif timeWindow == \"day\":\n",
    "            window = 1\n",
    "        for year in range(2012, 2017):\n",
    "            for month in range(1, 13):\n",
    "                for half in [1, 2]:\n",
    "                    stopStart = stopData.index.searchsorted(dt.datetime(year, month, 1 + 15 * (half - 1)))\n",
    "                    crimeStart = stopStart\n",
    "                    if half == 1:\n",
    "                        stopEnd = stopData.index.searchsorted(dt.datetime(year, month, 15))\n",
    "                    else:\n",
    "                        if month in [1, 3, 5, 7, 8, 10, 12]:\n",
    "                            stopEnd = stopData.index.searchsorted(dt.datetime(year, month, 31))\n",
    "                        elif month in [4, 6, 9, 11]:\n",
    "                            stopEnd = stopData.index.searchsorted(dt.datetime(year, month, 30))\n",
    "                        else:\n",
    "                            stopEnd = stopData.index.searchsorted(dt.datetime(year, month, 28))\n",
    "                    crimeEnd = stopEnd + window\n",
    "                    stopDate.append(str(year) + \"-\" + str(month) + \"-\" + str(half))\n",
    "                    stopSum.append(int(sum(stopData.ix[stopStart:stopEnd].values)))\n",
    "                    crimeSum.append(int(sum(crimeData.ix[crimeStart:crimeEnd].values)))\n",
    "                    \n",
    "                    \n",
    "    if timeFrame == \"week\":\n",
    "        numWeek = int(len(crimeData) / 7)\n",
    "        if timeWindow == \"week\":\n",
    "            window = 7\n",
    "        if timeWindow == \"day\":\n",
    "            window = 1\n",
    "        for year in range(2012, 2017):\n",
    "            for week in range(numWeek):\n",
    "                stopStart = stopData.index.searchsorted(dt.datetime(2012, 1, 2)) + 7 * (week - 1)\n",
    "                crimeStart = stopStart\n",
    "                stopEnd = stopStart + 7\n",
    "                crimeEnd = stopEnd + window\n",
    "                stopDate.append(str(year) + \"-\" + str(week))\n",
    "                stopSum.append(int(sum(stopData.ix[stopStart:stopEnd].values)))\n",
    "                crimeSum.append(int(sum(crimeData.ix[crimeStart:crimeEnd].values)))\n",
    "                               \n",
    "    return [stopDate, crimeSum, stopSum]"
   ]
  },
  {
   "cell_type": "code",
   "execution_count": 250,
   "metadata": {
    "collapsed": false
   },
   "outputs": [],
   "source": [
    "month_month = countCrimeStopInTimeWindow(crime_sum, stop_sum, \"month\", \"month\")\n",
    "month_twoWeeks = countCrimeStopInTimeWindow(crime_sum, stop_sum, \"month\", \"2 weeks\")\n",
    "month_week = countCrimeStopInTimeWindow(crime_sum, stop_sum, \"month\", \"week\")\n",
    "twoWeeks_twoWeeks = countCrimeStopInTimeWindow(crime_sum, stop_sum, \"2 weeks\", \"2 weeks\")\n",
    "twoWeeks_week = countCrimeStopInTimeWindow(crime_sum, stop_sum, \"2 weeks\", \"week\")\n",
    "twoWeeks_day = countCrimeStopInTimeWindow(crime_sum, stop_sum, \"2 weeks\", \"week\")\n",
    "week_week = countCrimeStopInTimeWindow(crime_sum, stop_sum, \"week\", \"week\")\n",
    "week_day = countCrimeStopInTimeWindow(crime_sum, stop_sum, \"week\", \"day\")"
   ]
  },
  {
   "cell_type": "code",
   "execution_count": 247,
   "metadata": {
    "collapsed": false
   },
   "outputs": [],
   "source": [
    "mm_cor = np.corrcoef(month_month[1], month_month[2])[0, 1]\n",
    "mtw_cor = np.corrcoef(month_twoWeeks[1], month_twoWeeks[2])[0, 1]\n",
    "mw_cor = np.corrcoef(month_week[1], month_week[2])[0, 1]\n",
    "twtw_cor = np.corrcoef(twoWeeks_twoWeeks[1], twoWeeks_twoWeeks[2])[0, 1]\n",
    "tww_cor = np.corrcoef(twoWeeks_week[1], twoWeeks_week[2])[0, 1]\n",
    "twd_cor = np.corrcoef(twoWeeks_day[1], twoWeeks_day[2])[0, 1]\n",
    "ww_cor = np.corrcoef(week_week[1], week_week[2])[0, 1]\n",
    "wwd_cor = np.corrcoef(week_day[1], week_day[2])[0, 1]"
   ]
  },
  {
   "cell_type": "code",
   "execution_count": 252,
   "metadata": {
    "collapsed": false,
    "scrolled": true
   },
   "outputs": [
    {
     "name": "stdout",
     "output_type": "stream",
     "text": [
      "0.80685621989 0.856603219695 0.876043310693 0.72419571316 0.782920156526 0.782920156526 0.323821189302 0.400585979357\n"
     ]
    }
   ],
   "source": [
    "print(mm_cor, mtw_cor, mw_cor, twtw_cor, tww_cor, twd_cor, ww_cor, wwd_cor)"
   ]
  },
  {
   "cell_type": "code",
   "execution_count": 258,
   "metadata": {
    "collapsed": true
   },
   "outputs": [],
   "source": [
    "mm_table = pd.DataFrame({'Stop': month_month[1],\n",
    "                         'Crime': month_month[2],\n",
    "                         }, index = month_month[0])"
   ]
  },
  {
   "cell_type": "code",
   "execution_count": 265,
   "metadata": {
    "collapsed": false
   },
   "outputs": [
    {
     "data": {
      "text/plain": [
       "<matplotlib.axes._subplots.AxesSubplot at 0x220d7aa24e0>"
      ]
     },
     "execution_count": 265,
     "metadata": {},
     "output_type": "execute_result"
    },
    {
     "data": {
      "image/png": "[encoded data removed]",
      "text/plain": [
       "<matplotlib.figure.Figure at 0x220d78890f0>"
      ]
     },
     "metadata": {},
     "output_type": "display_data"
    }
   ],
   "source": [
    "from pandas import Series\n",
    "timeData1 = Series(month_month[1], index=month_month[0])\n",
    "timeData2 = Series(month_month[2], index=month_month[0])\n",
    "timeData2.plot()\n",
    "timeData1.plot()"
   ]
  },
  {
   "cell_type": "code",
   "execution_count": 255,
   "metadata": {
    "collapsed": false
   },
   "outputs": [
    {
     "data": {
      "image/png": "[encoded data removed]",
      "text/plain": [
       "<matplotlib.figure.Figure at 0x220d7aa9eb8>"
      ]
     },
     "metadata": {},
     "output_type": "display_data"
    }
   ],
   "source": [
    "fig = plt.figure(dpi = 100, figsize = (30, 60))\n",
    "ax = fig.add_subplot(1, 2, 1)\n",
    "ax.plot = sns.regplot(x = 'Stop', y = 'Crime', data = mm_table) "
   ]
  },
  {
   "cell_type": "code",
   "execution_count": null,
   "metadata": {
    "collapsed": true
   },
   "outputs": [],
   "source": []
  },
  {
   "cell_type": "code",
   "execution_count": null,
   "metadata": {
    "collapsed": true
   },
   "outputs": [],
   "source": []
  },
  {
   "cell_type": "code",
   "execution_count": null,
   "metadata": {
    "collapsed": true
   },
   "outputs": [],
   "source": []
  },
  {
   "cell_type": "code",
   "execution_count": 251,
   "metadata": {
    "collapsed": false,
    "scrolled": true
   },
   "outputs": [
    {
     "name": "stdout",
     "output_type": "stream",
     "text": [
      "60\n",
      "True\n",
      "60\n",
      "True\n",
      "60\n",
      "True\n",
      "120\n",
      "True\n",
      "120\n",
      "True\n",
      "120\n",
      "True\n",
      "700\n",
      "True\n",
      "700\n",
      "True\n"
     ]
    }
   ],
   "source": [
    "print(len(month_month[1]))\n",
    "print(len(month_month[1]) == len(month_month[2]))\n",
    "\n",
    "print(len(month_twoWeeks[1]))\n",
    "print(len(month_twoWeeks[1]) == len(month_twoWeeks[2]))\n",
    "\n",
    "print(len(month_week[1]))\n",
    "print(len(month_week[1]) == len(month_week[2]))\n",
    "\n",
    "print(len(twoWeeks_twoWeeks[1]))\n",
    "print(len(twoWeeks_twoWeeks[1]) == len(twoWeeks_twoWeeks[2]))\n",
    "\n",
    "print(len(twoWeeks_week[1]))\n",
    "print(len(twoWeeks_week[1]) == len(twoWeeks_week[2]))\n",
    "\n",
    "print(len(twoWeeks_day[1]))\n",
    "print(len(twoWeeks_day[1]) == len(twoWeeks_day[2]))\n",
    "\n",
    "print(len(week_week[1]))\n",
    "print(len(week_week[1]) == len(week_week[2]))\n",
    "\n",
    "print(len(week_day[1]))\n",
    "print(len(week_day[1]) == len(week_day[2]))"
   ]
  },
  {
   "cell_type": "code",
   "execution_count": null,
   "metadata": {
    "collapsed": true
   },
   "outputs": [],
   "source": []
  },
  {
   "cell_type": "code",
   "execution_count": null,
   "metadata": {
    "collapsed": true
   },
   "outputs": [],
   "source": []
  },
  {
   "cell_type": "code",
   "execution_count": null,
   "metadata": {
    "collapsed": true
   },
   "outputs": [],
   "source": []
  },
  {
   "cell_type": "code",
   "execution_count": null,
   "metadata": {
    "collapsed": true
   },
   "outputs": [],
   "source": []
  },
  {
   "cell_type": "code",
   "execution_count": 208,
   "metadata": {
    "collapsed": false
   },
   "outputs": [
    {
     "ename": "SyntaxError",
     "evalue": "invalid syntax (<ipython-input-208-02e3d171e7d5>, line 51)",
     "output_type": "error",
     "traceback": [
      "\u001b[0;36m  File \u001b[0;32m\"<ipython-input-208-02e3d171e7d5>\"\u001b[0;36m, line \u001b[0;32m51\u001b[0m\n\u001b[0;31m    if timeWindow = \"2 week\":\u001b[0m\n\u001b[0m                  ^\u001b[0m\n\u001b[0;31mSyntaxError\u001b[0m\u001b[0;31m:\u001b[0m invalid syntax\n"
     ]
    }
   ],
   "source": [
    "def countCrimeStopInTimeWindow(crimeData, stopData, timeFrame, timeWindow):\n",
    "    # timeFrame - timeWindow\n",
    "    # month - month / 2 weeks / week\n",
    "    # 2 weeks - week / day\n",
    "    # week - day\n",
    "    crimeDate = []\n",
    "    crimeSum = []\n",
    "    stopSum = []\n",
    "    \n",
    "    if timeFrame == \"month\":\n",
    "        for year in range(2012, 2017):\n",
    "            for month in range(1, 13):\n",
    "                crimeStart = crimeData.index.searchsorted(dt.datetime(year, month, 1))\n",
    "                stopStart = crimeStart\n",
    "                if month in [1, 3, 5, 7, 8, 10, 12]:\n",
    "                    crimeEnd = crimeData.index.searchsorted(dt.datetime(year, month, 31))\n",
    "                elif month in [4, 6, 9, 11]:\n",
    "                    crimeEnd = crimeData.index.searchsorted(dt.datetime(year, month, 30))\n",
    "                else:\n",
    "                    crimeEnd = crimeData.index.searchsorted(dt.datetime(year, month, 28))\n",
    "                crimeDate.append(str(year) + \"-\" + str(month))\n",
    "                crimeSum.append(int(sum(crimeData.ix[crimeStart:crimeEnd].values)))\n",
    "                \n",
    "        if timeWindow == \"month\":\n",
    "            for year in range(2012, 2017):\n",
    "                for month in range(1, 13):    \n",
    "                    if month == 12:\n",
    "                        stopEnd = stopData.index.searchsorted(dt.datetime(year + 1, 1, 31))\n",
    "                    elif month in [2, 4, 6, 7, 9, 11]:\n",
    "                        stopEnd = stopData.index.searchsorted(dt.datetime(year, month + 1, 31))\n",
    "                    elif month in [3, 5, 8, 10]:\n",
    "                        stopEnd = stopData.index.searchsorted(dt.datetime(year, month + 1, 30))\n",
    "                    else:\n",
    "                        stopEnd = stopData.index.searchsorted(dt.datetime(year, month + 1, 28))\n",
    "                    stopSum.append(int(sum(stopData.ix[stopStart:stopEnd].values)))\n",
    "        \n",
    "        else:\n",
    "            if timeWindow == \"2 weeks\":\n",
    "                window = 15\n",
    "            elif timeWindow == \"week\":\n",
    "                window = 7\n",
    "            for year in range(2012, 2017):\n",
    "                for month in range(1, 13): \n",
    "                    if month == 12:\n",
    "                        stopEnd = stopData.index.searchsorted(dt.datetime(year + 1, 1, window))\n",
    "                    else:\n",
    "                        stopEnd = stopData.index.searchsorted(dt.datetime(year, month + 1, window))\n",
    "                    stopSum.append(int(sum(stopData.ix[stopStart:stopEnd].values)))\n",
    "    \n",
    "    if timeFrame == \"2 weeks\":\n",
    "        if timeWindow = \"2 week\":\n",
    "            window = 15\n",
    "        elif timeWindow = \"week:\n",
    "            window = 7\n",
    "        elif timeWindow = \"day\":\n",
    "            window = 1\n",
    "        for year in range(2012, 2017):\n",
    "            for month in range(1, 13):\n",
    "                for half in [1, 2]:\n",
    "                    crimeStart = crimeData.index.searchsorted(dt.datetime(year, month, 1 + 15 * (half - 1)))\n",
    "                    stopStart = crimeStart\n",
    "                    if half == 1:\n",
    "                        crimeEnd = crimeData.index.searchsorted(dt.datetime(year, month, 15))\n",
    "                        if month == 2 and window == 15:\n",
    "                            stopEnd = crimeData.index.searchsorted(dt.datetime(year, month + 1, 2))\n",
    "                        else:\n",
    "                            stopEnd = crimeData.index.searchsorted(dt.datetime(year, month, 15 + window))\n",
    "                    else:\n",
    "                        stopEnd = crimeData.index.searchsorted(dt.datetime(year, month + 1, window))\n",
    "                        if month in [1, 3, 5, 7, 8, 10, 12]:\n",
    "                            crimeEnd = crimeData.index.searchsorted(dt.datetime(year, month, 31))\n",
    "                        elif month in [4, 6, 9, 11]:\n",
    "                            crimeEnd = crimeData.index.searchsorted(dt.datetime(year, month, 30))\n",
    "                        else:\n",
    "                            crimeEnd = crimeData.index.searchsorted(dt.datetime(year, month, 28))\n",
    "                    crimeDate.append(str(year) + \"-\" + str(month) + \"-\" + str(half))\n",
    "                    crimeSum.append(int(sum(crimeData.ix[crimeStart:crimeEnd].values)))\n",
    "                    stopSum.append(int(sum(stopData.ix[stopStart:stopEnd].values)))\n",
    "                    \n",
    "    if timeFrame == \"week\":\n",
    "        if timeWindow == \"week:\n",
    "            window = 7\n",
    "        if timeWindow == \"day\":\n",
    "            window = 1\n",
    "        for year in range(2012, 2017):\n",
    "            for month in range(1, 13):\n",
    "                for week in [1, 2]:\n",
    "                    crimeStart = crimeData.index.searchsorted(dt.datetime(year, month, 1 + 15 * (half - 1)))\n",
    "                    stopStart = crimeStart\n",
    "                    if half == 1:\n",
    "                        crimeEnd = crimeData.index.searchsorted(dt.datetime(year, month, 15))\n",
    "                        if month == 2 and window == 15:\n",
    "                            stopEnd = crimeData.index.searchsorted(dt.datetime(year, month + 1, 2))\n",
    "                        else:\n",
    "                            stopEnd = crimeData.index.searchsorted(dt.datetime(year, month, 15 + window))\n",
    "                    else:\n",
    "                        stopEnd = crimeData.index.searchsorted(dt.datetime(year, month + 1, window))\n",
    "                        if month in [1, 3, 5, 7, 8, 10, 12]:\n",
    "                            crimeEnd = crimeData.index.searchsorted(dt.datetime(year, month, 31))\n",
    "                        elif month in [4, 6, 9, 11]:\n",
    "                            crimeEnd = crimeData.index.searchsorted(dt.datetime(year, month, 30))\n",
    "                        else:\n",
    "                            crimeEnd = crimeData.index.searchsorted(dt.datetime(year, month, 28))\n",
    "                    crimeDate.append(str(year) + \"-\" + str(month) + \"-\" + str(half))\n",
    "                    crimeSum.append(int(sum(crimeData.ix[crimeStart:crimeEnd].values)))\n",
    "                    stopSum.append(int(sum(stopData.ix[stopStart:stopEnd].values)))\n",
    "        \n",
    "        \n",
    "    \n",
    "                    \n",
    "    return [crimeDate, crimeSum, stopSum]"
   ]
  },
  {
   "cell_type": "code",
   "execution_count": null,
   "metadata": {
    "collapsed": true
   },
   "outputs": [],
   "source": []
  },
  {
   "cell_type": "code",
   "execution_count": null,
   "metadata": {
    "collapsed": true
   },
   "outputs": [],
   "source": []
  },
  {
   "cell_type": "code",
   "execution_count": null,
   "metadata": {
    "collapsed": true
   },
   "outputs": [],
   "source": []
  },
  {
   "cell_type": "code",
   "execution_count": 204,
   "metadata": {
    "collapsed": false
   },
   "outputs": [
    {
     "data": {
      "text/plain": [
       "141.14285714285714"
      ]
     },
     "execution_count": 204,
     "metadata": {},
     "output_type": "execute_result"
    }
   ],
   "source": [
    "len(stop_sum) / 7"
   ]
  },
  {
   "cell_type": "code",
   "execution_count": 171,
   "metadata": {
    "collapsed": false
   },
   "outputs": [
    {
     "data": {
      "text/html": [
       "<div>\n",
       "<table border=\"1\" class=\"dataframe\">\n",
       "  <thead>\n",
       "    <tr style=\"text-align: right;\">\n",
       "      <th></th>\n",
       "      <th>Number</th>\n",
       "    </tr>\n",
       "    <tr>\n",
       "      <th>Date</th>\n",
       "      <th></th>\n",
       "    </tr>\n",
       "  </thead>\n",
       "  <tbody>\n",
       "    <tr>\n",
       "      <th>2012-01-05</th>\n",
       "      <td>5</td>\n",
       "    </tr>\n",
       "    <tr>\n",
       "      <th>2012-01-06</th>\n",
       "      <td>8</td>\n",
       "    </tr>\n",
       "    <tr>\n",
       "      <th>2012-01-09</th>\n",
       "      <td>2</td>\n",
       "    </tr>\n",
       "    <tr>\n",
       "      <th>2012-01-10</th>\n",
       "      <td>1</td>\n",
       "    </tr>\n",
       "    <tr>\n",
       "      <th>2012-01-13</th>\n",
       "      <td>2</td>\n",
       "    </tr>\n",
       "    <tr>\n",
       "      <th>2012-01-15</th>\n",
       "      <td>1</td>\n",
       "    </tr>\n",
       "    <tr>\n",
       "      <th>2012-01-17</th>\n",
       "      <td>1</td>\n",
       "    </tr>\n",
       "    <tr>\n",
       "      <th>2012-01-20</th>\n",
       "      <td>1</td>\n",
       "    </tr>\n",
       "    <tr>\n",
       "      <th>2012-01-21</th>\n",
       "      <td>3</td>\n",
       "    </tr>\n",
       "    <tr>\n",
       "      <th>2012-01-24</th>\n",
       "      <td>1</td>\n",
       "    </tr>\n",
       "    <tr>\n",
       "      <th>2012-01-27</th>\n",
       "      <td>1</td>\n",
       "    </tr>\n",
       "    <tr>\n",
       "      <th>2012-01-29</th>\n",
       "      <td>1</td>\n",
       "    </tr>\n",
       "    <tr>\n",
       "      <th>2012-01-31</th>\n",
       "      <td>6</td>\n",
       "    </tr>\n",
       "    <tr>\n",
       "      <th>2012-02-01</th>\n",
       "      <td>1</td>\n",
       "    </tr>\n",
       "    <tr>\n",
       "      <th>2012-02-03</th>\n",
       "      <td>2</td>\n",
       "    </tr>\n",
       "    <tr>\n",
       "      <th>2012-02-06</th>\n",
       "      <td>1</td>\n",
       "    </tr>\n",
       "    <tr>\n",
       "      <th>2012-02-07</th>\n",
       "      <td>1</td>\n",
       "    </tr>\n",
       "    <tr>\n",
       "      <th>2012-02-10</th>\n",
       "      <td>1</td>\n",
       "    </tr>\n",
       "    <tr>\n",
       "      <th>2012-02-11</th>\n",
       "      <td>1</td>\n",
       "    </tr>\n",
       "    <tr>\n",
       "      <th>2012-02-12</th>\n",
       "      <td>1</td>\n",
       "    </tr>\n",
       "    <tr>\n",
       "      <th>2012-02-14</th>\n",
       "      <td>1</td>\n",
       "    </tr>\n",
       "    <tr>\n",
       "      <th>2012-02-17</th>\n",
       "      <td>2</td>\n",
       "    </tr>\n",
       "    <tr>\n",
       "      <th>2012-02-28</th>\n",
       "      <td>1</td>\n",
       "    </tr>\n",
       "    <tr>\n",
       "      <th>2012-02-29</th>\n",
       "      <td>1</td>\n",
       "    </tr>\n",
       "    <tr>\n",
       "      <th>2012-03-04</th>\n",
       "      <td>6</td>\n",
       "    </tr>\n",
       "    <tr>\n",
       "      <th>2012-03-05</th>\n",
       "      <td>3</td>\n",
       "    </tr>\n",
       "    <tr>\n",
       "      <th>2012-03-08</th>\n",
       "      <td>1</td>\n",
       "    </tr>\n",
       "    <tr>\n",
       "      <th>2012-03-11</th>\n",
       "      <td>1</td>\n",
       "    </tr>\n",
       "    <tr>\n",
       "      <th>2012-03-12</th>\n",
       "      <td>3</td>\n",
       "    </tr>\n",
       "    <tr>\n",
       "      <th>2012-03-14</th>\n",
       "      <td>2</td>\n",
       "    </tr>\n",
       "    <tr>\n",
       "      <th>...</th>\n",
       "      <td>...</td>\n",
       "    </tr>\n",
       "    <tr>\n",
       "      <th>2016-11-26</th>\n",
       "      <td>3</td>\n",
       "    </tr>\n",
       "    <tr>\n",
       "      <th>2016-11-27</th>\n",
       "      <td>3</td>\n",
       "    </tr>\n",
       "    <tr>\n",
       "      <th>2016-11-28</th>\n",
       "      <td>1</td>\n",
       "    </tr>\n",
       "    <tr>\n",
       "      <th>2016-11-29</th>\n",
       "      <td>6</td>\n",
       "    </tr>\n",
       "    <tr>\n",
       "      <th>2016-11-30</th>\n",
       "      <td>1</td>\n",
       "    </tr>\n",
       "    <tr>\n",
       "      <th>2016-12-01</th>\n",
       "      <td>3</td>\n",
       "    </tr>\n",
       "    <tr>\n",
       "      <th>2016-12-02</th>\n",
       "      <td>2</td>\n",
       "    </tr>\n",
       "    <tr>\n",
       "      <th>2016-12-03</th>\n",
       "      <td>2</td>\n",
       "    </tr>\n",
       "    <tr>\n",
       "      <th>2016-12-05</th>\n",
       "      <td>6</td>\n",
       "    </tr>\n",
       "    <tr>\n",
       "      <th>2016-12-06</th>\n",
       "      <td>1</td>\n",
       "    </tr>\n",
       "    <tr>\n",
       "      <th>2016-12-07</th>\n",
       "      <td>8</td>\n",
       "    </tr>\n",
       "    <tr>\n",
       "      <th>2016-12-08</th>\n",
       "      <td>2</td>\n",
       "    </tr>\n",
       "    <tr>\n",
       "      <th>2016-12-09</th>\n",
       "      <td>3</td>\n",
       "    </tr>\n",
       "    <tr>\n",
       "      <th>2016-12-10</th>\n",
       "      <td>2</td>\n",
       "    </tr>\n",
       "    <tr>\n",
       "      <th>2016-12-11</th>\n",
       "      <td>3</td>\n",
       "    </tr>\n",
       "    <tr>\n",
       "      <th>2016-12-12</th>\n",
       "      <td>1</td>\n",
       "    </tr>\n",
       "    <tr>\n",
       "      <th>2016-12-13</th>\n",
       "      <td>3</td>\n",
       "    </tr>\n",
       "    <tr>\n",
       "      <th>2016-12-17</th>\n",
       "      <td>3</td>\n",
       "    </tr>\n",
       "    <tr>\n",
       "      <th>2016-12-19</th>\n",
       "      <td>2</td>\n",
       "    </tr>\n",
       "    <tr>\n",
       "      <th>2016-12-21</th>\n",
       "      <td>1</td>\n",
       "    </tr>\n",
       "    <tr>\n",
       "      <th>2016-12-22</th>\n",
       "      <td>2</td>\n",
       "    </tr>\n",
       "    <tr>\n",
       "      <th>2016-12-25</th>\n",
       "      <td>2</td>\n",
       "    </tr>\n",
       "    <tr>\n",
       "      <th>2016-12-26</th>\n",
       "      <td>1</td>\n",
       "    </tr>\n",
       "    <tr>\n",
       "      <th>2016-12-28</th>\n",
       "      <td>1</td>\n",
       "    </tr>\n",
       "    <tr>\n",
       "      <th>2017-01-03</th>\n",
       "      <td>2</td>\n",
       "    </tr>\n",
       "    <tr>\n",
       "      <th>2017-01-04</th>\n",
       "      <td>2</td>\n",
       "    </tr>\n",
       "    <tr>\n",
       "      <th>2017-01-05</th>\n",
       "      <td>1</td>\n",
       "    </tr>\n",
       "    <tr>\n",
       "      <th>2017-01-10</th>\n",
       "      <td>1</td>\n",
       "    </tr>\n",
       "    <tr>\n",
       "      <th>2017-01-11</th>\n",
       "      <td>1</td>\n",
       "    </tr>\n",
       "    <tr>\n",
       "      <th>2017-01-13</th>\n",
       "      <td>1</td>\n",
       "    </tr>\n",
       "  </tbody>\n",
       "</table>\n",
       "<p>988 rows × 1 columns</p>\n",
       "</div>"
      ],
      "text/plain": [
       "            Number\n",
       "Date              \n",
       "2012-01-05       5\n",
       "2012-01-06       8\n",
       "2012-01-09       2\n",
       "2012-01-10       1\n",
       "2012-01-13       2\n",
       "2012-01-15       1\n",
       "2012-01-17       1\n",
       "2012-01-20       1\n",
       "2012-01-21       3\n",
       "2012-01-24       1\n",
       "2012-01-27       1\n",
       "2012-01-29       1\n",
       "2012-01-31       6\n",
       "2012-02-01       1\n",
       "2012-02-03       2\n",
       "2012-02-06       1\n",
       "2012-02-07       1\n",
       "2012-02-10       1\n",
       "2012-02-11       1\n",
       "2012-02-12       1\n",
       "2012-02-14       1\n",
       "2012-02-17       2\n",
       "2012-02-28       1\n",
       "2012-02-29       1\n",
       "2012-03-04       6\n",
       "2012-03-05       3\n",
       "2012-03-08       1\n",
       "2012-03-11       1\n",
       "2012-03-12       3\n",
       "2012-03-14       2\n",
       "...            ...\n",
       "2016-11-26       3\n",
       "2016-11-27       3\n",
       "2016-11-28       1\n",
       "2016-11-29       6\n",
       "2016-11-30       1\n",
       "2016-12-01       3\n",
       "2016-12-02       2\n",
       "2016-12-03       2\n",
       "2016-12-05       6\n",
       "2016-12-06       1\n",
       "2016-12-07       8\n",
       "2016-12-08       2\n",
       "2016-12-09       3\n",
       "2016-12-10       2\n",
       "2016-12-11       3\n",
       "2016-12-12       1\n",
       "2016-12-13       3\n",
       "2016-12-17       3\n",
       "2016-12-19       2\n",
       "2016-12-21       1\n",
       "2016-12-22       2\n",
       "2016-12-25       2\n",
       "2016-12-26       1\n",
       "2016-12-28       1\n",
       "2017-01-03       2\n",
       "2017-01-04       2\n",
       "2017-01-05       1\n",
       "2017-01-10       1\n",
       "2017-01-11       1\n",
       "2017-01-13       1\n",
       "\n",
       "[988 rows x 1 columns]"
      ]
     },
     "execution_count": 171,
     "metadata": {},
     "output_type": "execute_result"
    }
   ],
   "source": [
    "stop_sum"
   ]
  },
  {
   "cell_type": "code",
   "execution_count": 169,
   "metadata": {
    "collapsed": false
   },
   "outputs": [
    {
     "data": {
      "text/plain": [
       "59"
      ]
     },
     "execution_count": 169,
     "metadata": {},
     "output_type": "execute_result"
    }
   ],
   "source": [
    "int(sum(crime_sum.ix[start:end].values))"
   ]
  },
  {
   "cell_type": "code",
   "execution_count": 198,
   "metadata": {
    "collapsed": false
   },
   "outputs": [
    {
     "data": {
      "text/plain": [
       "980"
      ]
     },
     "execution_count": 198,
     "metadata": {},
     "output_type": "execute_result"
    }
   ],
   "source": [
    "end"
   ]
  },
  {
   "cell_type": "code",
   "execution_count": 202,
   "metadata": {
    "collapsed": false
   },
   "outputs": [
    {
     "data": {
      "text/html": [
       "<div>\n",
       "<table border=\"1\" class=\"dataframe\">\n",
       "  <thead>\n",
       "    <tr style=\"text-align: right;\">\n",
       "      <th></th>\n",
       "      <th>Number</th>\n",
       "    </tr>\n",
       "    <tr>\n",
       "      <th>Date</th>\n",
       "      <th></th>\n",
       "    </tr>\n",
       "  </thead>\n",
       "  <tbody>\n",
       "    <tr>\n",
       "      <th>2016-12-02</th>\n",
       "      <td>1</td>\n",
       "    </tr>\n",
       "    <tr>\n",
       "      <th>2016-12-03</th>\n",
       "      <td>1</td>\n",
       "    </tr>\n",
       "    <tr>\n",
       "      <th>2016-12-04</th>\n",
       "      <td>1</td>\n",
       "    </tr>\n",
       "    <tr>\n",
       "      <th>2016-12-06</th>\n",
       "      <td>1</td>\n",
       "    </tr>\n",
       "    <tr>\n",
       "      <th>2016-12-07</th>\n",
       "      <td>5</td>\n",
       "    </tr>\n",
       "    <tr>\n",
       "      <th>2016-12-08</th>\n",
       "      <td>1</td>\n",
       "    </tr>\n",
       "    <tr>\n",
       "      <th>2016-12-09</th>\n",
       "      <td>4</td>\n",
       "    </tr>\n",
       "    <tr>\n",
       "      <th>2016-12-10</th>\n",
       "      <td>4</td>\n",
       "    </tr>\n",
       "    <tr>\n",
       "      <th>2016-12-11</th>\n",
       "      <td>1</td>\n",
       "    </tr>\n",
       "    <tr>\n",
       "      <th>2016-12-12</th>\n",
       "      <td>2</td>\n",
       "    </tr>\n",
       "    <tr>\n",
       "      <th>2016-12-13</th>\n",
       "      <td>1</td>\n",
       "    </tr>\n",
       "    <tr>\n",
       "      <th>2016-12-17</th>\n",
       "      <td>4</td>\n",
       "    </tr>\n",
       "    <tr>\n",
       "      <th>2016-12-19</th>\n",
       "      <td>2</td>\n",
       "    </tr>\n",
       "    <tr>\n",
       "      <th>2016-12-20</th>\n",
       "      <td>1</td>\n",
       "    </tr>\n",
       "    <tr>\n",
       "      <th>2016-12-24</th>\n",
       "      <td>1</td>\n",
       "    </tr>\n",
       "    <tr>\n",
       "      <th>2016-12-25</th>\n",
       "      <td>2</td>\n",
       "    </tr>\n",
       "    <tr>\n",
       "      <th>2016-12-26</th>\n",
       "      <td>1</td>\n",
       "    </tr>\n",
       "  </tbody>\n",
       "</table>\n",
       "</div>"
      ],
      "text/plain": [
       "            Number\n",
       "Date              \n",
       "2016-12-02       1\n",
       "2016-12-03       1\n",
       "2016-12-04       1\n",
       "2016-12-06       1\n",
       "2016-12-07       5\n",
       "2016-12-08       1\n",
       "2016-12-09       4\n",
       "2016-12-10       4\n",
       "2016-12-11       1\n",
       "2016-12-12       2\n",
       "2016-12-13       1\n",
       "2016-12-17       4\n",
       "2016-12-19       2\n",
       "2016-12-20       1\n",
       "2016-12-24       1\n",
       "2016-12-25       2\n",
       "2016-12-26       1"
      ]
     },
     "execution_count": 202,
     "metadata": {},
     "output_type": "execute_result"
    }
   ],
   "source": [
    "start = crime_sum.index.searchsorted(dt.datetime(2016, 12, 2)) + 7\n",
    "\n",
    "end = crime_sum.index.searchsorted(dt.datetime(2018, 5, 4))\n",
    "\n",
    "crime_sum.ix[start:end]"
   ]
  },
  {
   "cell_type": "code",
   "execution_count": null,
   "metadata": {
    "collapsed": true
   },
   "outputs": [],
   "source": [
    "crime_date = pd.to_datetime(stop_search['TimeCreate'])\n",
    "year = crime_date.dt.year\n",
    "month = crime_date.dt.month\n",
    "day = crime_date.dt.day\n",
    "crime_date = pd.to_datetime(year*10000 + month*100 + day, format='%Y%m%d')\n",
    "\n",
    "crime_count = pd.DataFrame({'Number': np.repeat(1, stop_search.shape[0]),\n",
    "                            'Date': crime_date,\n",
    "                            }, index = None)\n",
    "\n",
    "crime_sum = crime_count.groupby(['Date'])['Number'].sum()"
   ]
  },
  {
   "cell_type": "code",
   "execution_count": 160,
   "metadata": {
    "collapsed": false,
    "scrolled": false
   },
   "outputs": [
    {
     "data": {
      "text/html": [
       "<div>\n",
       "<table border=\"1\" class=\"dataframe\">\n",
       "  <thead>\n",
       "    <tr style=\"text-align: right;\">\n",
       "      <th></th>\n",
       "      <th>Date</th>\n",
       "      <th>Number</th>\n",
       "    </tr>\n",
       "  </thead>\n",
       "  <tbody>\n",
       "    <tr>\n",
       "      <th>0</th>\n",
       "      <td>2012-01-01</td>\n",
       "      <td>1</td>\n",
       "    </tr>\n",
       "    <tr>\n",
       "      <th>188</th>\n",
       "      <td>2012-01-01</td>\n",
       "      <td>1</td>\n",
       "    </tr>\n",
       "  </tbody>\n",
       "</table>\n",
       "</div>"
      ],
      "text/plain": [
       "          Date  Number\n",
       "0   2012-01-01       1\n",
       "188 2012-01-01       1"
      ]
     },
     "execution_count": 160,
     "metadata": {},
     "output_type": "execute_result"
    }
   ],
   "source": [
    "crime_count[crime_count.Date == '2012-01-01']"
   ]
  },
  {
   "cell_type": "code",
   "execution_count": 165,
   "metadata": {
    "collapsed": false
   },
   "outputs": [
    {
     "data": {
      "text/plain": [
       "DatetimeIndex(['2012-01-01', '2012-01-02', '2012-01-05', '2012-01-06',\n",
       "               '2012-01-08', '2012-01-09', '2012-01-10', '2012-01-13',\n",
       "               '2012-01-15', '2012-01-20',\n",
       "               ...\n",
       "               '2016-12-10', '2016-12-11', '2016-12-12', '2016-12-13',\n",
       "               '2016-12-17', '2016-12-19', '2016-12-20', '2016-12-24',\n",
       "               '2016-12-25', '2016-12-26'],\n",
       "              dtype='datetime64[ns]', name='Date', length=980, freq=None)"
      ]
     },
     "execution_count": 165,
     "metadata": {},
     "output_type": "execute_result"
    }
   ],
   "source": []
  },
  {
   "cell_type": "code",
   "execution_count": null,
   "metadata": {
    "collapsed": true
   },
   "outputs": [],
   "source": [
    "crime_time = pd.DataFrame({'Year': year, \n",
    "                            'Month': month,\n",
    "                            'WeekofYear': weekofYear,\n",
    "                            'Day': day,\n",
    "                            'Number': np.repeat(1, stop_search.shape[0])\n",
    "                            }, index = None)"
   ]
  },
  {
   "cell_type": "code",
   "execution_count": null,
   "metadata": {
    "collapsed": true
   },
   "outputs": [],
   "source": []
  },
  {
   "cell_type": "code",
   "execution_count": null,
   "metadata": {
    "collapsed": true
   },
   "outputs": [],
   "source": []
  },
  {
   "cell_type": "code",
   "execution_count": 146,
   "metadata": {
    "collapsed": false,
    "scrolled": true
   },
   "outputs": [
    {
     "data": {
      "text/html": [
       "<div>\n",
       "<table border=\"1\" class=\"dataframe\">\n",
       "  <thead>\n",
       "    <tr style=\"text-align: right;\">\n",
       "      <th></th>\n",
       "      <th>Number</th>\n",
       "    </tr>\n",
       "    <tr>\n",
       "      <th>TimeCreate</th>\n",
       "      <th></th>\n",
       "    </tr>\n",
       "  </thead>\n",
       "  <tbody>\n",
       "    <tr>\n",
       "      <th>2012-01-01 20:04:00</th>\n",
       "      <td>1</td>\n",
       "    </tr>\n",
       "    <tr>\n",
       "      <th>2012-01-05 03:18:00</th>\n",
       "      <td>1</td>\n",
       "    </tr>\n",
       "    <tr>\n",
       "      <th>2012-01-05 03:18:00</th>\n",
       "      <td>1</td>\n",
       "    </tr>\n",
       "    <tr>\n",
       "      <th>2012-01-24 21:18:00</th>\n",
       "      <td>1</td>\n",
       "    </tr>\n",
       "    <tr>\n",
       "      <th>2012-02-03 10:16:00</th>\n",
       "      <td>1</td>\n",
       "    </tr>\n",
       "  </tbody>\n",
       "</table>\n",
       "</div>"
      ],
      "text/plain": [
       "                     Number\n",
       "TimeCreate                 \n",
       "2012-01-01 20:04:00       1\n",
       "2012-01-05 03:18:00       1\n",
       "2012-01-05 03:18:00       1\n",
       "2012-01-24 21:18:00       1\n",
       "2012-02-03 10:16:00       1"
      ]
     },
     "execution_count": 146,
     "metadata": {},
     "output_type": "execute_result"
    }
   ],
   "source": [
    "crime_time.head()"
   ]
  },
  {
   "cell_type": "code",
   "execution_count": 125,
   "metadata": {
    "collapsed": true
   },
   "outputs": [],
   "source": [
    "crime_date = pd.DataFrame(pd.to_datetime(stop_search['TimeCreate']))"
   ]
  },
  {
   "cell_type": "code",
   "execution_count": 134,
   "metadata": {
    "collapsed": true
   },
   "outputs": [],
   "source": [
    "crime_time = pd.DataFrame({'Number': np.repeat(1, stop_search.shape[0])\n",
    "                          }, index = pd.to_datetime(stop_search['TimeCreate']),)"
   ]
  },
  {
   "cell_type": "code",
   "execution_count": 144,
   "metadata": {
    "collapsed": false
   },
   "outputs": [],
   "source": [
    "df  = pd.DataFrame([1, 2, 3], index=[dt.datetime(2013, 1, 1), dt.datetime(2013, 1, 3), dt.datetime(2013, 1, 5)])"
   ]
  },
  {
   "cell_type": "code",
   "execution_count": 145,
   "metadata": {
    "collapsed": false
   },
   "outputs": [
    {
     "data": {
      "text/html": [
       "<div>\n",
       "<table border=\"1\" class=\"dataframe\">\n",
       "  <thead>\n",
       "    <tr style=\"text-align: right;\">\n",
       "      <th></th>\n",
       "      <th>0</th>\n",
       "    </tr>\n",
       "  </thead>\n",
       "  <tbody>\n",
       "    <tr>\n",
       "      <th>2013-01-03</th>\n",
       "      <td>2</td>\n",
       "    </tr>\n",
       "  </tbody>\n",
       "</table>\n",
       "</div>"
      ],
      "text/plain": [
       "            0\n",
       "2013-01-03  2"
      ]
     },
     "execution_count": 145,
     "metadata": {},
     "output_type": "execute_result"
    }
   ],
   "source": [
    "start = df.index.searchsorted(dt.datetime(2013, 1, 2))\n",
    "\n",
    "end = df.index.searchsorted(dt.datetime(2013, 1, 4))\n",
    "\n",
    "df.ix[start:end]"
   ]
  },
  {
   "cell_type": "code",
   "execution_count": 147,
   "metadata": {
    "collapsed": false
   },
   "outputs": [
    {
     "ename": "TypeError",
     "evalue": "unorderable types: int() > datetime.datetime()",
     "output_type": "error",
     "traceback": [
      "\u001b[0;31m---------------------------------------------------------------------------\u001b[0m",
      "\u001b[0;31mTypeError\u001b[0m                                 Traceback (most recent call last)",
      "\u001b[0;32m<ipython-input-147-3e741396525e>\u001b[0m in \u001b[0;36m<module>\u001b[0;34m()\u001b[0m\n\u001b[0;32m----> 1\u001b[0;31m \u001b[0mstart\u001b[0m \u001b[1;33m=\u001b[0m \u001b[0mcrime_date\u001b[0m\u001b[1;33m.\u001b[0m\u001b[0mindex\u001b[0m\u001b[1;33m.\u001b[0m\u001b[0msearchsorted\u001b[0m\u001b[1;33m(\u001b[0m\u001b[0mdatetime\u001b[0m\u001b[1;33m.\u001b[0m\u001b[0mdatetime\u001b[0m\u001b[1;33m(\u001b[0m\u001b[1;36m2014\u001b[0m\u001b[1;33m,\u001b[0m \u001b[1;36m1\u001b[0m\u001b[1;33m,\u001b[0m \u001b[1;36m2\u001b[0m\u001b[1;33m,\u001b[0m \u001b[1;36m0\u001b[0m\u001b[1;33m,\u001b[0m \u001b[1;36m0\u001b[0m\u001b[1;33m,\u001b[0m \u001b[1;36m0\u001b[0m\u001b[1;33m)\u001b[0m\u001b[1;33m)\u001b[0m\u001b[1;33m\u001b[0m\u001b[0m\n\u001b[0m\u001b[1;32m      2\u001b[0m \u001b[0mend\u001b[0m \u001b[1;33m=\u001b[0m \u001b[0mcrime_date\u001b[0m\u001b[1;33m.\u001b[0m\u001b[0mindex\u001b[0m\u001b[1;33m.\u001b[0m\u001b[0msearchsorted\u001b[0m\u001b[1;33m(\u001b[0m\u001b[0mdatetime\u001b[0m\u001b[1;33m.\u001b[0m\u001b[0mdatetime\u001b[0m\u001b[1;33m(\u001b[0m\u001b[1;36m2014\u001b[0m\u001b[1;33m,\u001b[0m \u001b[1;36m5\u001b[0m\u001b[1;33m,\u001b[0m \u001b[1;36m4\u001b[0m\u001b[1;33m,\u001b[0m \u001b[1;36m0\u001b[0m\u001b[1;33m,\u001b[0m \u001b[1;36m0\u001b[0m\u001b[1;33m,\u001b[0m \u001b[1;36m0\u001b[0m\u001b[1;33m)\u001b[0m\u001b[1;33m)\u001b[0m\u001b[1;33m\u001b[0m\u001b[0m\n\u001b[1;32m      3\u001b[0m \u001b[0mcrime_date\u001b[0m\u001b[1;33m.\u001b[0m\u001b[0mix\u001b[0m\u001b[1;33m[\u001b[0m\u001b[0mstart\u001b[0m\u001b[1;33m:\u001b[0m\u001b[0mend\u001b[0m\u001b[1;33m]\u001b[0m\u001b[1;33m\u001b[0m\u001b[0m\n",
      "\u001b[0;32mC:\\Program Files\\Anaconda3\\lib\\site-packages\\pandas\\core\\base.py\u001b[0m in \u001b[0;36msearchsorted\u001b[0;34m(self, key, side, sorter)\u001b[0m\n\u001b[1;32m   1112\u001b[0m     \u001b[1;32mdef\u001b[0m \u001b[0msearchsorted\u001b[0m\u001b[1;33m(\u001b[0m\u001b[0mself\u001b[0m\u001b[1;33m,\u001b[0m \u001b[0mkey\u001b[0m\u001b[1;33m,\u001b[0m \u001b[0mside\u001b[0m\u001b[1;33m=\u001b[0m\u001b[1;34m'left'\u001b[0m\u001b[1;33m,\u001b[0m \u001b[0msorter\u001b[0m\u001b[1;33m=\u001b[0m\u001b[1;32mNone\u001b[0m\u001b[1;33m)\u001b[0m\u001b[1;33m:\u001b[0m\u001b[1;33m\u001b[0m\u001b[0m\n\u001b[1;32m   1113\u001b[0m         \u001b[1;31m# needs coercion on the key (DatetimeIndex does already)\u001b[0m\u001b[1;33m\u001b[0m\u001b[1;33m\u001b[0m\u001b[0m\n\u001b[0;32m-> 1114\u001b[0;31m         \u001b[1;32mreturn\u001b[0m \u001b[0mself\u001b[0m\u001b[1;33m.\u001b[0m\u001b[0mvalues\u001b[0m\u001b[1;33m.\u001b[0m\u001b[0msearchsorted\u001b[0m\u001b[1;33m(\u001b[0m\u001b[0mkey\u001b[0m\u001b[1;33m,\u001b[0m \u001b[0mside\u001b[0m\u001b[1;33m=\u001b[0m\u001b[0mside\u001b[0m\u001b[1;33m,\u001b[0m \u001b[0msorter\u001b[0m\u001b[1;33m=\u001b[0m\u001b[0msorter\u001b[0m\u001b[1;33m)\u001b[0m\u001b[1;33m\u001b[0m\u001b[0m\n\u001b[0m\u001b[1;32m   1115\u001b[0m \u001b[1;33m\u001b[0m\u001b[0m\n\u001b[1;32m   1116\u001b[0m     _shared_docs['drop_duplicates'] = (\n",
      "\u001b[0;31mTypeError\u001b[0m: unorderable types: int() > datetime.datetime()"
     ]
    }
   ],
   "source": [
    "start = crime_date.index.searchsorted(datetime.datetime(2014, 1, 2, 0, 0, 0))\n",
    "end = crime_date.index.searchsorted(datetime.datetime(2014, 5, 4, 0, 0, 0))\n",
    "crime_date.ix[start:end]"
   ]
  },
  {
   "cell_type": "code",
   "execution_count": 123,
   "metadata": {
    "collapsed": false
   },
   "outputs": [
    {
     "data": {
      "text/plain": [
       "0      2012-01-01 20:04:00\n",
       "1      2012-01-05 03:18:00\n",
       "2      2012-01-05 03:18:00\n",
       "3      2012-01-24 21:18:00\n",
       "4      2012-02-03 10:16:00\n",
       "5      2012-02-03 10:16:00\n",
       "6      2012-02-16 23:05:00\n",
       "7      2012-02-22 17:02:00\n",
       "8      2012-03-16 02:32:00\n",
       "9      2012-03-25 15:46:00\n",
       "10     2012-03-30 23:44:00\n",
       "11     2012-05-05 15:59:00\n",
       "12     2012-05-28 20:14:00\n",
       "13     2012-05-28 20:14:00\n",
       "14     2012-05-28 20:14:00\n",
       "15     2012-05-28 20:14:00\n",
       "16     2012-06-03 06:27:00\n",
       "17     2012-06-05 12:14:00\n",
       "18     2012-06-13 04:03:00\n",
       "19     2012-07-01 06:13:00\n",
       "20     2012-07-01 06:13:00\n",
       "21     2012-07-05 02:47:00\n",
       "22     2012-07-28 05:12:00\n",
       "23     2012-08-19 07:07:00\n",
       "24     2012-08-31 21:50:00\n",
       "25     2012-09-20 04:43:00\n",
       "26     2012-10-07 00:03:00\n",
       "27     2012-10-11 04:42:00\n",
       "28     2012-11-09 00:45:00\n",
       "29     2012-11-09 00:45:00\n",
       "               ...        \n",
       "2032   2015-09-22 19:59:12\n",
       "2033   2015-09-24 16:48:07\n",
       "2034   2015-10-25 01:09:52\n",
       "2035   2015-10-25 02:18:45\n",
       "2036   2015-11-06 00:25:55\n",
       "2037   2015-11-19 10:10:46\n",
       "2038   2015-11-19 10:10:46\n",
       "2039   2015-12-11 15:51:05\n",
       "2040   2015-12-12 00:24:52\n",
       "2041   2015-12-21 16:30:36\n",
       "2042   2016-01-09 17:52:50\n",
       "2043   2016-01-25 12:06:11\n",
       "2044   2016-03-13 14:42:16\n",
       "2045   2016-04-07 22:18:20\n",
       "2046   2016-04-20 22:16:01\n",
       "2047   2016-05-11 07:52:14\n",
       "2048   2016-05-21 20:57:35\n",
       "2049   2016-06-08 04:09:29\n",
       "2050   2016-06-13 13:39:32\n",
       "2051   2016-07-01 19:21:42\n",
       "2052   2016-11-06 21:44:31\n",
       "2053   2016-10-06 08:12:07\n",
       "2054   2016-09-06 10:39:23\n",
       "2055   2016-12-25 08:18:47\n",
       "2056   2015-01-08 18:59:45\n",
       "2057   2015-10-30 09:17:40\n",
       "2058   2016-04-28 15:48:52\n",
       "2059   2016-06-10 06:55:39\n",
       "2060   2014-05-11 19:37:06\n",
       "2061   2015-01-10 07:10:31\n",
       "Name: TimeCreate, dtype: datetime64[ns]"
      ]
     },
     "execution_count": 123,
     "metadata": {},
     "output_type": "execute_result"
    }
   ],
   "source": [
    "crime_date"
   ]
  },
  {
   "cell_type": "code",
   "execution_count": null,
   "metadata": {
    "collapsed": true
   },
   "outputs": [],
   "source": []
  },
  {
   "cell_type": "code",
   "execution_count": null,
   "metadata": {
    "collapsed": true
   },
   "outputs": [],
   "source": []
  },
  {
   "cell_type": "code",
   "execution_count": null,
   "metadata": {
    "collapsed": true
   },
   "outputs": [],
   "source": []
  },
  {
   "cell_type": "code",
   "execution_count": 119,
   "metadata": {
    "collapsed": false
   },
   "outputs": [],
   "source": []
  },
  {
   "cell_type": "code",
   "execution_count": 121,
   "metadata": {
    "collapsed": false
   },
   "outputs": [
    {
     "ename": "ValueError",
     "evalue": "The truth value of a Series is ambiguous. Use a.empty, a.bool(), a.item(), a.any() or a.all().",
     "output_type": "error",
     "traceback": [
      "\u001b[0;31m---------------------------------------------------------------------------\u001b[0m",
      "\u001b[0;31mValueError\u001b[0m                                Traceback (most recent call last)",
      "\u001b[0;32m<ipython-input-121-0b40b1754ac1>\u001b[0m in \u001b[0;36m<module>\u001b[0;34m()\u001b[0m\n\u001b[0;32m----> 1\u001b[0;31m \u001b[0mdate\u001b[0m\u001b[1;33m[\u001b[0m\u001b[1;33m(\u001b[0m\u001b[0mdate\u001b[0m \u001b[1;33m>=\u001b[0m \u001b[1;34m'2014-02-03 10:16:00'\u001b[0m\u001b[1;33m)\u001b[0m \u001b[1;32mand\u001b[0m \u001b[1;33m(\u001b[0m\u001b[0mdate\u001b[0m \u001b[1;33m<=\u001b[0m \u001b[1;34m'2014-06-03 10:16:00'\u001b[0m\u001b[1;33m)\u001b[0m\u001b[1;33m]\u001b[0m\u001b[1;33m\u001b[0m\u001b[0m\n\u001b[0m",
      "\u001b[0;32mC:\\Program Files\\Anaconda3\\lib\\site-packages\\pandas\\core\\generic.py\u001b[0m in \u001b[0;36m__nonzero__\u001b[0;34m(self)\u001b[0m\n\u001b[1;32m    890\u001b[0m         raise ValueError(\"The truth value of a {0} is ambiguous. \"\n\u001b[1;32m    891\u001b[0m                          \u001b[1;34m\"Use a.empty, a.bool(), a.item(), a.any() or a.all().\"\u001b[0m\u001b[1;33m\u001b[0m\u001b[0m\n\u001b[0;32m--> 892\u001b[0;31m                          .format(self.__class__.__name__))\n\u001b[0m\u001b[1;32m    893\u001b[0m \u001b[1;33m\u001b[0m\u001b[0m\n\u001b[1;32m    894\u001b[0m     \u001b[0m__bool__\u001b[0m \u001b[1;33m=\u001b[0m \u001b[0m__nonzero__\u001b[0m\u001b[1;33m\u001b[0m\u001b[0m\n",
      "\u001b[0;31mValueError\u001b[0m: The truth value of a Series is ambiguous. Use a.empty, a.bool(), a.item(), a.any() or a.all()."
     ]
    }
   ],
   "source": [
    "date[(date >= '2014-02-03 10:16:00') and (date <= '2014-06-03 10:16:00')]"
   ]
  },
  {
   "cell_type": "code",
   "execution_count": null,
   "metadata": {
    "collapsed": true
   },
   "outputs": [],
   "source": []
  },
  {
   "cell_type": "code",
   "execution_count": 113,
   "metadata": {
    "collapsed": false
   },
   "outputs": [],
   "source": [
    "def aggregateData(data, feature, time):\n",
    "    # time - month, week, day\n",
    "    date = pd.to_datetime(data[feature])\n",
    "    year = date.dt.year\n",
    "    month = date.dt.month\n",
    "    weekofYear = date.dt.weekofyear\n",
    "    day = date.dt.day\n",
    "    \n",
    "    crime_time = pd.DataFrame({'Year': year, \n",
    "                               'Month': month,\n",
    "                               'WeekofYear': weekofYear,\n",
    "                               'Day': day,\n",
    "                               'Number': np.repeat(1, stop_search.shape[0])\n",
    "                              }, index = None)\n",
    "    \n",
    "    if time == \"month\":\n",
    "        agg_table = crime_time['Number'].groupby([crime_time['Year'], crime_time['Month']]).sum()\n",
    "    if ((time == \"week\") or (time == '2 weeks')):\n",
    "        # print(((time == \"week\") or (time == '2 weeks')))\n",
    "        agg_table = crime_time['Number'].groupby([crime_time['Year'], crime_time['WeekofYear']]).sum()\n",
    "        # print(agg_table)\n",
    "        if time == '2 weeks':\n",
    "            dataList = []\n",
    "            indexList = []\n",
    "            for i in range(0, len(agg_table) - 2, 2):\n",
    "                crimeSum = sum(agg_table[i: i + 2].values)\n",
    "                # print(crimeSum)\n",
    "                index = (str(agg_table.index[0][0]) + \" \" + str(agg_table.index[i][1]) \n",
    "                         + str(agg_table.index[i + 1][1]))\n",
    "                dataList.append(crimeSum)\n",
    "                indexList.append(index)\n",
    "                # print(dataList)\n",
    "            agg_table = pd.Series(dataList)\n",
    "            agg_table.index = indexList\n",
    "    if time == \"day\":\n",
    "        agg_table = crime_time['Number'].groupby([crime_time['Year'], crime_time['Month'], crime_time['Day']]).sum()\n",
    "    return agg_table"
   ]
  },
  {
   "cell_type": "code",
   "execution_count": 73,
   "metadata": {
    "collapsed": false
   },
   "outputs": [
    {
     "name": "stdout",
     "output_type": "stream",
     "text": [
      "3    5\n",
      "4    3\n",
      "5    2\n",
      "dtype: int64\n"
     ]
    }
   ],
   "source": [
    "a = [5, 3, 2]\n",
    "s = pd.Series(a)\n",
    "s.index = [3, 4, 5]\n",
    "print(s)"
   ]
  },
  {
   "cell_type": "code",
   "execution_count": 72,
   "metadata": {
    "collapsed": false,
    "scrolled": true
   },
   "outputs": [
    {
     "data": {
      "text/plain": [
       "49"
      ]
     },
     "execution_count": 72,
     "metadata": {},
     "output_type": "execute_result"
    }
   ],
   "source": [
    "sum(data_crime_month[0:2].values)"
   ]
  },
  {
   "cell_type": "code",
   "execution_count": 74,
   "metadata": {
    "collapsed": false
   },
   "outputs": [
    {
     "name": "stdout",
     "output_type": "stream",
     "text": [
      "[5, 3, 2, 49]\n"
     ]
    }
   ],
   "source": [
    "a.append(sum(data_crime_month[0:2].values))\n",
    "print(a)"
   ]
  },
  {
   "cell_type": "code",
   "execution_count": 86,
   "metadata": {
    "collapsed": false,
    "scrolled": true
   },
   "outputs": [
    {
     "data": {
      "text/plain": [
       "Series([], dtype: float64)"
      ]
     },
     "execution_count": 86,
     "metadata": {},
     "output_type": "execute_result"
    }
   ],
   "source": [
    "data_stop_week"
   ]
  },
  {
   "cell_type": "code",
   "execution_count": 109,
   "metadata": {
    "collapsed": false,
    "scrolled": true
   },
   "outputs": [
    {
     "name": "stdout",
     "output_type": "stream",
     "text": [
      "20\n",
      "[20]\n",
      "8\n",
      "[20, 8]\n",
      "14\n",
      "[20, 8, 14]\n",
      "11\n",
      "[20, 8, 14, 11]\n",
      "14\n",
      "[20, 8, 14, 11, 14]\n",
      "17\n",
      "[20, 8, 14, 11, 14, 17]\n",
      "20\n",
      "[20, 8, 14, 11, 14, 17, 20]\n",
      "9\n",
      "[20, 8, 14, 11, 14, 17, 20, 9]\n",
      "12\n",
      "[20, 8, 14, 11, 14, 17, 20, 9, 12]\n",
      "6\n",
      "[20, 8, 14, 11, 14, 17, 20, 9, 12, 6]\n",
      "13\n",
      "[20, 8, 14, 11, 14, 17, 20, 9, 12, 6, 13]\n",
      "9\n",
      "[20, 8, 14, 11, 14, 17, 20, 9, 12, 6, 13, 9]\n",
      "15\n",
      "[20, 8, 14, 11, 14, 17, 20, 9, 12, 6, 13, 9, 15]\n",
      "5\n",
      "[20, 8, 14, 11, 14, 17, 20, 9, 12, 6, 13, 9, 15, 5]\n",
      "6\n",
      "[20, 8, 14, 11, 14, 17, 20, 9, 12, 6, 13, 9, 15, 5, 6]\n",
      "8\n",
      "[20, 8, 14, 11, 14, 17, 20, 9, 12, 6, 13, 9, 15, 5, 6, 8]\n",
      "17\n",
      "[20, 8, 14, 11, 14, 17, 20, 9, 12, 6, 13, 9, 15, 5, 6, 8, 17]\n",
      "12\n",
      "[20, 8, 14, 11, 14, 17, 20, 9, 12, 6, 13, 9, 15, 5, 6, 8, 17, 12]\n",
      "11\n",
      "[20, 8, 14, 11, 14, 17, 20, 9, 12, 6, 13, 9, 15, 5, 6, 8, 17, 12, 11]\n",
      "9\n",
      "[20, 8, 14, 11, 14, 17, 20, 9, 12, 6, 13, 9, 15, 5, 6, 8, 17, 12, 11, 9]\n",
      "10\n",
      "[20, 8, 14, 11, 14, 17, 20, 9, 12, 6, 13, 9, 15, 5, 6, 8, 17, 12, 11, 9, 10]\n",
      "6\n",
      "[20, 8, 14, 11, 14, 17, 20, 9, 12, 6, 13, 9, 15, 5, 6, 8, 17, 12, 11, 9, 10, 6]\n",
      "10\n",
      "[20, 8, 14, 11, 14, 17, 20, 9, 12, 6, 13, 9, 15, 5, 6, 8, 17, 12, 11, 9, 10, 6, 10]\n",
      "15\n",
      "[20, 8, 14, 11, 14, 17, 20, 9, 12, 6, 13, 9, 15, 5, 6, 8, 17, 12, 11, 9, 10, 6, 10, 15]\n",
      "8\n",
      "[20, 8, 14, 11, 14, 17, 20, 9, 12, 6, 13, 9, 15, 5, 6, 8, 17, 12, 11, 9, 10, 6, 10, 15, 8]\n",
      "5\n",
      "[20, 8, 14, 11, 14, 17, 20, 9, 12, 6, 13, 9, 15, 5, 6, 8, 17, 12, 11, 9, 10, 6, 10, 15, 8, 5]\n",
      "7\n",
      "[20, 8, 14, 11, 14, 17, 20, 9, 12, 6, 13, 9, 15, 5, 6, 8, 17, 12, 11, 9, 10, 6, 10, 15, 8, 5, 7]\n",
      "5\n",
      "[20, 8, 14, 11, 14, 17, 20, 9, 12, 6, 13, 9, 15, 5, 6, 8, 17, 12, 11, 9, 10, 6, 10, 15, 8, 5, 7, 5]\n",
      "8\n",
      "[20, 8, 14, 11, 14, 17, 20, 9, 12, 6, 13, 9, 15, 5, 6, 8, 17, 12, 11, 9, 10, 6, 10, 15, 8, 5, 7, 5, 8]\n",
      "7\n",
      "[20, 8, 14, 11, 14, 17, 20, 9, 12, 6, 13, 9, 15, 5, 6, 8, 17, 12, 11, 9, 10, 6, 10, 15, 8, 5, 7, 5, 8, 7]\n",
      "6\n",
      "[20, 8, 14, 11, 14, 17, 20, 9, 12, 6, 13, 9, 15, 5, 6, 8, 17, 12, 11, 9, 10, 6, 10, 15, 8, 5, 7, 5, 8, 7, 6]\n",
      "11\n",
      "[20, 8, 14, 11, 14, 17, 20, 9, 12, 6, 13, 9, 15, 5, 6, 8, 17, 12, 11, 9, 10, 6, 10, 15, 8, 5, 7, 5, 8, 7, 6, 11]\n",
      "9\n",
      "[20, 8, 14, 11, 14, 17, 20, 9, 12, 6, 13, 9, 15, 5, 6, 8, 17, 12, 11, 9, 10, 6, 10, 15, 8, 5, 7, 5, 8, 7, 6, 11, 9]\n",
      "4\n",
      "[20, 8, 14, 11, 14, 17, 20, 9, 12, 6, 13, 9, 15, 5, 6, 8, 17, 12, 11, 9, 10, 6, 10, 15, 8, 5, 7, 5, 8, 7, 6, 11, 9, 4]\n",
      "15\n",
      "[20, 8, 14, 11, 14, 17, 20, 9, 12, 6, 13, 9, 15, 5, 6, 8, 17, 12, 11, 9, 10, 6, 10, 15, 8, 5, 7, 5, 8, 7, 6, 11, 9, 4, 15]\n",
      "5\n",
      "[20, 8, 14, 11, 14, 17, 20, 9, 12, 6, 13, 9, 15, 5, 6, 8, 17, 12, 11, 9, 10, 6, 10, 15, 8, 5, 7, 5, 8, 7, 6, 11, 9, 4, 15, 5]\n",
      "22\n",
      "[20, 8, 14, 11, 14, 17, 20, 9, 12, 6, 13, 9, 15, 5, 6, 8, 17, 12, 11, 9, 10, 6, 10, 15, 8, 5, 7, 5, 8, 7, 6, 11, 9, 4, 15, 5, 22]\n",
      "20\n",
      "[20, 8, 14, 11, 14, 17, 20, 9, 12, 6, 13, 9, 15, 5, 6, 8, 17, 12, 11, 9, 10, 6, 10, 15, 8, 5, 7, 5, 8, 7, 6, 11, 9, 4, 15, 5, 22, 20]\n",
      "15\n",
      "[20, 8, 14, 11, 14, 17, 20, 9, 12, 6, 13, 9, 15, 5, 6, 8, 17, 12, 11, 9, 10, 6, 10, 15, 8, 5, 7, 5, 8, 7, 6, 11, 9, 4, 15, 5, 22, 20, 15]\n",
      "14\n",
      "[20, 8, 14, 11, 14, 17, 20, 9, 12, 6, 13, 9, 15, 5, 6, 8, 17, 12, 11, 9, 10, 6, 10, 15, 8, 5, 7, 5, 8, 7, 6, 11, 9, 4, 15, 5, 22, 20, 15, 14]\n",
      "12\n",
      "[20, 8, 14, 11, 14, 17, 20, 9, 12, 6, 13, 9, 15, 5, 6, 8, 17, 12, 11, 9, 10, 6, 10, 15, 8, 5, 7, 5, 8, 7, 6, 11, 9, 4, 15, 5, 22, 20, 15, 14, 12]\n",
      "25\n",
      "[20, 8, 14, 11, 14, 17, 20, 9, 12, 6, 13, 9, 15, 5, 6, 8, 17, 12, 11, 9, 10, 6, 10, 15, 8, 5, 7, 5, 8, 7, 6, 11, 9, 4, 15, 5, 22, 20, 15, 14, 12, 25]\n",
      "10\n",
      "[20, 8, 14, 11, 14, 17, 20, 9, 12, 6, 13, 9, 15, 5, 6, 8, 17, 12, 11, 9, 10, 6, 10, 15, 8, 5, 7, 5, 8, 7, 6, 11, 9, 4, 15, 5, 22, 20, 15, 14, 12, 25, 10]\n",
      "11\n",
      "[20, 8, 14, 11, 14, 17, 20, 9, 12, 6, 13, 9, 15, 5, 6, 8, 17, 12, 11, 9, 10, 6, 10, 15, 8, 5, 7, 5, 8, 7, 6, 11, 9, 4, 15, 5, 22, 20, 15, 14, 12, 25, 10, 11]\n",
      "22\n",
      "[20, 8, 14, 11, 14, 17, 20, 9, 12, 6, 13, 9, 15, 5, 6, 8, 17, 12, 11, 9, 10, 6, 10, 15, 8, 5, 7, 5, 8, 7, 6, 11, 9, 4, 15, 5, 22, 20, 15, 14, 12, 25, 10, 11, 22]\n",
      "8\n",
      "[20, 8, 14, 11, 14, 17, 20, 9, 12, 6, 13, 9, 15, 5, 6, 8, 17, 12, 11, 9, 10, 6, 10, 15, 8, 5, 7, 5, 8, 7, 6, 11, 9, 4, 15, 5, 22, 20, 15, 14, 12, 25, 10, 11, 22, 8]\n",
      "4\n",
      "[20, 8, 14, 11, 14, 17, 20, 9, 12, 6, 13, 9, 15, 5, 6, 8, 17, 12, 11, 9, 10, 6, 10, 15, 8, 5, 7, 5, 8, 7, 6, 11, 9, 4, 15, 5, 22, 20, 15, 14, 12, 25, 10, 11, 22, 8, 4]\n",
      "18\n",
      "[20, 8, 14, 11, 14, 17, 20, 9, 12, 6, 13, 9, 15, 5, 6, 8, 17, 12, 11, 9, 10, 6, 10, 15, 8, 5, 7, 5, 8, 7, 6, 11, 9, 4, 15, 5, 22, 20, 15, 14, 12, 25, 10, 11, 22, 8, 4, 18]\n",
      "10\n",
      "[20, 8, 14, 11, 14, 17, 20, 9, 12, 6, 13, 9, 15, 5, 6, 8, 17, 12, 11, 9, 10, 6, 10, 15, 8, 5, 7, 5, 8, 7, 6, 11, 9, 4, 15, 5, 22, 20, 15, 14, 12, 25, 10, 11, 22, 8, 4, 18, 10]\n",
      "10\n",
      "[20, 8, 14, 11, 14, 17, 20, 9, 12, 6, 13, 9, 15, 5, 6, 8, 17, 12, 11, 9, 10, 6, 10, 15, 8, 5, 7, 5, 8, 7, 6, 11, 9, 4, 15, 5, 22, 20, 15, 14, 12, 25, 10, 11, 22, 8, 4, 18, 10, 10]\n",
      "22\n",
      "[20, 8, 14, 11, 14, 17, 20, 9, 12, 6, 13, 9, 15, 5, 6, 8, 17, 12, 11, 9, 10, 6, 10, 15, 8, 5, 7, 5, 8, 7, 6, 11, 9, 4, 15, 5, 22, 20, 15, 14, 12, 25, 10, 11, 22, 8, 4, 18, 10, 10, 22]\n",
      "6\n",
      "[20, 8, 14, 11, 14, 17, 20, 9, 12, 6, 13, 9, 15, 5, 6, 8, 17, 12, 11, 9, 10, 6, 10, 15, 8, 5, 7, 5, 8, 7, 6, 11, 9, 4, 15, 5, 22, 20, 15, 14, 12, 25, 10, 11, 22, 8, 4, 18, 10, 10, 22, 6]\n",
      "7\n",
      "[20, 8, 14, 11, 14, 17, 20, 9, 12, 6, 13, 9, 15, 5, 6, 8, 17, 12, 11, 9, 10, 6, 10, 15, 8, 5, 7, 5, 8, 7, 6, 11, 9, 4, 15, 5, 22, 20, 15, 14, 12, 25, 10, 11, 22, 8, 4, 18, 10, 10, 22, 6, 7]\n",
      "6\n",
      "[20, 8, 14, 11, 14, 17, 20, 9, 12, 6, 13, 9, 15, 5, 6, 8, 17, 12, 11, 9, 10, 6, 10, 15, 8, 5, 7, 5, 8, 7, 6, 11, 9, 4, 15, 5, 22, 20, 15, 14, 12, 25, 10, 11, 22, 8, 4, 18, 10, 10, 22, 6, 7, 6]\n",
      "17\n",
      "[20, 8, 14, 11, 14, 17, 20, 9, 12, 6, 13, 9, 15, 5, 6, 8, 17, 12, 11, 9, 10, 6, 10, 15, 8, 5, 7, 5, 8, 7, 6, 11, 9, 4, 15, 5, 22, 20, 15, 14, 12, 25, 10, 11, 22, 8, 4, 18, 10, 10, 22, 6, 7, 6, 17]\n",
      "17\n",
      "[20, 8, 14, 11, 14, 17, 20, 9, 12, 6, 13, 9, 15, 5, 6, 8, 17, 12, 11, 9, 10, 6, 10, 15, 8, 5, 7, 5, 8, 7, 6, 11, 9, 4, 15, 5, 22, 20, 15, 14, 12, 25, 10, 11, 22, 8, 4, 18, 10, 10, 22, 6, 7, 6, 17, 17]\n",
      "14\n",
      "[20, 8, 14, 11, 14, 17, 20, 9, 12, 6, 13, 9, 15, 5, 6, 8, 17, 12, 11, 9, 10, 6, 10, 15, 8, 5, 7, 5, 8, 7, 6, 11, 9, 4, 15, 5, 22, 20, 15, 14, 12, 25, 10, 11, 22, 8, 4, 18, 10, 10, 22, 6, 7, 6, 17, 17, 14]\n",
      "10\n",
      "[20, 8, 14, 11, 14, 17, 20, 9, 12, 6, 13, 9, 15, 5, 6, 8, 17, 12, 11, 9, 10, 6, 10, 15, 8, 5, 7, 5, 8, 7, 6, 11, 9, 4, 15, 5, 22, 20, 15, 14, 12, 25, 10, 11, 22, 8, 4, 18, 10, 10, 22, 6, 7, 6, 17, 17, 14, 10]\n",
      "25\n",
      "[20, 8, 14, 11, 14, 17, 20, 9, 12, 6, 13, 9, 15, 5, 6, 8, 17, 12, 11, 9, 10, 6, 10, 15, 8, 5, 7, 5, 8, 7, 6, 11, 9, 4, 15, 5, 22, 20, 15, 14, 12, 25, 10, 11, 22, 8, 4, 18, 10, 10, 22, 6, 7, 6, 17, 17, 14, 10, 25]\n",
      "13\n",
      "[20, 8, 14, 11, 14, 17, 20, 9, 12, 6, 13, 9, 15, 5, 6, 8, 17, 12, 11, 9, 10, 6, 10, 15, 8, 5, 7, 5, 8, 7, 6, 11, 9, 4, 15, 5, 22, 20, 15, 14, 12, 25, 10, 11, 22, 8, 4, 18, 10, 10, 22, 6, 7, 6, 17, 17, 14, 10, 25, 13]\n",
      "11\n",
      "[20, 8, 14, 11, 14, 17, 20, 9, 12, 6, 13, 9, 15, 5, 6, 8, 17, 12, 11, 9, 10, 6, 10, 15, 8, 5, 7, 5, 8, 7, 6, 11, 9, 4, 15, 5, 22, 20, 15, 14, 12, 25, 10, 11, 22, 8, 4, 18, 10, 10, 22, 6, 7, 6, 17, 17, 14, 10, 25, 13, 11]\n",
      "14\n",
      "[20, 8, 14, 11, 14, 17, 20, 9, 12, 6, 13, 9, 15, 5, 6, 8, 17, 12, 11, 9, 10, 6, 10, 15, 8, 5, 7, 5, 8, 7, 6, 11, 9, 4, 15, 5, 22, 20, 15, 14, 12, 25, 10, 11, 22, 8, 4, 18, 10, 10, 22, 6, 7, 6, 17, 17, 14, 10, 25, 13, 11, 14]\n",
      "16\n",
      "[20, 8, 14, 11, 14, 17, 20, 9, 12, 6, 13, 9, 15, 5, 6, 8, 17, 12, 11, 9, 10, 6, 10, 15, 8, 5, 7, 5, 8, 7, 6, 11, 9, 4, 15, 5, 22, 20, 15, 14, 12, 25, 10, 11, 22, 8, 4, 18, 10, 10, 22, 6, 7, 6, 17, 17, 14, 10, 25, 13, 11, 14, 16]\n",
      "11\n",
      "[20, 8, 14, 11, 14, 17, 20, 9, 12, 6, 13, 9, 15, 5, 6, 8, 17, 12, 11, 9, 10, 6, 10, 15, 8, 5, 7, 5, 8, 7, 6, 11, 9, 4, 15, 5, 22, 20, 15, 14, 12, 25, 10, 11, 22, 8, 4, 18, 10, 10, 22, 6, 7, 6, 17, 17, 14, 10, 25, 13, 11, 14, 16, 11]\n",
      "28\n",
      "[20, 8, 14, 11, 14, 17, 20, 9, 12, 6, 13, 9, 15, 5, 6, 8, 17, 12, 11, 9, 10, 6, 10, 15, 8, 5, 7, 5, 8, 7, 6, 11, 9, 4, 15, 5, 22, 20, 15, 14, 12, 25, 10, 11, 22, 8, 4, 18, 10, 10, 22, 6, 7, 6, 17, 17, 14, 10, 25, 13, 11, 14, 16, 11, 28]\n",
      "27\n",
      "[20, 8, 14, 11, 14, 17, 20, 9, 12, 6, 13, 9, 15, 5, 6, 8, 17, 12, 11, 9, 10, 6, 10, 15, 8, 5, 7, 5, 8, 7, 6, 11, 9, 4, 15, 5, 22, 20, 15, 14, 12, 25, 10, 11, 22, 8, 4, 18, 10, 10, 22, 6, 7, 6, 17, 17, 14, 10, 25, 13, 11, 14, 16, 11, 28, 27]\n",
      "24\n",
      "[20, 8, 14, 11, 14, 17, 20, 9, 12, 6, 13, 9, 15, 5, 6, 8, 17, 12, 11, 9, 10, 6, 10, 15, 8, 5, 7, 5, 8, 7, 6, 11, 9, 4, 15, 5, 22, 20, 15, 14, 12, 25, 10, 11, 22, 8, 4, 18, 10, 10, 22, 6, 7, 6, 17, 17, 14, 10, 25, 13, 11, 14, 16, 11, 28, 27, 24]\n",
      "36\n",
      "[20, 8, 14, 11, 14, 17, 20, 9, 12, 6, 13, 9, 15, 5, 6, 8, 17, 12, 11, 9, 10, 6, 10, 15, 8, 5, 7, 5, 8, 7, 6, 11, 9, 4, 15, 5, 22, 20, 15, 14, 12, 25, 10, 11, 22, 8, 4, 18, 10, 10, 22, 6, 7, 6, 17, 17, 14, 10, 25, 13, 11, 14, 16, 11, 28, 27, 24, 36]\n",
      "31\n",
      "[20, 8, 14, 11, 14, 17, 20, 9, 12, 6, 13, 9, 15, 5, 6, 8, 17, 12, 11, 9, 10, 6, 10, 15, 8, 5, 7, 5, 8, 7, 6, 11, 9, 4, 15, 5, 22, 20, 15, 14, 12, 25, 10, 11, 22, 8, 4, 18, 10, 10, 22, 6, 7, 6, 17, 17, 14, 10, 25, 13, 11, 14, 16, 11, 28, 27, 24, 36, 31]\n",
      "28\n",
      "[20, 8, 14, 11, 14, 17, 20, 9, 12, 6, 13, 9, 15, 5, 6, 8, 17, 12, 11, 9, 10, 6, 10, 15, 8, 5, 7, 5, 8, 7, 6, 11, 9, 4, 15, 5, 22, 20, 15, 14, 12, 25, 10, 11, 22, 8, 4, 18, 10, 10, 22, 6, 7, 6, 17, 17, 14, 10, 25, 13, 11, 14, 16, 11, 28, 27, 24, 36, 31, 28]\n",
      "13\n",
      "[20, 8, 14, 11, 14, 17, 20, 9, 12, 6, 13, 9, 15, 5, 6, 8, 17, 12, 11, 9, 10, 6, 10, 15, 8, 5, 7, 5, 8, 7, 6, 11, 9, 4, 15, 5, 22, 20, 15, 14, 12, 25, 10, 11, 22, 8, 4, 18, 10, 10, 22, 6, 7, 6, 17, 17, 14, 10, 25, 13, 11, 14, 16, 11, 28, 27, 24, 36, 31, 28, 13]\n",
      "15\n",
      "[20, 8, 14, 11, 14, 17, 20, 9, 12, 6, 13, 9, 15, 5, 6, 8, 17, 12, 11, 9, 10, 6, 10, 15, 8, 5, 7, 5, 8, 7, 6, 11, 9, 4, 15, 5, 22, 20, 15, 14, 12, 25, 10, 11, 22, 8, 4, 18, 10, 10, 22, 6, 7, 6, 17, 17, 14, 10, 25, 13, 11, 14, 16, 11, 28, 27, 24, 36, 31, 28, 13, 15]\n",
      "14\n",
      "[20, 8, 14, 11, 14, 17, 20, 9, 12, 6, 13, 9, 15, 5, 6, 8, 17, 12, 11, 9, 10, 6, 10, 15, 8, 5, 7, 5, 8, 7, 6, 11, 9, 4, 15, 5, 22, 20, 15, 14, 12, 25, 10, 11, 22, 8, 4, 18, 10, 10, 22, 6, 7, 6, 17, 17, 14, 10, 25, 13, 11, 14, 16, 11, 28, 27, 24, 36, 31, 28, 13, 15, 14]\n",
      "19\n",
      "[20, 8, 14, 11, 14, 17, 20, 9, 12, 6, 13, 9, 15, 5, 6, 8, 17, 12, 11, 9, 10, 6, 10, 15, 8, 5, 7, 5, 8, 7, 6, 11, 9, 4, 15, 5, 22, 20, 15, 14, 12, 25, 10, 11, 22, 8, 4, 18, 10, 10, 22, 6, 7, 6, 17, 17, 14, 10, 25, 13, 11, 14, 16, 11, 28, 27, 24, 36, 31, 28, 13, 15, 14, 19]\n",
      "23\n",
      "[20, 8, 14, 11, 14, 17, 20, 9, 12, 6, 13, 9, 15, 5, 6, 8, 17, 12, 11, 9, 10, 6, 10, 15, 8, 5, 7, 5, 8, 7, 6, 11, 9, 4, 15, 5, 22, 20, 15, 14, 12, 25, 10, 11, 22, 8, 4, 18, 10, 10, 22, 6, 7, 6, 17, 17, 14, 10, 25, 13, 11, 14, 16, 11, 28, 27, 24, 36, 31, 28, 13, 15, 14, 19, 23]\n",
      "13\n",
      "[20, 8, 14, 11, 14, 17, 20, 9, 12, 6, 13, 9, 15, 5, 6, 8, 17, 12, 11, 9, 10, 6, 10, 15, 8, 5, 7, 5, 8, 7, 6, 11, 9, 4, 15, 5, 22, 20, 15, 14, 12, 25, 10, 11, 22, 8, 4, 18, 10, 10, 22, 6, 7, 6, 17, 17, 14, 10, 25, 13, 11, 14, 16, 11, 28, 27, 24, 36, 31, 28, 13, 15, 14, 19, 23, 13]\n",
      "12\n",
      "[20, 8, 14, 11, 14, 17, 20, 9, 12, 6, 13, 9, 15, 5, 6, 8, 17, 12, 11, 9, 10, 6, 10, 15, 8, 5, 7, 5, 8, 7, 6, 11, 9, 4, 15, 5, 22, 20, 15, 14, 12, 25, 10, 11, 22, 8, 4, 18, 10, 10, 22, 6, 7, 6, 17, 17, 14, 10, 25, 13, 11, 14, 16, 11, 28, 27, 24, 36, 31, 28, 13, 15, 14, 19, 23, 13, 12]\n",
      "24\n",
      "[20, 8, 14, 11, 14, 17, 20, 9, 12, 6, 13, 9, 15, 5, 6, 8, 17, 12, 11, 9, 10, 6, 10, 15, 8, 5, 7, 5, 8, 7, 6, 11, 9, 4, 15, 5, 22, 20, 15, 14, 12, 25, 10, 11, 22, 8, 4, 18, 10, 10, 22, 6, 7, 6, 17, 17, 14, 10, 25, 13, 11, 14, 16, 11, 28, 27, 24, 36, 31, 28, 13, 15, 14, 19, 23, 13, 12, 24]\n",
      "27\n",
      "[20, 8, 14, 11, 14, 17, 20, 9, 12, 6, 13, 9, 15, 5, 6, 8, 17, 12, 11, 9, 10, 6, 10, 15, 8, 5, 7, 5, 8, 7, 6, 11, 9, 4, 15, 5, 22, 20, 15, 14, 12, 25, 10, 11, 22, 8, 4, 18, 10, 10, 22, 6, 7, 6, 17, 17, 14, 10, 25, 13, 11, 14, 16, 11, 28, 27, 24, 36, 31, 28, 13, 15, 14, 19, 23, 13, 12, 24, 27]\n",
      "12\n",
      "[20, 8, 14, 11, 14, 17, 20, 9, 12, 6, 13, 9, 15, 5, 6, 8, 17, 12, 11, 9, 10, 6, 10, 15, 8, 5, 7, 5, 8, 7, 6, 11, 9, 4, 15, 5, 22, 20, 15, 14, 12, 25, 10, 11, 22, 8, 4, 18, 10, 10, 22, 6, 7, 6, 17, 17, 14, 10, 25, 13, 11, 14, 16, 11, 28, 27, 24, 36, 31, 28, 13, 15, 14, 19, 23, 13, 12, 24, 27, 12]\n",
      "16\n",
      "[20, 8, 14, 11, 14, 17, 20, 9, 12, 6, 13, 9, 15, 5, 6, 8, 17, 12, 11, 9, 10, 6, 10, 15, 8, 5, 7, 5, 8, 7, 6, 11, 9, 4, 15, 5, 22, 20, 15, 14, 12, 25, 10, 11, 22, 8, 4, 18, 10, 10, 22, 6, 7, 6, 17, 17, 14, 10, 25, 13, 11, 14, 16, 11, 28, 27, 24, 36, 31, 28, 13, 15, 14, 19, 23, 13, 12, 24, 27, 12, 16]\n",
      "19\n",
      "[20, 8, 14, 11, 14, 17, 20, 9, 12, 6, 13, 9, 15, 5, 6, 8, 17, 12, 11, 9, 10, 6, 10, 15, 8, 5, 7, 5, 8, 7, 6, 11, 9, 4, 15, 5, 22, 20, 15, 14, 12, 25, 10, 11, 22, 8, 4, 18, 10, 10, 22, 6, 7, 6, 17, 17, 14, 10, 25, 13, 11, 14, 16, 11, 28, 27, 24, 36, 31, 28, 13, 15, 14, 19, 23, 13, 12, 24, 27, 12, 16, 19]\n",
      "13\n",
      "[20, 8, 14, 11, 14, 17, 20, 9, 12, 6, 13, 9, 15, 5, 6, 8, 17, 12, 11, 9, 10, 6, 10, 15, 8, 5, 7, 5, 8, 7, 6, 11, 9, 4, 15, 5, 22, 20, 15, 14, 12, 25, 10, 11, 22, 8, 4, 18, 10, 10, 22, 6, 7, 6, 17, 17, 14, 10, 25, 13, 11, 14, 16, 11, 28, 27, 24, 36, 31, 28, 13, 15, 14, 19, 23, 13, 12, 24, 27, 12, 16, 19, 13]\n",
      "13\n",
      "[20, 8, 14, 11, 14, 17, 20, 9, 12, 6, 13, 9, 15, 5, 6, 8, 17, 12, 11, 9, 10, 6, 10, 15, 8, 5, 7, 5, 8, 7, 6, 11, 9, 4, 15, 5, 22, 20, 15, 14, 12, 25, 10, 11, 22, 8, 4, 18, 10, 10, 22, 6, 7, 6, 17, 17, 14, 10, 25, 13, 11, 14, 16, 11, 28, 27, 24, 36, 31, 28, 13, 15, 14, 19, 23, 13, 12, 24, 27, 12, 16, 19, 13, 13]\n",
      "15\n",
      "[20, 8, 14, 11, 14, 17, 20, 9, 12, 6, 13, 9, 15, 5, 6, 8, 17, 12, 11, 9, 10, 6, 10, 15, 8, 5, 7, 5, 8, 7, 6, 11, 9, 4, 15, 5, 22, 20, 15, 14, 12, 25, 10, 11, 22, 8, 4, 18, 10, 10, 22, 6, 7, 6, 17, 17, 14, 10, 25, 13, 11, 14, 16, 11, 28, 27, 24, 36, 31, 28, 13, 15, 14, 19, 23, 13, 12, 24, 27, 12, 16, 19, 13, 13, 15]\n",
      "15\n",
      "[20, 8, 14, 11, 14, 17, 20, 9, 12, 6, 13, 9, 15, 5, 6, 8, 17, 12, 11, 9, 10, 6, 10, 15, 8, 5, 7, 5, 8, 7, 6, 11, 9, 4, 15, 5, 22, 20, 15, 14, 12, 25, 10, 11, 22, 8, 4, 18, 10, 10, 22, 6, 7, 6, 17, 17, 14, 10, 25, 13, 11, 14, 16, 11, 28, 27, 24, 36, 31, 28, 13, 15, 14, 19, 23, 13, 12, 24, 27, 12, 16, 19, 13, 13, 15, 15]\n",
      "27\n",
      "[20, 8, 14, 11, 14, 17, 20, 9, 12, 6, 13, 9, 15, 5, 6, 8, 17, 12, 11, 9, 10, 6, 10, 15, 8, 5, 7, 5, 8, 7, 6, 11, 9, 4, 15, 5, 22, 20, 15, 14, 12, 25, 10, 11, 22, 8, 4, 18, 10, 10, 22, 6, 7, 6, 17, 17, 14, 10, 25, 13, 11, 14, 16, 11, 28, 27, 24, 36, 31, 28, 13, 15, 14, 19, 23, 13, 12, 24, 27, 12, 16, 19, 13, 13, 15, 15, 27]\n",
      "16\n",
      "[20, 8, 14, 11, 14, 17, 20, 9, 12, 6, 13, 9, 15, 5, 6, 8, 17, 12, 11, 9, 10, 6, 10, 15, 8, 5, 7, 5, 8, 7, 6, 11, 9, 4, 15, 5, 22, 20, 15, 14, 12, 25, 10, 11, 22, 8, 4, 18, 10, 10, 22, 6, 7, 6, 17, 17, 14, 10, 25, 13, 11, 14, 16, 11, 28, 27, 24, 36, 31, 28, 13, 15, 14, 19, 23, 13, 12, 24, 27, 12, 16, 19, 13, 13, 15, 15, 27, 16]\n",
      "18\n",
      "[20, 8, 14, 11, 14, 17, 20, 9, 12, 6, 13, 9, 15, 5, 6, 8, 17, 12, 11, 9, 10, 6, 10, 15, 8, 5, 7, 5, 8, 7, 6, 11, 9, 4, 15, 5, 22, 20, 15, 14, 12, 25, 10, 11, 22, 8, 4, 18, 10, 10, 22, 6, 7, 6, 17, 17, 14, 10, 25, 13, 11, 14, 16, 11, 28, 27, 24, 36, 31, 28, 13, 15, 14, 19, 23, 13, 12, 24, 27, 12, 16, 19, 13, 13, 15, 15, 27, 16, 18]\n",
      "31\n",
      "[20, 8, 14, 11, 14, 17, 20, 9, 12, 6, 13, 9, 15, 5, 6, 8, 17, 12, 11, 9, 10, 6, 10, 15, 8, 5, 7, 5, 8, 7, 6, 11, 9, 4, 15, 5, 22, 20, 15, 14, 12, 25, 10, 11, 22, 8, 4, 18, 10, 10, 22, 6, 7, 6, 17, 17, 14, 10, 25, 13, 11, 14, 16, 11, 28, 27, 24, 36, 31, 28, 13, 15, 14, 19, 23, 13, 12, 24, 27, 12, 16, 19, 13, 13, 15, 15, 27, 16, 18, 31]\n",
      "29\n",
      "[20, 8, 14, 11, 14, 17, 20, 9, 12, 6, 13, 9, 15, 5, 6, 8, 17, 12, 11, 9, 10, 6, 10, 15, 8, 5, 7, 5, 8, 7, 6, 11, 9, 4, 15, 5, 22, 20, 15, 14, 12, 25, 10, 11, 22, 8, 4, 18, 10, 10, 22, 6, 7, 6, 17, 17, 14, 10, 25, 13, 11, 14, 16, 11, 28, 27, 24, 36, 31, 28, 13, 15, 14, 19, 23, 13, 12, 24, 27, 12, 16, 19, 13, 13, 15, 15, 27, 16, 18, 31, 29]\n",
      "34\n",
      "[20, 8, 14, 11, 14, 17, 20, 9, 12, 6, 13, 9, 15, 5, 6, 8, 17, 12, 11, 9, 10, 6, 10, 15, 8, 5, 7, 5, 8, 7, 6, 11, 9, 4, 15, 5, 22, 20, 15, 14, 12, 25, 10, 11, 22, 8, 4, 18, 10, 10, 22, 6, 7, 6, 17, 17, 14, 10, 25, 13, 11, 14, 16, 11, 28, 27, 24, 36, 31, 28, 13, 15, 14, 19, 23, 13, 12, 24, 27, 12, 16, 19, 13, 13, 15, 15, 27, 16, 18, 31, 29, 34]\n",
      "35\n",
      "[20, 8, 14, 11, 14, 17, 20, 9, 12, 6, 13, 9, 15, 5, 6, 8, 17, 12, 11, 9, 10, 6, 10, 15, 8, 5, 7, 5, 8, 7, 6, 11, 9, 4, 15, 5, 22, 20, 15, 14, 12, 25, 10, 11, 22, 8, 4, 18, 10, 10, 22, 6, 7, 6, 17, 17, 14, 10, 25, 13, 11, 14, 16, 11, 28, 27, 24, 36, 31, 28, 13, 15, 14, 19, 23, 13, 12, 24, 27, 12, 16, 19, 13, 13, 15, 15, 27, 16, 18, 31, 29, 34, 35]\n",
      "21\n",
      "[20, 8, 14, 11, 14, 17, 20, 9, 12, 6, 13, 9, 15, 5, 6, 8, 17, 12, 11, 9, 10, 6, 10, 15, 8, 5, 7, 5, 8, 7, 6, 11, 9, 4, 15, 5, 22, 20, 15, 14, 12, 25, 10, 11, 22, 8, 4, 18, 10, 10, 22, 6, 7, 6, 17, 17, 14, 10, 25, 13, 11, 14, 16, 11, 28, 27, 24, 36, 31, 28, 13, 15, 14, 19, 23, 13, 12, 24, 27, 12, 16, 19, 13, 13, 15, 15, 27, 16, 18, 31, 29, 34, 35, 21]\n",
      "29\n",
      "[20, 8, 14, 11, 14, 17, 20, 9, 12, 6, 13, 9, 15, 5, 6, 8, 17, 12, 11, 9, 10, 6, 10, 15, 8, 5, 7, 5, 8, 7, 6, 11, 9, 4, 15, 5, 22, 20, 15, 14, 12, 25, 10, 11, 22, 8, 4, 18, 10, 10, 22, 6, 7, 6, 17, 17, 14, 10, 25, 13, 11, 14, 16, 11, 28, 27, 24, 36, 31, 28, 13, 15, 14, 19, 23, 13, 12, 24, 27, 12, 16, 19, 13, 13, 15, 15, 27, 16, 18, 31, 29, 34, 35, 21, 29]\n",
      "26\n",
      "[20, 8, 14, 11, 14, 17, 20, 9, 12, 6, 13, 9, 15, 5, 6, 8, 17, 12, 11, 9, 10, 6, 10, 15, 8, 5, 7, 5, 8, 7, 6, 11, 9, 4, 15, 5, 22, 20, 15, 14, 12, 25, 10, 11, 22, 8, 4, 18, 10, 10, 22, 6, 7, 6, 17, 17, 14, 10, 25, 13, 11, 14, 16, 11, 28, 27, 24, 36, 31, 28, 13, 15, 14, 19, 23, 13, 12, 24, 27, 12, 16, 19, 13, 13, 15, 15, 27, 16, 18, 31, 29, 34, 35, 21, 29, 26]\n",
      "28\n",
      "[20, 8, 14, 11, 14, 17, 20, 9, 12, 6, 13, 9, 15, 5, 6, 8, 17, 12, 11, 9, 10, 6, 10, 15, 8, 5, 7, 5, 8, 7, 6, 11, 9, 4, 15, 5, 22, 20, 15, 14, 12, 25, 10, 11, 22, 8, 4, 18, 10, 10, 22, 6, 7, 6, 17, 17, 14, 10, 25, 13, 11, 14, 16, 11, 28, 27, 24, 36, 31, 28, 13, 15, 14, 19, 23, 13, 12, 24, 27, 12, 16, 19, 13, 13, 15, 15, 27, 16, 18, 31, 29, 34, 35, 21, 29, 26, 28]\n",
      "26\n",
      "[20, 8, 14, 11, 14, 17, 20, 9, 12, 6, 13, 9, 15, 5, 6, 8, 17, 12, 11, 9, 10, 6, 10, 15, 8, 5, 7, 5, 8, 7, 6, 11, 9, 4, 15, 5, 22, 20, 15, 14, 12, 25, 10, 11, 22, 8, 4, 18, 10, 10, 22, 6, 7, 6, 17, 17, 14, 10, 25, 13, 11, 14, 16, 11, 28, 27, 24, 36, 31, 28, 13, 15, 14, 19, 23, 13, 12, 24, 27, 12, 16, 19, 13, 13, 15, 15, 27, 16, 18, 31, 29, 34, 35, 21, 29, 26, 28, 26]\n",
      "12\n",
      "[20, 8, 14, 11, 14, 17, 20, 9, 12, 6, 13, 9, 15, 5, 6, 8, 17, 12, 11, 9, 10, 6, 10, 15, 8, 5, 7, 5, 8, 7, 6, 11, 9, 4, 15, 5, 22, 20, 15, 14, 12, 25, 10, 11, 22, 8, 4, 18, 10, 10, 22, 6, 7, 6, 17, 17, 14, 10, 25, 13, 11, 14, 16, 11, 28, 27, 24, 36, 31, 28, 13, 15, 14, 19, 23, 13, 12, 24, 27, 12, 16, 19, 13, 13, 15, 15, 27, 16, 18, 31, 29, 34, 35, 21, 29, 26, 28, 26, 12]\n",
      "15\n",
      "[20, 8, 14, 11, 14, 17, 20, 9, 12, 6, 13, 9, 15, 5, 6, 8, 17, 12, 11, 9, 10, 6, 10, 15, 8, 5, 7, 5, 8, 7, 6, 11, 9, 4, 15, 5, 22, 20, 15, 14, 12, 25, 10, 11, 22, 8, 4, 18, 10, 10, 22, 6, 7, 6, 17, 17, 14, 10, 25, 13, 11, 14, 16, 11, 28, 27, 24, 36, 31, 28, 13, 15, 14, 19, 23, 13, 12, 24, 27, 12, 16, 19, 13, 13, 15, 15, 27, 16, 18, 31, 29, 34, 35, 21, 29, 26, 28, 26, 12, 15]\n",
      "15\n",
      "[20, 8, 14, 11, 14, 17, 20, 9, 12, 6, 13, 9, 15, 5, 6, 8, 17, 12, 11, 9, 10, 6, 10, 15, 8, 5, 7, 5, 8, 7, 6, 11, 9, 4, 15, 5, 22, 20, 15, 14, 12, 25, 10, 11, 22, 8, 4, 18, 10, 10, 22, 6, 7, 6, 17, 17, 14, 10, 25, 13, 11, 14, 16, 11, 28, 27, 24, 36, 31, 28, 13, 15, 14, 19, 23, 13, 12, 24, 27, 12, 16, 19, 13, 13, 15, 15, 27, 16, 18, 31, 29, 34, 35, 21, 29, 26, 28, 26, 12, 15, 15]\n",
      "14\n",
      "[20, 8, 14, 11, 14, 17, 20, 9, 12, 6, 13, 9, 15, 5, 6, 8, 17, 12, 11, 9, 10, 6, 10, 15, 8, 5, 7, 5, 8, 7, 6, 11, 9, 4, 15, 5, 22, 20, 15, 14, 12, 25, 10, 11, 22, 8, 4, 18, 10, 10, 22, 6, 7, 6, 17, 17, 14, 10, 25, 13, 11, 14, 16, 11, 28, 27, 24, 36, 31, 28, 13, 15, 14, 19, 23, 13, 12, 24, 27, 12, 16, 19, 13, 13, 15, 15, 27, 16, 18, 31, 29, 34, 35, 21, 29, 26, 28, 26, 12, 15, 15, 14]\n",
      "20\n",
      "[20, 8, 14, 11, 14, 17, 20, 9, 12, 6, 13, 9, 15, 5, 6, 8, 17, 12, 11, 9, 10, 6, 10, 15, 8, 5, 7, 5, 8, 7, 6, 11, 9, 4, 15, 5, 22, 20, 15, 14, 12, 25, 10, 11, 22, 8, 4, 18, 10, 10, 22, 6, 7, 6, 17, 17, 14, 10, 25, 13, 11, 14, 16, 11, 28, 27, 24, 36, 31, 28, 13, 15, 14, 19, 23, 13, 12, 24, 27, 12, 16, 19, 13, 13, 15, 15, 27, 16, 18, 31, 29, 34, 35, 21, 29, 26, 28, 26, 12, 15, 15, 14, 20]\n",
      "16\n",
      "[20, 8, 14, 11, 14, 17, 20, 9, 12, 6, 13, 9, 15, 5, 6, 8, 17, 12, 11, 9, 10, 6, 10, 15, 8, 5, 7, 5, 8, 7, 6, 11, 9, 4, 15, 5, 22, 20, 15, 14, 12, 25, 10, 11, 22, 8, 4, 18, 10, 10, 22, 6, 7, 6, 17, 17, 14, 10, 25, 13, 11, 14, 16, 11, 28, 27, 24, 36, 31, 28, 13, 15, 14, 19, 23, 13, 12, 24, 27, 12, 16, 19, 13, 13, 15, 15, 27, 16, 18, 31, 29, 34, 35, 21, 29, 26, 28, 26, 12, 15, 15, 14, 20, 16]\n",
      "31\n",
      "[20, 8, 14, 11, 14, 17, 20, 9, 12, 6, 13, 9, 15, 5, 6, 8, 17, 12, 11, 9, 10, 6, 10, 15, 8, 5, 7, 5, 8, 7, 6, 11, 9, 4, 15, 5, 22, 20, 15, 14, 12, 25, 10, 11, 22, 8, 4, 18, 10, 10, 22, 6, 7, 6, 17, 17, 14, 10, 25, 13, 11, 14, 16, 11, 28, 27, 24, 36, 31, 28, 13, 15, 14, 19, 23, 13, 12, 24, 27, 12, 16, 19, 13, 13, 15, 15, 27, 16, 18, 31, 29, 34, 35, 21, 29, 26, 28, 26, 12, 15, 15, 14, 20, 16, 31]\n",
      "11\n",
      "[20, 8, 14, 11, 14, 17, 20, 9, 12, 6, 13, 9, 15, 5, 6, 8, 17, 12, 11, 9, 10, 6, 10, 15, 8, 5, 7, 5, 8, 7, 6, 11, 9, 4, 15, 5, 22, 20, 15, 14, 12, 25, 10, 11, 22, 8, 4, 18, 10, 10, 22, 6, 7, 6, 17, 17, 14, 10, 25, 13, 11, 14, 16, 11, 28, 27, 24, 36, 31, 28, 13, 15, 14, 19, 23, 13, 12, 24, 27, 12, 16, 19, 13, 13, 15, 15, 27, 16, 18, 31, 29, 34, 35, 21, 29, 26, 28, 26, 12, 15, 15, 14, 20, 16, 31, 11]\n",
      "24\n",
      "[20, 8, 14, 11, 14, 17, 20, 9, 12, 6, 13, 9, 15, 5, 6, 8, 17, 12, 11, 9, 10, 6, 10, 15, 8, 5, 7, 5, 8, 7, 6, 11, 9, 4, 15, 5, 22, 20, 15, 14, 12, 25, 10, 11, 22, 8, 4, 18, 10, 10, 22, 6, 7, 6, 17, 17, 14, 10, 25, 13, 11, 14, 16, 11, 28, 27, 24, 36, 31, 28, 13, 15, 14, 19, 23, 13, 12, 24, 27, 12, 16, 19, 13, 13, 15, 15, 27, 16, 18, 31, 29, 34, 35, 21, 29, 26, 28, 26, 12, 15, 15, 14, 20, 16, 31, 11, 24]\n",
      "14\n",
      "[20, 8, 14, 11, 14, 17, 20, 9, 12, 6, 13, 9, 15, 5, 6, 8, 17, 12, 11, 9, 10, 6, 10, 15, 8, 5, 7, 5, 8, 7, 6, 11, 9, 4, 15, 5, 22, 20, 15, 14, 12, 25, 10, 11, 22, 8, 4, 18, 10, 10, 22, 6, 7, 6, 17, 17, 14, 10, 25, 13, 11, 14, 16, 11, 28, 27, 24, 36, 31, 28, 13, 15, 14, 19, 23, 13, 12, 24, 27, 12, 16, 19, 13, 13, 15, 15, 27, 16, 18, 31, 29, 34, 35, 21, 29, 26, 28, 26, 12, 15, 15, 14, 20, 16, 31, 11, 24, 14]\n",
      "20\n",
      "[20, 8, 14, 11, 14, 17, 20, 9, 12, 6, 13, 9, 15, 5, 6, 8, 17, 12, 11, 9, 10, 6, 10, 15, 8, 5, 7, 5, 8, 7, 6, 11, 9, 4, 15, 5, 22, 20, 15, 14, 12, 25, 10, 11, 22, 8, 4, 18, 10, 10, 22, 6, 7, 6, 17, 17, 14, 10, 25, 13, 11, 14, 16, 11, 28, 27, 24, 36, 31, 28, 13, 15, 14, 19, 23, 13, 12, 24, 27, 12, 16, 19, 13, 13, 15, 15, 27, 16, 18, 31, 29, 34, 35, 21, 29, 26, 28, 26, 12, 15, 15, 14, 20, 16, 31, 11, 24, 14, 20]\n",
      "17\n",
      "[20, 8, 14, 11, 14, 17, 20, 9, 12, 6, 13, 9, 15, 5, 6, 8, 17, 12, 11, 9, 10, 6, 10, 15, 8, 5, 7, 5, 8, 7, 6, 11, 9, 4, 15, 5, 22, 20, 15, 14, 12, 25, 10, 11, 22, 8, 4, 18, 10, 10, 22, 6, 7, 6, 17, 17, 14, 10, 25, 13, 11, 14, 16, 11, 28, 27, 24, 36, 31, 28, 13, 15, 14, 19, 23, 13, 12, 24, 27, 12, 16, 19, 13, 13, 15, 15, 27, 16, 18, 31, 29, 34, 35, 21, 29, 26, 28, 26, 12, 15, 15, 14, 20, 16, 31, 11, 24, 14, 20, 17]\n",
      "20\n",
      "[20, 8, 14, 11, 14, 17, 20, 9, 12, 6, 13, 9, 15, 5, 6, 8, 17, 12, 11, 9, 10, 6, 10, 15, 8, 5, 7, 5, 8, 7, 6, 11, 9, 4, 15, 5, 22, 20, 15, 14, 12, 25, 10, 11, 22, 8, 4, 18, 10, 10, 22, 6, 7, 6, 17, 17, 14, 10, 25, 13, 11, 14, 16, 11, 28, 27, 24, 36, 31, 28, 13, 15, 14, 19, 23, 13, 12, 24, 27, 12, 16, 19, 13, 13, 15, 15, 27, 16, 18, 31, 29, 34, 35, 21, 29, 26, 28, 26, 12, 15, 15, 14, 20, 16, 31, 11, 24, 14, 20, 17, 20]\n",
      "36\n",
      "[20, 8, 14, 11, 14, 17, 20, 9, 12, 6, 13, 9, 15, 5, 6, 8, 17, 12, 11, 9, 10, 6, 10, 15, 8, 5, 7, 5, 8, 7, 6, 11, 9, 4, 15, 5, 22, 20, 15, 14, 12, 25, 10, 11, 22, 8, 4, 18, 10, 10, 22, 6, 7, 6, 17, 17, 14, 10, 25, 13, 11, 14, 16, 11, 28, 27, 24, 36, 31, 28, 13, 15, 14, 19, 23, 13, 12, 24, 27, 12, 16, 19, 13, 13, 15, 15, 27, 16, 18, 31, 29, 34, 35, 21, 29, 26, 28, 26, 12, 15, 15, 14, 20, 16, 31, 11, 24, 14, 20, 17, 20, 36]\n",
      "12\n",
      "[20, 8, 14, 11, 14, 17, 20, 9, 12, 6, 13, 9, 15, 5, 6, 8, 17, 12, 11, 9, 10, 6, 10, 15, 8, 5, 7, 5, 8, 7, 6, 11, 9, 4, 15, 5, 22, 20, 15, 14, 12, 25, 10, 11, 22, 8, 4, 18, 10, 10, 22, 6, 7, 6, 17, 17, 14, 10, 25, 13, 11, 14, 16, 11, 28, 27, 24, 36, 31, 28, 13, 15, 14, 19, 23, 13, 12, 24, 27, 12, 16, 19, 13, 13, 15, 15, 27, 16, 18, 31, 29, 34, 35, 21, 29, 26, 28, 26, 12, 15, 15, 14, 20, 16, 31, 11, 24, 14, 20, 17, 20, 36, 12]\n",
      "28\n",
      "[20, 8, 14, 11, 14, 17, 20, 9, 12, 6, 13, 9, 15, 5, 6, 8, 17, 12, 11, 9, 10, 6, 10, 15, 8, 5, 7, 5, 8, 7, 6, 11, 9, 4, 15, 5, 22, 20, 15, 14, 12, 25, 10, 11, 22, 8, 4, 18, 10, 10, 22, 6, 7, 6, 17, 17, 14, 10, 25, 13, 11, 14, 16, 11, 28, 27, 24, 36, 31, 28, 13, 15, 14, 19, 23, 13, 12, 24, 27, 12, 16, 19, 13, 13, 15, 15, 27, 16, 18, 31, 29, 34, 35, 21, 29, 26, 28, 26, 12, 15, 15, 14, 20, 16, 31, 11, 24, 14, 20, 17, 20, 36, 12, 28]\n",
      "20\n",
      "[20, 8, 14, 11, 14, 17, 20, 9, 12, 6, 13, 9, 15, 5, 6, 8, 17, 12, 11, 9, 10, 6, 10, 15, 8, 5, 7, 5, 8, 7, 6, 11, 9, 4, 15, 5, 22, 20, 15, 14, 12, 25, 10, 11, 22, 8, 4, 18, 10, 10, 22, 6, 7, 6, 17, 17, 14, 10, 25, 13, 11, 14, 16, 11, 28, 27, 24, 36, 31, 28, 13, 15, 14, 19, 23, 13, 12, 24, 27, 12, 16, 19, 13, 13, 15, 15, 27, 16, 18, 31, 29, 34, 35, 21, 29, 26, 28, 26, 12, 15, 15, 14, 20, 16, 31, 11, 24, 14, 20, 17, 20, 36, 12, 28, 20]\n",
      "20\n",
      "[20, 8, 14, 11, 14, 17, 20, 9, 12, 6, 13, 9, 15, 5, 6, 8, 17, 12, 11, 9, 10, 6, 10, 15, 8, 5, 7, 5, 8, 7, 6, 11, 9, 4, 15, 5, 22, 20, 15, 14, 12, 25, 10, 11, 22, 8, 4, 18, 10, 10, 22, 6, 7, 6, 17, 17, 14, 10, 25, 13, 11, 14, 16, 11, 28, 27, 24, 36, 31, 28, 13, 15, 14, 19, 23, 13, 12, 24, 27, 12, 16, 19, 13, 13, 15, 15, 27, 16, 18, 31, 29, 34, 35, 21, 29, 26, 28, 26, 12, 15, 15, 14, 20, 16, 31, 11, 24, 14, 20, 17, 20, 36, 12, 28, 20, 20]\n",
      "22\n",
      "[20, 8, 14, 11, 14, 17, 20, 9, 12, 6, 13, 9, 15, 5, 6, 8, 17, 12, 11, 9, 10, 6, 10, 15, 8, 5, 7, 5, 8, 7, 6, 11, 9, 4, 15, 5, 22, 20, 15, 14, 12, 25, 10, 11, 22, 8, 4, 18, 10, 10, 22, 6, 7, 6, 17, 17, 14, 10, 25, 13, 11, 14, 16, 11, 28, 27, 24, 36, 31, 28, 13, 15, 14, 19, 23, 13, 12, 24, 27, 12, 16, 19, 13, 13, 15, 15, 27, 16, 18, 31, 29, 34, 35, 21, 29, 26, 28, 26, 12, 15, 15, 14, 20, 16, 31, 11, 24, 14, 20, 17, 20, 36, 12, 28, 20, 20, 22]\n",
      "26\n",
      "[20, 8, 14, 11, 14, 17, 20, 9, 12, 6, 13, 9, 15, 5, 6, 8, 17, 12, 11, 9, 10, 6, 10, 15, 8, 5, 7, 5, 8, 7, 6, 11, 9, 4, 15, 5, 22, 20, 15, 14, 12, 25, 10, 11, 22, 8, 4, 18, 10, 10, 22, 6, 7, 6, 17, 17, 14, 10, 25, 13, 11, 14, 16, 11, 28, 27, 24, 36, 31, 28, 13, 15, 14, 19, 23, 13, 12, 24, 27, 12, 16, 19, 13, 13, 15, 15, 27, 16, 18, 31, 29, 34, 35, 21, 29, 26, 28, 26, 12, 15, 15, 14, 20, 16, 31, 11, 24, 14, 20, 17, 20, 36, 12, 28, 20, 20, 22, 26]\n",
      "16\n",
      "[20, 8, 14, 11, 14, 17, 20, 9, 12, 6, 13, 9, 15, 5, 6, 8, 17, 12, 11, 9, 10, 6, 10, 15, 8, 5, 7, 5, 8, 7, 6, 11, 9, 4, 15, 5, 22, 20, 15, 14, 12, 25, 10, 11, 22, 8, 4, 18, 10, 10, 22, 6, 7, 6, 17, 17, 14, 10, 25, 13, 11, 14, 16, 11, 28, 27, 24, 36, 31, 28, 13, 15, 14, 19, 23, 13, 12, 24, 27, 12, 16, 19, 13, 13, 15, 15, 27, 16, 18, 31, 29, 34, 35, 21, 29, 26, 28, 26, 12, 15, 15, 14, 20, 16, 31, 11, 24, 14, 20, 17, 20, 36, 12, 28, 20, 20, 22, 26, 16]\n",
      "11\n",
      "[20, 8, 14, 11, 14, 17, 20, 9, 12, 6, 13, 9, 15, 5, 6, 8, 17, 12, 11, 9, 10, 6, 10, 15, 8, 5, 7, 5, 8, 7, 6, 11, 9, 4, 15, 5, 22, 20, 15, 14, 12, 25, 10, 11, 22, 8, 4, 18, 10, 10, 22, 6, 7, 6, 17, 17, 14, 10, 25, 13, 11, 14, 16, 11, 28, 27, 24, 36, 31, 28, 13, 15, 14, 19, 23, 13, 12, 24, 27, 12, 16, 19, 13, 13, 15, 15, 27, 16, 18, 31, 29, 34, 35, 21, 29, 26, 28, 26, 12, 15, 15, 14, 20, 16, 31, 11, 24, 14, 20, 17, 20, 36, 12, 28, 20, 20, 22, 26, 16, 11]\n",
      "13\n",
      "[20, 8, 14, 11, 14, 17, 20, 9, 12, 6, 13, 9, 15, 5, 6, 8, 17, 12, 11, 9, 10, 6, 10, 15, 8, 5, 7, 5, 8, 7, 6, 11, 9, 4, 15, 5, 22, 20, 15, 14, 12, 25, 10, 11, 22, 8, 4, 18, 10, 10, 22, 6, 7, 6, 17, 17, 14, 10, 25, 13, 11, 14, 16, 11, 28, 27, 24, 36, 31, 28, 13, 15, 14, 19, 23, 13, 12, 24, 27, 12, 16, 19, 13, 13, 15, 15, 27, 16, 18, 31, 29, 34, 35, 21, 29, 26, 28, 26, 12, 15, 15, 14, 20, 16, 31, 11, 24, 14, 20, 17, 20, 36, 12, 28, 20, 20, 22, 26, 16, 11, 13]\n",
      "21\n",
      "[20, 8, 14, 11, 14, 17, 20, 9, 12, 6, 13, 9, 15, 5, 6, 8, 17, 12, 11, 9, 10, 6, 10, 15, 8, 5, 7, 5, 8, 7, 6, 11, 9, 4, 15, 5, 22, 20, 15, 14, 12, 25, 10, 11, 22, 8, 4, 18, 10, 10, 22, 6, 7, 6, 17, 17, 14, 10, 25, 13, 11, 14, 16, 11, 28, 27, 24, 36, 31, 28, 13, 15, 14, 19, 23, 13, 12, 24, 27, 12, 16, 19, 13, 13, 15, 15, 27, 16, 18, 31, 29, 34, 35, 21, 29, 26, 28, 26, 12, 15, 15, 14, 20, 16, 31, 11, 24, 14, 20, 17, 20, 36, 12, 28, 20, 20, 22, 26, 16, 11, 13, 21]\n",
      "26\n",
      "[20, 8, 14, 11, 14, 17, 20, 9, 12, 6, 13, 9, 15, 5, 6, 8, 17, 12, 11, 9, 10, 6, 10, 15, 8, 5, 7, 5, 8, 7, 6, 11, 9, 4, 15, 5, 22, 20, 15, 14, 12, 25, 10, 11, 22, 8, 4, 18, 10, 10, 22, 6, 7, 6, 17, 17, 14, 10, 25, 13, 11, 14, 16, 11, 28, 27, 24, 36, 31, 28, 13, 15, 14, 19, 23, 13, 12, 24, 27, 12, 16, 19, 13, 13, 15, 15, 27, 16, 18, 31, 29, 34, 35, 21, 29, 26, 28, 26, 12, 15, 15, 14, 20, 16, 31, 11, 24, 14, 20, 17, 20, 36, 12, 28, 20, 20, 22, 26, 16, 11, 13, 21, 26]\n",
      "40\n",
      "[20, 8, 14, 11, 14, 17, 20, 9, 12, 6, 13, 9, 15, 5, 6, 8, 17, 12, 11, 9, 10, 6, 10, 15, 8, 5, 7, 5, 8, 7, 6, 11, 9, 4, 15, 5, 22, 20, 15, 14, 12, 25, 10, 11, 22, 8, 4, 18, 10, 10, 22, 6, 7, 6, 17, 17, 14, 10, 25, 13, 11, 14, 16, 11, 28, 27, 24, 36, 31, 28, 13, 15, 14, 19, 23, 13, 12, 24, 27, 12, 16, 19, 13, 13, 15, 15, 27, 16, 18, 31, 29, 34, 35, 21, 29, 26, 28, 26, 12, 15, 15, 14, 20, 16, 31, 11, 24, 14, 20, 17, 20, 36, 12, 28, 20, 20, 22, 26, 16, 11, 13, 21, 26, 40]\n",
      "14\n",
      "[20, 8, 14, 11, 14, 17, 20, 9, 12, 6, 13, 9, 15, 5, 6, 8, 17, 12, 11, 9, 10, 6, 10, 15, 8, 5, 7, 5, 8, 7, 6, 11, 9, 4, 15, 5, 22, 20, 15, 14, 12, 25, 10, 11, 22, 8, 4, 18, 10, 10, 22, 6, 7, 6, 17, 17, 14, 10, 25, 13, 11, 14, 16, 11, 28, 27, 24, 36, 31, 28, 13, 15, 14, 19, 23, 13, 12, 24, 27, 12, 16, 19, 13, 13, 15, 15, 27, 16, 18, 31, 29, 34, 35, 21, 29, 26, 28, 26, 12, 15, 15, 14, 20, 16, 31, 11, 24, 14, 20, 17, 20, 36, 12, 28, 20, 20, 22, 26, 16, 11, 13, 21, 26, 40, 14]\n",
      "6\n",
      "[20, 8, 14, 11, 14, 17, 20, 9, 12, 6, 13, 9, 15, 5, 6, 8, 17, 12, 11, 9, 10, 6, 10, 15, 8, 5, 7, 5, 8, 7, 6, 11, 9, 4, 15, 5, 22, 20, 15, 14, 12, 25, 10, 11, 22, 8, 4, 18, 10, 10, 22, 6, 7, 6, 17, 17, 14, 10, 25, 13, 11, 14, 16, 11, 28, 27, 24, 36, 31, 28, 13, 15, 14, 19, 23, 13, 12, 24, 27, 12, 16, 19, 13, 13, 15, 15, 27, 16, 18, 31, 29, 34, 35, 21, 29, 26, 28, 26, 12, 15, 15, 14, 20, 16, 31, 11, 24, 14, 20, 17, 20, 36, 12, 28, 20, 20, 22, 26, 16, 11, 13, 21, 26, 40, 14, 6]\n",
      "2012 12      20\n",
      "2012 34       8\n",
      "2012 56      14\n",
      "2012 79      11\n",
      "2012 1011    14\n",
      "2012 1213    17\n",
      "2012 1415    20\n",
      "2012 1617     9\n",
      "2012 1819    12\n",
      "2012 2021     6\n",
      "2012 2223    13\n",
      "2012 2425     9\n",
      "2012 2627    15\n",
      "2012 2830     5\n",
      "2012 3132     6\n",
      "2012 3335     8\n",
      "2012 3738    17\n",
      "2012 4041    12\n",
      "2012 4243    11\n",
      "2012 4445     9\n",
      "2012 4647    10\n",
      "2012 4849     6\n",
      "2012 5052    10\n",
      "2012 12      15\n",
      "2012 34       8\n",
      "2012 56       5\n",
      "2012 78       7\n",
      "2012 910      5\n",
      "2012 1112     8\n",
      "2012 1415     7\n",
      "             ..\n",
      "2012 4748    28\n",
      "2012 4950    26\n",
      "2012 5152    12\n",
      "2012 531     15\n",
      "2012 23      15\n",
      "2012 45      14\n",
      "2012 67      20\n",
      "2012 89      16\n",
      "2012 1011    31\n",
      "2012 1213    11\n",
      "2012 1415    24\n",
      "2012 1617    14\n",
      "2012 1819    20\n",
      "2012 2021    17\n",
      "2012 2223    20\n",
      "2012 2425    36\n",
      "2012 2627    12\n",
      "2012 2829    28\n",
      "2012 3031    20\n",
      "2012 3233    20\n",
      "2012 3435    22\n",
      "2012 3637    26\n",
      "2012 3839    16\n",
      "2012 4041    11\n",
      "2012 4243    13\n",
      "2012 4445    21\n",
      "2012 4647    26\n",
      "2012 4849    40\n",
      "2012 5051    14\n",
      "2012 5253     6\n",
      "dtype: int64\n"
     ]
    }
   ],
   "source": [
    "print(aggregateData(stop_search, \"EventDate\", \"2 weeks\"))"
   ]
  },
  {
   "cell_type": "code",
   "execution_count": 110,
   "metadata": {
    "collapsed": false,
    "scrolled": true
   },
   "outputs": [
    {
     "name": "stdout",
     "output_type": "stream",
     "text": [
      "20\n",
      "[20]\n",
      "8\n",
      "[20, 8]\n",
      "14\n",
      "[20, 8, 14]\n",
      "11\n",
      "[20, 8, 14, 11]\n",
      "14\n",
      "[20, 8, 14, 11, 14]\n",
      "17\n",
      "[20, 8, 14, 11, 14, 17]\n",
      "20\n",
      "[20, 8, 14, 11, 14, 17, 20]\n",
      "9\n",
      "[20, 8, 14, 11, 14, 17, 20, 9]\n",
      "12\n",
      "[20, 8, 14, 11, 14, 17, 20, 9, 12]\n",
      "6\n",
      "[20, 8, 14, 11, 14, 17, 20, 9, 12, 6]\n",
      "13\n",
      "[20, 8, 14, 11, 14, 17, 20, 9, 12, 6, 13]\n",
      "9\n",
      "[20, 8, 14, 11, 14, 17, 20, 9, 12, 6, 13, 9]\n",
      "15\n",
      "[20, 8, 14, 11, 14, 17, 20, 9, 12, 6, 13, 9, 15]\n",
      "5\n",
      "[20, 8, 14, 11, 14, 17, 20, 9, 12, 6, 13, 9, 15, 5]\n",
      "6\n",
      "[20, 8, 14, 11, 14, 17, 20, 9, 12, 6, 13, 9, 15, 5, 6]\n",
      "8\n",
      "[20, 8, 14, 11, 14, 17, 20, 9, 12, 6, 13, 9, 15, 5, 6, 8]\n",
      "17\n",
      "[20, 8, 14, 11, 14, 17, 20, 9, 12, 6, 13, 9, 15, 5, 6, 8, 17]\n",
      "12\n",
      "[20, 8, 14, 11, 14, 17, 20, 9, 12, 6, 13, 9, 15, 5, 6, 8, 17, 12]\n",
      "11\n",
      "[20, 8, 14, 11, 14, 17, 20, 9, 12, 6, 13, 9, 15, 5, 6, 8, 17, 12, 11]\n",
      "9\n",
      "[20, 8, 14, 11, 14, 17, 20, 9, 12, 6, 13, 9, 15, 5, 6, 8, 17, 12, 11, 9]\n",
      "10\n",
      "[20, 8, 14, 11, 14, 17, 20, 9, 12, 6, 13, 9, 15, 5, 6, 8, 17, 12, 11, 9, 10]\n",
      "6\n",
      "[20, 8, 14, 11, 14, 17, 20, 9, 12, 6, 13, 9, 15, 5, 6, 8, 17, 12, 11, 9, 10, 6]\n",
      "10\n",
      "[20, 8, 14, 11, 14, 17, 20, 9, 12, 6, 13, 9, 15, 5, 6, 8, 17, 12, 11, 9, 10, 6, 10]\n",
      "15\n",
      "[20, 8, 14, 11, 14, 17, 20, 9, 12, 6, 13, 9, 15, 5, 6, 8, 17, 12, 11, 9, 10, 6, 10, 15]\n",
      "8\n",
      "[20, 8, 14, 11, 14, 17, 20, 9, 12, 6, 13, 9, 15, 5, 6, 8, 17, 12, 11, 9, 10, 6, 10, 15, 8]\n",
      "5\n",
      "[20, 8, 14, 11, 14, 17, 20, 9, 12, 6, 13, 9, 15, 5, 6, 8, 17, 12, 11, 9, 10, 6, 10, 15, 8, 5]\n",
      "7\n",
      "[20, 8, 14, 11, 14, 17, 20, 9, 12, 6, 13, 9, 15, 5, 6, 8, 17, 12, 11, 9, 10, 6, 10, 15, 8, 5, 7]\n",
      "5\n",
      "[20, 8, 14, 11, 14, 17, 20, 9, 12, 6, 13, 9, 15, 5, 6, 8, 17, 12, 11, 9, 10, 6, 10, 15, 8, 5, 7, 5]\n",
      "8\n",
      "[20, 8, 14, 11, 14, 17, 20, 9, 12, 6, 13, 9, 15, 5, 6, 8, 17, 12, 11, 9, 10, 6, 10, 15, 8, 5, 7, 5, 8]\n",
      "7\n",
      "[20, 8, 14, 11, 14, 17, 20, 9, 12, 6, 13, 9, 15, 5, 6, 8, 17, 12, 11, 9, 10, 6, 10, 15, 8, 5, 7, 5, 8, 7]\n",
      "6\n",
      "[20, 8, 14, 11, 14, 17, 20, 9, 12, 6, 13, 9, 15, 5, 6, 8, 17, 12, 11, 9, 10, 6, 10, 15, 8, 5, 7, 5, 8, 7, 6]\n",
      "11\n",
      "[20, 8, 14, 11, 14, 17, 20, 9, 12, 6, 13, 9, 15, 5, 6, 8, 17, 12, 11, 9, 10, 6, 10, 15, 8, 5, 7, 5, 8, 7, 6, 11]\n",
      "9\n",
      "[20, 8, 14, 11, 14, 17, 20, 9, 12, 6, 13, 9, 15, 5, 6, 8, 17, 12, 11, 9, 10, 6, 10, 15, 8, 5, 7, 5, 8, 7, 6, 11, 9]\n",
      "4\n",
      "[20, 8, 14, 11, 14, 17, 20, 9, 12, 6, 13, 9, 15, 5, 6, 8, 17, 12, 11, 9, 10, 6, 10, 15, 8, 5, 7, 5, 8, 7, 6, 11, 9, 4]\n",
      "15\n",
      "[20, 8, 14, 11, 14, 17, 20, 9, 12, 6, 13, 9, 15, 5, 6, 8, 17, 12, 11, 9, 10, 6, 10, 15, 8, 5, 7, 5, 8, 7, 6, 11, 9, 4, 15]\n",
      "5\n",
      "[20, 8, 14, 11, 14, 17, 20, 9, 12, 6, 13, 9, 15, 5, 6, 8, 17, 12, 11, 9, 10, 6, 10, 15, 8, 5, 7, 5, 8, 7, 6, 11, 9, 4, 15, 5]\n",
      "22\n",
      "[20, 8, 14, 11, 14, 17, 20, 9, 12, 6, 13, 9, 15, 5, 6, 8, 17, 12, 11, 9, 10, 6, 10, 15, 8, 5, 7, 5, 8, 7, 6, 11, 9, 4, 15, 5, 22]\n",
      "20\n",
      "[20, 8, 14, 11, 14, 17, 20, 9, 12, 6, 13, 9, 15, 5, 6, 8, 17, 12, 11, 9, 10, 6, 10, 15, 8, 5, 7, 5, 8, 7, 6, 11, 9, 4, 15, 5, 22, 20]\n",
      "15\n",
      "[20, 8, 14, 11, 14, 17, 20, 9, 12, 6, 13, 9, 15, 5, 6, 8, 17, 12, 11, 9, 10, 6, 10, 15, 8, 5, 7, 5, 8, 7, 6, 11, 9, 4, 15, 5, 22, 20, 15]\n",
      "14\n",
      "[20, 8, 14, 11, 14, 17, 20, 9, 12, 6, 13, 9, 15, 5, 6, 8, 17, 12, 11, 9, 10, 6, 10, 15, 8, 5, 7, 5, 8, 7, 6, 11, 9, 4, 15, 5, 22, 20, 15, 14]\n",
      "12\n",
      "[20, 8, 14, 11, 14, 17, 20, 9, 12, 6, 13, 9, 15, 5, 6, 8, 17, 12, 11, 9, 10, 6, 10, 15, 8, 5, 7, 5, 8, 7, 6, 11, 9, 4, 15, 5, 22, 20, 15, 14, 12]\n",
      "25\n",
      "[20, 8, 14, 11, 14, 17, 20, 9, 12, 6, 13, 9, 15, 5, 6, 8, 17, 12, 11, 9, 10, 6, 10, 15, 8, 5, 7, 5, 8, 7, 6, 11, 9, 4, 15, 5, 22, 20, 15, 14, 12, 25]\n",
      "10\n",
      "[20, 8, 14, 11, 14, 17, 20, 9, 12, 6, 13, 9, 15, 5, 6, 8, 17, 12, 11, 9, 10, 6, 10, 15, 8, 5, 7, 5, 8, 7, 6, 11, 9, 4, 15, 5, 22, 20, 15, 14, 12, 25, 10]\n",
      "11\n",
      "[20, 8, 14, 11, 14, 17, 20, 9, 12, 6, 13, 9, 15, 5, 6, 8, 17, 12, 11, 9, 10, 6, 10, 15, 8, 5, 7, 5, 8, 7, 6, 11, 9, 4, 15, 5, 22, 20, 15, 14, 12, 25, 10, 11]\n",
      "22\n",
      "[20, 8, 14, 11, 14, 17, 20, 9, 12, 6, 13, 9, 15, 5, 6, 8, 17, 12, 11, 9, 10, 6, 10, 15, 8, 5, 7, 5, 8, 7, 6, 11, 9, 4, 15, 5, 22, 20, 15, 14, 12, 25, 10, 11, 22]\n",
      "8\n",
      "[20, 8, 14, 11, 14, 17, 20, 9, 12, 6, 13, 9, 15, 5, 6, 8, 17, 12, 11, 9, 10, 6, 10, 15, 8, 5, 7, 5, 8, 7, 6, 11, 9, 4, 15, 5, 22, 20, 15, 14, 12, 25, 10, 11, 22, 8]\n",
      "4\n",
      "[20, 8, 14, 11, 14, 17, 20, 9, 12, 6, 13, 9, 15, 5, 6, 8, 17, 12, 11, 9, 10, 6, 10, 15, 8, 5, 7, 5, 8, 7, 6, 11, 9, 4, 15, 5, 22, 20, 15, 14, 12, 25, 10, 11, 22, 8, 4]\n",
      "18\n",
      "[20, 8, 14, 11, 14, 17, 20, 9, 12, 6, 13, 9, 15, 5, 6, 8, 17, 12, 11, 9, 10, 6, 10, 15, 8, 5, 7, 5, 8, 7, 6, 11, 9, 4, 15, 5, 22, 20, 15, 14, 12, 25, 10, 11, 22, 8, 4, 18]\n",
      "10\n",
      "[20, 8, 14, 11, 14, 17, 20, 9, 12, 6, 13, 9, 15, 5, 6, 8, 17, 12, 11, 9, 10, 6, 10, 15, 8, 5, 7, 5, 8, 7, 6, 11, 9, 4, 15, 5, 22, 20, 15, 14, 12, 25, 10, 11, 22, 8, 4, 18, 10]\n",
      "10\n",
      "[20, 8, 14, 11, 14, 17, 20, 9, 12, 6, 13, 9, 15, 5, 6, 8, 17, 12, 11, 9, 10, 6, 10, 15, 8, 5, 7, 5, 8, 7, 6, 11, 9, 4, 15, 5, 22, 20, 15, 14, 12, 25, 10, 11, 22, 8, 4, 18, 10, 10]\n",
      "22\n",
      "[20, 8, 14, 11, 14, 17, 20, 9, 12, 6, 13, 9, 15, 5, 6, 8, 17, 12, 11, 9, 10, 6, 10, 15, 8, 5, 7, 5, 8, 7, 6, 11, 9, 4, 15, 5, 22, 20, 15, 14, 12, 25, 10, 11, 22, 8, 4, 18, 10, 10, 22]\n",
      "6\n",
      "[20, 8, 14, 11, 14, 17, 20, 9, 12, 6, 13, 9, 15, 5, 6, 8, 17, 12, 11, 9, 10, 6, 10, 15, 8, 5, 7, 5, 8, 7, 6, 11, 9, 4, 15, 5, 22, 20, 15, 14, 12, 25, 10, 11, 22, 8, 4, 18, 10, 10, 22, 6]\n",
      "7\n",
      "[20, 8, 14, 11, 14, 17, 20, 9, 12, 6, 13, 9, 15, 5, 6, 8, 17, 12, 11, 9, 10, 6, 10, 15, 8, 5, 7, 5, 8, 7, 6, 11, 9, 4, 15, 5, 22, 20, 15, 14, 12, 25, 10, 11, 22, 8, 4, 18, 10, 10, 22, 6, 7]\n",
      "6\n",
      "[20, 8, 14, 11, 14, 17, 20, 9, 12, 6, 13, 9, 15, 5, 6, 8, 17, 12, 11, 9, 10, 6, 10, 15, 8, 5, 7, 5, 8, 7, 6, 11, 9, 4, 15, 5, 22, 20, 15, 14, 12, 25, 10, 11, 22, 8, 4, 18, 10, 10, 22, 6, 7, 6]\n",
      "17\n",
      "[20, 8, 14, 11, 14, 17, 20, 9, 12, 6, 13, 9, 15, 5, 6, 8, 17, 12, 11, 9, 10, 6, 10, 15, 8, 5, 7, 5, 8, 7, 6, 11, 9, 4, 15, 5, 22, 20, 15, 14, 12, 25, 10, 11, 22, 8, 4, 18, 10, 10, 22, 6, 7, 6, 17]\n",
      "17\n",
      "[20, 8, 14, 11, 14, 17, 20, 9, 12, 6, 13, 9, 15, 5, 6, 8, 17, 12, 11, 9, 10, 6, 10, 15, 8, 5, 7, 5, 8, 7, 6, 11, 9, 4, 15, 5, 22, 20, 15, 14, 12, 25, 10, 11, 22, 8, 4, 18, 10, 10, 22, 6, 7, 6, 17, 17]\n",
      "14\n",
      "[20, 8, 14, 11, 14, 17, 20, 9, 12, 6, 13, 9, 15, 5, 6, 8, 17, 12, 11, 9, 10, 6, 10, 15, 8, 5, 7, 5, 8, 7, 6, 11, 9, 4, 15, 5, 22, 20, 15, 14, 12, 25, 10, 11, 22, 8, 4, 18, 10, 10, 22, 6, 7, 6, 17, 17, 14]\n",
      "10\n",
      "[20, 8, 14, 11, 14, 17, 20, 9, 12, 6, 13, 9, 15, 5, 6, 8, 17, 12, 11, 9, 10, 6, 10, 15, 8, 5, 7, 5, 8, 7, 6, 11, 9, 4, 15, 5, 22, 20, 15, 14, 12, 25, 10, 11, 22, 8, 4, 18, 10, 10, 22, 6, 7, 6, 17, 17, 14, 10]\n",
      "25\n",
      "[20, 8, 14, 11, 14, 17, 20, 9, 12, 6, 13, 9, 15, 5, 6, 8, 17, 12, 11, 9, 10, 6, 10, 15, 8, 5, 7, 5, 8, 7, 6, 11, 9, 4, 15, 5, 22, 20, 15, 14, 12, 25, 10, 11, 22, 8, 4, 18, 10, 10, 22, 6, 7, 6, 17, 17, 14, 10, 25]\n",
      "13\n",
      "[20, 8, 14, 11, 14, 17, 20, 9, 12, 6, 13, 9, 15, 5, 6, 8, 17, 12, 11, 9, 10, 6, 10, 15, 8, 5, 7, 5, 8, 7, 6, 11, 9, 4, 15, 5, 22, 20, 15, 14, 12, 25, 10, 11, 22, 8, 4, 18, 10, 10, 22, 6, 7, 6, 17, 17, 14, 10, 25, 13]\n",
      "11\n",
      "[20, 8, 14, 11, 14, 17, 20, 9, 12, 6, 13, 9, 15, 5, 6, 8, 17, 12, 11, 9, 10, 6, 10, 15, 8, 5, 7, 5, 8, 7, 6, 11, 9, 4, 15, 5, 22, 20, 15, 14, 12, 25, 10, 11, 22, 8, 4, 18, 10, 10, 22, 6, 7, 6, 17, 17, 14, 10, 25, 13, 11]\n",
      "14\n",
      "[20, 8, 14, 11, 14, 17, 20, 9, 12, 6, 13, 9, 15, 5, 6, 8, 17, 12, 11, 9, 10, 6, 10, 15, 8, 5, 7, 5, 8, 7, 6, 11, 9, 4, 15, 5, 22, 20, 15, 14, 12, 25, 10, 11, 22, 8, 4, 18, 10, 10, 22, 6, 7, 6, 17, 17, 14, 10, 25, 13, 11, 14]\n",
      "16\n",
      "[20, 8, 14, 11, 14, 17, 20, 9, 12, 6, 13, 9, 15, 5, 6, 8, 17, 12, 11, 9, 10, 6, 10, 15, 8, 5, 7, 5, 8, 7, 6, 11, 9, 4, 15, 5, 22, 20, 15, 14, 12, 25, 10, 11, 22, 8, 4, 18, 10, 10, 22, 6, 7, 6, 17, 17, 14, 10, 25, 13, 11, 14, 16]\n",
      "11\n",
      "[20, 8, 14, 11, 14, 17, 20, 9, 12, 6, 13, 9, 15, 5, 6, 8, 17, 12, 11, 9, 10, 6, 10, 15, 8, 5, 7, 5, 8, 7, 6, 11, 9, 4, 15, 5, 22, 20, 15, 14, 12, 25, 10, 11, 22, 8, 4, 18, 10, 10, 22, 6, 7, 6, 17, 17, 14, 10, 25, 13, 11, 14, 16, 11]\n",
      "28\n",
      "[20, 8, 14, 11, 14, 17, 20, 9, 12, 6, 13, 9, 15, 5, 6, 8, 17, 12, 11, 9, 10, 6, 10, 15, 8, 5, 7, 5, 8, 7, 6, 11, 9, 4, 15, 5, 22, 20, 15, 14, 12, 25, 10, 11, 22, 8, 4, 18, 10, 10, 22, 6, 7, 6, 17, 17, 14, 10, 25, 13, 11, 14, 16, 11, 28]\n",
      "27\n",
      "[20, 8, 14, 11, 14, 17, 20, 9, 12, 6, 13, 9, 15, 5, 6, 8, 17, 12, 11, 9, 10, 6, 10, 15, 8, 5, 7, 5, 8, 7, 6, 11, 9, 4, 15, 5, 22, 20, 15, 14, 12, 25, 10, 11, 22, 8, 4, 18, 10, 10, 22, 6, 7, 6, 17, 17, 14, 10, 25, 13, 11, 14, 16, 11, 28, 27]\n",
      "24\n",
      "[20, 8, 14, 11, 14, 17, 20, 9, 12, 6, 13, 9, 15, 5, 6, 8, 17, 12, 11, 9, 10, 6, 10, 15, 8, 5, 7, 5, 8, 7, 6, 11, 9, 4, 15, 5, 22, 20, 15, 14, 12, 25, 10, 11, 22, 8, 4, 18, 10, 10, 22, 6, 7, 6, 17, 17, 14, 10, 25, 13, 11, 14, 16, 11, 28, 27, 24]\n",
      "36\n",
      "[20, 8, 14, 11, 14, 17, 20, 9, 12, 6, 13, 9, 15, 5, 6, 8, 17, 12, 11, 9, 10, 6, 10, 15, 8, 5, 7, 5, 8, 7, 6, 11, 9, 4, 15, 5, 22, 20, 15, 14, 12, 25, 10, 11, 22, 8, 4, 18, 10, 10, 22, 6, 7, 6, 17, 17, 14, 10, 25, 13, 11, 14, 16, 11, 28, 27, 24, 36]\n",
      "31\n",
      "[20, 8, 14, 11, 14, 17, 20, 9, 12, 6, 13, 9, 15, 5, 6, 8, 17, 12, 11, 9, 10, 6, 10, 15, 8, 5, 7, 5, 8, 7, 6, 11, 9, 4, 15, 5, 22, 20, 15, 14, 12, 25, 10, 11, 22, 8, 4, 18, 10, 10, 22, 6, 7, 6, 17, 17, 14, 10, 25, 13, 11, 14, 16, 11, 28, 27, 24, 36, 31]\n",
      "28\n",
      "[20, 8, 14, 11, 14, 17, 20, 9, 12, 6, 13, 9, 15, 5, 6, 8, 17, 12, 11, 9, 10, 6, 10, 15, 8, 5, 7, 5, 8, 7, 6, 11, 9, 4, 15, 5, 22, 20, 15, 14, 12, 25, 10, 11, 22, 8, 4, 18, 10, 10, 22, 6, 7, 6, 17, 17, 14, 10, 25, 13, 11, 14, 16, 11, 28, 27, 24, 36, 31, 28]\n",
      "13\n",
      "[20, 8, 14, 11, 14, 17, 20, 9, 12, 6, 13, 9, 15, 5, 6, 8, 17, 12, 11, 9, 10, 6, 10, 15, 8, 5, 7, 5, 8, 7, 6, 11, 9, 4, 15, 5, 22, 20, 15, 14, 12, 25, 10, 11, 22, 8, 4, 18, 10, 10, 22, 6, 7, 6, 17, 17, 14, 10, 25, 13, 11, 14, 16, 11, 28, 27, 24, 36, 31, 28, 13]\n",
      "15\n",
      "[20, 8, 14, 11, 14, 17, 20, 9, 12, 6, 13, 9, 15, 5, 6, 8, 17, 12, 11, 9, 10, 6, 10, 15, 8, 5, 7, 5, 8, 7, 6, 11, 9, 4, 15, 5, 22, 20, 15, 14, 12, 25, 10, 11, 22, 8, 4, 18, 10, 10, 22, 6, 7, 6, 17, 17, 14, 10, 25, 13, 11, 14, 16, 11, 28, 27, 24, 36, 31, 28, 13, 15]\n",
      "14\n",
      "[20, 8, 14, 11, 14, 17, 20, 9, 12, 6, 13, 9, 15, 5, 6, 8, 17, 12, 11, 9, 10, 6, 10, 15, 8, 5, 7, 5, 8, 7, 6, 11, 9, 4, 15, 5, 22, 20, 15, 14, 12, 25, 10, 11, 22, 8, 4, 18, 10, 10, 22, 6, 7, 6, 17, 17, 14, 10, 25, 13, 11, 14, 16, 11, 28, 27, 24, 36, 31, 28, 13, 15, 14]\n",
      "19\n",
      "[20, 8, 14, 11, 14, 17, 20, 9, 12, 6, 13, 9, 15, 5, 6, 8, 17, 12, 11, 9, 10, 6, 10, 15, 8, 5, 7, 5, 8, 7, 6, 11, 9, 4, 15, 5, 22, 20, 15, 14, 12, 25, 10, 11, 22, 8, 4, 18, 10, 10, 22, 6, 7, 6, 17, 17, 14, 10, 25, 13, 11, 14, 16, 11, 28, 27, 24, 36, 31, 28, 13, 15, 14, 19]\n",
      "23\n",
      "[20, 8, 14, 11, 14, 17, 20, 9, 12, 6, 13, 9, 15, 5, 6, 8, 17, 12, 11, 9, 10, 6, 10, 15, 8, 5, 7, 5, 8, 7, 6, 11, 9, 4, 15, 5, 22, 20, 15, 14, 12, 25, 10, 11, 22, 8, 4, 18, 10, 10, 22, 6, 7, 6, 17, 17, 14, 10, 25, 13, 11, 14, 16, 11, 28, 27, 24, 36, 31, 28, 13, 15, 14, 19, 23]\n",
      "13\n",
      "[20, 8, 14, 11, 14, 17, 20, 9, 12, 6, 13, 9, 15, 5, 6, 8, 17, 12, 11, 9, 10, 6, 10, 15, 8, 5, 7, 5, 8, 7, 6, 11, 9, 4, 15, 5, 22, 20, 15, 14, 12, 25, 10, 11, 22, 8, 4, 18, 10, 10, 22, 6, 7, 6, 17, 17, 14, 10, 25, 13, 11, 14, 16, 11, 28, 27, 24, 36, 31, 28, 13, 15, 14, 19, 23, 13]\n",
      "12\n",
      "[20, 8, 14, 11, 14, 17, 20, 9, 12, 6, 13, 9, 15, 5, 6, 8, 17, 12, 11, 9, 10, 6, 10, 15, 8, 5, 7, 5, 8, 7, 6, 11, 9, 4, 15, 5, 22, 20, 15, 14, 12, 25, 10, 11, 22, 8, 4, 18, 10, 10, 22, 6, 7, 6, 17, 17, 14, 10, 25, 13, 11, 14, 16, 11, 28, 27, 24, 36, 31, 28, 13, 15, 14, 19, 23, 13, 12]\n",
      "24\n",
      "[20, 8, 14, 11, 14, 17, 20, 9, 12, 6, 13, 9, 15, 5, 6, 8, 17, 12, 11, 9, 10, 6, 10, 15, 8, 5, 7, 5, 8, 7, 6, 11, 9, 4, 15, 5, 22, 20, 15, 14, 12, 25, 10, 11, 22, 8, 4, 18, 10, 10, 22, 6, 7, 6, 17, 17, 14, 10, 25, 13, 11, 14, 16, 11, 28, 27, 24, 36, 31, 28, 13, 15, 14, 19, 23, 13, 12, 24]\n",
      "27\n",
      "[20, 8, 14, 11, 14, 17, 20, 9, 12, 6, 13, 9, 15, 5, 6, 8, 17, 12, 11, 9, 10, 6, 10, 15, 8, 5, 7, 5, 8, 7, 6, 11, 9, 4, 15, 5, 22, 20, 15, 14, 12, 25, 10, 11, 22, 8, 4, 18, 10, 10, 22, 6, 7, 6, 17, 17, 14, 10, 25, 13, 11, 14, 16, 11, 28, 27, 24, 36, 31, 28, 13, 15, 14, 19, 23, 13, 12, 24, 27]\n",
      "12\n",
      "[20, 8, 14, 11, 14, 17, 20, 9, 12, 6, 13, 9, 15, 5, 6, 8, 17, 12, 11, 9, 10, 6, 10, 15, 8, 5, 7, 5, 8, 7, 6, 11, 9, 4, 15, 5, 22, 20, 15, 14, 12, 25, 10, 11, 22, 8, 4, 18, 10, 10, 22, 6, 7, 6, 17, 17, 14, 10, 25, 13, 11, 14, 16, 11, 28, 27, 24, 36, 31, 28, 13, 15, 14, 19, 23, 13, 12, 24, 27, 12]\n",
      "16\n",
      "[20, 8, 14, 11, 14, 17, 20, 9, 12, 6, 13, 9, 15, 5, 6, 8, 17, 12, 11, 9, 10, 6, 10, 15, 8, 5, 7, 5, 8, 7, 6, 11, 9, 4, 15, 5, 22, 20, 15, 14, 12, 25, 10, 11, 22, 8, 4, 18, 10, 10, 22, 6, 7, 6, 17, 17, 14, 10, 25, 13, 11, 14, 16, 11, 28, 27, 24, 36, 31, 28, 13, 15, 14, 19, 23, 13, 12, 24, 27, 12, 16]\n",
      "19\n",
      "[20, 8, 14, 11, 14, 17, 20, 9, 12, 6, 13, 9, 15, 5, 6, 8, 17, 12, 11, 9, 10, 6, 10, 15, 8, 5, 7, 5, 8, 7, 6, 11, 9, 4, 15, 5, 22, 20, 15, 14, 12, 25, 10, 11, 22, 8, 4, 18, 10, 10, 22, 6, 7, 6, 17, 17, 14, 10, 25, 13, 11, 14, 16, 11, 28, 27, 24, 36, 31, 28, 13, 15, 14, 19, 23, 13, 12, 24, 27, 12, 16, 19]\n",
      "13\n",
      "[20, 8, 14, 11, 14, 17, 20, 9, 12, 6, 13, 9, 15, 5, 6, 8, 17, 12, 11, 9, 10, 6, 10, 15, 8, 5, 7, 5, 8, 7, 6, 11, 9, 4, 15, 5, 22, 20, 15, 14, 12, 25, 10, 11, 22, 8, 4, 18, 10, 10, 22, 6, 7, 6, 17, 17, 14, 10, 25, 13, 11, 14, 16, 11, 28, 27, 24, 36, 31, 28, 13, 15, 14, 19, 23, 13, 12, 24, 27, 12, 16, 19, 13]\n",
      "13\n",
      "[20, 8, 14, 11, 14, 17, 20, 9, 12, 6, 13, 9, 15, 5, 6, 8, 17, 12, 11, 9, 10, 6, 10, 15, 8, 5, 7, 5, 8, 7, 6, 11, 9, 4, 15, 5, 22, 20, 15, 14, 12, 25, 10, 11, 22, 8, 4, 18, 10, 10, 22, 6, 7, 6, 17, 17, 14, 10, 25, 13, 11, 14, 16, 11, 28, 27, 24, 36, 31, 28, 13, 15, 14, 19, 23, 13, 12, 24, 27, 12, 16, 19, 13, 13]\n",
      "15\n",
      "[20, 8, 14, 11, 14, 17, 20, 9, 12, 6, 13, 9, 15, 5, 6, 8, 17, 12, 11, 9, 10, 6, 10, 15, 8, 5, 7, 5, 8, 7, 6, 11, 9, 4, 15, 5, 22, 20, 15, 14, 12, 25, 10, 11, 22, 8, 4, 18, 10, 10, 22, 6, 7, 6, 17, 17, 14, 10, 25, 13, 11, 14, 16, 11, 28, 27, 24, 36, 31, 28, 13, 15, 14, 19, 23, 13, 12, 24, 27, 12, 16, 19, 13, 13, 15]\n",
      "15\n",
      "[20, 8, 14, 11, 14, 17, 20, 9, 12, 6, 13, 9, 15, 5, 6, 8, 17, 12, 11, 9, 10, 6, 10, 15, 8, 5, 7, 5, 8, 7, 6, 11, 9, 4, 15, 5, 22, 20, 15, 14, 12, 25, 10, 11, 22, 8, 4, 18, 10, 10, 22, 6, 7, 6, 17, 17, 14, 10, 25, 13, 11, 14, 16, 11, 28, 27, 24, 36, 31, 28, 13, 15, 14, 19, 23, 13, 12, 24, 27, 12, 16, 19, 13, 13, 15, 15]\n",
      "27\n",
      "[20, 8, 14, 11, 14, 17, 20, 9, 12, 6, 13, 9, 15, 5, 6, 8, 17, 12, 11, 9, 10, 6, 10, 15, 8, 5, 7, 5, 8, 7, 6, 11, 9, 4, 15, 5, 22, 20, 15, 14, 12, 25, 10, 11, 22, 8, 4, 18, 10, 10, 22, 6, 7, 6, 17, 17, 14, 10, 25, 13, 11, 14, 16, 11, 28, 27, 24, 36, 31, 28, 13, 15, 14, 19, 23, 13, 12, 24, 27, 12, 16, 19, 13, 13, 15, 15, 27]\n",
      "16\n",
      "[20, 8, 14, 11, 14, 17, 20, 9, 12, 6, 13, 9, 15, 5, 6, 8, 17, 12, 11, 9, 10, 6, 10, 15, 8, 5, 7, 5, 8, 7, 6, 11, 9, 4, 15, 5, 22, 20, 15, 14, 12, 25, 10, 11, 22, 8, 4, 18, 10, 10, 22, 6, 7, 6, 17, 17, 14, 10, 25, 13, 11, 14, 16, 11, 28, 27, 24, 36, 31, 28, 13, 15, 14, 19, 23, 13, 12, 24, 27, 12, 16, 19, 13, 13, 15, 15, 27, 16]\n",
      "18\n",
      "[20, 8, 14, 11, 14, 17, 20, 9, 12, 6, 13, 9, 15, 5, 6, 8, 17, 12, 11, 9, 10, 6, 10, 15, 8, 5, 7, 5, 8, 7, 6, 11, 9, 4, 15, 5, 22, 20, 15, 14, 12, 25, 10, 11, 22, 8, 4, 18, 10, 10, 22, 6, 7, 6, 17, 17, 14, 10, 25, 13, 11, 14, 16, 11, 28, 27, 24, 36, 31, 28, 13, 15, 14, 19, 23, 13, 12, 24, 27, 12, 16, 19, 13, 13, 15, 15, 27, 16, 18]\n",
      "31\n",
      "[20, 8, 14, 11, 14, 17, 20, 9, 12, 6, 13, 9, 15, 5, 6, 8, 17, 12, 11, 9, 10, 6, 10, 15, 8, 5, 7, 5, 8, 7, 6, 11, 9, 4, 15, 5, 22, 20, 15, 14, 12, 25, 10, 11, 22, 8, 4, 18, 10, 10, 22, 6, 7, 6, 17, 17, 14, 10, 25, 13, 11, 14, 16, 11, 28, 27, 24, 36, 31, 28, 13, 15, 14, 19, 23, 13, 12, 24, 27, 12, 16, 19, 13, 13, 15, 15, 27, 16, 18, 31]\n",
      "29\n",
      "[20, 8, 14, 11, 14, 17, 20, 9, 12, 6, 13, 9, 15, 5, 6, 8, 17, 12, 11, 9, 10, 6, 10, 15, 8, 5, 7, 5, 8, 7, 6, 11, 9, 4, 15, 5, 22, 20, 15, 14, 12, 25, 10, 11, 22, 8, 4, 18, 10, 10, 22, 6, 7, 6, 17, 17, 14, 10, 25, 13, 11, 14, 16, 11, 28, 27, 24, 36, 31, 28, 13, 15, 14, 19, 23, 13, 12, 24, 27, 12, 16, 19, 13, 13, 15, 15, 27, 16, 18, 31, 29]\n",
      "34\n",
      "[20, 8, 14, 11, 14, 17, 20, 9, 12, 6, 13, 9, 15, 5, 6, 8, 17, 12, 11, 9, 10, 6, 10, 15, 8, 5, 7, 5, 8, 7, 6, 11, 9, 4, 15, 5, 22, 20, 15, 14, 12, 25, 10, 11, 22, 8, 4, 18, 10, 10, 22, 6, 7, 6, 17, 17, 14, 10, 25, 13, 11, 14, 16, 11, 28, 27, 24, 36, 31, 28, 13, 15, 14, 19, 23, 13, 12, 24, 27, 12, 16, 19, 13, 13, 15, 15, 27, 16, 18, 31, 29, 34]\n",
      "35\n",
      "[20, 8, 14, 11, 14, 17, 20, 9, 12, 6, 13, 9, 15, 5, 6, 8, 17, 12, 11, 9, 10, 6, 10, 15, 8, 5, 7, 5, 8, 7, 6, 11, 9, 4, 15, 5, 22, 20, 15, 14, 12, 25, 10, 11, 22, 8, 4, 18, 10, 10, 22, 6, 7, 6, 17, 17, 14, 10, 25, 13, 11, 14, 16, 11, 28, 27, 24, 36, 31, 28, 13, 15, 14, 19, 23, 13, 12, 24, 27, 12, 16, 19, 13, 13, 15, 15, 27, 16, 18, 31, 29, 34, 35]\n",
      "21\n",
      "[20, 8, 14, 11, 14, 17, 20, 9, 12, 6, 13, 9, 15, 5, 6, 8, 17, 12, 11, 9, 10, 6, 10, 15, 8, 5, 7, 5, 8, 7, 6, 11, 9, 4, 15, 5, 22, 20, 15, 14, 12, 25, 10, 11, 22, 8, 4, 18, 10, 10, 22, 6, 7, 6, 17, 17, 14, 10, 25, 13, 11, 14, 16, 11, 28, 27, 24, 36, 31, 28, 13, 15, 14, 19, 23, 13, 12, 24, 27, 12, 16, 19, 13, 13, 15, 15, 27, 16, 18, 31, 29, 34, 35, 21]\n",
      "29\n",
      "[20, 8, 14, 11, 14, 17, 20, 9, 12, 6, 13, 9, 15, 5, 6, 8, 17, 12, 11, 9, 10, 6, 10, 15, 8, 5, 7, 5, 8, 7, 6, 11, 9, 4, 15, 5, 22, 20, 15, 14, 12, 25, 10, 11, 22, 8, 4, 18, 10, 10, 22, 6, 7, 6, 17, 17, 14, 10, 25, 13, 11, 14, 16, 11, 28, 27, 24, 36, 31, 28, 13, 15, 14, 19, 23, 13, 12, 24, 27, 12, 16, 19, 13, 13, 15, 15, 27, 16, 18, 31, 29, 34, 35, 21, 29]\n",
      "26\n",
      "[20, 8, 14, 11, 14, 17, 20, 9, 12, 6, 13, 9, 15, 5, 6, 8, 17, 12, 11, 9, 10, 6, 10, 15, 8, 5, 7, 5, 8, 7, 6, 11, 9, 4, 15, 5, 22, 20, 15, 14, 12, 25, 10, 11, 22, 8, 4, 18, 10, 10, 22, 6, 7, 6, 17, 17, 14, 10, 25, 13, 11, 14, 16, 11, 28, 27, 24, 36, 31, 28, 13, 15, 14, 19, 23, 13, 12, 24, 27, 12, 16, 19, 13, 13, 15, 15, 27, 16, 18, 31, 29, 34, 35, 21, 29, 26]\n",
      "28\n",
      "[20, 8, 14, 11, 14, 17, 20, 9, 12, 6, 13, 9, 15, 5, 6, 8, 17, 12, 11, 9, 10, 6, 10, 15, 8, 5, 7, 5, 8, 7, 6, 11, 9, 4, 15, 5, 22, 20, 15, 14, 12, 25, 10, 11, 22, 8, 4, 18, 10, 10, 22, 6, 7, 6, 17, 17, 14, 10, 25, 13, 11, 14, 16, 11, 28, 27, 24, 36, 31, 28, 13, 15, 14, 19, 23, 13, 12, 24, 27, 12, 16, 19, 13, 13, 15, 15, 27, 16, 18, 31, 29, 34, 35, 21, 29, 26, 28]\n",
      "26\n",
      "[20, 8, 14, 11, 14, 17, 20, 9, 12, 6, 13, 9, 15, 5, 6, 8, 17, 12, 11, 9, 10, 6, 10, 15, 8, 5, 7, 5, 8, 7, 6, 11, 9, 4, 15, 5, 22, 20, 15, 14, 12, 25, 10, 11, 22, 8, 4, 18, 10, 10, 22, 6, 7, 6, 17, 17, 14, 10, 25, 13, 11, 14, 16, 11, 28, 27, 24, 36, 31, 28, 13, 15, 14, 19, 23, 13, 12, 24, 27, 12, 16, 19, 13, 13, 15, 15, 27, 16, 18, 31, 29, 34, 35, 21, 29, 26, 28, 26]\n",
      "12\n",
      "[20, 8, 14, 11, 14, 17, 20, 9, 12, 6, 13, 9, 15, 5, 6, 8, 17, 12, 11, 9, 10, 6, 10, 15, 8, 5, 7, 5, 8, 7, 6, 11, 9, 4, 15, 5, 22, 20, 15, 14, 12, 25, 10, 11, 22, 8, 4, 18, 10, 10, 22, 6, 7, 6, 17, 17, 14, 10, 25, 13, 11, 14, 16, 11, 28, 27, 24, 36, 31, 28, 13, 15, 14, 19, 23, 13, 12, 24, 27, 12, 16, 19, 13, 13, 15, 15, 27, 16, 18, 31, 29, 34, 35, 21, 29, 26, 28, 26, 12]\n",
      "15\n",
      "[20, 8, 14, 11, 14, 17, 20, 9, 12, 6, 13, 9, 15, 5, 6, 8, 17, 12, 11, 9, 10, 6, 10, 15, 8, 5, 7, 5, 8, 7, 6, 11, 9, 4, 15, 5, 22, 20, 15, 14, 12, 25, 10, 11, 22, 8, 4, 18, 10, 10, 22, 6, 7, 6, 17, 17, 14, 10, 25, 13, 11, 14, 16, 11, 28, 27, 24, 36, 31, 28, 13, 15, 14, 19, 23, 13, 12, 24, 27, 12, 16, 19, 13, 13, 15, 15, 27, 16, 18, 31, 29, 34, 35, 21, 29, 26, 28, 26, 12, 15]\n",
      "15\n",
      "[20, 8, 14, 11, 14, 17, 20, 9, 12, 6, 13, 9, 15, 5, 6, 8, 17, 12, 11, 9, 10, 6, 10, 15, 8, 5, 7, 5, 8, 7, 6, 11, 9, 4, 15, 5, 22, 20, 15, 14, 12, 25, 10, 11, 22, 8, 4, 18, 10, 10, 22, 6, 7, 6, 17, 17, 14, 10, 25, 13, 11, 14, 16, 11, 28, 27, 24, 36, 31, 28, 13, 15, 14, 19, 23, 13, 12, 24, 27, 12, 16, 19, 13, 13, 15, 15, 27, 16, 18, 31, 29, 34, 35, 21, 29, 26, 28, 26, 12, 15, 15]\n",
      "14\n",
      "[20, 8, 14, 11, 14, 17, 20, 9, 12, 6, 13, 9, 15, 5, 6, 8, 17, 12, 11, 9, 10, 6, 10, 15, 8, 5, 7, 5, 8, 7, 6, 11, 9, 4, 15, 5, 22, 20, 15, 14, 12, 25, 10, 11, 22, 8, 4, 18, 10, 10, 22, 6, 7, 6, 17, 17, 14, 10, 25, 13, 11, 14, 16, 11, 28, 27, 24, 36, 31, 28, 13, 15, 14, 19, 23, 13, 12, 24, 27, 12, 16, 19, 13, 13, 15, 15, 27, 16, 18, 31, 29, 34, 35, 21, 29, 26, 28, 26, 12, 15, 15, 14]\n",
      "20\n",
      "[20, 8, 14, 11, 14, 17, 20, 9, 12, 6, 13, 9, 15, 5, 6, 8, 17, 12, 11, 9, 10, 6, 10, 15, 8, 5, 7, 5, 8, 7, 6, 11, 9, 4, 15, 5, 22, 20, 15, 14, 12, 25, 10, 11, 22, 8, 4, 18, 10, 10, 22, 6, 7, 6, 17, 17, 14, 10, 25, 13, 11, 14, 16, 11, 28, 27, 24, 36, 31, 28, 13, 15, 14, 19, 23, 13, 12, 24, 27, 12, 16, 19, 13, 13, 15, 15, 27, 16, 18, 31, 29, 34, 35, 21, 29, 26, 28, 26, 12, 15, 15, 14, 20]\n",
      "16\n",
      "[20, 8, 14, 11, 14, 17, 20, 9, 12, 6, 13, 9, 15, 5, 6, 8, 17, 12, 11, 9, 10, 6, 10, 15, 8, 5, 7, 5, 8, 7, 6, 11, 9, 4, 15, 5, 22, 20, 15, 14, 12, 25, 10, 11, 22, 8, 4, 18, 10, 10, 22, 6, 7, 6, 17, 17, 14, 10, 25, 13, 11, 14, 16, 11, 28, 27, 24, 36, 31, 28, 13, 15, 14, 19, 23, 13, 12, 24, 27, 12, 16, 19, 13, 13, 15, 15, 27, 16, 18, 31, 29, 34, 35, 21, 29, 26, 28, 26, 12, 15, 15, 14, 20, 16]\n",
      "31\n",
      "[20, 8, 14, 11, 14, 17, 20, 9, 12, 6, 13, 9, 15, 5, 6, 8, 17, 12, 11, 9, 10, 6, 10, 15, 8, 5, 7, 5, 8, 7, 6, 11, 9, 4, 15, 5, 22, 20, 15, 14, 12, 25, 10, 11, 22, 8, 4, 18, 10, 10, 22, 6, 7, 6, 17, 17, 14, 10, 25, 13, 11, 14, 16, 11, 28, 27, 24, 36, 31, 28, 13, 15, 14, 19, 23, 13, 12, 24, 27, 12, 16, 19, 13, 13, 15, 15, 27, 16, 18, 31, 29, 34, 35, 21, 29, 26, 28, 26, 12, 15, 15, 14, 20, 16, 31]\n",
      "11\n",
      "[20, 8, 14, 11, 14, 17, 20, 9, 12, 6, 13, 9, 15, 5, 6, 8, 17, 12, 11, 9, 10, 6, 10, 15, 8, 5, 7, 5, 8, 7, 6, 11, 9, 4, 15, 5, 22, 20, 15, 14, 12, 25, 10, 11, 22, 8, 4, 18, 10, 10, 22, 6, 7, 6, 17, 17, 14, 10, 25, 13, 11, 14, 16, 11, 28, 27, 24, 36, 31, 28, 13, 15, 14, 19, 23, 13, 12, 24, 27, 12, 16, 19, 13, 13, 15, 15, 27, 16, 18, 31, 29, 34, 35, 21, 29, 26, 28, 26, 12, 15, 15, 14, 20, 16, 31, 11]\n",
      "24\n",
      "[20, 8, 14, 11, 14, 17, 20, 9, 12, 6, 13, 9, 15, 5, 6, 8, 17, 12, 11, 9, 10, 6, 10, 15, 8, 5, 7, 5, 8, 7, 6, 11, 9, 4, 15, 5, 22, 20, 15, 14, 12, 25, 10, 11, 22, 8, 4, 18, 10, 10, 22, 6, 7, 6, 17, 17, 14, 10, 25, 13, 11, 14, 16, 11, 28, 27, 24, 36, 31, 28, 13, 15, 14, 19, 23, 13, 12, 24, 27, 12, 16, 19, 13, 13, 15, 15, 27, 16, 18, 31, 29, 34, 35, 21, 29, 26, 28, 26, 12, 15, 15, 14, 20, 16, 31, 11, 24]\n",
      "14\n",
      "[20, 8, 14, 11, 14, 17, 20, 9, 12, 6, 13, 9, 15, 5, 6, 8, 17, 12, 11, 9, 10, 6, 10, 15, 8, 5, 7, 5, 8, 7, 6, 11, 9, 4, 15, 5, 22, 20, 15, 14, 12, 25, 10, 11, 22, 8, 4, 18, 10, 10, 22, 6, 7, 6, 17, 17, 14, 10, 25, 13, 11, 14, 16, 11, 28, 27, 24, 36, 31, 28, 13, 15, 14, 19, 23, 13, 12, 24, 27, 12, 16, 19, 13, 13, 15, 15, 27, 16, 18, 31, 29, 34, 35, 21, 29, 26, 28, 26, 12, 15, 15, 14, 20, 16, 31, 11, 24, 14]\n",
      "20\n",
      "[20, 8, 14, 11, 14, 17, 20, 9, 12, 6, 13, 9, 15, 5, 6, 8, 17, 12, 11, 9, 10, 6, 10, 15, 8, 5, 7, 5, 8, 7, 6, 11, 9, 4, 15, 5, 22, 20, 15, 14, 12, 25, 10, 11, 22, 8, 4, 18, 10, 10, 22, 6, 7, 6, 17, 17, 14, 10, 25, 13, 11, 14, 16, 11, 28, 27, 24, 36, 31, 28, 13, 15, 14, 19, 23, 13, 12, 24, 27, 12, 16, 19, 13, 13, 15, 15, 27, 16, 18, 31, 29, 34, 35, 21, 29, 26, 28, 26, 12, 15, 15, 14, 20, 16, 31, 11, 24, 14, 20]\n",
      "17\n",
      "[20, 8, 14, 11, 14, 17, 20, 9, 12, 6, 13, 9, 15, 5, 6, 8, 17, 12, 11, 9, 10, 6, 10, 15, 8, 5, 7, 5, 8, 7, 6, 11, 9, 4, 15, 5, 22, 20, 15, 14, 12, 25, 10, 11, 22, 8, 4, 18, 10, 10, 22, 6, 7, 6, 17, 17, 14, 10, 25, 13, 11, 14, 16, 11, 28, 27, 24, 36, 31, 28, 13, 15, 14, 19, 23, 13, 12, 24, 27, 12, 16, 19, 13, 13, 15, 15, 27, 16, 18, 31, 29, 34, 35, 21, 29, 26, 28, 26, 12, 15, 15, 14, 20, 16, 31, 11, 24, 14, 20, 17]\n",
      "20\n",
      "[20, 8, 14, 11, 14, 17, 20, 9, 12, 6, 13, 9, 15, 5, 6, 8, 17, 12, 11, 9, 10, 6, 10, 15, 8, 5, 7, 5, 8, 7, 6, 11, 9, 4, 15, 5, 22, 20, 15, 14, 12, 25, 10, 11, 22, 8, 4, 18, 10, 10, 22, 6, 7, 6, 17, 17, 14, 10, 25, 13, 11, 14, 16, 11, 28, 27, 24, 36, 31, 28, 13, 15, 14, 19, 23, 13, 12, 24, 27, 12, 16, 19, 13, 13, 15, 15, 27, 16, 18, 31, 29, 34, 35, 21, 29, 26, 28, 26, 12, 15, 15, 14, 20, 16, 31, 11, 24, 14, 20, 17, 20]\n",
      "36\n",
      "[20, 8, 14, 11, 14, 17, 20, 9, 12, 6, 13, 9, 15, 5, 6, 8, 17, 12, 11, 9, 10, 6, 10, 15, 8, 5, 7, 5, 8, 7, 6, 11, 9, 4, 15, 5, 22, 20, 15, 14, 12, 25, 10, 11, 22, 8, 4, 18, 10, 10, 22, 6, 7, 6, 17, 17, 14, 10, 25, 13, 11, 14, 16, 11, 28, 27, 24, 36, 31, 28, 13, 15, 14, 19, 23, 13, 12, 24, 27, 12, 16, 19, 13, 13, 15, 15, 27, 16, 18, 31, 29, 34, 35, 21, 29, 26, 28, 26, 12, 15, 15, 14, 20, 16, 31, 11, 24, 14, 20, 17, 20, 36]\n",
      "12\n",
      "[20, 8, 14, 11, 14, 17, 20, 9, 12, 6, 13, 9, 15, 5, 6, 8, 17, 12, 11, 9, 10, 6, 10, 15, 8, 5, 7, 5, 8, 7, 6, 11, 9, 4, 15, 5, 22, 20, 15, 14, 12, 25, 10, 11, 22, 8, 4, 18, 10, 10, 22, 6, 7, 6, 17, 17, 14, 10, 25, 13, 11, 14, 16, 11, 28, 27, 24, 36, 31, 28, 13, 15, 14, 19, 23, 13, 12, 24, 27, 12, 16, 19, 13, 13, 15, 15, 27, 16, 18, 31, 29, 34, 35, 21, 29, 26, 28, 26, 12, 15, 15, 14, 20, 16, 31, 11, 24, 14, 20, 17, 20, 36, 12]\n",
      "28\n",
      "[20, 8, 14, 11, 14, 17, 20, 9, 12, 6, 13, 9, 15, 5, 6, 8, 17, 12, 11, 9, 10, 6, 10, 15, 8, 5, 7, 5, 8, 7, 6, 11, 9, 4, 15, 5, 22, 20, 15, 14, 12, 25, 10, 11, 22, 8, 4, 18, 10, 10, 22, 6, 7, 6, 17, 17, 14, 10, 25, 13, 11, 14, 16, 11, 28, 27, 24, 36, 31, 28, 13, 15, 14, 19, 23, 13, 12, 24, 27, 12, 16, 19, 13, 13, 15, 15, 27, 16, 18, 31, 29, 34, 35, 21, 29, 26, 28, 26, 12, 15, 15, 14, 20, 16, 31, 11, 24, 14, 20, 17, 20, 36, 12, 28]\n",
      "20\n",
      "[20, 8, 14, 11, 14, 17, 20, 9, 12, 6, 13, 9, 15, 5, 6, 8, 17, 12, 11, 9, 10, 6, 10, 15, 8, 5, 7, 5, 8, 7, 6, 11, 9, 4, 15, 5, 22, 20, 15, 14, 12, 25, 10, 11, 22, 8, 4, 18, 10, 10, 22, 6, 7, 6, 17, 17, 14, 10, 25, 13, 11, 14, 16, 11, 28, 27, 24, 36, 31, 28, 13, 15, 14, 19, 23, 13, 12, 24, 27, 12, 16, 19, 13, 13, 15, 15, 27, 16, 18, 31, 29, 34, 35, 21, 29, 26, 28, 26, 12, 15, 15, 14, 20, 16, 31, 11, 24, 14, 20, 17, 20, 36, 12, 28, 20]\n",
      "20\n",
      "[20, 8, 14, 11, 14, 17, 20, 9, 12, 6, 13, 9, 15, 5, 6, 8, 17, 12, 11, 9, 10, 6, 10, 15, 8, 5, 7, 5, 8, 7, 6, 11, 9, 4, 15, 5, 22, 20, 15, 14, 12, 25, 10, 11, 22, 8, 4, 18, 10, 10, 22, 6, 7, 6, 17, 17, 14, 10, 25, 13, 11, 14, 16, 11, 28, 27, 24, 36, 31, 28, 13, 15, 14, 19, 23, 13, 12, 24, 27, 12, 16, 19, 13, 13, 15, 15, 27, 16, 18, 31, 29, 34, 35, 21, 29, 26, 28, 26, 12, 15, 15, 14, 20, 16, 31, 11, 24, 14, 20, 17, 20, 36, 12, 28, 20, 20]\n",
      "22\n",
      "[20, 8, 14, 11, 14, 17, 20, 9, 12, 6, 13, 9, 15, 5, 6, 8, 17, 12, 11, 9, 10, 6, 10, 15, 8, 5, 7, 5, 8, 7, 6, 11, 9, 4, 15, 5, 22, 20, 15, 14, 12, 25, 10, 11, 22, 8, 4, 18, 10, 10, 22, 6, 7, 6, 17, 17, 14, 10, 25, 13, 11, 14, 16, 11, 28, 27, 24, 36, 31, 28, 13, 15, 14, 19, 23, 13, 12, 24, 27, 12, 16, 19, 13, 13, 15, 15, 27, 16, 18, 31, 29, 34, 35, 21, 29, 26, 28, 26, 12, 15, 15, 14, 20, 16, 31, 11, 24, 14, 20, 17, 20, 36, 12, 28, 20, 20, 22]\n",
      "26\n",
      "[20, 8, 14, 11, 14, 17, 20, 9, 12, 6, 13, 9, 15, 5, 6, 8, 17, 12, 11, 9, 10, 6, 10, 15, 8, 5, 7, 5, 8, 7, 6, 11, 9, 4, 15, 5, 22, 20, 15, 14, 12, 25, 10, 11, 22, 8, 4, 18, 10, 10, 22, 6, 7, 6, 17, 17, 14, 10, 25, 13, 11, 14, 16, 11, 28, 27, 24, 36, 31, 28, 13, 15, 14, 19, 23, 13, 12, 24, 27, 12, 16, 19, 13, 13, 15, 15, 27, 16, 18, 31, 29, 34, 35, 21, 29, 26, 28, 26, 12, 15, 15, 14, 20, 16, 31, 11, 24, 14, 20, 17, 20, 36, 12, 28, 20, 20, 22, 26]\n",
      "16\n",
      "[20, 8, 14, 11, 14, 17, 20, 9, 12, 6, 13, 9, 15, 5, 6, 8, 17, 12, 11, 9, 10, 6, 10, 15, 8, 5, 7, 5, 8, 7, 6, 11, 9, 4, 15, 5, 22, 20, 15, 14, 12, 25, 10, 11, 22, 8, 4, 18, 10, 10, 22, 6, 7, 6, 17, 17, 14, 10, 25, 13, 11, 14, 16, 11, 28, 27, 24, 36, 31, 28, 13, 15, 14, 19, 23, 13, 12, 24, 27, 12, 16, 19, 13, 13, 15, 15, 27, 16, 18, 31, 29, 34, 35, 21, 29, 26, 28, 26, 12, 15, 15, 14, 20, 16, 31, 11, 24, 14, 20, 17, 20, 36, 12, 28, 20, 20, 22, 26, 16]\n",
      "11\n",
      "[20, 8, 14, 11, 14, 17, 20, 9, 12, 6, 13, 9, 15, 5, 6, 8, 17, 12, 11, 9, 10, 6, 10, 15, 8, 5, 7, 5, 8, 7, 6, 11, 9, 4, 15, 5, 22, 20, 15, 14, 12, 25, 10, 11, 22, 8, 4, 18, 10, 10, 22, 6, 7, 6, 17, 17, 14, 10, 25, 13, 11, 14, 16, 11, 28, 27, 24, 36, 31, 28, 13, 15, 14, 19, 23, 13, 12, 24, 27, 12, 16, 19, 13, 13, 15, 15, 27, 16, 18, 31, 29, 34, 35, 21, 29, 26, 28, 26, 12, 15, 15, 14, 20, 16, 31, 11, 24, 14, 20, 17, 20, 36, 12, 28, 20, 20, 22, 26, 16, 11]\n",
      "13\n",
      "[20, 8, 14, 11, 14, 17, 20, 9, 12, 6, 13, 9, 15, 5, 6, 8, 17, 12, 11, 9, 10, 6, 10, 15, 8, 5, 7, 5, 8, 7, 6, 11, 9, 4, 15, 5, 22, 20, 15, 14, 12, 25, 10, 11, 22, 8, 4, 18, 10, 10, 22, 6, 7, 6, 17, 17, 14, 10, 25, 13, 11, 14, 16, 11, 28, 27, 24, 36, 31, 28, 13, 15, 14, 19, 23, 13, 12, 24, 27, 12, 16, 19, 13, 13, 15, 15, 27, 16, 18, 31, 29, 34, 35, 21, 29, 26, 28, 26, 12, 15, 15, 14, 20, 16, 31, 11, 24, 14, 20, 17, 20, 36, 12, 28, 20, 20, 22, 26, 16, 11, 13]\n",
      "21\n",
      "[20, 8, 14, 11, 14, 17, 20, 9, 12, 6, 13, 9, 15, 5, 6, 8, 17, 12, 11, 9, 10, 6, 10, 15, 8, 5, 7, 5, 8, 7, 6, 11, 9, 4, 15, 5, 22, 20, 15, 14, 12, 25, 10, 11, 22, 8, 4, 18, 10, 10, 22, 6, 7, 6, 17, 17, 14, 10, 25, 13, 11, 14, 16, 11, 28, 27, 24, 36, 31, 28, 13, 15, 14, 19, 23, 13, 12, 24, 27, 12, 16, 19, 13, 13, 15, 15, 27, 16, 18, 31, 29, 34, 35, 21, 29, 26, 28, 26, 12, 15, 15, 14, 20, 16, 31, 11, 24, 14, 20, 17, 20, 36, 12, 28, 20, 20, 22, 26, 16, 11, 13, 21]\n",
      "26\n",
      "[20, 8, 14, 11, 14, 17, 20, 9, 12, 6, 13, 9, 15, 5, 6, 8, 17, 12, 11, 9, 10, 6, 10, 15, 8, 5, 7, 5, 8, 7, 6, 11, 9, 4, 15, 5, 22, 20, 15, 14, 12, 25, 10, 11, 22, 8, 4, 18, 10, 10, 22, 6, 7, 6, 17, 17, 14, 10, 25, 13, 11, 14, 16, 11, 28, 27, 24, 36, 31, 28, 13, 15, 14, 19, 23, 13, 12, 24, 27, 12, 16, 19, 13, 13, 15, 15, 27, 16, 18, 31, 29, 34, 35, 21, 29, 26, 28, 26, 12, 15, 15, 14, 20, 16, 31, 11, 24, 14, 20, 17, 20, 36, 12, 28, 20, 20, 22, 26, 16, 11, 13, 21, 26]\n",
      "40\n",
      "[20, 8, 14, 11, 14, 17, 20, 9, 12, 6, 13, 9, 15, 5, 6, 8, 17, 12, 11, 9, 10, 6, 10, 15, 8, 5, 7, 5, 8, 7, 6, 11, 9, 4, 15, 5, 22, 20, 15, 14, 12, 25, 10, 11, 22, 8, 4, 18, 10, 10, 22, 6, 7, 6, 17, 17, 14, 10, 25, 13, 11, 14, 16, 11, 28, 27, 24, 36, 31, 28, 13, 15, 14, 19, 23, 13, 12, 24, 27, 12, 16, 19, 13, 13, 15, 15, 27, 16, 18, 31, 29, 34, 35, 21, 29, 26, 28, 26, 12, 15, 15, 14, 20, 16, 31, 11, 24, 14, 20, 17, 20, 36, 12, 28, 20, 20, 22, 26, 16, 11, 13, 21, 26, 40]\n",
      "14\n",
      "[20, 8, 14, 11, 14, 17, 20, 9, 12, 6, 13, 9, 15, 5, 6, 8, 17, 12, 11, 9, 10, 6, 10, 15, 8, 5, 7, 5, 8, 7, 6, 11, 9, 4, 15, 5, 22, 20, 15, 14, 12, 25, 10, 11, 22, 8, 4, 18, 10, 10, 22, 6, 7, 6, 17, 17, 14, 10, 25, 13, 11, 14, 16, 11, 28, 27, 24, 36, 31, 28, 13, 15, 14, 19, 23, 13, 12, 24, 27, 12, 16, 19, 13, 13, 15, 15, 27, 16, 18, 31, 29, 34, 35, 21, 29, 26, 28, 26, 12, 15, 15, 14, 20, 16, 31, 11, 24, 14, 20, 17, 20, 36, 12, 28, 20, 20, 22, 26, 16, 11, 13, 21, 26, 40, 14]\n",
      "6\n",
      "[20, 8, 14, 11, 14, 17, 20, 9, 12, 6, 13, 9, 15, 5, 6, 8, 17, 12, 11, 9, 10, 6, 10, 15, 8, 5, 7, 5, 8, 7, 6, 11, 9, 4, 15, 5, 22, 20, 15, 14, 12, 25, 10, 11, 22, 8, 4, 18, 10, 10, 22, 6, 7, 6, 17, 17, 14, 10, 25, 13, 11, 14, 16, 11, 28, 27, 24, 36, 31, 28, 13, 15, 14, 19, 23, 13, 12, 24, 27, 12, 16, 19, 13, 13, 15, 15, 27, 16, 18, 31, 29, 34, 35, 21, 29, 26, 28, 26, 12, 15, 15, 14, 20, 16, 31, 11, 24, 14, 20, 17, 20, 36, 12, 28, 20, 20, 22, 26, 16, 11, 13, 21, 26, 40, 14, 6]\n"
     ]
    }
   ],
   "source": [
    "data_stop_2weeks = aggregateData(stop_search, \"EventDate\", \"2 weeks\")"
   ]
  },
  {
   "cell_type": "code",
   "execution_count": 115,
   "metadata": {
    "collapsed": false
   },
   "outputs": [
    {
     "data": {
      "text/plain": [
       "Year  WeekofYear\n",
       "2012  1             14\n",
       "      2              6\n",
       "      3              5\n",
       "      4              3\n",
       "      5              9\n",
       "      6              5\n",
       "      7              3\n",
       "      9              8\n",
       "      10             5\n",
       "      11             9\n",
       "      12            10\n",
       "      13             7\n",
       "      14            12\n",
       "      15             8\n",
       "      16             4\n",
       "      17             5\n",
       "      18             9\n",
       "      19             3\n",
       "      20             5\n",
       "      21             1\n",
       "      22            11\n",
       "      23             2\n",
       "      24             2\n",
       "      25             7\n",
       "      26             9\n",
       "      27             6\n",
       "      28             4\n",
       "      30             1\n",
       "      31             2\n",
       "      32             4\n",
       "                    ..\n",
       "2016  26             7\n",
       "      27             5\n",
       "      28            16\n",
       "      29            12\n",
       "      30             9\n",
       "      31            11\n",
       "      32            11\n",
       "      33             9\n",
       "      34            10\n",
       "      35            12\n",
       "      36            20\n",
       "      37             6\n",
       "      38             8\n",
       "      39             8\n",
       "      40             9\n",
       "      41             2\n",
       "      42             4\n",
       "      43             9\n",
       "      44             8\n",
       "      45            13\n",
       "      46            13\n",
       "      47            13\n",
       "      48            15\n",
       "      49            25\n",
       "      50             7\n",
       "      51             7\n",
       "      52             2\n",
       "      53             4\n",
       "2017  1              5\n",
       "      2              3\n",
       "Name: Number, dtype: int32"
      ]
     },
     "execution_count": 115,
     "metadata": {},
     "output_type": "execute_result"
    }
   ],
   "source": [
    "data_stop_week"
   ]
  },
  {
   "cell_type": "code",
   "execution_count": 111,
   "metadata": {
    "collapsed": false
   },
   "outputs": [
    {
     "data": {
      "text/plain": [
       "2012 12      20\n",
       "2012 34       8\n",
       "2012 56      14\n",
       "2012 79      11\n",
       "2012 1011    14\n",
       "2012 1213    17\n",
       "2012 1415    20\n",
       "2012 1617     9\n",
       "2012 1819    12\n",
       "2012 2021     6\n",
       "2012 2223    13\n",
       "2012 2425     9\n",
       "2012 2627    15\n",
       "2012 2830     5\n",
       "2012 3132     6\n",
       "2012 3335     8\n",
       "2012 3738    17\n",
       "2012 4041    12\n",
       "2012 4243    11\n",
       "2012 4445     9\n",
       "2012 4647    10\n",
       "2012 4849     6\n",
       "2012 5052    10\n",
       "2012 12      15\n",
       "2012 34       8\n",
       "2012 56       5\n",
       "2012 78       7\n",
       "2012 910      5\n",
       "2012 1112     8\n",
       "2012 1415     7\n",
       "             ..\n",
       "2012 4748    28\n",
       "2012 4950    26\n",
       "2012 5152    12\n",
       "2012 531     15\n",
       "2012 23      15\n",
       "2012 45      14\n",
       "2012 67      20\n",
       "2012 89      16\n",
       "2012 1011    31\n",
       "2012 1213    11\n",
       "2012 1415    24\n",
       "2012 1617    14\n",
       "2012 1819    20\n",
       "2012 2021    17\n",
       "2012 2223    20\n",
       "2012 2425    36\n",
       "2012 2627    12\n",
       "2012 2829    28\n",
       "2012 3031    20\n",
       "2012 3233    20\n",
       "2012 3435    22\n",
       "2012 3637    26\n",
       "2012 3839    16\n",
       "2012 4041    11\n",
       "2012 4243    13\n",
       "2012 4445    21\n",
       "2012 4647    26\n",
       "2012 4849    40\n",
       "2012 5051    14\n",
       "2012 5253     6\n",
       "dtype: int64"
      ]
     },
     "execution_count": 111,
     "metadata": {},
     "output_type": "execute_result"
    }
   ],
   "source": [
    "data_stop_2weeks"
   ]
  },
  {
   "cell_type": "code",
   "execution_count": 114,
   "metadata": {
    "collapsed": true
   },
   "outputs": [],
   "source": [
    "data_stop_week = aggregateData(stop_search, \"EventDate\", \"week\")"
   ]
  },
  {
   "cell_type": "code",
   "execution_count": 20,
   "metadata": {
    "collapsed": false,
    "scrolled": true
   },
   "outputs": [],
   "source": [
    "data_crime_month = aggregateData(stop_search, \"TimeCreate\", \"month\")\n",
    "data_crime_week = aggregateData(stop_search, \"TimeCreate\", \"week\")\n",
    "data_stop_month = aggregateData(stop_search, \"EventDate\", \"month\")\n",
    "data_stop_week = aggregateData(stop_search, \"EventDate\", \"week\")\n",
    "data_stop_day = aggregateData(stop_search, \"EventDate\", \"day\")"
   ]
  },
  {
   "cell_type": "code",
   "execution_count": 25,
   "metadata": {
    "collapsed": false
   },
   "outputs": [],
   "source": [
    "def countByTimeWindow(data, time, window):\n",
    "    # data - output of the 'aggregateData' function\n",
    "    # time & window -\n",
    "    # month - month / 2 weeks / week\n",
    "    # 2 weeks - week / day\n",
    "    # week - 0.5 week, day"
   ]
  },
  {
   "cell_type": "code",
   "execution_count": 38,
   "metadata": {
    "collapsed": false
   },
   "outputs": [
    {
     "data": {
      "text/plain": [
       "pandas.core.series.Series"
      ]
     },
     "execution_count": 38,
     "metadata": {},
     "output_type": "execute_result"
    }
   ],
   "source": [
    "type(data_stop_month)"
   ]
  },
  {
   "cell_type": "code",
   "execution_count": 49,
   "metadata": {
    "collapsed": false
   },
   "outputs": [
    {
     "data": {
      "text/plain": [
       "254"
      ]
     },
     "execution_count": 49,
     "metadata": {},
     "output_type": "execute_result"
    }
   ],
   "source": [
    "len(data_stop_week)"
   ]
  },
  {
   "cell_type": "code",
   "execution_count": 53,
   "metadata": {
    "collapsed": false
   },
   "outputs": [
    {
     "data": {
      "text/plain": [
       "2012"
      ]
     },
     "execution_count": 53,
     "metadata": {},
     "output_type": "execute_result"
    }
   ],
   "source": [
    "data_stop_week.index[0][0]"
   ]
  },
  {
   "cell_type": "code",
   "execution_count": 51,
   "metadata": {
    "collapsed": false
   },
   "outputs": [
    {
     "data": {
      "text/plain": [
       "2"
      ]
     },
     "execution_count": 51,
     "metadata": {},
     "output_type": "execute_result"
    }
   ],
   "source": [
    "data_stop_week.index[0][1] + data_stop_week.index[1][1]"
   ]
  },
  {
   "cell_type": "code",
   "execution_count": 45,
   "metadata": {
    "collapsed": false
   },
   "outputs": [
    {
     "data": {
      "text/plain": [
       "Year  WeekofYear\n",
       "2012  1             14\n",
       "      2              6\n",
       "      3              5\n",
       "      4              3\n",
       "      5              9\n",
       "      6              5\n",
       "      7              3\n",
       "      9              8\n",
       "      10             5\n",
       "      11             9\n",
       "      12            10\n",
       "      13             7\n",
       "      14            12\n",
       "      15             8\n",
       "      16             4\n",
       "      17             5\n",
       "      18             9\n",
       "      19             3\n",
       "      20             5\n",
       "      21             1\n",
       "      22            11\n",
       "      23             2\n",
       "      24             2\n",
       "      25             7\n",
       "      26             9\n",
       "      27             6\n",
       "      28             4\n",
       "      30             1\n",
       "      31             2\n",
       "      32             4\n",
       "                    ..\n",
       "2016  26             7\n",
       "      27             5\n",
       "      28            16\n",
       "      29            12\n",
       "      30             9\n",
       "      31            11\n",
       "      32            11\n",
       "      33             9\n",
       "      34            10\n",
       "      35            12\n",
       "      36            20\n",
       "      37             6\n",
       "      38             8\n",
       "      39             8\n",
       "      40             9\n",
       "      41             2\n",
       "      42             4\n",
       "      43             9\n",
       "      44             8\n",
       "      45            13\n",
       "      46            13\n",
       "      47            13\n",
       "      48            15\n",
       "      49            25\n",
       "      50             7\n",
       "      51             7\n",
       "      52             2\n",
       "      53             4\n",
       "2017  1              5\n",
       "      2              3\n",
       "Name: Number, dtype: int32"
      ]
     },
     "execution_count": 45,
     "metadata": {},
     "output_type": "execute_result"
    }
   ],
   "source": [
    "data_stop_week"
   ]
  },
  {
   "cell_type": "code",
   "execution_count": 19,
   "metadata": {
    "collapsed": false,
    "scrolled": true
   },
   "outputs": [
    {
     "data": {
      "text/plain": [
       "Year  WeekofYear\n",
       "2012  1             17\n",
       "      2              6\n",
       "      3              4\n",
       "      4              3\n",
       "      5              9\n",
       "      6              4\n",
       "      7              3\n",
       "      8              1\n",
       "      9              9\n",
       "      10             5\n",
       "      11             9\n",
       "      12            11\n",
       "      13             8\n",
       "      14            11\n",
       "      15             7\n",
       "      16             4\n",
       "      17             5\n",
       "      18            12\n",
       "      20             5\n",
       "      21             1\n",
       "      22            12\n",
       "      23             3\n",
       "      24             3\n",
       "      25             6\n",
       "      26             8\n",
       "      27             6\n",
       "      28             3\n",
       "      30             2\n",
       "      31             1\n",
       "      32             4\n",
       "                    ..\n",
       "2016  24            22\n",
       "      25            12\n",
       "      26            12\n",
       "      27            14\n",
       "      28            11\n",
       "      29            11\n",
       "      30             5\n",
       "      31            10\n",
       "      32             6\n",
       "      33            12\n",
       "      34            13\n",
       "      35            12\n",
       "      36            18\n",
       "      37             2\n",
       "      38             4\n",
       "      39            10\n",
       "      40             7\n",
       "      41             3\n",
       "      42             4\n",
       "      43             9\n",
       "      44             9\n",
       "      45             9\n",
       "      46            12\n",
       "      47            11\n",
       "      48            15\n",
       "      49            16\n",
       "      50             7\n",
       "      51             6\n",
       "      52             1\n",
       "      53             4\n",
       "Name: Number, dtype: int32"
      ]
     },
     "execution_count": 19,
     "metadata": {},
     "output_type": "execute_result"
    }
   ],
   "source": [
    "data_crime_week"
   ]
  },
  {
   "cell_type": "code",
   "execution_count": null,
   "metadata": {
    "collapsed": true
   },
   "outputs": [],
   "source": [
    "# EventDate\n",
    "EventDate = pd.to_datetime(stop_search['EventDate'])\n",
    "EventYear = EventDate.dt.year\n",
    "EventMonth = EventDate.dt.month\n",
    "EventDay = EventDate.dt.day\n",
    "EventDayofYear = EventDate.dt.dayofyear\n",
    "EventDayofWeek = EventDate.dt.dayofweek\n",
    "EventWeekofYear = EventDate.dt.weekofyear\n",
    "EventQuarter = EventDate.dt.quarter\n",
    "EventHour = EventDate.dt.hour\n",
    "EventMinute = EventDate.dt.minute"
   ]
  },
  {
   "cell_type": "code",
   "execution_count": null,
   "metadata": {
    "collapsed": true
   },
   "outputs": [],
   "source": []
  }
 ],
 "metadata": {
  "anaconda-cloud": {},
  "kernelspec": {
   "display_name": "Python [default]",
   "language": "python",
   "name": "python2"
  },
  "language_info": {
   "codemirror_mode": {
    "name": "ipython",
    "version": 2
   },
   "file_extension": ".py",
   "mimetype": "text/x-python",
   "name": "python",
   "nbconvert_exporter": "python",
   "pygments_lexer": "ipython2",
   "version": "2.7.12"
  }
 },
 "nbformat": 4,
 "nbformat_minor": 1
}
